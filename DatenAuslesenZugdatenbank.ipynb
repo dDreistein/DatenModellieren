{
    "metadata": {
        "kernelspec": {
            "name": "SQL",
            "display_name": "SQL",
            "language": "sql"
        },
        "language_info": {
            "name": "sql",
            "version": ""
        }
    },
    "nbformat_minor": 2,
    "nbformat": 4,
    "cells": [
        {
            "cell_type": "markdown",
            "source": [
                "# Weitere Auswertungen erstellen\n",
                "\n",
                "## Aufgaben\n",
                "\n",
                "Gib die Namen aller Bahnhöfe aus, die im Kanton \"Basel Stadt\" liegen."
            ],
            "metadata": {
                "azdata_cell_guid": "5725344a-92de-4389-985b-b4590a839383"
            },
            "attachments": {}
        },
        {
            "cell_type": "code",
            "source": [
                "SELECT Name FROM Bahnhoefe WHERE LiegtInKanton = 'Basel Stadt'"
            ],
            "metadata": {
                "azdata_cell_guid": "e8990680-504f-4ff4-a668-7804f07794f6",
                "language": "sql"
            },
            "outputs": [
                {
                    "output_type": "display_data",
                    "data": {
                        "text/html": "(2 rows affected)"
                    },
                    "metadata": {}
                },
                {
                    "output_type": "display_data",
                    "data": {
                        "text/html": "Total execution time: 00:00:00.007"
                    },
                    "metadata": {}
                },
                {
                    "output_type": "execute_result",
                    "execution_count": 2,
                    "data": {
                        "application/vnd.dataresource+json": {
                            "schema": {
                                "fields": [
                                    {
                                        "name": "Name"
                                    }
                                ]
                            },
                            "data": [
                                {
                                    "Name": "Basel Bad"
                                },
                                {
                                    "Name": "Basel SBB"
                                }
                            ]
                        },
                        "text/html": "<table><tr><th>Name</th></tr><tr><td>Basel Bad</td></tr><tr><td>Basel SBB</td></tr></table>"
                    },
                    "metadata": {}
                }
            ],
            "execution_count": 2
        },
        {
            "cell_type": "markdown",
            "source": [
                "Gib die ZugNr, den Start- und Zielort sowie die Abfahrtszeit aller Züge aus, die zwischen 14:00 und 15:00 Uhr in Basel losfahren."
            ],
            "metadata": {
                "language": "sql",
                "azdata_cell_guid": "53783492-5284-4c92-86b9-62bb20d7b473"
            },
            "attachments": {}
        },
        {
            "cell_type": "code",
            "source": [
                "SELECT Zug, Von, Nach, Abfahrt FROM Verbindet WHERE Von = 'Basel SBB' AND Abfahrt BETWEEN '14:00' AND '15:00'"
            ],
            "metadata": {
                "language": "sql",
                "azdata_cell_guid": "3388c9bb-2826-4661-bb11-f85fb52adc4a"
            },
            "outputs": [
                {
                    "output_type": "display_data",
                    "data": {
                        "text/html": "(2 rows affected)"
                    },
                    "metadata": {}
                },
                {
                    "output_type": "display_data",
                    "data": {
                        "text/html": "Total execution time: 00:00:00.016"
                    },
                    "metadata": {}
                },
                {
                    "output_type": "execute_result",
                    "execution_count": 3,
                    "data": {
                        "application/vnd.dataresource+json": {
                            "schema": {
                                "fields": [
                                    {
                                        "name": "Zug"
                                    },
                                    {
                                        "name": "Von"
                                    },
                                    {
                                        "name": "Nach"
                                    },
                                    {
                                        "name": "Abfahrt"
                                    }
                                ]
                            },
                            "data": [
                                {
                                    "Zug": "7",
                                    "Von": "Basel SBB",
                                    "Nach": "Basel Bad",
                                    "Abfahrt": "14:08:00"
                                },
                                {
                                    "Zug": "8",
                                    "Von": "Basel SBB",
                                    "Nach": "Baden",
                                    "Abfahrt": "14:32:00"
                                }
                            ]
                        },
                        "text/html": "<table><tr><th>Zug</th><th>Von</th><th>Nach</th><th>Abfahrt</th></tr><tr><td>7</td><td>Basel SBB</td><td>Basel Bad</td><td>14:08:00</td></tr><tr><td>8</td><td>Basel SBB</td><td>Baden</td><td>14:32:00</td></tr></table>"
                    },
                    "metadata": {}
                }
            ],
            "execution_count": 3
        },
        {
            "cell_type": "markdown",
            "source": [
                "Wie viele Gleise hat der Bahnhof, der im Ort Thalwil liegt?"
            ],
            "metadata": {
                "language": "sql",
                "azdata_cell_guid": "4a781686-48d8-4a0f-8935-4d12c0a70a02"
            },
            "attachments": {}
        },
        {
            "cell_type": "code",
            "source": [
                "SELECT * FROM Bahnhoefe WHERE LiegtInOrt = 'Thalwil'"
            ],
            "metadata": {
                "language": "sql",
                "azdata_cell_guid": "a8df9af1-33c7-47dd-9969-fe46271c7e9c"
            },
            "outputs": [
                {
                    "output_type": "display_data",
                    "data": {
                        "text/html": "(1 row affected)"
                    },
                    "metadata": {}
                },
                {
                    "output_type": "display_data",
                    "data": {
                        "text/html": "Total execution time: 00:00:00.014"
                    },
                    "metadata": {}
                },
                {
                    "output_type": "execute_result",
                    "execution_count": 4,
                    "data": {
                        "application/vnd.dataresource+json": {
                            "schema": {
                                "fields": [
                                    {
                                        "name": "Name"
                                    },
                                    {
                                        "name": "Gleise"
                                    },
                                    {
                                        "name": "LiegtInOrt"
                                    },
                                    {
                                        "name": "LiegtInKanton"
                                    }
                                ]
                            },
                            "data": [
                                {
                                    "Name": "Thalwil",
                                    "Gleise": "5",
                                    "LiegtInOrt": "Thalwil",
                                    "LiegtInKanton": "Zürich"
                                }
                            ]
                        },
                        "text/html": "<table><tr><th>Name</th><th>Gleise</th><th>LiegtInOrt</th><th>LiegtInKanton</th></tr><tr><td>Thalwil</td><td>5</td><td>Thalwil</td><td>Zürich</td></tr></table>"
                    },
                    "metadata": {}
                }
            ],
            "execution_count": 4
        },
        {
            "cell_type": "markdown",
            "source": [
                "Wie viele Gleise haben alle Bahnhöfe zusammen?"
            ],
            "metadata": {
                "language": "sql",
                "azdata_cell_guid": "3481b3e0-8049-4607-bee7-04bc00c5b35c"
            },
            "attachments": {}
        },
        {
            "cell_type": "code",
            "source": [
                "SELECT SUM(Gleise) AS 'Total Gleise' FROM Bahnhoefe"
            ],
            "metadata": {
                "language": "sql",
                "azdata_cell_guid": "8ad80a66-785d-408f-9429-b523c8c7bc49"
            },
            "outputs": [
                {
                    "output_type": "display_data",
                    "data": {
                        "text/html": "(1 row affected)"
                    },
                    "metadata": {}
                },
                {
                    "output_type": "display_data",
                    "data": {
                        "text/html": "Total execution time: 00:00:00.003"
                    },
                    "metadata": {}
                },
                {
                    "output_type": "execute_result",
                    "execution_count": 6,
                    "data": {
                        "application/vnd.dataresource+json": {
                            "schema": {
                                "fields": [
                                    {
                                        "name": "Total Gleise"
                                    }
                                ]
                            },
                            "data": [
                                {
                                    "Total Gleise": "129"
                                }
                            ]
                        },
                        "text/html": "<table><tr><th>Total Gleise</th></tr><tr><td>129</td></tr></table>"
                    },
                    "metadata": {}
                }
            ],
            "execution_count": 6
        },
        {
            "cell_type": "markdown",
            "source": [
                "Wie viele Gleise haben die Bahnhöfe von Zug und Luzern zusammen?"
            ],
            "metadata": {
                "language": "sql",
                "azdata_cell_guid": "1988ab0d-c2b5-43fc-893a-013ceb9eecaf"
            },
            "attachments": {}
        },
        {
            "cell_type": "code",
            "source": [
                "SELECT SUM(Gleise) AS Gleise FROM Bahnhoefe WHERE LiegtInOrt = 'Luzern' OR LiegtInOrt = 'Zug'"
            ],
            "metadata": {
                "language": "sql",
                "azdata_cell_guid": "6a3d3aee-e7bb-4cbc-9281-39998769e3e6"
            },
            "outputs": [
                {
                    "output_type": "display_data",
                    "data": {
                        "text/html": "(1 row affected)"
                    },
                    "metadata": {}
                },
                {
                    "output_type": "display_data",
                    "data": {
                        "text/html": "Total execution time: 00:00:00.004"
                    },
                    "metadata": {}
                },
                {
                    "output_type": "execute_result",
                    "execution_count": 13,
                    "data": {
                        "application/vnd.dataresource+json": {
                            "schema": {
                                "fields": [
                                    {
                                        "name": "Gleise"
                                    }
                                ]
                            },
                            "data": [
                                {
                                    "Gleise": "23"
                                }
                            ]
                        },
                        "text/html": "<table><tr><th>Gleise</th></tr><tr><td>23</td></tr></table>"
                    },
                    "metadata": {}
                }
            ],
            "execution_count": 13
        },
        {
            "cell_type": "markdown",
            "source": [
                "Wie viele Gleise hat ein Bahnhof im Durchschnitt? (durchschnittliche Anzahl Gleise)"
            ],
            "metadata": {
                "language": "sql",
                "azdata_cell_guid": "4d3a6297-b234-4a44-8ada-a55ff34e3a2b"
            },
            "attachments": {}
        },
        {
            "cell_type": "code",
            "source": [
                "SELECT AVG(Gleise) AS 'Durchschnit Gleise' FROM Bahnhoefe"
            ],
            "metadata": {
                "language": "sql",
                "azdata_cell_guid": "428d262e-a398-4d51-9085-325ed5ab41bf"
            },
            "outputs": [
                {
                    "output_type": "display_data",
                    "data": {
                        "text/html": "(1 row affected)"
                    },
                    "metadata": {}
                },
                {
                    "output_type": "display_data",
                    "data": {
                        "text/html": "Total execution time: 00:00:00.003"
                    },
                    "metadata": {}
                },
                {
                    "output_type": "execute_result",
                    "execution_count": 12,
                    "data": {
                        "application/vnd.dataresource+json": {
                            "schema": {
                                "fields": [
                                    {
                                        "name": "Durchschnit Gleise"
                                    }
                                ]
                            },
                            "data": [
                                {
                                    "Durchschnit Gleise": "14"
                                }
                            ]
                        },
                        "text/html": "<table><tr><th>Durchschnit Gleise</th></tr><tr><td>14</td></tr></table>"
                    },
                    "metadata": {}
                }
            ],
            "execution_count": 12
        },
        {
            "cell_type": "markdown",
            "source": [
                "Um welche Uhrzeit fährt der letzte Zug ab Bahnhof \"Basel SBB\" los?"
            ],
            "metadata": {
                "language": "sql",
                "azdata_cell_guid": "a01f730c-3db1-4fcf-ae18-d8869dc3f2b9"
            },
            "attachments": {}
        },
        {
            "cell_type": "code",
            "source": [
                "SELECT MAX(Abfahrt) AS 'Letzter Zug' FROM Verbindet WHERE Von = 'Basel SBB'"
            ],
            "metadata": {
                "language": "sql",
                "azdata_cell_guid": "67a4db78-a3f7-4a4c-8293-02b5fed9cdd9"
            },
            "outputs": [
                {
                    "output_type": "display_data",
                    "data": {
                        "text/html": "(1 row affected)"
                    },
                    "metadata": {}
                },
                {
                    "output_type": "display_data",
                    "data": {
                        "text/html": "Total execution time: 00:00:00.004"
                    },
                    "metadata": {}
                },
                {
                    "output_type": "execute_result",
                    "execution_count": 15,
                    "data": {
                        "application/vnd.dataresource+json": {
                            "schema": {
                                "fields": [
                                    {
                                        "name": "Letzter Zug"
                                    }
                                ]
                            },
                            "data": [
                                {
                                    "Letzter Zug": "15:12:00"
                                }
                            ]
                        },
                        "text/html": "<table><tr><th>Letzter Zug</th></tr><tr><td>15:12:00</td></tr></table>"
                    },
                    "metadata": {}
                }
            ],
            "execution_count": 15
        },
        {
            "cell_type": "markdown",
            "source": [
                "Erstelle eine Liste mit dem Namen aller Städte aus der Tabelle \"Staedte\", die in einem Kanton liegen, dessen Name mit dem Buchstaben \"n\" endet."
            ],
            "metadata": {
                "language": "sql",
                "azdata_cell_guid": "b4a5919a-6b66-4a71-a46a-6ea72cc4f2e5"
            },
            "attachments": {}
        },
        {
            "cell_type": "code",
            "source": [
                "SELECT Name, Kanton FROM Staedte WHERE Kanton LIKE '%n'"
            ],
            "metadata": {
                "language": "sql",
                "azdata_cell_guid": "6985b2d6-3f2e-4cc2-bfe4-71f501c5c78c"
            },
            "outputs": [
                {
                    "output_type": "display_data",
                    "data": {
                        "text/html": "(3 rows affected)"
                    },
                    "metadata": {}
                },
                {
                    "output_type": "display_data",
                    "data": {
                        "text/html": "Total execution time: 00:00:00.015"
                    },
                    "metadata": {}
                },
                {
                    "output_type": "execute_result",
                    "execution_count": 16,
                    "data": {
                        "application/vnd.dataresource+json": {
                            "schema": {
                                "fields": [
                                    {
                                        "name": "Name"
                                    },
                                    {
                                        "name": "Kanton"
                                    }
                                ]
                            },
                            "data": [
                                {
                                    "Name": "Horw",
                                    "Kanton": "Luzern"
                                },
                                {
                                    "Name": "Luzern",
                                    "Kanton": "Luzern"
                                },
                                {
                                    "Name": "Olten",
                                    "Kanton": "Solothurn"
                                }
                            ]
                        },
                        "text/html": "<table><tr><th>Name</th><th>Kanton</th></tr><tr><td>Horw</td><td>Luzern</td></tr><tr><td>Luzern</td><td>Luzern</td></tr><tr><td>Olten</td><td>Solothurn</td></tr></table>"
                    },
                    "metadata": {}
                }
            ],
            "execution_count": 16
        },
        {
            "cell_type": "markdown",
            "source": [
                "In der Tabelle Staedte: Welche Städte haben den gleichen Namen wie der Kanton?"
            ],
            "metadata": {
                "language": "sql",
                "azdata_cell_guid": "1682677a-6f47-4397-ba6b-96740d6e730c"
            },
            "attachments": {}
        },
        {
            "cell_type": "code",
            "source": [
                "SELECT * FROM Staedte WHERE Name = Kanton"
            ],
            "metadata": {
                "language": "sql",
                "azdata_cell_guid": "602a9f69-5ee5-4c70-9c4a-6b3848793907"
            },
            "outputs": [
                {
                    "output_type": "display_data",
                    "data": {
                        "text/html": "(3 rows affected)"
                    },
                    "metadata": {}
                },
                {
                    "output_type": "display_data",
                    "data": {
                        "text/html": "Total execution time: 00:00:00.007"
                    },
                    "metadata": {}
                },
                {
                    "output_type": "execute_result",
                    "execution_count": 17,
                    "data": {
                        "application/vnd.dataresource+json": {
                            "schema": {
                                "fields": [
                                    {
                                        "name": "Name"
                                    },
                                    {
                                        "name": "Kanton"
                                    }
                                ]
                            },
                            "data": [
                                {
                                    "Name": "Luzern",
                                    "Kanton": "Luzern"
                                },
                                {
                                    "Name": "Zug",
                                    "Kanton": "Zug"
                                },
                                {
                                    "Name": "Zürich",
                                    "Kanton": "Zürich"
                                }
                            ]
                        },
                        "text/html": "<table><tr><th>Name</th><th>Kanton</th></tr><tr><td>Luzern</td><td>Luzern</td></tr><tr><td>Zug</td><td>Zug</td></tr><tr><td>Zürich</td><td>Zürich</td></tr></table>"
                    },
                    "metadata": {}
                }
            ],
            "execution_count": 17
        },
        {
            "cell_type": "markdown",
            "source": [
                "Wie viele Gleise hat der Bahnhof mit den meisten Gleisen?"
            ],
            "metadata": {
                "language": "sql",
                "azdata_cell_guid": "2abc7f58-dbf4-4b12-ab2c-c82b8a4657a3"
            },
            "attachments": {}
        },
        {
            "cell_type": "code",
            "source": [
                "SELECT MAX(Gleise) AS 'Gleise' FROM Bahnhoefe"
            ],
            "metadata": {
                "language": "sql",
                "azdata_cell_guid": "52769bed-e51b-4956-bf9b-97f24e534162"
            },
            "outputs": [
                {
                    "output_type": "display_data",
                    "data": {
                        "text/html": "(1 row affected)"
                    },
                    "metadata": {}
                },
                {
                    "output_type": "display_data",
                    "data": {
                        "text/html": "Total execution time: 00:00:00.003"
                    },
                    "metadata": {}
                },
                {
                    "output_type": "execute_result",
                    "execution_count": 21,
                    "data": {
                        "application/vnd.dataresource+json": {
                            "schema": {
                                "fields": [
                                    {
                                        "name": "Gleise"
                                    }
                                ]
                            },
                            "data": [
                                {
                                    "Gleise": "52"
                                }
                            ]
                        },
                        "text/html": "<table><tr><th>Gleise</th></tr><tr><td>52</td></tr></table>"
                    },
                    "metadata": {}
                }
            ],
            "execution_count": 21
        },
        {
            "cell_type": "markdown",
            "source": [
                "Wie viele Züge fahren in Olten los?"
            ],
            "metadata": {
                "language": "sql",
                "azdata_cell_guid": "326c3abb-c9b9-470a-a723-a39c9b0602a7"
            },
            "attachments": {}
        },
        {
            "cell_type": "code",
            "source": [
                "SELECT COUNT(Abfahrt) AS 'Abfahrten' FROM Verbindet WHERE Von = 'Olten'"
            ],
            "metadata": {
                "language": "sql",
                "azdata_cell_guid": "e0aa8d14-b590-431a-8235-2b730be5b81a"
            },
            "outputs": [
                {
                    "output_type": "display_data",
                    "data": {
                        "text/html": "(1 row affected)"
                    },
                    "metadata": {}
                },
                {
                    "output_type": "display_data",
                    "data": {
                        "text/html": "Total execution time: 00:00:00.002"
                    },
                    "metadata": {}
                },
                {
                    "output_type": "execute_result",
                    "execution_count": 26,
                    "data": {
                        "application/vnd.dataresource+json": {
                            "schema": {
                                "fields": [
                                    {
                                        "name": "Abfahrten"
                                    }
                                ]
                            },
                            "data": [
                                {
                                    "Abfahrten": "2"
                                }
                            ]
                        },
                        "text/html": "<table><tr><th>Abfahrten</th></tr><tr><td>2</td></tr></table>"
                    },
                    "metadata": {}
                }
            ],
            "execution_count": 26
        },
        {
            "cell_type": "markdown",
            "source": [
                "Erstelle eine Liste, auf der ersichtlich ist, wie viele Züge von jeweils einem Bahnhof los fahren (Name des Bahnhofs und Anzahl Abfahrten)."
            ],
            "metadata": {
                "language": "sql",
                "azdata_cell_guid": "02a394d3-f03d-4d89-b415-c5cadc8e5b23"
            },
            "attachments": {}
        },
        {
            "cell_type": "code",
            "source": [
                "SELECT Von, COUNT(Abfahrt) FROM Verbindet GROUP BY Von "
            ],
            "metadata": {
                "language": "sql",
                "azdata_cell_guid": "e5511bed-ae0f-4398-a01b-d9aa75a62926"
            },
            "outputs": [
                {
                    "output_type": "display_data",
                    "data": {
                        "text/html": "(9 rows affected)"
                    },
                    "metadata": {}
                },
                {
                    "output_type": "display_data",
                    "data": {
                        "text/html": "Total execution time: 00:00:00.007"
                    },
                    "metadata": {}
                },
                {
                    "output_type": "execute_result",
                    "execution_count": 27,
                    "data": {
                        "application/vnd.dataresource+json": {
                            "schema": {
                                "fields": [
                                    {
                                        "name": "Von"
                                    },
                                    {
                                        "name": "(No column name)"
                                    }
                                ]
                            },
                            "data": [
                                {
                                    "Von": "Baden",
                                    "(No column name)": "2"
                                },
                                {
                                    "Von": "Basel Bad",
                                    "(No column name)": "1"
                                },
                                {
                                    "Von": "Basel SBB",
                                    "(No column name)": "3"
                                },
                                {
                                    "Von": "Horw",
                                    "(No column name)": "1"
                                },
                                {
                                    "Von": "Luzern",
                                    "(No column name)": "3"
                                },
                                {
                                    "Von": "Olten",
                                    "(No column name)": "2"
                                },
                                {
                                    "Von": "Thalwil",
                                    "(No column name)": "2"
                                },
                                {
                                    "Von": "Zug",
                                    "(No column name)": "2"
                                },
                                {
                                    "Von": "Zürich HB",
                                    "(No column name)": "2"
                                }
                            ]
                        },
                        "text/html": "<table><tr><th>Von</th><th>(No column name)</th></tr><tr><td>Baden</td><td>2</td></tr><tr><td>Basel Bad</td><td>1</td></tr><tr><td>Basel SBB</td><td>3</td></tr><tr><td>Horw</td><td>1</td></tr><tr><td>Luzern</td><td>3</td></tr><tr><td>Olten</td><td>2</td></tr><tr><td>Thalwil</td><td>2</td></tr><tr><td>Zug</td><td>2</td></tr><tr><td>Zürich HB</td><td>2</td></tr></table>"
                    },
                    "metadata": {}
                }
            ],
            "execution_count": 27
        },
        {
            "cell_type": "markdown",
            "source": [
                "Erstelle eine Liste mit der Anzahl Gleise pro Kanton (total Gleise pro Kanton)."
            ],
            "metadata": {
                "language": "sql",
                "azdata_cell_guid": "3c2dbca8-60f3-4fee-94e0-8f5ef5b8fbc0"
            },
            "attachments": {}
        },
        {
            "cell_type": "code",
            "source": [
                "SELECT LiegtInKanton AS Kanton, SUM(Gleise) FROM Bahnhoefe GROUP BY LiegtInKanton "
            ],
            "metadata": {
                "language": "sql",
                "azdata_cell_guid": "ff7bcf8f-e2fa-48cb-bc56-e48dd93336d9"
            },
            "outputs": [
                {
                    "output_type": "display_data",
                    "data": {
                        "text/html": "(6 rows affected)"
                    },
                    "metadata": {}
                },
                {
                    "output_type": "display_data",
                    "data": {
                        "text/html": "Total execution time: 00:00:00.014"
                    },
                    "metadata": {}
                },
                {
                    "output_type": "execute_result",
                    "execution_count": 28,
                    "data": {
                        "application/vnd.dataresource+json": {
                            "schema": {
                                "fields": [
                                    {
                                        "name": "Kanton"
                                    },
                                    {
                                        "name": "(No column name)"
                                    }
                                ]
                            },
                            "data": [
                                {
                                    "Kanton": "Aargau",
                                    "(No column name)": "7"
                                },
                                {
                                    "Kanton": "Basel Stadt",
                                    "(No column name)": "21"
                                },
                                {
                                    "Kanton": "Luzern",
                                    "(No column name)": "18"
                                },
                                {
                                    "Kanton": "Solothurn",
                                    "(No column name)": "18"
                                },
                                {
                                    "Kanton": "Zug",
                                    "(No column name)": "8"
                                },
                                {
                                    "Kanton": "Zürich",
                                    "(No column name)": "57"
                                }
                            ]
                        },
                        "text/html": "<table><tr><th>Kanton</th><th>(No column name)</th></tr><tr><td>Aargau</td><td>7</td></tr><tr><td>Basel Stadt</td><td>21</td></tr><tr><td>Luzern</td><td>18</td></tr><tr><td>Solothurn</td><td>18</td></tr><tr><td>Zug</td><td>8</td></tr><tr><td>Zürich</td><td>57</td></tr></table>"
                    },
                    "metadata": {}
                }
            ],
            "execution_count": 28
        },
        {
            "cell_type": "markdown",
            "source": [
                "## Aufgaben für Fortgeschrittene\n",
                "\n",
                "Gib den Namen des Bahnhofs aus, der die meisten Gleise hat."
            ],
            "metadata": {
                "language": "sql",
                "azdata_cell_guid": "cae9291c-694e-4113-9f3c-4a0512f60870"
            },
            "attachments": {}
        },
        {
            "cell_type": "code",
            "source": [
                "SELECT * FROM Bahnhoefe WHERE Gleise = (SELECT MAX(Gleise) FROM Bahnhoefe)"
            ],
            "metadata": {
                "language": "sql",
                "azdata_cell_guid": "e5541050-e77b-4dc5-a3ac-3452bf71e1b7"
            },
            "outputs": [
                {
                    "output_type": "display_data",
                    "data": {
                        "text/html": "(1 row affected)"
                    },
                    "metadata": {}
                },
                {
                    "output_type": "display_data",
                    "data": {
                        "text/html": "Total execution time: 00:00:00.008"
                    },
                    "metadata": {}
                },
                {
                    "output_type": "execute_result",
                    "execution_count": 29,
                    "data": {
                        "application/vnd.dataresource+json": {
                            "schema": {
                                "fields": [
                                    {
                                        "name": "Name"
                                    },
                                    {
                                        "name": "Gleise"
                                    },
                                    {
                                        "name": "LiegtInOrt"
                                    },
                                    {
                                        "name": "LiegtInKanton"
                                    }
                                ]
                            },
                            "data": [
                                {
                                    "Name": "Zürich HB",
                                    "Gleise": "52",
                                    "LiegtInOrt": "Zürich",
                                    "LiegtInKanton": "Zürich"
                                }
                            ]
                        },
                        "text/html": "<table><tr><th>Name</th><th>Gleise</th><th>LiegtInOrt</th><th>LiegtInKanton</th></tr><tr><td>Zürich HB</td><td>52</td><td>Zürich</td><td>Zürich</td></tr></table>"
                    },
                    "metadata": {}
                }
            ],
            "execution_count": 29
        },
        {
            "cell_type": "markdown",
            "source": [
                "Gib die Namen der Bahnhöfe aus, die weniger als die durchschnittliche Anzahl Gleise haben."
            ],
            "metadata": {
                "language": "sql",
                "azdata_cell_guid": "3975c9f4-fa98-4a8e-b2c9-ac42457b19bb"
            },
            "attachments": {}
        },
        {
            "cell_type": "code",
            "source": [
                "SELECT Name, Gleise FROM Bahnhoefe WHERE Gleise < (SELECT AVG(Gleise) FROM Bahnhoefe)"
            ],
            "metadata": {
                "language": "sql",
                "azdata_cell_guid": "f4ac3219-8201-4878-8e5c-440436519360"
            },
            "outputs": [
                {
                    "output_type": "display_data",
                    "data": {
                        "text/html": "(5 rows affected)"
                    },
                    "metadata": {}
                },
                {
                    "output_type": "display_data",
                    "data": {
                        "text/html": "Total execution time: 00:00:00.007"
                    },
                    "metadata": {}
                },
                {
                    "output_type": "execute_result",
                    "execution_count": 32,
                    "data": {
                        "application/vnd.dataresource+json": {
                            "schema": {
                                "fields": [
                                    {
                                        "name": "Name"
                                    },
                                    {
                                        "name": "Gleise"
                                    }
                                ]
                            },
                            "data": [
                                {
                                    "Name": "Baden",
                                    "Gleise": "7"
                                },
                                {
                                    "Name": "Basel Bad",
                                    "Gleise": "4"
                                },
                                {
                                    "Name": "Horw",
                                    "Gleise": "3"
                                },
                                {
                                    "Name": "Thalwil",
                                    "Gleise": "5"
                                },
                                {
                                    "Name": "Zug",
                                    "Gleise": "8"
                                }
                            ]
                        },
                        "text/html": "<table><tr><th>Name</th><th>Gleise</th></tr><tr><td>Baden</td><td>7</td></tr><tr><td>Basel Bad</td><td>4</td></tr><tr><td>Horw</td><td>3</td></tr><tr><td>Thalwil</td><td>5</td></tr><tr><td>Zug</td><td>8</td></tr></table>"
                    },
                    "metadata": {}
                }
            ],
            "execution_count": 32
        },
        {
            "cell_type": "markdown",
            "source": [
                "Wie lautet der Name der Orte, welche über mehr als einen Bahnhof verfügen? Und wie viele Bahnhöfe gibt es in diesen Orten?"
            ],
            "metadata": {
                "language": "sql",
                "azdata_cell_guid": "2c4238a5-f7e4-4b57-b3f8-52cab9d85fba"
            },
            "attachments": {}
        },
        {
            "cell_type": "code",
            "source": [
                "SELECT LiegtInOrt, COUNT(*) FROM Bahnhoefe GROUP BY LiegtInOrt HAVING COUNT(*) > 1"
            ],
            "metadata": {
                "language": "sql",
                "azdata_cell_guid": "5457c7f7-22b3-417c-b912-816fb6bd6c28"
            },
            "outputs": [
                {
                    "output_type": "display_data",
                    "data": {
                        "text/html": "(1 row affected)"
                    },
                    "metadata": {}
                },
                {
                    "output_type": "display_data",
                    "data": {
                        "text/html": "Total execution time: 00:00:00.003"
                    },
                    "metadata": {}
                },
                {
                    "output_type": "execute_result",
                    "execution_count": 37,
                    "data": {
                        "application/vnd.dataresource+json": {
                            "schema": {
                                "fields": [
                                    {
                                        "name": "LiegtInOrt"
                                    },
                                    {
                                        "name": "(No column name)"
                                    }
                                ]
                            },
                            "data": [
                                {
                                    "LiegtInOrt": "Basel",
                                    "(No column name)": "2"
                                }
                            ]
                        },
                        "text/html": "<table><tr><th>LiegtInOrt</th><th>(No column name)</th></tr><tr><td>Basel</td><td>2</td></tr></table>"
                    },
                    "metadata": {}
                }
            ],
            "execution_count": 37
        },
        {
            "cell_type": "markdown",
            "source": [
                "Finde alle Züge (Nr. und Abfahrt) in der Relation \"Verbindet\"“\", die nach dem letzten Zug (Ankunft in Basel SBB) von Basel SBB abfahren. Anders formuliert: Mit welchen Zügen (Nr. und Abfahrt) kannst Du weiterfahren, wenn Du mit dem letzten Zug, der in der Tabelle \"Verbindet\" eingetragen ist, in Basel SBB angekommen bist?"
            ],
            "metadata": {
                "language": "sql",
                "azdata_cell_guid": "69185cc3-b292-4130-917c-f5fed894091b"
            },
            "attachments": {}
        },
        {
            "cell_type": "code",
            "source": [
                "SELECT Zug, Abfahrt \r\n",
                "FROM Verbindet \r\n",
                "WHERE Von = 'Basel SBB' AND Abfahrt > (SELECT MAX(Ankunft) FROM Verbindet WHERE Nach = 'Basel SBB')"
            ],
            "metadata": {
                "language": "sql",
                "azdata_cell_guid": "71019a51-09de-441f-9bd7-f77260f6b591",
                "tags": []
            },
            "outputs": [
                {
                    "output_type": "display_data",
                    "data": {
                        "text/html": "(1 row affected)"
                    },
                    "metadata": {}
                },
                {
                    "output_type": "display_data",
                    "data": {
                        "text/html": "Total execution time: 00:00:00.016"
                    },
                    "metadata": {}
                },
                {
                    "output_type": "execute_result",
                    "execution_count": 38,
                    "data": {
                        "application/vnd.dataresource+json": {
                            "schema": {
                                "fields": [
                                    {
                                        "name": "Zug"
                                    },
                                    {
                                        "name": "Abfahrt"
                                    }
                                ]
                            },
                            "data": [
                                {
                                    "Zug": "6",
                                    "Abfahrt": "15:12:00"
                                }
                            ]
                        },
                        "text/html": "<table><tr><th>Zug</th><th>Abfahrt</th></tr><tr><td>6</td><td>15:12:00</td></tr></table>"
                    },
                    "metadata": {}
                }
            ],
            "execution_count": 38
        },
        {
            "cell_type": "markdown",
            "source": [
                "Wie lange dauert die Fahrt von Zürich HB nach Basel Badischer Bahnhof (Zug 7)? In Minuten? In Sekunden?"
            ],
            "metadata": {
                "language": "sql",
                "azdata_cell_guid": "4a49207c-d777-4f1f-96f5-0aa7ed81c679"
            },
            "attachments": {}
        },
        {
            "cell_type": "code",
            "source": [
                "DECLARE @Departure TIME = (SELECT Abfahrt FROM Verbindet WHERE Zug = 7 AND Von = 'Zurich HB') ;\r\n",
                "DECLARE @Arrival TIME = (SELECT Ankunft FROM Verbindet WHERE Zug = 7 AND Nach = 'Basel Bad');\r\n",
                "\r\n",
                "SELECT DISTINCT SUM(DATEDIFF(MINUTE, Abfahrt, Ankunft)) AS FahrzeitInMinuten, \r\n",
                "SUM(DATEDIFF(HOUR, Abfahrt, Ankunft)) AS FahrzeitInStunden, \r\n",
                "SUM(DATEDIFF(SECOND, Abfahrt, Ankunft)) AS FahrzeitInSekunden\r\n",
                "FROM Verbindet\r\n",
                "WHERE Zug = 7"
            ],
            "metadata": {
                "language": "sql",
                "azdata_cell_guid": "e854d5c3-fcba-4137-b496-907c3e3a1a2f"
            },
            "outputs": [
                {
                    "output_type": "display_data",
                    "data": {
                        "text/html": "(1 row affected)"
                    },
                    "metadata": {}
                },
                {
                    "output_type": "display_data",
                    "data": {
                        "text/html": "Total execution time: 00:00:00.008"
                    },
                    "metadata": {}
                },
                {
                    "output_type": "execute_result",
                    "metadata": {},
                    "execution_count": 14,
                    "data": {
                        "application/vnd.dataresource+json": {
                            "schema": {
                                "fields": [
                                    {
                                        "name": "FahrzeitInMinuten"
                                    },
                                    {
                                        "name": "FahrzeitInStunden"
                                    },
                                    {
                                        "name": "FahrzeitInSekunden"
                                    }
                                ]
                            },
                            "data": [
                                {
                                    "FahrzeitInMinuten": "42",
                                    "FahrzeitInStunden": "1",
                                    "FahrzeitInSekunden": "2520"
                                }
                            ]
                        },
                        "text/html": [
                            "<table>",
                            "<tr><th>FahrzeitInMinuten</th><th>FahrzeitInStunden</th><th>FahrzeitInSekunden</th></tr>",
                            "<tr><td>42</td><td>1</td><td>2520</td></tr>",
                            "</table>"
                        ]
                    }
                }
            ],
            "execution_count": 14
        }
    ]
}