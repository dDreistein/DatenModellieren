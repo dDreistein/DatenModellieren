{
    "metadata": {
        "kernelspec": {
            "name": "SQL",
            "display_name": "SQL",
            "language": "sql"
        },
        "language_info": {
            "name": "sql",
            "version": ""
        }
    },
    "nbformat_minor": 2,
    "nbformat": 4,
    "cells": [
        {
            "cell_type": "markdown",
            "source": [
                "# Einfache Auswertungen erstellen:\n",
                "\n",
                "Erstelle eine Liste aus mit dem Vornamen und Nachnamen aller weiblichen Kunden des Fitnesscenters."
            ],
            "metadata": {
                "azdata_cell_guid": "ee8bbd94-3463-443f-8947-c2cf36aabc58"
            },
            "attachments": {}
        },
        {
            "cell_type": "code",
            "source": [
                "SELECT Vorname, Nachname FROM Kunden WHERE Geschlecht = 'w'"
            ],
            "metadata": {
                "azdata_cell_guid": "fcef279f-644f-49e7-8b57-662e84fa499d",
                "language": "sql"
            },
            "outputs": [
                {
                    "output_type": "display_data",
                    "data": {
                        "text/html": "(4 rows affected)"
                    },
                    "metadata": {}
                },
                {
                    "output_type": "display_data",
                    "data": {
                        "text/html": "Total execution time: 00:00:00.037"
                    },
                    "metadata": {}
                },
                {
                    "output_type": "execute_result",
                    "metadata": {},
                    "execution_count": 1,
                    "data": {
                        "application/vnd.dataresource+json": {
                            "schema": {
                                "fields": [
                                    {
                                        "name": "Vorname"
                                    },
                                    {
                                        "name": "Nachname"
                                    }
                                ]
                            },
                            "data": [
                                {
                                    "Vorname": "Beatrix",
                                    "Nachname": "Hugentobler"
                                },
                                {
                                    "Vorname": "Franziska",
                                    "Nachname": "Tobler"
                                },
                                {
                                    "Vorname": "Petra",
                                    "Nachname": "Nussbaumer"
                                },
                                {
                                    "Vorname": "Erna",
                                    "Nachname": "Tschurtschenthaler"
                                }
                            ]
                        },
                        "text/html": [
                            "<table>",
                            "<tr><th>Vorname</th><th>Nachname</th></tr>",
                            "<tr><td>Beatrix</td><td>Hugentobler</td></tr>",
                            "<tr><td>Franziska</td><td>Tobler</td></tr>",
                            "<tr><td>Petra</td><td>Nussbaumer</td></tr>",
                            "<tr><td>Erna</td><td>Tschurtschenthaler</td></tr>",
                            "</table>"
                        ]
                    }
                }
            ],
            "execution_count": 1
        },
        {
            "cell_type": "markdown",
            "source": [
                "Uns interessiert die Postleitzahl von Untersiggenthal."
            ],
            "metadata": {
                "language": "sql",
                "azdata_cell_guid": "5d6a9e2f-8713-4324-bf6f-19d4bddcb52a"
            },
            "attachments": {}
        },
        {
            "cell_type": "code",
            "source": [
                "SELECT PLZ FROM Orte WHERE Ortname = 'Untersiggenthal'"
            ],
            "metadata": {
                "language": "sql",
                "azdata_cell_guid": "96fa5941-948c-4115-935d-f2d35f1cb730"
            },
            "outputs": [
                {
                    "output_type": "display_data",
                    "data": {
                        "text/html": "(1 row affected)"
                    },
                    "metadata": {}
                },
                {
                    "output_type": "display_data",
                    "data": {
                        "text/html": "Total execution time: 00:00:00.010"
                    },
                    "metadata": {}
                },
                {
                    "output_type": "execute_result",
                    "metadata": {},
                    "execution_count": 2,
                    "data": {
                        "application/vnd.dataresource+json": {
                            "schema": {
                                "fields": [
                                    {
                                        "name": "PLZ"
                                    }
                                ]
                            },
                            "data": [
                                {
                                    "PLZ": "5417"
                                }
                            ]
                        },
                        "text/html": [
                            "<table>",
                            "<tr><th>PLZ</th></tr>",
                            "<tr><td>5417</td></tr>",
                            "</table>"
                        ]
                    }
                }
            ],
            "execution_count": 2
        },
        {
            "cell_type": "markdown",
            "source": [
                "Gib eine Liste aus mit allen Ortschaften des Kanton Zug. Sortiere die Liste aufsteigend nach Ortname."
            ],
            "metadata": {
                "language": "sql",
                "azdata_cell_guid": "f20b729c-d445-47e7-a457-087cbe5358ec"
            },
            "attachments": {}
        },
        {
            "cell_type": "code",
            "source": [
                "SELECT Ortname FROM Orte WHERE Kanton = 'ZG'"
            ],
            "metadata": {
                "language": "sql",
                "azdata_cell_guid": "5d92d0d5-d328-43bc-99c1-eb681fc3e12b"
            },
            "outputs": [
                {
                    "output_type": "display_data",
                    "data": {
                        "text/html": "(25 rows affected)"
                    },
                    "metadata": {}
                },
                {
                    "output_type": "display_data",
                    "data": {
                        "text/html": "Total execution time: 00:00:00.007"
                    },
                    "metadata": {}
                },
                {
                    "output_type": "execute_result",
                    "metadata": {},
                    "execution_count": 3,
                    "data": {
                        "application/vnd.dataresource+json": {
                            "schema": {
                                "fields": [
                                    {
                                        "name": "Ortname"
                                    }
                                ]
                            },
                            "data": [
                                {
                                    "Ortname": "Zug"
                                },
                                {
                                    "Ortname": "Edlibach"
                                },
                                {
                                    "Ortname": "Finstersee"
                                },
                                {
                                    "Ortname": "Allenwinden"
                                },
                                {
                                    "Ortname": "Morgarten"
                                },
                                {
                                    "Ortname": "Steinhausen"
                                },
                                {
                                    "Ortname": "Menzingen"
                                },
                                {
                                    "Ortname": "Unterägeri"
                                },
                                {
                                    "Ortname": "Neuägeri"
                                },
                                {
                                    "Ortname": "Oberägeri"
                                },
                                {
                                    "Ortname": "Alosen"
                                },
                                {
                                    "Ortname": "Zugerberg"
                                },
                                {
                                    "Ortname": "Oberwil b. Zug"
                                },
                                {
                                    "Ortname": "Walchwil"
                                },
                                {
                                    "Ortname": "Cham"
                                },
                                {
                                    "Ortname": "Hünenberg"
                                },
                                {
                                    "Ortname": "Hagendorn"
                                },
                                {
                                    "Ortname": "Baar"
                                },
                                {
                                    "Ortname": "Rotkreuz"
                                },
                                {
                                    "Ortname": "Neuheim"
                                },
                                {
                                    "Ortname": "Sihlbrugg"
                                },
                                {
                                    "Ortname": "Buonas"
                                },
                                {
                                    "Ortname": "Risch"
                                },
                                {
                                    "Ortname": "Holzhäusern ZG"
                                },
                                {
                                    "Ortname": "Hünenberg See"
                                }
                            ]
                        },
                        "text/html": [
                            "<table>",
                            "<tr><th>Ortname</th></tr>",
                            "<tr><td>Zug</td></tr>",
                            "<tr><td>Edlibach</td></tr>",
                            "<tr><td>Finstersee</td></tr>",
                            "<tr><td>Allenwinden</td></tr>",
                            "<tr><td>Morgarten</td></tr>",
                            "<tr><td>Steinhausen</td></tr>",
                            "<tr><td>Menzingen</td></tr>",
                            "<tr><td>Unterägeri</td></tr>",
                            "<tr><td>Neuägeri</td></tr>",
                            "<tr><td>Oberägeri</td></tr>",
                            "<tr><td>Alosen</td></tr>",
                            "<tr><td>Zugerberg</td></tr>",
                            "<tr><td>Oberwil b. Zug</td></tr>",
                            "<tr><td>Walchwil</td></tr>",
                            "<tr><td>Cham</td></tr>",
                            "<tr><td>Hünenberg</td></tr>",
                            "<tr><td>Hagendorn</td></tr>",
                            "<tr><td>Baar</td></tr>",
                            "<tr><td>Rotkreuz</td></tr>",
                            "<tr><td>Neuheim</td></tr>",
                            "<tr><td>Sihlbrugg</td></tr>",
                            "<tr><td>Buonas</td></tr>",
                            "<tr><td>Risch</td></tr>",
                            "<tr><td>Holzhäusern ZG</td></tr>",
                            "<tr><td>Hünenberg See</td></tr>",
                            "</table>"
                        ]
                    }
                }
            ],
            "execution_count": 3
        },
        {
            "cell_type": "markdown",
            "source": [
                "Welche Orte haben irgendwo in ihrem Namen den Text \"ägeri\" drin? Gib den Ortnamen dieser Orte aus sowie in welchem Kanton sie liegen."
            ],
            "metadata": {
                "language": "sql",
                "azdata_cell_guid": "c6999abe-66f6-4307-8087-809ad0adf02b"
            },
            "attachments": {}
        },
        {
            "cell_type": "code",
            "source": [
                "SELECT Ortname, Kanton FROM Orte WHERE Ortname LIKE '%ägeri%'"
            ],
            "metadata": {
                "language": "sql",
                "azdata_cell_guid": "351a4156-378f-46b0-af9c-42fd49712669"
            },
            "outputs": [
                {
                    "output_type": "display_data",
                    "data": {
                        "text/html": "(4 rows affected)"
                    },
                    "metadata": {}
                },
                {
                    "output_type": "display_data",
                    "data": {
                        "text/html": "Total execution time: 00:00:00.014"
                    },
                    "metadata": {}
                },
                {
                    "output_type": "execute_result",
                    "metadata": {},
                    "execution_count": 4,
                    "data": {
                        "application/vnd.dataresource+json": {
                            "schema": {
                                "fields": [
                                    {
                                        "name": "Ortname"
                                    },
                                    {
                                        "name": "Kanton"
                                    }
                                ]
                            },
                            "data": [
                                {
                                    "Ortname": "Tägerig",
                                    "Kanton": "AG"
                                },
                                {
                                    "Ortname": "Unterägeri",
                                    "Kanton": "ZG"
                                },
                                {
                                    "Ortname": "Neuägeri",
                                    "Kanton": "ZG"
                                },
                                {
                                    "Ortname": "Oberägeri",
                                    "Kanton": "ZG"
                                }
                            ]
                        },
                        "text/html": [
                            "<table>",
                            "<tr><th>Ortname</th><th>Kanton</th></tr>",
                            "<tr><td>Tägerig</td><td>AG</td></tr>",
                            "<tr><td>Unterägeri</td><td>ZG</td></tr>",
                            "<tr><td>Neuägeri</td><td>ZG</td></tr>",
                            "<tr><td>Oberägeri</td><td>ZG</td></tr>",
                            "</table>"
                        ]
                    }
                }
            ],
            "execution_count": 4
        },
        {
            "cell_type": "markdown",
            "source": [
                "In welchem Kanton liegen die Orte _Pully_, _Muttenz_ und _Urdorf_? Erstelle eine Liste mit Ortname und Kanton."
            ],
            "metadata": {
                "language": "sql",
                "azdata_cell_guid": "7e62534e-bdf4-4307-9e1f-78bf199cc7f2"
            },
            "attachments": {}
        },
        {
            "cell_type": "code",
            "source": [
                "SELECT Ortname, Kanton FROM Orte WHERE Ortname = 'Pully' OR Ortname = 'Muttenz' OR Ortname = 'Urdorf'"
            ],
            "metadata": {
                "language": "sql",
                "azdata_cell_guid": "515c9715-2917-4433-9c79-7c524e2dba3b"
            },
            "outputs": [
                {
                    "output_type": "display_data",
                    "data": {
                        "text/html": "(3 rows affected)"
                    },
                    "metadata": {}
                },
                {
                    "output_type": "display_data",
                    "data": {
                        "text/html": "Total execution time: 00:00:00.008"
                    },
                    "metadata": {}
                },
                {
                    "output_type": "execute_result",
                    "metadata": {},
                    "execution_count": 5,
                    "data": {
                        "application/vnd.dataresource+json": {
                            "schema": {
                                "fields": [
                                    {
                                        "name": "Ortname"
                                    },
                                    {
                                        "name": "Kanton"
                                    }
                                ]
                            },
                            "data": [
                                {
                                    "Ortname": "Pully",
                                    "Kanton": "VD"
                                },
                                {
                                    "Ortname": "Muttenz",
                                    "Kanton": "BL"
                                },
                                {
                                    "Ortname": "Urdorf",
                                    "Kanton": "ZH"
                                }
                            ]
                        },
                        "text/html": [
                            "<table>",
                            "<tr><th>Ortname</th><th>Kanton</th></tr>",
                            "<tr><td>Pully</td><td>VD</td></tr>",
                            "<tr><td>Muttenz</td><td>BL</td></tr>",
                            "<tr><td>Urdorf</td><td>ZH</td></tr>",
                            "</table>"
                        ]
                    }
                }
            ],
            "execution_count": 5
        },
        {
            "cell_type": "markdown",
            "source": [
                "Erstelle eine Liste mit allen Kunden, die bei der _Group Mutuel_ versichert sind."
            ],
            "metadata": {
                "language": "sql",
                "azdata_cell_guid": "4d401b94-8f92-45ed-a618-a368e5f7d827"
            },
            "attachments": {}
        },
        {
            "cell_type": "code",
            "source": [
                "SELECT Vorname, Nachname, Krankenkasse FROM Kunden WHERE Krankenkasse = 'Group Mutuel'"
            ],
            "metadata": {
                "language": "sql",
                "azdata_cell_guid": "0213be18-0dd2-4993-8270-93cb96d99ba0"
            },
            "outputs": [
                {
                    "output_type": "display_data",
                    "data": {
                        "text/html": "(2 rows affected)"
                    },
                    "metadata": {}
                },
                {
                    "output_type": "display_data",
                    "data": {
                        "text/html": "Total execution time: 00:00:00.015"
                    },
                    "metadata": {}
                },
                {
                    "output_type": "execute_result",
                    "metadata": {},
                    "execution_count": 6,
                    "data": {
                        "application/vnd.dataresource+json": {
                            "schema": {
                                "fields": [
                                    {
                                        "name": "Vorname"
                                    },
                                    {
                                        "name": "Nachname"
                                    },
                                    {
                                        "name": "Krankenkasse"
                                    }
                                ]
                            },
                            "data": [
                                {
                                    "Vorname": "Viktor",
                                    "Nachname": "Meyer",
                                    "Krankenkasse": "Group Mutuel"
                                },
                                {
                                    "Vorname": "Petra",
                                    "Nachname": "Nussbaumer",
                                    "Krankenkasse": "Group Mutuel"
                                }
                            ]
                        },
                        "text/html": [
                            "<table>",
                            "<tr><th>Vorname</th><th>Nachname</th><th>Krankenkasse</th></tr>",
                            "<tr><td>Viktor</td><td>Meyer</td><td>Group Mutuel</td></tr>",
                            "<tr><td>Petra</td><td>Nussbaumer</td><td>Group Mutuel</td></tr>",
                            "</table>"
                        ]
                    }
                }
            ],
            "execution_count": 6
        },
        {
            "cell_type": "markdown",
            "source": [
                "Wir möchten eine Liste mit allen weiblichen Kunden, deren Vorname mit dem Buchstaben \"a\" endet."
            ],
            "metadata": {
                "language": "sql",
                "azdata_cell_guid": "969c686b-fd36-475d-b17b-9a4937996c92"
            },
            "attachments": {}
        },
        {
            "cell_type": "code",
            "source": [
                "SELECT Vorname, Nachname FROM Kunden WHERE Vorname LIKE '%a' AND Geschlecht = 'w'"
            ],
            "metadata": {
                "language": "sql",
                "azdata_cell_guid": "a9abaad1-22cd-4ee1-81fb-f6db64b30d43"
            },
            "outputs": [
                {
                    "output_type": "display_data",
                    "data": {
                        "text/html": "(3 rows affected)"
                    },
                    "metadata": {}
                },
                {
                    "output_type": "display_data",
                    "data": {
                        "text/html": "Total execution time: 00:00:00.008"
                    },
                    "metadata": {}
                },
                {
                    "output_type": "execute_result",
                    "metadata": {},
                    "execution_count": 7,
                    "data": {
                        "application/vnd.dataresource+json": {
                            "schema": {
                                "fields": [
                                    {
                                        "name": "Vorname"
                                    },
                                    {
                                        "name": "Nachname"
                                    }
                                ]
                            },
                            "data": [
                                {
                                    "Vorname": "Franziska",
                                    "Nachname": "Tobler"
                                },
                                {
                                    "Vorname": "Petra",
                                    "Nachname": "Nussbaumer"
                                },
                                {
                                    "Vorname": "Erna",
                                    "Nachname": "Tschurtschenthaler"
                                }
                            ]
                        },
                        "text/html": [
                            "<table>",
                            "<tr><th>Vorname</th><th>Nachname</th></tr>",
                            "<tr><td>Franziska</td><td>Tobler</td></tr>",
                            "<tr><td>Petra</td><td>Nussbaumer</td></tr>",
                            "<tr><td>Erna</td><td>Tschurtschenthaler</td></tr>",
                            "</table>"
                        ]
                    }
                }
            ],
            "execution_count": 7
        },
        {
            "cell_type": "markdown",
            "source": [
                "Wie lautet der Vorname des Mitarbeiters _Müller_?"
            ],
            "metadata": {
                "language": "sql",
                "azdata_cell_guid": "4d50082e-2ce5-4dac-8c81-28fe32f2b202"
            },
            "attachments": {}
        },
        {
            "cell_type": "code",
            "source": [
                "SELECT Vorname FROM Mitarbeiter WHERE Nachname = 'Müller'"
            ],
            "metadata": {
                "language": "sql",
                "azdata_cell_guid": "3cbe0101-b0ee-47f0-a828-1211bbb85a35"
            },
            "outputs": [
                {
                    "output_type": "display_data",
                    "data": {
                        "text/html": "(1 row affected)"
                    },
                    "metadata": {}
                },
                {
                    "output_type": "display_data",
                    "data": {
                        "text/html": "Total execution time: 00:00:00.015"
                    },
                    "metadata": {}
                },
                {
                    "output_type": "execute_result",
                    "metadata": {},
                    "execution_count": 8,
                    "data": {
                        "application/vnd.dataresource+json": {
                            "schema": {
                                "fields": [
                                    {
                                        "name": "Vorname"
                                    }
                                ]
                            },
                            "data": [
                                {
                                    "Vorname": "Jürg"
                                }
                            ]
                        },
                        "text/html": [
                            "<table>",
                            "<tr><th>Vorname</th></tr>",
                            "<tr><td>Jürg</td></tr>",
                            "</table>"
                        ]
                    }
                }
            ],
            "execution_count": 8
        },
        {
            "cell_type": "markdown",
            "source": [
                "Erstelle eine Liste mit allen Kunden, von denen die Krankenkasse nicht bekannt ist."
            ],
            "metadata": {
                "language": "sql",
                "azdata_cell_guid": "be2bb9bf-fced-40a7-b2ed-7d266717fac7"
            },
            "attachments": {}
        },
        {
            "cell_type": "code",
            "source": [
                "SELECT Vorname, Nachname FROM Kunden WHERE Krankenkasse IS NULL"
            ],
            "metadata": {
                "language": "sql",
                "azdata_cell_guid": "cc2910aa-533d-4b65-82a5-ee693a6763fc"
            },
            "outputs": [
                {
                    "output_type": "display_data",
                    "data": {
                        "text/html": "(2 rows affected)"
                    },
                    "metadata": {}
                },
                {
                    "output_type": "display_data",
                    "data": {
                        "text/html": "Total execution time: 00:00:00.006"
                    },
                    "metadata": {}
                },
                {
                    "output_type": "execute_result",
                    "metadata": {},
                    "execution_count": 9,
                    "data": {
                        "application/vnd.dataresource+json": {
                            "schema": {
                                "fields": [
                                    {
                                        "name": "Vorname"
                                    },
                                    {
                                        "name": "Nachname"
                                    }
                                ]
                            },
                            "data": [
                                {
                                    "Vorname": "Yanick",
                                    "Nachname": "Merz"
                                },
                                {
                                    "Vorname": "Lars",
                                    "Nachname": "Ramseier"
                                }
                            ]
                        },
                        "text/html": [
                            "<table>",
                            "<tr><th>Vorname</th><th>Nachname</th></tr>",
                            "<tr><td>Yanick</td><td>Merz</td></tr>",
                            "<tr><td>Lars</td><td>Ramseier</td></tr>",
                            "</table>"
                        ]
                    }
                }
            ],
            "execution_count": 9
        },
        {
            "cell_type": "markdown",
            "source": [
                "Gib alle Ortschaften aus, die nicht im Kanton Zürich und nicht im Kanton Waadt und auch nicht im Kanton Wallis liegen. Sortiere die Liste absteigend nach Kanton."
            ],
            "metadata": {
                "language": "sql",
                "azdata_cell_guid": "35f353fe-cc03-4be8-8739-422b8758733a"
            },
            "attachments": {}
        },
        {
            "cell_type": "code",
            "source": [
                "SELECT Ortname, Kanton FROM Orte WHERE Kanton NOT IN('ZH', 'VD', 'VS')"
            ],
            "metadata": {
                "language": "sql",
                "azdata_cell_guid": "3c423417-e989-4b95-a4ae-8deb0a07ea98"
            },
            "outputs": [
                {
                    "output_type": "display_data",
                    "data": {
                        "text/html": "(3045 rows affected)"
                    },
                    "metadata": {}
                },
                {
                    "output_type": "display_data",
                    "data": {
                        "text/html": "Total execution time: 00:00:00.023"
                    },
                    "metadata": {}
                },
                {
                    "output_type": "execute_result",
                    "metadata": {},
                    "execution_count": 12,
                    "data": {
                        "application/vnd.dataresource+json": {
                            "schema": {
                                "fields": [
                                    {
                                        "name": "Ortname"
                                    },
                                    {
                                        "name": "Kanton"
                                    }
                                ]
                            },
                            "data": [
                                {
                                    "Ortname": "Auboranges",
                                    "Kanton": "FR"
                                },
                                {
                                    "Ortname": "Genève",
                                    "Kanton": "GE"
                                },
                                {
                                    "Ortname": "Genève",
                                    "Kanton": "GE"
                                },
                                {
                                    "Ortname": "Genève",
                                    "Kanton": "GE"
                                },
                                {
                                    "Ortname": "Genève",
                                    "Kanton": "GE"
                                },
                                {
                                    "Ortname": "Genève",
                                    "Kanton": "GE"
                                },
                                {
                                    "Ortname": "Genève",
                                    "Kanton": "GE"
                                },
                                {
                                    "Ortname": "Genève",
                                    "Kanton": "GE"
                                },
                                {
                                    "Ortname": "Genève",
                                    "Kanton": "GE"
                                },
                                {
                                    "Ortname": "Genève",
                                    "Kanton": "GE"
                                },
                                {
                                    "Ortname": "Genève",
                                    "Kanton": "GE"
                                },
                                {
                                    "Ortname": "Grand-Lancy",
                                    "Kanton": "GE"
                                },
                                {
                                    "Ortname": "Petit-Lancy",
                                    "Kanton": "GE"
                                },
                                {
                                    "Ortname": "Onex",
                                    "Kanton": "GE"
                                },
                                {
                                    "Ortname": "Vernier",
                                    "Kanton": "GE"
                                },
                                {
                                    "Ortname": "Genève 15 Aéroport",
                                    "Kanton": "GE"
                                },
                                {
                                    "Ortname": "Cointrin",
                                    "Kanton": "GE"
                                },
                                {
                                    "Ortname": "Meyrin",
                                    "Kanton": "GE"
                                },
                                {
                                    "Ortname": "Le Grand-Saconnex",
                                    "Kanton": "GE"
                                },
                                {
                                    "Ortname": "Le Lignon",
                                    "Kanton": "GE"
                                },
                                {
                                    "Ortname": "Aïre",
                                    "Kanton": "GE"
                                },
                                {
                                    "Ortname": "Châtelaine",
                                    "Kanton": "GE"
                                },
                                {
                                    "Ortname": "Les Avanchets",
                                    "Kanton": "GE"
                                },
                                {
                                    "Ortname": "Vésenaz",
                                    "Kanton": "GE"
                                },
                                {
                                    "Ortname": "Cologny",
                                    "Kanton": "GE"
                                },
                                {
                                    "Ortname": "Chêne-Bougeries",
                                    "Kanton": "GE"
                                },
                                {
                                    "Ortname": "Chêne-Bourg",
                                    "Kanton": "GE"
                                },
                                {
                                    "Ortname": "Thônex",
                                    "Kanton": "GE"
                                },
                                {
                                    "Ortname": "Carouge GE",
                                    "Kanton": "GE"
                                },
                                {
                                    "Ortname": "Les Acacias",
                                    "Kanton": "GE"
                                },
                                {
                                    "Ortname": "Plan-les-Ouates",
                                    "Kanton": "GE"
                                },
                                {
                                    "Ortname": "Conches",
                                    "Kanton": "GE"
                                },
                                {
                                    "Ortname": "Confignon",
                                    "Kanton": "GE"
                                },
                                {
                                    "Ortname": "Bernex",
                                    "Kanton": "GE"
                                },
                                {
                                    "Ortname": "Vessy",
                                    "Kanton": "GE"
                                },
                                {
                                    "Ortname": "Cartigny",
                                    "Kanton": "GE"
                                },
                                {
                                    "Ortname": "Avully",
                                    "Kanton": "GE"
                                },
                                {
                                    "Ortname": "Collex",
                                    "Kanton": "GE"
                                },
                                {
                                    "Ortname": "Puplinge",
                                    "Kanton": "GE"
                                },
                                {
                                    "Ortname": "Satigny",
                                    "Kanton": "GE"
                                },
                                {
                                    "Ortname": "Presinge",
                                    "Kanton": "GE"
                                },
                                {
                                    "Ortname": "Choulex",
                                    "Kanton": "GE"
                                },
                                {
                                    "Ortname": "Collonge-Bellerive",
                                    "Kanton": "GE"
                                },
                                {
                                    "Ortname": "Corsier GE",
                                    "Kanton": "GE"
                                },
                                {
                                    "Ortname": "Anières",
                                    "Kanton": "GE"
                                },
                                {
                                    "Ortname": "Hermance",
                                    "Kanton": "GE"
                                },
                                {
                                    "Ortname": "Gy",
                                    "Kanton": "GE"
                                },
                                {
                                    "Ortname": "Meinier",
                                    "Kanton": "GE"
                                },
                                {
                                    "Ortname": "Vandoeuvres",
                                    "Kanton": "GE"
                                },
                                {
                                    "Ortname": "Jussy",
                                    "Kanton": "GE"
                                },
                                {
                                    "Ortname": "Veyrier",
                                    "Kanton": "GE"
                                },
                                {
                                    "Ortname": "Troinex",
                                    "Kanton": "GE"
                                },
                                {
                                    "Ortname": "La Croix-de-Rozon",
                                    "Kanton": "GE"
                                },
                                {
                                    "Ortname": "Perly",
                                    "Kanton": "GE"
                                },
                                {
                                    "Ortname": "Russin",
                                    "Kanton": "GE"
                                },
                                {
                                    "Ortname": "Dardagny",
                                    "Kanton": "GE"
                                },
                                {
                                    "Ortname": "La Plaine",
                                    "Kanton": "GE"
                                },
                                {
                                    "Ortname": "Chancy",
                                    "Kanton": "GE"
                                },
                                {
                                    "Ortname": "Athenaz (Avusy)",
                                    "Kanton": "GE"
                                },
                                {
                                    "Ortname": "Soral",
                                    "Kanton": "GE"
                                },
                                {
                                    "Ortname": "Laconnex",
                                    "Kanton": "GE"
                                },
                                {
                                    "Ortname": "Aire-la-Ville",
                                    "Kanton": "GE"
                                },
                                {
                                    "Ortname": "Versoix",
                                    "Kanton": "GE"
                                },
                                {
                                    "Ortname": "Chambésy",
                                    "Kanton": "GE"
                                },
                                {
                                    "Ortname": "Bellevue",
                                    "Kanton": "GE"
                                },
                                {
                                    "Ortname": "Genthod",
                                    "Kanton": "GE"
                                },
                                {
                                    "Ortname": "Céligny",
                                    "Kanton": "GE"
                                },
                                {
                                    "Ortname": "Cheyres",
                                    "Kanton": "FR"
                                },
                                {
                                    "Ortname": "Estavayer-le-Lac",
                                    "Kanton": "FR"
                                },
                                {
                                    "Ortname": "Font",
                                    "Kanton": "FR"
                                },
                                {
                                    "Ortname": "Châbles FR",
                                    "Kanton": "FR"
                                },
                                {
                                    "Ortname": "Montet (Broye)",
                                    "Kanton": "FR"
                                },
                                {
                                    "Ortname": "Cugy FR",
                                    "Kanton": "FR"
                                },
                                {
                                    "Ortname": "Bussy FR",
                                    "Kanton": "FR"
                                },
                                {
                                    "Ortname": "Aumont",
                                    "Kanton": "FR"
                                },
                                {
                                    "Ortname": "Nuvilly",
                                    "Kanton": "FR"
                                },
                                {
                                    "Ortname": "Vuissens",
                                    "Kanton": "FR"
                                },
                                {
                                    "Ortname": "Murist",
                                    "Kanton": "FR"
                                },
                                {
                                    "Ortname": "Villeneuve FR",
                                    "Kanton": "FR"
                                },
                                {
                                    "Ortname": "Surpierre",
                                    "Kanton": "FR"
                                },
                                {
                                    "Ortname": "Cheiry",
                                    "Kanton": "FR"
                                },
                                {
                                    "Ortname": "Fétigny",
                                    "Kanton": "FR"
                                },
                                {
                                    "Ortname": "Ménières",
                                    "Kanton": "FR"
                                },
                                {
                                    "Ortname": "Rueyres-les-Prés",
                                    "Kanton": "FR"
                                },
                                {
                                    "Ortname": "Gletterens",
                                    "Kanton": "FR"
                                },
                                {
                                    "Ortname": "Châtonnaye",
                                    "Kanton": "FR"
                                },
                                {
                                    "Ortname": "Dompierre FR",
                                    "Kanton": "FR"
                                },
                                {
                                    "Ortname": "Domdidier",
                                    "Kanton": "FR"
                                },
                                {
                                    "Ortname": "Autavaux",
                                    "Kanton": "FR"
                                },
                                {
                                    "Ortname": "Delley",
                                    "Kanton": "FR"
                                },
                                {
                                    "Ortname": "Portalban",
                                    "Kanton": "FR"
                                },
                                {
                                    "Ortname": "St-Aubin FR",
                                    "Kanton": "FR"
                                },
                                {
                                    "Ortname": "Villarepos",
                                    "Kanton": "FR"
                                },
                                {
                                    "Ortname": "Ecublens FR",
                                    "Kanton": "FR"
                                },
                                {
                                    "Ortname": "Granges (Veveyse)",
                                    "Kanton": "FR"
                                },
                                {
                                    "Ortname": "Bossonnens",
                                    "Kanton": "FR"
                                },
                                {
                                    "Ortname": "Attalens",
                                    "Kanton": "FR"
                                },
                                {
                                    "Ortname": "Remaufens",
                                    "Kanton": "FR"
                                },
                                {
                                    "Ortname": "Châtel-St-Denis",
                                    "Kanton": "FR"
                                },
                                {
                                    "Ortname": "Les Paccots",
                                    "Kanton": "FR"
                                },
                                {
                                    "Ortname": "Semsales",
                                    "Kanton": "FR"
                                },
                                {
                                    "Ortname": "La Verrerie",
                                    "Kanton": "FR"
                                },
                                {
                                    "Ortname": "Vaulruz",
                                    "Kanton": "FR"
                                },
                                {
                                    "Ortname": "Vuadens",
                                    "Kanton": "FR"
                                },
                                {
                                    "Ortname": "Bulle",
                                    "Kanton": "FR"
                                },
                                {
                                    "Ortname": "Vuippens",
                                    "Kanton": "FR"
                                },
                                {
                                    "Ortname": "Sorens",
                                    "Kanton": "FR"
                                },
                                {
                                    "Ortname": "Gumefens",
                                    "Kanton": "FR"
                                },
                                {
                                    "Ortname": "Avry-devant-Pont",
                                    "Kanton": "FR"
                                },
                                {
                                    "Ortname": "Le Bry",
                                    "Kanton": "FR"
                                },
                                {
                                    "Ortname": "Echarlens",
                                    "Kanton": "FR"
                                },
                                {
                                    "Ortname": "Corbières",
                                    "Kanton": "FR"
                                },
                                {
                                    "Ortname": "Hauteville",
                                    "Kanton": "FR"
                                },
                                {
                                    "Ortname": "Im Fang",
                                    "Kanton": "FR"
                                },
                                {
                                    "Ortname": "Jaun",
                                    "Kanton": "FR"
                                },
                                {
                                    "Ortname": "Abländschen",
                                    "Kanton": "BE"
                                },
                                {
                                    "Ortname": "Cerniat FR",
                                    "Kanton": "FR"
                                },
                                {
                                    "Ortname": "Villarvolard",
                                    "Kanton": "FR"
                                },
                                {
                                    "Ortname": "Botterens",
                                    "Kanton": "FR"
                                },
                                {
                                    "Ortname": "Morlon",
                                    "Kanton": "FR"
                                },
                                {
                                    "Ortname": "Moléson-sur-Gruyères",
                                    "Kanton": "FR"
                                },
                                {
                                    "Ortname": "Riaz",
                                    "Kanton": "FR"
                                },
                                {
                                    "Ortname": "Marsens",
                                    "Kanton": "FR"
                                },
                                {
                                    "Ortname": "La Roche FR",
                                    "Kanton": "FR"
                                },
                                {
                                    "Ortname": "Pont-la-Ville",
                                    "Kanton": "FR"
                                },
                                {
                                    "Ortname": "La Tour-de-Trême",
                                    "Kanton": "FR"
                                },
                                {
                                    "Ortname": "Broc",
                                    "Kanton": "FR"
                                },
                                {
                                    "Ortname": "Charmey (Gruyère)",
                                    "Kanton": "FR"
                                },
                                {
                                    "Ortname": "Le Pâquier-Montbarry",
                                    "Kanton": "FR"
                                },
                                {
                                    "Ortname": "Pringy",
                                    "Kanton": "FR"
                                },
                                {
                                    "Ortname": "Estavannens",
                                    "Kanton": "FR"
                                },
                                {
                                    "Ortname": "Enney",
                                    "Kanton": "FR"
                                },
                                {
                                    "Ortname": "Neirivue",
                                    "Kanton": "FR"
                                },
                                {
                                    "Ortname": "Albeuve",
                                    "Kanton": "FR"
                                },
                                {
                                    "Ortname": "Gruyères",
                                    "Kanton": "FR"
                                },
                                {
                                    "Ortname": "Epagny",
                                    "Kanton": "FR"
                                },
                                {
                                    "Ortname": "Grandvillard",
                                    "Kanton": "FR"
                                },
                                {
                                    "Ortname": "Vauderens",
                                    "Kanton": "FR"
                                },
                                {
                                    "Ortname": "Ursy",
                                    "Kanton": "FR"
                                },
                                {
                                    "Ortname": "Vuarmarens",
                                    "Kanton": "FR"
                                },
                                {
                                    "Ortname": "Rue",
                                    "Kanton": "FR"
                                },
                                {
                                    "Ortname": "Promasens",
                                    "Kanton": "FR"
                                },
                                {
                                    "Ortname": "Siviriez",
                                    "Kanton": "FR"
                                },
                                {
                                    "Ortname": "Villaraboud",
                                    "Kanton": "FR"
                                },
                                {
                                    "Ortname": "Chavannes-les-Forts",
                                    "Kanton": "FR"
                                },
                                {
                                    "Ortname": "Prez-vers-Siviriez",
                                    "Kanton": "FR"
                                },
                                {
                                    "Ortname": "Romont FR",
                                    "Kanton": "FR"
                                },
                                {
                                    "Ortname": "Billens",
                                    "Kanton": "FR"
                                },
                                {
                                    "Ortname": "Orsonnens",
                                    "Kanton": "FR"
                                },
                                {
                                    "Ortname": "Villarsiviriaux",
                                    "Kanton": "FR"
                                },
                                {
                                    "Ortname": "Villarlod",
                                    "Kanton": "FR"
                                },
                                {
                                    "Ortname": "Vuisternens-en-Ogoz",
                                    "Kanton": "FR"
                                },
                                {
                                    "Ortname": "Mézières FR",
                                    "Kanton": "FR"
                                },
                                {
                                    "Ortname": "Villariaz",
                                    "Kanton": "FR"
                                },
                                {
                                    "Ortname": "Estévenens",
                                    "Kanton": "FR"
                                },
                                {
                                    "Ortname": "Grangettes-près-Romont",
                                    "Kanton": "FR"
                                },
                                {
                                    "Ortname": "Le Châtelard-près-Romont",
                                    "Kanton": "FR"
                                },
                                {
                                    "Ortname": "Sommentier",
                                    "Kanton": "FR"
                                },
                                {
                                    "Ortname": "Romanens",
                                    "Kanton": "FR"
                                },
                                {
                                    "Ortname": "Massonnens",
                                    "Kanton": "FR"
                                },
                                {
                                    "Ortname": "Vuisternens-devant-Romont",
                                    "Kanton": "FR"
                                },
                                {
                                    "Ortname": "Sâles (Gruyère)",
                                    "Kanton": "FR"
                                },
                                {
                                    "Ortname": "St-Martin FR",
                                    "Kanton": "FR"
                                },
                                {
                                    "Ortname": "Le Crêt-près-Semsales",
                                    "Kanton": "FR"
                                },
                                {
                                    "Ortname": "La Joux FR",
                                    "Kanton": "FR"
                                },
                                {
                                    "Ortname": "Bouloz",
                                    "Kanton": "FR"
                                },
                                {
                                    "Ortname": "Porsel",
                                    "Kanton": "FR"
                                },
                                {
                                    "Ortname": "Pont (Veveyse)",
                                    "Kanton": "FR"
                                },
                                {
                                    "Ortname": "Fribourg",
                                    "Kanton": "FR"
                                },
                                {
                                    "Ortname": "Granges-Paccot",
                                    "Kanton": "FR"
                                },
                                {
                                    "Ortname": "Corminboeuf",
                                    "Kanton": "FR"
                                },
                                {
                                    "Ortname": "Giffers",
                                    "Kanton": "FR"
                                },
                                {
                                    "Ortname": "St. Silvester",
                                    "Kanton": "FR"
                                },
                                {
                                    "Ortname": "Plasselb",
                                    "Kanton": "FR"
                                },
                                {
                                    "Ortname": "Sangernboden",
                                    "Kanton": "BE"
                                },
                                {
                                    "Ortname": "Schwarzsee",
                                    "Kanton": "FR"
                                },
                                {
                                    "Ortname": "Bonnefontaine",
                                    "Kanton": "FR"
                                },
                                {
                                    "Ortname": "Corpataux-Magnedens",
                                    "Kanton": "FR"
                                },
                                {
                                    "Ortname": "Rossens FR",
                                    "Kanton": "FR"
                                },
                                {
                                    "Ortname": "Brünisried",
                                    "Kanton": "FR"
                                },
                                {
                                    "Ortname": "Ependes FR",
                                    "Kanton": "FR"
                                },
                                {
                                    "Ortname": "Arconciel",
                                    "Kanton": "FR"
                                },
                                {
                                    "Ortname": "Treyvaux",
                                    "Kanton": "FR"
                                },
                                {
                                    "Ortname": "Chésopelloz",
                                    "Kanton": "FR"
                                },
                                {
                                    "Ortname": "Tafers",
                                    "Kanton": "FR"
                                },
                                {
                                    "Ortname": "St. Antoni",
                                    "Kanton": "FR"
                                },
                                {
                                    "Ortname": "Heitenried",
                                    "Kanton": "FR"
                                },
                                {
                                    "Ortname": "Alterswil FR",
                                    "Kanton": "FR"
                                },
                                {
                                    "Ortname": "Plaffeien",
                                    "Kanton": "FR"
                                },
                                {
                                    "Ortname": "St. Ursen",
                                    "Kanton": "FR"
                                },
                                {
                                    "Ortname": "Rechthalten",
                                    "Kanton": "FR"
                                },
                                {
                                    "Ortname": "Bourguillon",
                                    "Kanton": "FR"
                                },
                                {
                                    "Ortname": "Marly",
                                    "Kanton": "FR"
                                },
                                {
                                    "Ortname": "Le Mouret",
                                    "Kanton": "FR"
                                },
                                {
                                    "Ortname": "Posieux",
                                    "Kanton": "FR"
                                },
                                {
                                    "Ortname": "Farvagny",
                                    "Kanton": "FR"
                                },
                                {
                                    "Ortname": "Prez-vers-Noréaz",
                                    "Kanton": "FR"
                                },
                                {
                                    "Ortname": "Corserey",
                                    "Kanton": "FR"
                                },
                                {
                                    "Ortname": "Torny-le-Grand",
                                    "Kanton": "FR"
                                },
                                {
                                    "Ortname": "Middes",
                                    "Kanton": "FR"
                                },
                                {
                                    "Ortname": "Neyruz FR",
                                    "Kanton": "FR"
                                },
                                {
                                    "Ortname": "Cottens FR",
                                    "Kanton": "FR"
                                },
                                {
                                    "Ortname": "Chénens",
                                    "Kanton": "FR"
                                },
                                {
                                    "Ortname": "Lentigny",
                                    "Kanton": "FR"
                                },
                                {
                                    "Ortname": "Autigny",
                                    "Kanton": "FR"
                                },
                                {
                                    "Ortname": "Estavayer-le-Gibloux",
                                    "Kanton": "FR"
                                },
                                {
                                    "Ortname": "Villarimboud",
                                    "Kanton": "FR"
                                },
                                {
                                    "Ortname": "Villars-sur-Glâne",
                                    "Kanton": "FR"
                                },
                                {
                                    "Ortname": "Matran",
                                    "Kanton": "FR"
                                },
                                {
                                    "Ortname": "Rosé",
                                    "Kanton": "FR"
                                },
                                {
                                    "Ortname": "Onnens FR",
                                    "Kanton": "FR"
                                },
                                {
                                    "Ortname": "Noréaz",
                                    "Kanton": "FR"
                                },
                                {
                                    "Ortname": "Villaz-St-Pierre",
                                    "Kanton": "FR"
                                },
                                {
                                    "Ortname": "Givisiez",
                                    "Kanton": "FR"
                                },
                                {
                                    "Ortname": "Grolley",
                                    "Kanton": "FR"
                                },
                                {
                                    "Ortname": "Léchelles",
                                    "Kanton": "FR"
                                },
                                {
                                    "Ortname": "Cousset",
                                    "Kanton": "FR"
                                },
                                {
                                    "Ortname": "Montagny-la-Ville",
                                    "Kanton": "FR"
                                },
                                {
                                    "Ortname": "Courlevon",
                                    "Kanton": "FR"
                                },
                                {
                                    "Ortname": "Courgevaux",
                                    "Kanton": "FR"
                                },
                                {
                                    "Ortname": "Münchenwiler",
                                    "Kanton": "BE"
                                },
                                {
                                    "Ortname": "Salvenach",
                                    "Kanton": "FR"
                                },
                                {
                                    "Ortname": "Jeuss",
                                    "Kanton": "FR"
                                },
                                {
                                    "Ortname": "Cordast",
                                    "Kanton": "FR"
                                },
                                {
                                    "Ortname": "Courtaman",
                                    "Kanton": "FR"
                                },
                                {
                                    "Ortname": "Praz (Vully)",
                                    "Kanton": "FR"
                                },
                                {
                                    "Ortname": "Lugnorre",
                                    "Kanton": "FR"
                                },
                                {
                                    "Ortname": "Belfaux",
                                    "Kanton": "FR"
                                },
                                {
                                    "Ortname": "Pensier",
                                    "Kanton": "FR"
                                },
                                {
                                    "Ortname": "Courtepin",
                                    "Kanton": "FR"
                                },
                                {
                                    "Ortname": "Cressier FR",
                                    "Kanton": "FR"
                                },
                                {
                                    "Ortname": "Sugiez",
                                    "Kanton": "FR"
                                },
                                {
                                    "Ortname": "Môtier (Vully)",
                                    "Kanton": "FR"
                                },
                                {
                                    "Ortname": "Les Sciernes-d'Albeuve",
                                    "Kanton": "FR"
                                },
                                {
                                    "Ortname": "Montbovon",
                                    "Kanton": "FR"
                                },
                                {
                                    "Ortname": "Neuchâtel",
                                    "Kanton": "NE"
                                },
                                {
                                    "Ortname": "Auvernier",
                                    "Kanton": "NE"
                                },
                                {
                                    "Ortname": "Colombier NE",
                                    "Kanton": "NE"
                                },
                                {
                                    "Ortname": "Bôle",
                                    "Kanton": "NE"
                                },
                                {
                                    "Ortname": "Areuse",
                                    "Kanton": "NE"
                                },
                                {
                                    "Ortname": "Cortaillod",
                                    "Kanton": "NE"
                                },
                                {
                                    "Ortname": "Boudry",
                                    "Kanton": "NE"
                                },
                                {
                                    "Ortname": "Bevaix",
                                    "Kanton": "NE"
                                },
                                {
                                    "Ortname": "Gorgier",
                                    "Kanton": "NE"
                                },
                                {
                                    "Ortname": "St-Aubin-Sauges",
                                    "Kanton": "NE"
                                },
                                {
                                    "Ortname": "Chez-le-Bart",
                                    "Kanton": "NE"
                                },
                                {
                                    "Ortname": "Vaumarcus",
                                    "Kanton": "NE"
                                },
                                {
                                    "Ortname": "Peseux",
                                    "Kanton": "NE"
                                },
                                {
                                    "Ortname": "Corcelles NE",
                                    "Kanton": "NE"
                                },
                                {
                                    "Ortname": "Cormondrèche",
                                    "Kanton": "NE"
                                },
                                {
                                    "Ortname": "Valangin",
                                    "Kanton": "NE"
                                },
                                {
                                    "Ortname": "Boudevilliers",
                                    "Kanton": "NE"
                                },
                                {
                                    "Ortname": "Fontaines NE",
                                    "Kanton": "NE"
                                },
                                {
                                    "Ortname": "Fontainemelon",
                                    "Kanton": "NE"
                                },
                                {
                                    "Ortname": "Cernier",
                                    "Kanton": "NE"
                                },
                                {
                                    "Ortname": "Chézard-St-Martin",
                                    "Kanton": "NE"
                                },
                                {
                                    "Ortname": "Les Vieux-Prés",
                                    "Kanton": "NE"
                                },
                                {
                                    "Ortname": "Dombresson",
                                    "Kanton": "NE"
                                },
                                {
                                    "Ortname": "Villiers",
                                    "Kanton": "NE"
                                },
                                {
                                    "Ortname": "Le Pâquier NE",
                                    "Kanton": "NE"
                                },
                                {
                                    "Ortname": "Vilars NE",
                                    "Kanton": "NE"
                                },
                                {
                                    "Ortname": "Savagnier",
                                    "Kanton": "NE"
                                },
                                {
                                    "Ortname": "Chaumont",
                                    "Kanton": "NE"
                                },
                                {
                                    "Ortname": "Hauterive NE",
                                    "Kanton": "NE"
                                },
                                {
                                    "Ortname": "St-Blaise",
                                    "Kanton": "NE"
                                },
                                {
                                    "Ortname": "Enges",
                                    "Kanton": "NE"
                                },
                                {
                                    "Ortname": "Marin-Epagnier",
                                    "Kanton": "NE"
                                },
                                {
                                    "Ortname": "Gals",
                                    "Kanton": "BE"
                                },
                                {
                                    "Ortname": "Cornaux NE",
                                    "Kanton": "NE"
                                },
                                {
                                    "Ortname": "Cressier NE",
                                    "Kanton": "NE"
                                },
                                {
                                    "Ortname": "Brot-Plamboz",
                                    "Kanton": "NE"
                                },
                                {
                                    "Ortname": "Noiraigue",
                                    "Kanton": "NE"
                                },
                                {
                                    "Ortname": "Travers",
                                    "Kanton": "NE"
                                },
                                {
                                    "Ortname": "Couvet",
                                    "Kanton": "NE"
                                },
                                {
                                    "Ortname": "Môtiers NE",
                                    "Kanton": "NE"
                                },
                                {
                                    "Ortname": "Boveresse",
                                    "Kanton": "NE"
                                },
                                {
                                    "Ortname": "Fleurier",
                                    "Kanton": "NE"
                                },
                                {
                                    "Ortname": "Buttes",
                                    "Kanton": "NE"
                                },
                                {
                                    "Ortname": "La Côte-aux-Fées",
                                    "Kanton": "NE"
                                },
                                {
                                    "Ortname": "St-Sulpice NE",
                                    "Kanton": "NE"
                                },
                                {
                                    "Ortname": "La Brévine",
                                    "Kanton": "NE"
                                },
                                {
                                    "Ortname": "Les Verrières",
                                    "Kanton": "NE"
                                },
                                {
                                    "Ortname": "Le Brouillet",
                                    "Kanton": "NE"
                                },
                                {
                                    "Ortname": "Les Taillères",
                                    "Kanton": "NE"
                                },
                                {
                                    "Ortname": "Les Bayards",
                                    "Kanton": "NE"
                                },
                                {
                                    "Ortname": "Champ-du-Moulin",
                                    "Kanton": "NE"
                                },
                                {
                                    "Ortname": "Les Sagnettes",
                                    "Kanton": "NE"
                                },
                                {
                                    "Ortname": "Mont-de-Buttes",
                                    "Kanton": "NE"
                                },
                                {
                                    "Ortname": "Chambrelien",
                                    "Kanton": "NE"
                                },
                                {
                                    "Ortname": "Rochefort",
                                    "Kanton": "NE"
                                },
                                {
                                    "Ortname": "Montmollin",
                                    "Kanton": "NE"
                                },
                                {
                                    "Ortname": "Les Geneveys-sur-Coffrane",
                                    "Kanton": "NE"
                                },
                                {
                                    "Ortname": "Coffrane",
                                    "Kanton": "NE"
                                },
                                {
                                    "Ortname": "Les Hauts-Geneveys",
                                    "Kanton": "NE"
                                },
                                {
                                    "Ortname": "La Chaux-de-Fonds",
                                    "Kanton": "NE"
                                },
                                {
                                    "Ortname": "Petit-Martel",
                                    "Kanton": "NE"
                                },
                                {
                                    "Ortname": "Les Emibois",
                                    "Kanton": "JU"
                                },
                                {
                                    "Ortname": "La Sagne NE",
                                    "Kanton": "NE"
                                },
                                {
                                    "Ortname": "Les Ponts-de-Martel",
                                    "Kanton": "NE"
                                },
                                {
                                    "Ortname": "Le Crêt-du-Locle",
                                    "Kanton": "NE"
                                },
                                {
                                    "Ortname": "Les Planchettes",
                                    "Kanton": "NE"
                                },
                                {
                                    "Ortname": "La Cibourg",
                                    "Kanton": "NE"
                                },
                                {
                                    "Ortname": "La Ferrière",
                                    "Kanton": "BE"
                                },
                                {
                                    "Ortname": "Les Bois",
                                    "Kanton": "JU"
                                },
                                {
                                    "Ortname": "Le Locle",
                                    "Kanton": "NE"
                                },
                                {
                                    "Ortname": "La Châtagne",
                                    "Kanton": "NE"
                                },
                                {
                                    "Ortname": "La Chaux-du-Milieu",
                                    "Kanton": "NE"
                                },
                                {
                                    "Ortname": "Le Prévoux",
                                    "Kanton": "NE"
                                },
                                {
                                    "Ortname": "Le Cerneux-Péquignot",
                                    "Kanton": "NE"
                                },
                                {
                                    "Ortname": "Les Brenets",
                                    "Kanton": "NE"
                                },
                                {
                                    "Ortname": "Biel/Bienne",
                                    "Kanton": "BE"
                                },
                                {
                                    "Ortname": "Biel/Bienne",
                                    "Kanton": "BE"
                                },
                                {
                                    "Ortname": "Biel/Bienne",
                                    "Kanton": "BE"
                                },
                                {
                                    "Ortname": "Biel/Bienne",
                                    "Kanton": "BE"
                                },
                                {
                                    "Ortname": "Biel/Bienne",
                                    "Kanton": "BE"
                                },
                                {
                                    "Ortname": "Tüscherz-Alfermée",
                                    "Kanton": "BE"
                                },
                                {
                                    "Ortname": "Twann",
                                    "Kanton": "BE"
                                },
                                {
                                    "Ortname": "Ligerz",
                                    "Kanton": "BE"
                                },
                                {
                                    "Ortname": "Prêles",
                                    "Kanton": "BE"
                                },
                                {
                                    "Ortname": "Lamboing",
                                    "Kanton": "BE"
                                },
                                {
                                    "Ortname": "Diesse",
                                    "Kanton": "BE"
                                },
                                {
                                    "Ortname": "Nods",
                                    "Kanton": "BE"
                                },
                                {
                                    "Ortname": "La Neuveville",
                                    "Kanton": "BE"
                                },
                                {
                                    "Ortname": "Lignières",
                                    "Kanton": "NE"
                                },
                                {
                                    "Ortname": "Le Landeron",
                                    "Kanton": "NE"
                                },
                                {
                                    "Ortname": "Magglingen/Macolin",
                                    "Kanton": "BE"
                                },
                                {
                                    "Ortname": "Evilard",
                                    "Kanton": "BE"
                                },
                                {
                                    "Ortname": "Orvin",
                                    "Kanton": "BE"
                                },
                                {
                                    "Ortname": "Les Prés-d'Orvin",
                                    "Kanton": "BE"
                                },
                                {
                                    "Ortname": "Frinvillier",
                                    "Kanton": "BE"
                                },
                                {
                                    "Ortname": "Plagne",
                                    "Kanton": "BE"
                                },
                                {
                                    "Ortname": "Vauffelin",
                                    "Kanton": "BE"
                                },
                                {
                                    "Ortname": "Romont BE",
                                    "Kanton": "BE"
                                },
                                {
                                    "Ortname": "Grenchen",
                                    "Kanton": "SO"
                                },
                                {
                                    "Ortname": "Pieterlen",
                                    "Kanton": "BE"
                                },
                                {
                                    "Ortname": "Lengnau BE",
                                    "Kanton": "BE"
                                },
                                {
                                    "Ortname": "Bettlach",
                                    "Kanton": "SO"
                                },
                                {
                                    "Ortname": "Selzach",
                                    "Kanton": "SO"
                                },
                                {
                                    "Ortname": "Orpund",
                                    "Kanton": "BE"
                                },
                                {
                                    "Ortname": "Safnern",
                                    "Kanton": "BE"
                                },
                                {
                                    "Ortname": "Meinisberg",
                                    "Kanton": "BE"
                                },
                                {
                                    "Ortname": "Brügg BE",
                                    "Kanton": "BE"
                                },
                                {
                                    "Ortname": "Scheuren",
                                    "Kanton": "BE"
                                },
                                {
                                    "Ortname": "Studen BE",
                                    "Kanton": "BE"
                                },
                                {
                                    "Ortname": "Aegerten",
                                    "Kanton": "BE"
                                },
                                {
                                    "Ortname": "Nidau",
                                    "Kanton": "BE"
                                },
                                {
                                    "Ortname": "Port",
                                    "Kanton": "BE"
                                },
                                {
                                    "Ortname": "Ipsach",
                                    "Kanton": "BE"
                                },
                                {
                                    "Ortname": "Bellmund",
                                    "Kanton": "BE"
                                },
                                {
                                    "Ortname": "Jens",
                                    "Kanton": "BE"
                                },
                                {
                                    "Ortname": "Sutz",
                                    "Kanton": "BE"
                                },
                                {
                                    "Ortname": "Täuffelen",
                                    "Kanton": "BE"
                                },
                                {
                                    "Ortname": "Lüscherz",
                                    "Kanton": "BE"
                                },
                                {
                                    "Ortname": "Siselen BE",
                                    "Kanton": "BE"
                                },
                                {
                                    "Ortname": "Brüttelen",
                                    "Kanton": "BE"
                                },
                                {
                                    "Ortname": "Péry",
                                    "Kanton": "BE"
                                },
                                {
                                    "Ortname": "La Heutte",
                                    "Kanton": "BE"
                                },
                                {
                                    "Ortname": "Sonceboz-Sombeval",
                                    "Kanton": "BE"
                                },
                                {
                                    "Ortname": "Corgémont",
                                    "Kanton": "BE"
                                },
                                {
                                    "Ortname": "Cortébert",
                                    "Kanton": "BE"
                                },
                                {
                                    "Ortname": "Courtelary",
                                    "Kanton": "BE"
                                },
                                {
                                    "Ortname": "Montagne-de-Courtelary",
                                    "Kanton": "BE"
                                },
                                {
                                    "Ortname": "St-Imier",
                                    "Kanton": "BE"
                                },
                                {
                                    "Ortname": "Mont-Soleil",
                                    "Kanton": "BE"
                                },
                                {
                                    "Ortname": "Mont-Crosin",
                                    "Kanton": "BE"
                                },
                                {
                                    "Ortname": "Cormoret",
                                    "Kanton": "BE"
                                },
                                {
                                    "Ortname": "Villeret",
                                    "Kanton": "BE"
                                },
                                {
                                    "Ortname": "Sonvilier",
                                    "Kanton": "BE"
                                },
                                {
                                    "Ortname": "Montagne-de-Sonvilier",
                                    "Kanton": "BE"
                                },
                                {
                                    "Ortname": "Renan BE",
                                    "Kanton": "BE"
                                },
                                {
                                    "Ortname": "Tavannes",
                                    "Kanton": "BE"
                                },
                                {
                                    "Ortname": "Le Fuet",
                                    "Kanton": "BE"
                                },
                                {
                                    "Ortname": "Le Prédame",
                                    "Kanton": "JU"
                                },
                                {
                                    "Ortname": "Fornet-Dessous",
                                    "Kanton": "BE"
                                },
                                {
                                    "Ortname": "Fornet-Dessus",
                                    "Kanton": "JU"
                                },
                                {
                                    "Ortname": "Sornetan",
                                    "Kanton": "BE"
                                },
                                {
                                    "Ortname": "Bellelay",
                                    "Kanton": "BE"
                                },
                                {
                                    "Ortname": "Les Genevez JU",
                                    "Kanton": "JU"
                                },
                                {
                                    "Ortname": "Lajoux JU",
                                    "Kanton": "JU"
                                },
                                {
                                    "Ortname": "Tramelan",
                                    "Kanton": "BE"
                                },
                                {
                                    "Ortname": "La Tanne",
                                    "Kanton": "BE"
                                },
                                {
                                    "Ortname": "Les Reussilles",
                                    "Kanton": "BE"
                                },
                                {
                                    "Ortname": "Mont-Tramelan",
                                    "Kanton": "BE"
                                },
                                {
                                    "Ortname": "Les Breuleux",
                                    "Kanton": "JU"
                                },
                                {
                                    "Ortname": "Le Cerneux-Veusil",
                                    "Kanton": "JU"
                                },
                                {
                                    "Ortname": "La Chaux-des-Breuleux",
                                    "Kanton": "JU"
                                },
                                {
                                    "Ortname": "Le Noirmont",
                                    "Kanton": "JU"
                                },
                                {
                                    "Ortname": "Saignelégier",
                                    "Kanton": "JU"
                                },
                                {
                                    "Ortname": "Les Pommerats",
                                    "Kanton": "JU"
                                },
                                {
                                    "Ortname": "Goumois",
                                    "Kanton": "JU"
                                },
                                {
                                    "Ortname": "Reconvilier",
                                    "Kanton": "BE"
                                },
                                {
                                    "Ortname": "Saicourt",
                                    "Kanton": "BE"
                                },
                                {
                                    "Ortname": "Saules BE",
                                    "Kanton": "BE"
                                },
                                {
                                    "Ortname": "Loveresse",
                                    "Kanton": "BE"
                                },
                                {
                                    "Ortname": "Pontenet",
                                    "Kanton": "BE"
                                },
                                {
                                    "Ortname": "Bévilard",
                                    "Kanton": "BE"
                                },
                                {
                                    "Ortname": "Sorvilier",
                                    "Kanton": "BE"
                                },
                                {
                                    "Ortname": "Court",
                                    "Kanton": "BE"
                                },
                                {
                                    "Ortname": "Moutier",
                                    "Kanton": "BE"
                                },
                                {
                                    "Ortname": "Perrefitte",
                                    "Kanton": "BE"
                                },
                                {
                                    "Ortname": "Souboz",
                                    "Kanton": "BE"
                                },
                                {
                                    "Ortname": "Eschert",
                                    "Kanton": "BE"
                                },
                                {
                                    "Ortname": "Belprahon",
                                    "Kanton": "BE"
                                },
                                {
                                    "Ortname": "Seehof",
                                    "Kanton": "BE"
                                },
                                {
                                    "Ortname": "Grandval",
                                    "Kanton": "BE"
                                },
                                {
                                    "Ortname": "Crémines",
                                    "Kanton": "BE"
                                },
                                {
                                    "Ortname": "Corcelles BE",
                                    "Kanton": "BE"
                                },
                                {
                                    "Ortname": "Roches BE",
                                    "Kanton": "BE"
                                },
                                {
                                    "Ortname": "Rebeuvelier",
                                    "Kanton": "JU"
                                },
                                {
                                    "Ortname": "Courrendlin",
                                    "Kanton": "JU"
                                },
                                {
                                    "Ortname": "Delémont",
                                    "Kanton": "JU"
                                },
                                {
                                    "Ortname": "Develier",
                                    "Kanton": "JU"
                                },
                                {
                                    "Ortname": "Bourrignon",
                                    "Kanton": "JU"
                                },
                                {
                                    "Ortname": "Soyhières",
                                    "Kanton": "JU"
                                },
                                {
                                    "Ortname": "Mettembert",
                                    "Kanton": "JU"
                                },
                                {
                                    "Ortname": "Pleigne",
                                    "Kanton": "JU"
                                },
                                {
                                    "Ortname": "Lucelle",
                                    "Kanton": "JU"
                                },
                                {
                                    "Ortname": "Movelier",
                                    "Kanton": "JU"
                                },
                                {
                                    "Ortname": "Ederswiler",
                                    "Kanton": "JU"
                                },
                                {
                                    "Ortname": "Roggenburg",
                                    "Kanton": "BL"
                                },
                                {
                                    "Ortname": "Courroux",
                                    "Kanton": "JU"
                                },
                                {
                                    "Ortname": "Courcelon",
                                    "Kanton": "JU"
                                },
                                {
                                    "Ortname": "Vicques",
                                    "Kanton": "JU"
                                },
                                {
                                    "Ortname": "Courchapoix",
                                    "Kanton": "JU"
                                },
                                {
                                    "Ortname": "Corban",
                                    "Kanton": "JU"
                                },
                                {
                                    "Ortname": "Mervelier",
                                    "Kanton": "JU"
                                },
                                {
                                    "Ortname": "Montsevelier",
                                    "Kanton": "JU"
                                },
                                {
                                    "Ortname": "Vermes",
                                    "Kanton": "JU"
                                },
                                {
                                    "Ortname": "Rossemaison",
                                    "Kanton": "JU"
                                },
                                {
                                    "Ortname": "Châtillon JU",
                                    "Kanton": "JU"
                                },
                                {
                                    "Ortname": "Courtételle",
                                    "Kanton": "JU"
                                },
                                {
                                    "Ortname": "Courfaivre",
                                    "Kanton": "JU"
                                },
                                {
                                    "Ortname": "Bassecourt",
                                    "Kanton": "JU"
                                },
                                {
                                    "Ortname": "Glovelier",
                                    "Kanton": "JU"
                                },
                                {
                                    "Ortname": "Boécourt",
                                    "Kanton": "JU"
                                },
                                {
                                    "Ortname": "Montavon",
                                    "Kanton": "JU"
                                },
                                {
                                    "Ortname": "Undervelier",
                                    "Kanton": "JU"
                                },
                                {
                                    "Ortname": "Soulce",
                                    "Kanton": "JU"
                                },
                                {
                                    "Ortname": "Saulcy",
                                    "Kanton": "JU"
                                },
                                {
                                    "Ortname": "St-Ursanne",
                                    "Kanton": "JU"
                                },
                                {
                                    "Ortname": "Montmelon",
                                    "Kanton": "JU"
                                },
                                {
                                    "Ortname": "Montenol",
                                    "Kanton": "JU"
                                },
                                {
                                    "Ortname": "Epauvillers",
                                    "Kanton": "JU"
                                },
                                {
                                    "Ortname": "Epiquerez",
                                    "Kanton": "JU"
                                },
                                {
                                    "Ortname": "Soubey",
                                    "Kanton": "JU"
                                },
                                {
                                    "Ortname": "Seleute",
                                    "Kanton": "JU"
                                },
                                {
                                    "Ortname": "Ocourt",
                                    "Kanton": "JU"
                                },
                                {
                                    "Ortname": "Courgenay",
                                    "Kanton": "JU"
                                },
                                {
                                    "Ortname": "Porrentruy",
                                    "Kanton": "JU"
                                },
                                {
                                    "Ortname": "Fontenais",
                                    "Kanton": "JU"
                                },
                                {
                                    "Ortname": "Villars-sur-Fontenais",
                                    "Kanton": "JU"
                                },
                                {
                                    "Ortname": "Bressaucourt",
                                    "Kanton": "JU"
                                },
                                {
                                    "Ortname": "Courtedoux",
                                    "Kanton": "JU"
                                },
                                {
                                    "Ortname": "Chevenez",
                                    "Kanton": "JU"
                                },
                                {
                                    "Ortname": "Rocourt",
                                    "Kanton": "JU"
                                },
                                {
                                    "Ortname": "Grandfontaine",
                                    "Kanton": "JU"
                                },
                                {
                                    "Ortname": "Roche-d'Or",
                                    "Kanton": "JU"
                                },
                                {
                                    "Ortname": "Damvant",
                                    "Kanton": "JU"
                                },
                                {
                                    "Ortname": "Bure",
                                    "Kanton": "JU"
                                },
                                {
                                    "Ortname": "Fahy",
                                    "Kanton": "JU"
                                },
                                {
                                    "Ortname": "Courchavon",
                                    "Kanton": "JU"
                                },
                                {
                                    "Ortname": "Courtemaîche",
                                    "Kanton": "JU"
                                },
                                {
                                    "Ortname": "Montignez",
                                    "Kanton": "JU"
                                },
                                {
                                    "Ortname": "Buix",
                                    "Kanton": "JU"
                                },
                                {
                                    "Ortname": "Boncourt",
                                    "Kanton": "JU"
                                },
                                {
                                    "Ortname": "Coeuve",
                                    "Kanton": "JU"
                                },
                                {
                                    "Ortname": "Beurnevésin",
                                    "Kanton": "JU"
                                },
                                {
                                    "Ortname": "Alle",
                                    "Kanton": "JU"
                                },
                                {
                                    "Ortname": "Vendlincourt",
                                    "Kanton": "JU"
                                },
                                {
                                    "Ortname": "Bonfol",
                                    "Kanton": "JU"
                                },
                                {
                                    "Ortname": "Miécourt",
                                    "Kanton": "JU"
                                },
                                {
                                    "Ortname": "Charmoille",
                                    "Kanton": "JU"
                                },
                                {
                                    "Ortname": "Cornol",
                                    "Kanton": "JU"
                                },
                                {
                                    "Ortname": "Asuel",
                                    "Kanton": "JU"
                                },
                                {
                                    "Ortname": "Bern",
                                    "Kanton": "BE"
                                },
                                {
                                    "Ortname": "Bern",
                                    "Kanton": "BE"
                                },
                                {
                                    "Ortname": "Bern",
                                    "Kanton": "BE"
                                },
                                {
                                    "Ortname": "Bern",
                                    "Kanton": "BE"
                                },
                                {
                                    "Ortname": "Bern",
                                    "Kanton": "BE"
                                },
                                {
                                    "Ortname": "Bern",
                                    "Kanton": "BE"
                                },
                                {
                                    "Ortname": "Bern",
                                    "Kanton": "BE"
                                },
                                {
                                    "Ortname": "Bern",
                                    "Kanton": "BE"
                                },
                                {
                                    "Ortname": "Bern",
                                    "Kanton": "BE"
                                },
                                {
                                    "Ortname": "Bern",
                                    "Kanton": "BE"
                                },
                                {
                                    "Ortname": "Bern",
                                    "Kanton": "BE"
                                },
                                {
                                    "Ortname": "Bern",
                                    "Kanton": "BE"
                                },
                                {
                                    "Ortname": "Bern",
                                    "Kanton": "BE"
                                },
                                {
                                    "Ortname": "Bern",
                                    "Kanton": "BE"
                                },
                                {
                                    "Ortname": "Bern",
                                    "Kanton": "BE"
                                },
                                {
                                    "Ortname": "Bern",
                                    "Kanton": "BE"
                                },
                                {
                                    "Ortname": "Spiegel b. Bern",
                                    "Kanton": "BE"
                                },
                                {
                                    "Ortname": "Hinterkappelen",
                                    "Kanton": "BE"
                                },
                                {
                                    "Ortname": "Wohlen b. Bern",
                                    "Kanton": "BE"
                                },
                                {
                                    "Ortname": "Murzelen",
                                    "Kanton": "BE"
                                },
                                {
                                    "Ortname": "Frieswil",
                                    "Kanton": "BE"
                                },
                                {
                                    "Ortname": "Detligen",
                                    "Kanton": "BE"
                                },
                                {
                                    "Ortname": "Herrenschwanden",
                                    "Kanton": "BE"
                                },
                                {
                                    "Ortname": "Kirchlindach",
                                    "Kanton": "BE"
                                },
                                {
                                    "Ortname": "Ortschwaben",
                                    "Kanton": "BE"
                                },
                                {
                                    "Ortname": "Uettligen",
                                    "Kanton": "BE"
                                },
                                {
                                    "Ortname": "Säriswil",
                                    "Kanton": "BE"
                                },
                                {
                                    "Ortname": "Meikirch",
                                    "Kanton": "BE"
                                },
                                {
                                    "Ortname": "Wahlendorf",
                                    "Kanton": "BE"
                                },
                                {
                                    "Ortname": "Bremgarten b. Bern",
                                    "Kanton": "BE"
                                },
                                {
                                    "Ortname": "Worblaufen",
                                    "Kanton": "BE"
                                },
                                {
                                    "Ortname": "Zollikofen",
                                    "Kanton": "BE"
                                },
                                {
                                    "Ortname": "Münchenbuchsee",
                                    "Kanton": "BE"
                                },
                                {
                                    "Ortname": "Schüpfen",
                                    "Kanton": "BE"
                                },
                                {
                                    "Ortname": "Ittigen",
                                    "Kanton": "BE"
                                },
                                {
                                    "Ortname": "Bolligen",
                                    "Kanton": "BE"
                                },
                                {
                                    "Ortname": "Stettlen",
                                    "Kanton": "BE"
                                },
                                {
                                    "Ortname": "Boll",
                                    "Kanton": "BE"
                                },
                                {
                                    "Ortname": "Utzigen",
                                    "Kanton": "BE"
                                },
                                {
                                    "Ortname": "Ostermundigen",
                                    "Kanton": "BE"
                                },
                                {
                                    "Ortname": "Gümligen",
                                    "Kanton": "BE"
                                },
                                {
                                    "Ortname": "Muri b. Bern",
                                    "Kanton": "BE"
                                },
                                {
                                    "Ortname": "Rüfenacht BE",
                                    "Kanton": "BE"
                                },
                                {
                                    "Ortname": "Worb",
                                    "Kanton": "BE"
                                },
                                {
                                    "Ortname": "Enggistein",
                                    "Kanton": "BE"
                                },
                                {
                                    "Ortname": "Richigen",
                                    "Kanton": "BE"
                                },
                                {
                                    "Ortname": "Schlosswil",
                                    "Kanton": "BE"
                                },
                                {
                                    "Ortname": "Trimstein",
                                    "Kanton": "BE"
                                },
                                {
                                    "Ortname": "Wabern",
                                    "Kanton": "BE"
                                },
                                {
                                    "Ortname": "Oberbütschel",
                                    "Kanton": "BE"
                                },
                                {
                                    "Ortname": "Zimmerwald",
                                    "Kanton": "BE"
                                },
                                {
                                    "Ortname": "Niedermuhlern",
                                    "Kanton": "BE"
                                },
                                {
                                    "Ortname": "Rüeggisberg",
                                    "Kanton": "BE"
                                },
                                {
                                    "Ortname": "Hinterfultigen",
                                    "Kanton": "BE"
                                },
                                {
                                    "Ortname": "Oberbalm",
                                    "Kanton": "BE"
                                },
                                {
                                    "Ortname": "Liebefeld",
                                    "Kanton": "BE"
                                },
                                {
                                    "Ortname": "Köniz",
                                    "Kanton": "BE"
                                },
                                {
                                    "Ortname": "Schliern b. Köniz",
                                    "Kanton": "BE"
                                },
                                {
                                    "Ortname": "Rüti b. Riggisberg",
                                    "Kanton": "BE"
                                },
                                {
                                    "Ortname": "Münsingen",
                                    "Kanton": "BE"
                                },
                                {
                                    "Ortname": "Allmendingen b. Bern",
                                    "Kanton": "BE"
                                },
                                {
                                    "Ortname": "Wichtrach",
                                    "Kanton": "BE"
                                },
                                {
                                    "Ortname": "Gerzensee",
                                    "Kanton": "BE"
                                },
                                {
                                    "Ortname": "Kirchdorf BE",
                                    "Kanton": "BE"
                                },
                                {
                                    "Ortname": "Kiesen",
                                    "Kanton": "BE"
                                },
                                {
                                    "Ortname": "Uttigen",
                                    "Kanton": "BE"
                                },
                                {
                                    "Ortname": "Kehrsatz",
                                    "Kanton": "BE"
                                },
                                {
                                    "Ortname": "Belp",
                                    "Kanton": "BE"
                                },
                                {
                                    "Ortname": "Belpberg",
                                    "Kanton": "BE"
                                },
                                {
                                    "Ortname": "Toffen",
                                    "Kanton": "BE"
                                },
                                {
                                    "Ortname": "Kaufdorf",
                                    "Kanton": "BE"
                                },
                                {
                                    "Ortname": "Mühlethurnen",
                                    "Kanton": "BE"
                                },
                                {
                                    "Ortname": "Kirchenthurnen",
                                    "Kanton": "BE"
                                },
                                {
                                    "Ortname": "Riggisberg",
                                    "Kanton": "BE"
                                },
                                {
                                    "Ortname": "Burgistein",
                                    "Kanton": "BE"
                                },
                                {
                                    "Ortname": "Wattenwil",
                                    "Kanton": "BE"
                                },
                                {
                                    "Ortname": "Seftigen",
                                    "Kanton": "BE"
                                },
                                {
                                    "Ortname": "Gurzelen",
                                    "Kanton": "BE"
                                },
                                {
                                    "Ortname": "Uetendorf",
                                    "Kanton": "BE"
                                },
                                {
                                    "Ortname": "Gasel",
                                    "Kanton": "BE"
                                },
                                {
                                    "Ortname": "Niederscherli",
                                    "Kanton": "BE"
                                },
                                {
                                    "Ortname": "Mittelhäusern",
                                    "Kanton": "BE"
                                },
                                {
                                    "Ortname": "Lanzenhäusern",
                                    "Kanton": "BE"
                                },
                                {
                                    "Ortname": "Schwarzenburg",
                                    "Kanton": "BE"
                                },
                                {
                                    "Ortname": "Mamishaus",
                                    "Kanton": "BE"
                                },
                                {
                                    "Ortname": "Rüschegg Gambach",
                                    "Kanton": "BE"
                                },
                                {
                                    "Ortname": "Rüschegg Heubach",
                                    "Kanton": "BE"
                                },
                                {
                                    "Ortname": "Helgisried-Rohrbach",
                                    "Kanton": "BE"
                                },
                                {
                                    "Ortname": "Riffenmatt",
                                    "Kanton": "BE"
                                },
                                {
                                    "Ortname": "Milken",
                                    "Kanton": "BE"
                                },
                                {
                                    "Ortname": "Guggisberg",
                                    "Kanton": "BE"
                                },
                                {
                                    "Ortname": "Riedstätt",
                                    "Kanton": "BE"
                                },
                                {
                                    "Ortname": "Niederwangen b. Bern",
                                    "Kanton": "BE"
                                },
                                {
                                    "Ortname": "Oberwangen b. Bern",
                                    "Kanton": "BE"
                                },
                                {
                                    "Ortname": "Thörishaus",
                                    "Kanton": "BE"
                                },
                                {
                                    "Ortname": "Flamatt",
                                    "Kanton": "FR"
                                },
                                {
                                    "Ortname": "Neuenegg",
                                    "Kanton": "BE"
                                },
                                {
                                    "Ortname": "Laupen BE",
                                    "Kanton": "BE"
                                },
                                {
                                    "Ortname": "Bösingen",
                                    "Kanton": "FR"
                                },
                                {
                                    "Ortname": "Kriechenwil",
                                    "Kanton": "BE"
                                },
                                {
                                    "Ortname": "Ueberstorf",
                                    "Kanton": "FR"
                                },
                                {
                                    "Ortname": "Albligen",
                                    "Kanton": "BE"
                                },
                                {
                                    "Ortname": "Wünnewil",
                                    "Kanton": "FR"
                                },
                                {
                                    "Ortname": "Düdingen",
                                    "Kanton": "FR"
                                },
                                {
                                    "Ortname": "Gelterfingen",
                                    "Kanton": "BE"
                                },
                                {
                                    "Ortname": "Frauenkappelen",
                                    "Kanton": "BE"
                                },
                                {
                                    "Ortname": "Mühleberg",
                                    "Kanton": "BE"
                                },
                                {
                                    "Ortname": "Rosshäusern",
                                    "Kanton": "BE"
                                },
                                {
                                    "Ortname": "Gümmenen",
                                    "Kanton": "BE"
                                },
                                {
                                    "Ortname": "Rizenbach",
                                    "Kanton": "BE"
                                },
                                {
                                    "Ortname": "Wileroltigen",
                                    "Kanton": "BE"
                                },
                                {
                                    "Ortname": "Gurbrü",
                                    "Kanton": "BE"
                                },
                                {
                                    "Ortname": "Kerzers",
                                    "Kanton": "FR"
                                },
                                {
                                    "Ortname": "Ried b. Kerzers",
                                    "Kanton": "FR"
                                },
                                {
                                    "Ortname": "Gempenach",
                                    "Kanton": "FR"
                                },
                                {
                                    "Ortname": "Ulmiz",
                                    "Kanton": "FR"
                                },
                                {
                                    "Ortname": "Liebistorf",
                                    "Kanton": "FR"
                                },
                                {
                                    "Ortname": "Gurmels",
                                    "Kanton": "FR"
                                },
                                {
                                    "Ortname": "Müntschemier",
                                    "Kanton": "BE"
                                },
                                {
                                    "Ortname": "Treiten",
                                    "Kanton": "BE"
                                },
                                {
                                    "Ortname": "Ins",
                                    "Kanton": "BE"
                                },
                                {
                                    "Ortname": "Tschugg",
                                    "Kanton": "BE"
                                },
                                {
                                    "Ortname": "Vinelz",
                                    "Kanton": "BE"
                                },
                                {
                                    "Ortname": "Erlach",
                                    "Kanton": "BE"
                                },
                                {
                                    "Ortname": "Gampelen",
                                    "Kanton": "BE"
                                },
                                {
                                    "Ortname": "Lyss",
                                    "Kanton": "BE"
                                },
                                {
                                    "Ortname": "Wengi b. Büren",
                                    "Kanton": "BE"
                                },
                                {
                                    "Ortname": "Worben",
                                    "Kanton": "BE"
                                },
                                {
                                    "Ortname": "Schnottwil",
                                    "Kanton": "SO"
                                },
                                {
                                    "Ortname": "Messen",
                                    "Kanton": "SO"
                                },
                                {
                                    "Ortname": "Rapperswil BE",
                                    "Kanton": "BE"
                                },
                                {
                                    "Ortname": "Dieterswil",
                                    "Kanton": "BE"
                                },
                                {
                                    "Ortname": "Grossaffoltern",
                                    "Kanton": "BE"
                                },
                                {
                                    "Ortname": "Ammerzwil BE",
                                    "Kanton": "BE"
                                },
                                {
                                    "Ortname": "Suberg",
                                    "Kanton": "BE"
                                },
                                {
                                    "Ortname": "Büetigen",
                                    "Kanton": "BE"
                                },
                                {
                                    "Ortname": "Diessbach b. Büren",
                                    "Kanton": "BE"
                                },
                                {
                                    "Ortname": "Wiler b. Seedorf",
                                    "Kanton": "BE"
                                },
                                {
                                    "Ortname": "Seedorf BE",
                                    "Kanton": "BE"
                                },
                                {
                                    "Ortname": "Lobsigen",
                                    "Kanton": "BE"
                                },
                                {
                                    "Ortname": "Aarberg",
                                    "Kanton": "BE"
                                },
                                {
                                    "Ortname": "Radelfingen b. Aarberg",
                                    "Kanton": "BE"
                                },
                                {
                                    "Ortname": "Walperswil",
                                    "Kanton": "BE"
                                },
                                {
                                    "Ortname": "Kappelen",
                                    "Kanton": "BE"
                                },
                                {
                                    "Ortname": "Hermrigen",
                                    "Kanton": "BE"
                                },
                                {
                                    "Ortname": "Murten",
                                    "Kanton": "FR"
                                },
                                {
                                    "Ortname": "Meyriez",
                                    "Kanton": "FR"
                                },
                                {
                                    "Ortname": "Bargen BE",
                                    "Kanton": "BE"
                                },
                                {
                                    "Ortname": "Kallnach",
                                    "Kanton": "BE"
                                },
                                {
                                    "Ortname": "Fräschels",
                                    "Kanton": "FR"
                                },
                                {
                                    "Ortname": "Galmiz",
                                    "Kanton": "FR"
                                },
                                {
                                    "Ortname": "Muntelier",
                                    "Kanton": "FR"
                                },
                                {
                                    "Ortname": "Busswil BE",
                                    "Kanton": "BE"
                                },
                                {
                                    "Ortname": "Dotzigen",
                                    "Kanton": "BE"
                                },
                                {
                                    "Ortname": "Büren an der Aare",
                                    "Kanton": "BE"
                                },
                                {
                                    "Ortname": "Rüti b. Büren",
                                    "Kanton": "BE"
                                },
                                {
                                    "Ortname": "Arch",
                                    "Kanton": "BE"
                                },
                                {
                                    "Ortname": "Leuzigen",
                                    "Kanton": "BE"
                                },
                                {
                                    "Ortname": "Oberwil b. Büren",
                                    "Kanton": "BE"
                                },
                                {
                                    "Ortname": "Moosseedorf",
                                    "Kanton": "BE"
                                },
                                {
                                    "Ortname": "Jegenstorf",
                                    "Kanton": "BE"
                                },
                                {
                                    "Ortname": "Grafenried",
                                    "Kanton": "BE"
                                },
                                {
                                    "Ortname": "Fraubrunnen",
                                    "Kanton": "BE"
                                },
                                {
                                    "Ortname": "Büren zum Hof",
                                    "Kanton": "BE"
                                },
                                {
                                    "Ortname": "Schalunen",
                                    "Kanton": "BE"
                                },
                                {
                                    "Ortname": "Bätterkinden",
                                    "Kanton": "BE"
                                },
                                {
                                    "Ortname": "Kräiligen",
                                    "Kanton": "BE"
                                },
                                {
                                    "Ortname": "Urtenen-Schönbühl",
                                    "Kanton": "BE"
                                },
                                {
                                    "Ortname": "Mattstetten",
                                    "Kanton": "BE"
                                },
                                {
                                    "Ortname": "Bäriswil BE",
                                    "Kanton": "BE"
                                },
                                {
                                    "Ortname": "Hindelbank",
                                    "Kanton": "BE"
                                },
                                {
                                    "Ortname": "Hettiswil b. Hindelbank",
                                    "Kanton": "BE"
                                },
                                {
                                    "Ortname": "Krauchthal",
                                    "Kanton": "BE"
                                },
                                {
                                    "Ortname": "Zuzwil BE",
                                    "Kanton": "BE"
                                },
                                {
                                    "Ortname": "Iffwil",
                                    "Kanton": "BE"
                                },
                                {
                                    "Ortname": "Etzelkofen",
                                    "Kanton": "BE"
                                },
                                {
                                    "Ortname": "Brunnenthal",
                                    "Kanton": "SO"
                                },
                                {
                                    "Ortname": "Kernenried",
                                    "Kanton": "BE"
                                },
                                {
                                    "Ortname": "Limpach",
                                    "Kanton": "BE"
                                },
                                {
                                    "Ortname": "Mülchi",
                                    "Kanton": "BE"
                                },
                                {
                                    "Ortname": "Herzogenbuchsee",
                                    "Kanton": "BE"
                                },
                                {
                                    "Ortname": "Aeschi SO",
                                    "Kanton": "SO"
                                },
                                {
                                    "Ortname": "Graben",
                                    "Kanton": "BE"
                                },
                                {
                                    "Ortname": "Wanzwil",
                                    "Kanton": "BE"
                                },
                                {
                                    "Ortname": "Heimenhausen",
                                    "Kanton": "BE"
                                },
                                {
                                    "Ortname": "Röthenbach Herzogenbuchsee",
                                    "Kanton": "BE"
                                },
                                {
                                    "Ortname": "Wangenried",
                                    "Kanton": "BE"
                                },
                                {
                                    "Ortname": "Niederönz",
                                    "Kanton": "BE"
                                },
                                {
                                    "Ortname": "Oberönz",
                                    "Kanton": "BE"
                                },
                                {
                                    "Ortname": "Seeberg",
                                    "Kanton": "BE"
                                },
                                {
                                    "Ortname": "Grasswil",
                                    "Kanton": "BE"
                                },
                                {
                                    "Ortname": "Bettenhausen",
                                    "Kanton": "BE"
                                },
                                {
                                    "Ortname": "Thörigen",
                                    "Kanton": "BE"
                                },
                                {
                                    "Ortname": "Bleienbach",
                                    "Kanton": "BE"
                                },
                                {
                                    "Ortname": "Burgdorf",
                                    "Kanton": "BE"
                                },
                                {
                                    "Ortname": "Heimiswil",
                                    "Kanton": "BE"
                                },
                                {
                                    "Ortname": "Kaltacker",
                                    "Kanton": "BE"
                                },
                                {
                                    "Ortname": "Oberburg",
                                    "Kanton": "BE"
                                },
                                {
                                    "Ortname": "Affoltern im Emmental",
                                    "Kanton": "BE"
                                },
                                {
                                    "Ortname": "Rüegsau",
                                    "Kanton": "BE"
                                },
                                {
                                    "Ortname": "Rüegsbach",
                                    "Kanton": "BE"
                                },
                                {
                                    "Ortname": "Biembach im Emmental",
                                    "Kanton": "BE"
                                },
                                {
                                    "Ortname": "Lyssach",
                                    "Kanton": "BE"
                                },
                                {
                                    "Ortname": "Kirchberg BE",
                                    "Kanton": "BE"
                                },
                                {
                                    "Ortname": "Rüdtligen",
                                    "Kanton": "BE"
                                },
                                {
                                    "Ortname": "Alchenflüh",
                                    "Kanton": "BE"
                                },
                                {
                                    "Ortname": "Ersigen",
                                    "Kanton": "BE"
                                },
                                {
                                    "Ortname": "Niederösch",
                                    "Kanton": "BE"
                                },
                                {
                                    "Ortname": "Koppigen",
                                    "Kanton": "BE"
                                },
                                {
                                    "Ortname": "Aefligen",
                                    "Kanton": "BE"
                                },
                                {
                                    "Ortname": "Utzenstorf",
                                    "Kanton": "BE"
                                },
                                {
                                    "Ortname": "Wiler b. Utzenstorf",
                                    "Kanton": "BE"
                                },
                                {
                                    "Ortname": "Lützelflüh-Goldbach",
                                    "Kanton": "BE"
                                },
                                {
                                    "Ortname": "Schwanden im Emmental",
                                    "Kanton": "BE"
                                },
                                {
                                    "Ortname": "Obergoldbach",
                                    "Kanton": "BE"
                                },
                                {
                                    "Ortname": "Ramsei",
                                    "Kanton": "BE"
                                },
                                {
                                    "Ortname": "Zollbrück",
                                    "Kanton": "BE"
                                },
                                {
                                    "Ortname": "Rüderswil",
                                    "Kanton": "BE"
                                },
                                {
                                    "Ortname": "Lauperswil",
                                    "Kanton": "BE"
                                },
                                {
                                    "Ortname": "Ranflüh",
                                    "Kanton": "BE"
                                },
                                {
                                    "Ortname": "Grünenmatt",
                                    "Kanton": "BE"
                                },
                                {
                                    "Ortname": "Heimisbach",
                                    "Kanton": "BE"
                                },
                                {
                                    "Ortname": "Sumiswald",
                                    "Kanton": "BE"
                                },
                                {
                                    "Ortname": "Grünen",
                                    "Kanton": "BE"
                                },
                                {
                                    "Ortname": "Trachselwald",
                                    "Kanton": "BE"
                                },
                                {
                                    "Ortname": "Wasen im Emmental",
                                    "Kanton": "BE"
                                },
                                {
                                    "Ortname": "Weier im Emmental",
                                    "Kanton": "BE"
                                },
                                {
                                    "Ortname": "Häusernmoos im Emmental",
                                    "Kanton": "BE"
                                },
                                {
                                    "Ortname": "Schmidigen-Mühleweg",
                                    "Kanton": "BE"
                                },
                                {
                                    "Ortname": "Dürrenroth",
                                    "Kanton": "BE"
                                },
                                {
                                    "Ortname": "Wynigen",
                                    "Kanton": "BE"
                                },
                                {
                                    "Ortname": "Alchenstorf",
                                    "Kanton": "BE"
                                },
                                {
                                    "Ortname": "Rüedisbach",
                                    "Kanton": "BE"
                                },
                                {
                                    "Ortname": "Riedtwil",
                                    "Kanton": "BE"
                                },
                                {
                                    "Ortname": "Hermiswil",
                                    "Kanton": "BE"
                                },
                                {
                                    "Ortname": "Oschwand",
                                    "Kanton": "BE"
                                },
                                {
                                    "Ortname": "Tägertschi",
                                    "Kanton": "BE"
                                },
                                {
                                    "Ortname": "Gysenstein",
                                    "Kanton": "BE"
                                },
                                {
                                    "Ortname": "Niederhünigen",
                                    "Kanton": "BE"
                                },
                                {
                                    "Ortname": "Grosshöchstetten",
                                    "Kanton": "BE"
                                },
                                {
                                    "Ortname": "Biglen",
                                    "Kanton": "BE"
                                },
                                {
                                    "Ortname": "Arni BE",
                                    "Kanton": "BE"
                                },
                                {
                                    "Ortname": "Konolfingen",
                                    "Kanton": "BE"
                                },
                                {
                                    "Ortname": "Walkringen",
                                    "Kanton": "BE"
                                },
                                {
                                    "Ortname": "Bigenthal",
                                    "Kanton": "BE"
                                },
                                {
                                    "Ortname": "Schafhausen im Emmental",
                                    "Kanton": "BE"
                                },
                                {
                                    "Ortname": "Oberdiessbach",
                                    "Kanton": "BE"
                                },
                                {
                                    "Ortname": "Aeschlen b. Oberdiessbach",
                                    "Kanton": "BE"
                                },
                                {
                                    "Ortname": "Linden",
                                    "Kanton": "BE"
                                },
                                {
                                    "Ortname": "Bleiken b. Oberdiessbach",
                                    "Kanton": "BE"
                                },
                                {
                                    "Ortname": "Brenzikofen",
                                    "Kanton": "BE"
                                },
                                {
                                    "Ortname": "Oberthal",
                                    "Kanton": "BE"
                                },
                                {
                                    "Ortname": "Zäziwil",
                                    "Kanton": "BE"
                                },
                                {
                                    "Ortname": "Bowil",
                                    "Kanton": "BE"
                                },
                                {
                                    "Ortname": "Signau",
                                    "Kanton": "BE"
                                },
                                {
                                    "Ortname": "Schüpbach",
                                    "Kanton": "BE"
                                },
                                {
                                    "Ortname": "Aeschau",
                                    "Kanton": "BE"
                                },
                                {
                                    "Ortname": "Eggiwil",
                                    "Kanton": "BE"
                                },
                                {
                                    "Ortname": "Röthenbach im Emmental",
                                    "Kanton": "BE"
                                },
                                {
                                    "Ortname": "Emmenmatt",
                                    "Kanton": "BE"
                                },
                                {
                                    "Ortname": "Langnau im Emmental",
                                    "Kanton": "BE"
                                },
                                {
                                    "Ortname": "Oberfrittenbach",
                                    "Kanton": "BE"
                                },
                                {
                                    "Ortname": "Bärau",
                                    "Kanton": "BE"
                                },
                                {
                                    "Ortname": "Gohl",
                                    "Kanton": "BE"
                                },
                                {
                                    "Ortname": "Trubschachen",
                                    "Kanton": "BE"
                                },
                                {
                                    "Ortname": "Trub",
                                    "Kanton": "BE"
                                },
                                {
                                    "Ortname": "Fankhaus (Trub)",
                                    "Kanton": "BE"
                                },
                                {
                                    "Ortname": "Thun",
                                    "Kanton": "BE"
                                },
                                {
                                    "Ortname": "Thun",
                                    "Kanton": "BE"
                                },
                                {
                                    "Ortname": "Thun",
                                    "Kanton": "BE"
                                },
                                {
                                    "Ortname": "Thun",
                                    "Kanton": "BE"
                                },
                                {
                                    "Ortname": "Fahrni b. Thun",
                                    "Kanton": "BE"
                                },
                                {
                                    "Ortname": "Süderen",
                                    "Kanton": "BE"
                                },
                                {
                                    "Ortname": "Eriz",
                                    "Kanton": "BE"
                                },
                                {
                                    "Ortname": "Innereriz",
                                    "Kanton": "BE"
                                },
                                {
                                    "Ortname": "Homberg b. Thun",
                                    "Kanton": "BE"
                                },
                                {
                                    "Ortname": "Uebeschi",
                                    "Kanton": "BE"
                                },
                                {
                                    "Ortname": "Höfen b. Thun",
                                    "Kanton": "BE"
                                },
                                {
                                    "Ortname": "Längenbühl",
                                    "Kanton": "BE"
                                },
                                {
                                    "Ortname": "Steffisburg",
                                    "Kanton": "BE"
                                },
                                {
                                    "Ortname": "Steffisburg",
                                    "Kanton": "BE"
                                },
                                {
                                    "Ortname": "Unterlangenegg",
                                    "Kanton": "BE"
                                },
                                {
                                    "Ortname": "Heimenschwand",
                                    "Kanton": "BE"
                                },
                                {
                                    "Ortname": "Schwarzenegg",
                                    "Kanton": "BE"
                                },
                                {
                                    "Ortname": "Teuffenthal b. Thun",
                                    "Kanton": "BE"
                                },
                                {
                                    "Ortname": "Goldiwil (Thun)",
                                    "Kanton": "BE"
                                },
                                {
                                    "Ortname": "Heiligenschwendi",
                                    "Kanton": "BE"
                                },
                                {
                                    "Ortname": "Hünibach",
                                    "Kanton": "BE"
                                },
                                {
                                    "Ortname": "Heimberg",
                                    "Kanton": "BE"
                                },
                                {
                                    "Ortname": "Amsoldingen",
                                    "Kanton": "BE"
                                },
                                {
                                    "Ortname": "Thierachern",
                                    "Kanton": "BE"
                                },
                                {
                                    "Ortname": "Blumenstein",
                                    "Kanton": "BE"
                                },
                                {
                                    "Ortname": "Pohlern",
                                    "Kanton": "BE"
                                },
                                {
                                    "Ortname": "Gwatt (Thun)",
                                    "Kanton": "BE"
                                },
                                {
                                    "Ortname": "Einigen",
                                    "Kanton": "BE"
                                },
                                {
                                    "Ortname": "Reutigen",
                                    "Kanton": "BE"
                                },
                                {
                                    "Ortname": "Hilterfingen",
                                    "Kanton": "BE"
                                },
                                {
                                    "Ortname": "Oberhofen am Thunersee",
                                    "Kanton": "BE"
                                },
                                {
                                    "Ortname": "Gunten",
                                    "Kanton": "BE"
                                },
                                {
                                    "Ortname": "Sigriswil",
                                    "Kanton": "BE"
                                },
                                {
                                    "Ortname": "Tschingel ob Gunten",
                                    "Kanton": "BE"
                                },
                                {
                                    "Ortname": "Aeschlen ob Gunten",
                                    "Kanton": "BE"
                                },
                                {
                                    "Ortname": "Schwanden (Sigriswil)",
                                    "Kanton": "BE"
                                },
                                {
                                    "Ortname": "Merligen",
                                    "Kanton": "BE"
                                },
                                {
                                    "Ortname": "Spiez",
                                    "Kanton": "BE"
                                },
                                {
                                    "Ortname": "Hondrich",
                                    "Kanton": "BE"
                                },
                                {
                                    "Ortname": "Aeschi b. Spiez",
                                    "Kanton": "BE"
                                },
                                {
                                    "Ortname": "Aeschiried",
                                    "Kanton": "BE"
                                },
                                {
                                    "Ortname": "Krattigen",
                                    "Kanton": "BE"
                                },
                                {
                                    "Ortname": "Faulensee",
                                    "Kanton": "BE"
                                },
                                {
                                    "Ortname": "Leissigen",
                                    "Kanton": "BE"
                                },
                                {
                                    "Ortname": "Därligen",
                                    "Kanton": "BE"
                                },
                                {
                                    "Ortname": "Emdthal",
                                    "Kanton": "BE"
                                },
                                {
                                    "Ortname": "Mülenen",
                                    "Kanton": "BE"
                                },
                                {
                                    "Ortname": "Reichenbach im Kandertal",
                                    "Kanton": "BE"
                                },
                                {
                                    "Ortname": "Frutigen",
                                    "Kanton": "BE"
                                },
                                {
                                    "Ortname": "Wengi b. Frutigen",
                                    "Kanton": "BE"
                                },
                                {
                                    "Ortname": "Adelboden",
                                    "Kanton": "BE"
                                },
                                {
                                    "Ortname": "Kandergrund",
                                    "Kanton": "BE"
                                },
                                {
                                    "Ortname": "Blausee-Mitholz",
                                    "Kanton": "BE"
                                },
                                {
                                    "Ortname": "Kandersteg",
                                    "Kanton": "BE"
                                },
                                {
                                    "Ortname": "Scharnachtal",
                                    "Kanton": "BE"
                                },
                                {
                                    "Ortname": "Kiental",
                                    "Kanton": "BE"
                                },
                                {
                                    "Ortname": "Ried (Frutigen)",
                                    "Kanton": "BE"
                                },
                                {
                                    "Ortname": "Achseten",
                                    "Kanton": "BE"
                                },
                                {
                                    "Ortname": "Wimmis",
                                    "Kanton": "BE"
                                },
                                {
                                    "Ortname": "Oey",
                                    "Kanton": "BE"
                                },
                                {
                                    "Ortname": "Diemtigen",
                                    "Kanton": "BE"
                                },
                                {
                                    "Ortname": "Horboden",
                                    "Kanton": "BE"
                                },
                                {
                                    "Ortname": "Zwischenflüh",
                                    "Kanton": "BE"
                                },
                                {
                                    "Ortname": "Schwenden im Diemtigtal",
                                    "Kanton": "BE"
                                },
                                {
                                    "Ortname": "Latterbach",
                                    "Kanton": "BE"
                                },
                                {
                                    "Ortname": "Erlenbach im Simmental",
                                    "Kanton": "BE"
                                },
                                {
                                    "Ortname": "Därstetten",
                                    "Kanton": "BE"
                                },
                                {
                                    "Ortname": "Weissenburg",
                                    "Kanton": "BE"
                                },
                                {
                                    "Ortname": "Oberwil im Simmental",
                                    "Kanton": "BE"
                                },
                                {
                                    "Ortname": "Boltigen",
                                    "Kanton": "BE"
                                },
                                {
                                    "Ortname": "Zweisimmen",
                                    "Kanton": "BE"
                                },
                                {
                                    "Ortname": "Blankenburg",
                                    "Kanton": "BE"
                                },
                                {
                                    "Ortname": "St. Stephan",
                                    "Kanton": "BE"
                                },
                                {
                                    "Ortname": "Matten (St. Stephan)",
                                    "Kanton": "BE"
                                },
                                {
                                    "Ortname": "Lenk im Simmental",
                                    "Kanton": "BE"
                                },
                                {
                                    "Ortname": "Oeschseite",
                                    "Kanton": "BE"
                                },
                                {
                                    "Ortname": "Saanenmöser",
                                    "Kanton": "BE"
                                },
                                {
                                    "Ortname": "Schönried",
                                    "Kanton": "BE"
                                },
                                {
                                    "Ortname": "Gstaad",
                                    "Kanton": "BE"
                                },
                                {
                                    "Ortname": "Turbach",
                                    "Kanton": "BE"
                                },
                                {
                                    "Ortname": "Lauenen b. Gstaad",
                                    "Kanton": "BE"
                                },
                                {
                                    "Ortname": "Grund b. Gstaad",
                                    "Kanton": "BE"
                                },
                                {
                                    "Ortname": "Feutersoey",
                                    "Kanton": "BE"
                                },
                                {
                                    "Ortname": "Gsteig b. Gstaad",
                                    "Kanton": "BE"
                                },
                                {
                                    "Ortname": "Saanen",
                                    "Kanton": "BE"
                                },
                                {
                                    "Ortname": "Interlaken",
                                    "Kanton": "BE"
                                },
                                {
                                    "Ortname": "Unterseen",
                                    "Kanton": "BE"
                                },
                                {
                                    "Ortname": "Matten b. Interlaken",
                                    "Kanton": "BE"
                                },
                                {
                                    "Ortname": "Beatenberg",
                                    "Kanton": "BE"
                                },
                                {
                                    "Ortname": "Habkern",
                                    "Kanton": "BE"
                                },
                                {
                                    "Ortname": "Goldswil b. Interlaken",
                                    "Kanton": "BE"
                                },
                                {
                                    "Ortname": "Bönigen b. Interlaken",
                                    "Kanton": "BE"
                                },
                                {
                                    "Ortname": "Iseltwald",
                                    "Kanton": "BE"
                                },
                                {
                                    "Ortname": "Wilderswil",
                                    "Kanton": "BE"
                                },
                                {
                                    "Ortname": "Saxeten",
                                    "Kanton": "BE"
                                },
                                {
                                    "Ortname": "Gsteigwiler",
                                    "Kanton": "BE"
                                },
                                {
                                    "Ortname": "Zweilütschinen",
                                    "Kanton": "BE"
                                },
                                {
                                    "Ortname": "Lütschental",
                                    "Kanton": "BE"
                                },
                                {
                                    "Ortname": "Burglauenen",
                                    "Kanton": "BE"
                                },
                                {
                                    "Ortname": "Grindelwald",
                                    "Kanton": "BE"
                                },
                                {
                                    "Ortname": "Lauterbrunnen",
                                    "Kanton": "BE"
                                },
                                {
                                    "Ortname": "Isenfluh",
                                    "Kanton": "BE"
                                },
                                {
                                    "Ortname": "Wengen",
                                    "Kanton": "BE"
                                },
                                {
                                    "Ortname": "Stechelberg",
                                    "Kanton": "BE"
                                },
                                {
                                    "Ortname": "Mürren",
                                    "Kanton": "BE"
                                },
                                {
                                    "Ortname": "Gimmelwald",
                                    "Kanton": "BE"
                                },
                                {
                                    "Ortname": "Ringgenberg BE",
                                    "Kanton": "BE"
                                },
                                {
                                    "Ortname": "Niederried b. Interlaken",
                                    "Kanton": "BE"
                                },
                                {
                                    "Ortname": "Oberried am Brienzersee",
                                    "Kanton": "BE"
                                },
                                {
                                    "Ortname": "Brienz BE",
                                    "Kanton": "BE"
                                },
                                {
                                    "Ortname": "Axalp",
                                    "Kanton": "BE"
                                },
                                {
                                    "Ortname": "Brienzwiler",
                                    "Kanton": "BE"
                                },
                                {
                                    "Ortname": "Unterbach BE",
                                    "Kanton": "BE"
                                },
                                {
                                    "Ortname": "Hofstetten b. Brienz",
                                    "Kanton": "BE"
                                },
                                {
                                    "Ortname": "Meiringen",
                                    "Kanton": "BE"
                                },
                                {
                                    "Ortname": "Rosenlaui",
                                    "Kanton": "BE"
                                },
                                {
                                    "Ortname": "Innertkirchen",
                                    "Kanton": "BE"
                                },
                                {
                                    "Ortname": "Gadmen",
                                    "Kanton": "BE"
                                },
                                {
                                    "Ortname": "Guttannen",
                                    "Kanton": "BE"
                                },
                                {
                                    "Ortname": "Basel",
                                    "Kanton": "BS"
                                },
                                {
                                    "Ortname": "Basel",
                                    "Kanton": "BS"
                                },
                                {
                                    "Ortname": "Basel Universitätsspital",
                                    "Kanton": "BS"
                                },
                                {
                                    "Ortname": "Basel",
                                    "Kanton": "BS"
                                },
                                {
                                    "Ortname": "Basel",
                                    "Kanton": "BS"
                                },
                                {
                                    "Ortname": "Basel",
                                    "Kanton": "BS"
                                },
                                {
                                    "Ortname": "Basel",
                                    "Kanton": "BS"
                                },
                                {
                                    "Ortname": "Basel",
                                    "Kanton": "BS"
                                },
                                {
                                    "Ortname": "Basel",
                                    "Kanton": "BS"
                                },
                                {
                                    "Ortname": "Basel",
                                    "Kanton": "BS"
                                },
                                {
                                    "Ortname": "Basel",
                                    "Kanton": "BS"
                                },
                                {
                                    "Ortname": "Basel",
                                    "Kanton": "BS"
                                },
                                {
                                    "Ortname": "Bruderholz",
                                    "Kanton": "BL"
                                },
                                {
                                    "Ortname": "Binningen",
                                    "Kanton": "BL"
                                },
                                {
                                    "Ortname": "Bottmingen",
                                    "Kanton": "BL"
                                },
                                {
                                    "Ortname": "Oberwil BL",
                                    "Kanton": "BL"
                                },
                                {
                                    "Ortname": "Biel-Benken BL",
                                    "Kanton": "BL"
                                },
                                {
                                    "Ortname": "Therwil",
                                    "Kanton": "BL"
                                },
                                {
                                    "Ortname": "Ettingen",
                                    "Kanton": "BL"
                                },
                                {
                                    "Ortname": "Witterswil",
                                    "Kanton": "SO"
                                },
                                {
                                    "Ortname": "Bättwil",
                                    "Kanton": "SO"
                                },
                                {
                                    "Ortname": "Flüh",
                                    "Kanton": "SO"
                                },
                                {
                                    "Ortname": "Hofstetten SO",
                                    "Kanton": "SO"
                                },
                                {
                                    "Ortname": "Mariastein",
                                    "Kanton": "SO"
                                },
                                {
                                    "Ortname": "Metzerlen",
                                    "Kanton": "SO"
                                },
                                {
                                    "Ortname": "Burg im Leimental",
                                    "Kanton": "BL"
                                },
                                {
                                    "Ortname": "Rodersdorf",
                                    "Kanton": "SO"
                                },
                                {
                                    "Ortname": "Allschwil",
                                    "Kanton": "BL"
                                },
                                {
                                    "Ortname": "Schönenbuch",
                                    "Kanton": "BL"
                                },
                                {
                                    "Ortname": "Riehen",
                                    "Kanton": "BS"
                                },
                                {
                                    "Ortname": "Bettingen",
                                    "Kanton": "BS"
                                },
                                {
                                    "Ortname": "Birsfelden",
                                    "Kanton": "BL"
                                },
                                {
                                    "Ortname": "Muttenz",
                                    "Kanton": "BL"
                                },
                                {
                                    "Ortname": "Pratteln",
                                    "Kanton": "BL"
                                },
                                {
                                    "Ortname": "Münchenstein",
                                    "Kanton": "BL"
                                },
                                {
                                    "Ortname": "Dornach",
                                    "Kanton": "SO"
                                },
                                {
                                    "Ortname": "Arlesheim",
                                    "Kanton": "BL"
                                },
                                {
                                    "Ortname": "Gempen",
                                    "Kanton": "SO"
                                },
                                {
                                    "Ortname": "Hochwald",
                                    "Kanton": "SO"
                                },
                                {
                                    "Ortname": "Aesch BL",
                                    "Kanton": "BL"
                                },
                                {
                                    "Ortname": "Pfeffingen",
                                    "Kanton": "BL"
                                },
                                {
                                    "Ortname": "Reinach BL",
                                    "Kanton": "BL"
                                },
                                {
                                    "Ortname": "Duggingen",
                                    "Kanton": "BL"
                                },
                                {
                                    "Ortname": "Grellingen",
                                    "Kanton": "BL"
                                },
                                {
                                    "Ortname": "Seewen SO",
                                    "Kanton": "SO"
                                },
                                {
                                    "Ortname": "Bretzwil",
                                    "Kanton": "BL"
                                },
                                {
                                    "Ortname": "Nunningen",
                                    "Kanton": "SO"
                                },
                                {
                                    "Ortname": "Zwingen",
                                    "Kanton": "BL"
                                },
                                {
                                    "Ortname": "Brislach",
                                    "Kanton": "BL"
                                },
                                {
                                    "Ortname": "Breitenbach",
                                    "Kanton": "SO"
                                },
                                {
                                    "Ortname": "Büsserach",
                                    "Kanton": "SO"
                                },
                                {
                                    "Ortname": "Erschwil",
                                    "Kanton": "SO"
                                },
                                {
                                    "Ortname": "Laufen",
                                    "Kanton": "BL"
                                },
                                {
                                    "Ortname": "Dittingen",
                                    "Kanton": "BL"
                                },
                                {
                                    "Ortname": "Röschenz",
                                    "Kanton": "BL"
                                },
                                {
                                    "Ortname": "Kleinlützel",
                                    "Kanton": "SO"
                                },
                                {
                                    "Ortname": "Himmelried",
                                    "Kanton": "SO"
                                },
                                {
                                    "Ortname": "Blauen",
                                    "Kanton": "BL"
                                },
                                {
                                    "Ortname": "Nenzlingen",
                                    "Kanton": "BL"
                                },
                                {
                                    "Ortname": "Beinwil SO",
                                    "Kanton": "SO"
                                },
                                {
                                    "Ortname": "Fehren",
                                    "Kanton": "SO"
                                },
                                {
                                    "Ortname": "Meltingen",
                                    "Kanton": "SO"
                                },
                                {
                                    "Ortname": "Zullwil",
                                    "Kanton": "SO"
                                },
                                {
                                    "Ortname": "Wahlen b. Laufen",
                                    "Kanton": "BL"
                                },
                                {
                                    "Ortname": "Grindel",
                                    "Kanton": "SO"
                                },
                                {
                                    "Ortname": "Bärschwil",
                                    "Kanton": "SO"
                                },
                                {
                                    "Ortname": "Liesberg",
                                    "Kanton": "BL"
                                },
                                {
                                    "Ortname": "Liesberg Dorf",
                                    "Kanton": "BL"
                                },
                                {
                                    "Ortname": "Augst BL",
                                    "Kanton": "BL"
                                },
                                {
                                    "Ortname": "Kaiseraugst",
                                    "Kanton": "AG"
                                },
                                {
                                    "Ortname": "Giebenach",
                                    "Kanton": "BL"
                                },
                                {
                                    "Ortname": "Olsberg",
                                    "Kanton": "AG"
                                },
                                {
                                    "Ortname": "Rheinfelden",
                                    "Kanton": "AG"
                                },
                                {
                                    "Ortname": "Magden",
                                    "Kanton": "AG"
                                },
                                {
                                    "Ortname": "Möhlin",
                                    "Kanton": "AG"
                                },
                                {
                                    "Ortname": "Zeiningen",
                                    "Kanton": "AG"
                                },
                                {
                                    "Ortname": "Zuzgen",
                                    "Kanton": "AG"
                                },
                                {
                                    "Ortname": "Hellikon",
                                    "Kanton": "AG"
                                },
                                {
                                    "Ortname": "Wegenstetten",
                                    "Kanton": "AG"
                                },
                                {
                                    "Ortname": "Mumpf",
                                    "Kanton": "AG"
                                },
                                {
                                    "Ortname": "Wallbach",
                                    "Kanton": "AG"
                                },
                                {
                                    "Ortname": "Obermumpf",
                                    "Kanton": "AG"
                                },
                                {
                                    "Ortname": "Schupfart",
                                    "Kanton": "AG"
                                },
                                {
                                    "Ortname": "Stein AG",
                                    "Kanton": "AG"
                                },
                                {
                                    "Ortname": "Münchwilen AG",
                                    "Kanton": "AG"
                                },
                                {
                                    "Ortname": "Sisseln AG",
                                    "Kanton": "AG"
                                },
                                {
                                    "Ortname": "Laufenburg",
                                    "Kanton": "AG"
                                },
                                {
                                    "Ortname": "Kaisten",
                                    "Kanton": "AG"
                                },
                                {
                                    "Ortname": "Ittenthal",
                                    "Kanton": "AG"
                                },
                                {
                                    "Ortname": "Rheinsulz",
                                    "Kanton": "AG"
                                },
                                {
                                    "Ortname": "Sulz AG",
                                    "Kanton": "AG"
                                },
                                {
                                    "Ortname": "Etzgen",
                                    "Kanton": "AG"
                                },
                                {
                                    "Ortname": "Mettau",
                                    "Kanton": "AG"
                                },
                                {
                                    "Ortname": "Oberhofen AG",
                                    "Kanton": "AG"
                                },
                                {
                                    "Ortname": "Gansingen",
                                    "Kanton": "AG"
                                },
                                {
                                    "Ortname": "Wil AG",
                                    "Kanton": "AG"
                                },
                                {
                                    "Ortname": "Hottwil",
                                    "Kanton": "AG"
                                },
                                {
                                    "Ortname": "Schwaderloch",
                                    "Kanton": "AG"
                                },
                                {
                                    "Ortname": "Leibstadt",
                                    "Kanton": "AG"
                                },
                                {
                                    "Ortname": "Full-Reuenthal",
                                    "Kanton": "AG"
                                },
                                {
                                    "Ortname": "Frenkendorf",
                                    "Kanton": "BL"
                                },
                                {
                                    "Ortname": "Liestal",
                                    "Kanton": "BL"
                                },
                                {
                                    "Ortname": "Seltisberg",
                                    "Kanton": "BL"
                                },
                                {
                                    "Ortname": "Nuglar",
                                    "Kanton": "SO"
                                },
                                {
                                    "Ortname": "Büren SO",
                                    "Kanton": "SO"
                                },
                                {
                                    "Ortname": "Füllinsdorf",
                                    "Kanton": "BL"
                                },
                                {
                                    "Ortname": "Lausen",
                                    "Kanton": "BL"
                                },
                                {
                                    "Ortname": "Bubendorf",
                                    "Kanton": "BL"
                                },
                                {
                                    "Ortname": "Ziefen",
                                    "Kanton": "BL"
                                },
                                {
                                    "Ortname": "Reigoldswil",
                                    "Kanton": "BL"
                                },
                                {
                                    "Ortname": "Lupsingen",
                                    "Kanton": "BL"
                                },
                                {
                                    "Ortname": "St. Pantaleon",
                                    "Kanton": "SO"
                                },
                                {
                                    "Ortname": "Arisdorf",
                                    "Kanton": "BL"
                                },
                                {
                                    "Ortname": "Hersberg",
                                    "Kanton": "BL"
                                },
                                {
                                    "Ortname": "Arboldswil",
                                    "Kanton": "BL"
                                },
                                {
                                    "Ortname": "Titterten",
                                    "Kanton": "BL"
                                },
                                {
                                    "Ortname": "Lauwil",
                                    "Kanton": "BL"
                                },
                                {
                                    "Ortname": "Bennwil",
                                    "Kanton": "BL"
                                },
                                {
                                    "Ortname": "Lampenberg",
                                    "Kanton": "BL"
                                },
                                {
                                    "Ortname": "Ramlinsburg",
                                    "Kanton": "BL"
                                },
                                {
                                    "Ortname": "Hölstein",
                                    "Kanton": "BL"
                                },
                                {
                                    "Ortname": "Niederdorf",
                                    "Kanton": "BL"
                                },
                                {
                                    "Ortname": "Oberdorf BL",
                                    "Kanton": "BL"
                                },
                                {
                                    "Ortname": "Waldenburg",
                                    "Kanton": "BL"
                                },
                                {
                                    "Ortname": "Langenbruck",
                                    "Kanton": "BL"
                                },
                                {
                                    "Ortname": "Thürnen",
                                    "Kanton": "BL"
                                },
                                {
                                    "Ortname": "Diepflingen",
                                    "Kanton": "BL"
                                },
                                {
                                    "Ortname": "Wittinsburg",
                                    "Kanton": "BL"
                                },
                                {
                                    "Ortname": "Rümlingen",
                                    "Kanton": "BL"
                                },
                                {
                                    "Ortname": "Häfelfingen",
                                    "Kanton": "BL"
                                },
                                {
                                    "Ortname": "Buckten",
                                    "Kanton": "BL"
                                },
                                {
                                    "Ortname": "Känerkinden",
                                    "Kanton": "BL"
                                },
                                {
                                    "Ortname": "Läufelfingen",
                                    "Kanton": "BL"
                                },
                                {
                                    "Ortname": "Sissach",
                                    "Kanton": "BL"
                                },
                                {
                                    "Ortname": "Wintersingen",
                                    "Kanton": "BL"
                                },
                                {
                                    "Ortname": "Itingen",
                                    "Kanton": "BL"
                                },
                                {
                                    "Ortname": "Nusshof",
                                    "Kanton": "BL"
                                },
                                {
                                    "Ortname": "Zunzgen",
                                    "Kanton": "BL"
                                },
                                {
                                    "Ortname": "Tenniken",
                                    "Kanton": "BL"
                                },
                                {
                                    "Ortname": "Diegten",
                                    "Kanton": "BL"
                                },
                                {
                                    "Ortname": "Eptingen",
                                    "Kanton": "BL"
                                },
                                {
                                    "Ortname": "Gelterkinden",
                                    "Kanton": "BL"
                                },
                                {
                                    "Ortname": "Böckten",
                                    "Kanton": "BL"
                                },
                                {
                                    "Ortname": "Hemmiken",
                                    "Kanton": "BL"
                                },
                                {
                                    "Ortname": "Anwil",
                                    "Kanton": "BL"
                                },
                                {
                                    "Ortname": "Rickenbach BL",
                                    "Kanton": "BL"
                                },
                                {
                                    "Ortname": "Buus",
                                    "Kanton": "BL"
                                },
                                {
                                    "Ortname": "Maisprach",
                                    "Kanton": "BL"
                                },
                                {
                                    "Ortname": "Ormalingen",
                                    "Kanton": "BL"
                                },
                                {
                                    "Ortname": "Rothenfluh",
                                    "Kanton": "BL"
                                },
                                {
                                    "Ortname": "Kienberg",
                                    "Kanton": "SO"
                                },
                                {
                                    "Ortname": "Tecknau",
                                    "Kanton": "BL"
                                },
                                {
                                    "Ortname": "Wenslingen",
                                    "Kanton": "BL"
                                },
                                {
                                    "Ortname": "Oltingen",
                                    "Kanton": "BL"
                                },
                                {
                                    "Ortname": "Zeglingen",
                                    "Kanton": "BL"
                                },
                                {
                                    "Ortname": "Kilchberg BL",
                                    "Kanton": "BL"
                                },
                                {
                                    "Ortname": "Rünenberg",
                                    "Kanton": "BL"
                                },
                                {
                                    "Ortname": "Solothurn",
                                    "Kanton": "SO"
                                },
                                {
                                    "Ortname": "Weissenstein b. Solothurn",
                                    "Kanton": "SO"
                                },
                                {
                                    "Ortname": "Balm b. Günsberg",
                                    "Kanton": "SO"
                                },
                                {
                                    "Ortname": "Niederwil SO",
                                    "Kanton": "SO"
                                },
                                {
                                    "Ortname": "Hubersdorf",
                                    "Kanton": "SO"
                                },
                                {
                                    "Ortname": "Rumisberg",
                                    "Kanton": "BE"
                                },
                                {
                                    "Ortname": "Farnern",
                                    "Kanton": "BE"
                                },
                                {
                                    "Ortname": "Horriwil",
                                    "Kanton": "SO"
                                },
                                {
                                    "Ortname": "Hersiwil",
                                    "Kanton": "SO"
                                },
                                {
                                    "Ortname": "Bellach",
                                    "Kanton": "SO"
                                },
                                {
                                    "Ortname": "Langendorf",
                                    "Kanton": "SO"
                                },
                                {
                                    "Ortname": "Lommiswil",
                                    "Kanton": "SO"
                                },
                                {
                                    "Ortname": "Oberdorf SO",
                                    "Kanton": "SO"
                                },
                                {
                                    "Ortname": "Rüttenen",
                                    "Kanton": "SO"
                                },
                                {
                                    "Ortname": "Günsberg",
                                    "Kanton": "SO"
                                },
                                {
                                    "Ortname": "Zuchwil",
                                    "Kanton": "SO"
                                },
                                {
                                    "Ortname": "Feldbrunnen",
                                    "Kanton": "SO"
                                },
                                {
                                    "Ortname": "Riedholz",
                                    "Kanton": "SO"
                                },
                                {
                                    "Ortname": "Flumenthal",
                                    "Kanton": "SO"
                                },
                                {
                                    "Ortname": "Attiswil",
                                    "Kanton": "BE"
                                },
                                {
                                    "Ortname": "Wiedlisbach",
                                    "Kanton": "BE"
                                },
                                {
                                    "Ortname": "Oberbipp",
                                    "Kanton": "BE"
                                },
                                {
                                    "Ortname": "Derendingen",
                                    "Kanton": "SO"
                                },
                                {
                                    "Ortname": "Subingen",
                                    "Kanton": "SO"
                                },
                                {
                                    "Ortname": "Etziken",
                                    "Kanton": "SO"
                                },
                                {
                                    "Ortname": "Inkwil",
                                    "Kanton": "BE"
                                },
                                {
                                    "Ortname": "Biberist",
                                    "Kanton": "SO"
                                },
                                {
                                    "Ortname": "Gerlafingen",
                                    "Kanton": "SO"
                                },
                                {
                                    "Ortname": "Obergerlafingen",
                                    "Kanton": "SO"
                                },
                                {
                                    "Ortname": "Zielebach",
                                    "Kanton": "BE"
                                },
                                {
                                    "Ortname": "Recherswil",
                                    "Kanton": "SO"
                                },
                                {
                                    "Ortname": "Kriegstetten",
                                    "Kanton": "SO"
                                },
                                {
                                    "Ortname": "Küttigkofen",
                                    "Kanton": "SO"
                                },
                                {
                                    "Ortname": "Kyburg-Buchegg",
                                    "Kanton": "SO"
                                },
                                {
                                    "Ortname": "Brügglen",
                                    "Kanton": "SO"
                                },
                                {
                                    "Ortname": "Mühledorf SO",
                                    "Kanton": "SO"
                                },
                                {
                                    "Ortname": "Gossliwil",
                                    "Kanton": "SO"
                                },
                                {
                                    "Ortname": "Bibern SO",
                                    "Kanton": "SO"
                                },
                                {
                                    "Ortname": "Ichertswil",
                                    "Kanton": "SO"
                                },
                                {
                                    "Ortname": "Tscheppach",
                                    "Kanton": "SO"
                                },
                                {
                                    "Ortname": "Hessigkofen",
                                    "Kanton": "SO"
                                },
                                {
                                    "Ortname": "Biezwil",
                                    "Kanton": "SO"
                                },
                                {
                                    "Ortname": "Aetingen",
                                    "Kanton": "SO"
                                },
                                {
                                    "Ortname": "Unterramsern",
                                    "Kanton": "SO"
                                },
                                {
                                    "Ortname": "Oberramsern",
                                    "Kanton": "SO"
                                },
                                {
                                    "Ortname": "Nennigkofen",
                                    "Kanton": "SO"
                                },
                                {
                                    "Ortname": "Lüsslingen",
                                    "Kanton": "SO"
                                },
                                {
                                    "Ortname": "Olten",
                                    "Kanton": "SO"
                                },
                                {
                                    "Ortname": "Wangen b. Olten",
                                    "Kanton": "SO"
                                },
                                {
                                    "Ortname": "Rickenbach SO",
                                    "Kanton": "SO"
                                },
                                {
                                    "Ortname": "Hägendorf",
                                    "Kanton": "SO"
                                },
                                {
                                    "Ortname": "Kappel SO",
                                    "Kanton": "SO"
                                },
                                {
                                    "Ortname": "Gunzgen",
                                    "Kanton": "SO"
                                },
                                {
                                    "Ortname": "Boningen",
                                    "Kanton": "SO"
                                },
                                {
                                    "Ortname": "Egerkingen",
                                    "Kanton": "SO"
                                },
                                {
                                    "Ortname": "Neuendorf",
                                    "Kanton": "SO"
                                },
                                {
                                    "Ortname": "Härkingen",
                                    "Kanton": "SO"
                                },
                                {
                                    "Ortname": "Oberbuchsiten",
                                    "Kanton": "SO"
                                },
                                {
                                    "Ortname": "Niederbuchsiten",
                                    "Kanton": "SO"
                                },
                                {
                                    "Ortname": "Trimbach",
                                    "Kanton": "SO"
                                },
                                {
                                    "Ortname": "Winznau",
                                    "Kanton": "SO"
                                },
                                {
                                    "Ortname": "Obergösgen",
                                    "Kanton": "SO"
                                },
                                {
                                    "Ortname": "Lostorf",
                                    "Kanton": "SO"
                                },
                                {
                                    "Ortname": "Stüsslingen",
                                    "Kanton": "SO"
                                },
                                {
                                    "Ortname": "Rohr b. Olten",
                                    "Kanton": "SO"
                                },
                                {
                                    "Ortname": "Starrkirch-Wil",
                                    "Kanton": "SO"
                                },
                                {
                                    "Ortname": "Dulliken",
                                    "Kanton": "SO"
                                },
                                {
                                    "Ortname": "Däniken SO",
                                    "Kanton": "SO"
                                },
                                {
                                    "Ortname": "Aarburg",
                                    "Kanton": "AG"
                                },
                                {
                                    "Ortname": "Oftringen",
                                    "Kanton": "AG"
                                },
                                {
                                    "Ortname": "Allerheiligenberg",
                                    "Kanton": "SO"
                                },
                                {
                                    "Ortname": "Hauenstein",
                                    "Kanton": "SO"
                                },
                                {
                                    "Ortname": "Wisen SO",
                                    "Kanton": "SO"
                                },
                                {
                                    "Ortname": "Oensingen",
                                    "Kanton": "SO"
                                },
                                {
                                    "Ortname": "Kestenholz",
                                    "Kanton": "SO"
                                },
                                {
                                    "Ortname": "Niederbipp",
                                    "Kanton": "BE"
                                },
                                {
                                    "Ortname": "Wangen an der Aare",
                                    "Kanton": "BE"
                                },
                                {
                                    "Ortname": "Walliswil b. Wangen",
                                    "Kanton": "BE"
                                },
                                {
                                    "Ortname": "Deitingen",
                                    "Kanton": "SO"
                                },
                                {
                                    "Ortname": "Luterbach",
                                    "Kanton": "SO"
                                },
                                {
                                    "Ortname": "Balsthal",
                                    "Kanton": "SO"
                                },
                                {
                                    "Ortname": "Aedermannsdorf",
                                    "Kanton": "SO"
                                },
                                {
                                    "Ortname": "Herbetswil",
                                    "Kanton": "SO"
                                },
                                {
                                    "Ortname": "Ramiswil",
                                    "Kanton": "SO"
                                },
                                {
                                    "Ortname": "Laupersdorf",
                                    "Kanton": "SO"
                                },
                                {
                                    "Ortname": "Matzendorf",
                                    "Kanton": "SO"
                                },
                                {
                                    "Ortname": "Welschenrohr",
                                    "Kanton": "SO"
                                },
                                {
                                    "Ortname": "Gänsbrunnen",
                                    "Kanton": "SO"
                                },
                                {
                                    "Ortname": "Mümliswil",
                                    "Kanton": "SO"
                                },
                                {
                                    "Ortname": "Holderbank SO",
                                    "Kanton": "SO"
                                },
                                {
                                    "Ortname": "Zofingen",
                                    "Kanton": "AG"
                                },
                                {
                                    "Ortname": "Strengelbach",
                                    "Kanton": "AG"
                                },
                                {
                                    "Ortname": "Vordemwald",
                                    "Kanton": "AG"
                                },
                                {
                                    "Ortname": "Brittnau",
                                    "Kanton": "AG"
                                },
                                {
                                    "Ortname": "Wikon",
                                    "Kanton": "LU"
                                },
                                {
                                    "Ortname": "Mühlethal",
                                    "Kanton": "AG"
                                },
                                {
                                    "Ortname": "Uerkheim",
                                    "Kanton": "AG"
                                },
                                {
                                    "Ortname": "Bottenwil",
                                    "Kanton": "AG"
                                },
                                {
                                    "Ortname": "Rothrist",
                                    "Kanton": "AG"
                                },
                                {
                                    "Ortname": "Murgenthal",
                                    "Kanton": "AG"
                                },
                                {
                                    "Ortname": "Fulenbach",
                                    "Kanton": "SO"
                                },
                                {
                                    "Ortname": "Wolfwil",
                                    "Kanton": "SO"
                                },
                                {
                                    "Ortname": "Glashütten",
                                    "Kanton": "AG"
                                },
                                {
                                    "Ortname": "Riken AG",
                                    "Kanton": "AG"
                                },
                                {
                                    "Ortname": "Langenthal",
                                    "Kanton": "BE"
                                },
                                {
                                    "Ortname": "Schwarzhäusern",
                                    "Kanton": "BE"
                                },
                                {
                                    "Ortname": "Aarwangen",
                                    "Kanton": "BE"
                                },
                                {
                                    "Ortname": "Bannwil",
                                    "Kanton": "BE"
                                },
                                {
                                    "Ortname": "Roggwil BE",
                                    "Kanton": "BE"
                                },
                                {
                                    "Ortname": "St. Urban",
                                    "Kanton": "LU"
                                },
                                {
                                    "Ortname": "Untersteckholz",
                                    "Kanton": "BE"
                                },
                                {
                                    "Ortname": "Melchnau",
                                    "Kanton": "BE"
                                },
                                {
                                    "Ortname": "Busswil b. Melchnau",
                                    "Kanton": "BE"
                                },
                                {
                                    "Ortname": "Gondiswil",
                                    "Kanton": "BE"
                                },
                                {
                                    "Ortname": "Reisiswil",
                                    "Kanton": "BE"
                                },
                                {
                                    "Ortname": "Bützberg",
                                    "Kanton": "BE"
                                },
                                {
                                    "Ortname": "Wynau",
                                    "Kanton": "BE"
                                },
                                {
                                    "Ortname": "Obersteckholz",
                                    "Kanton": "BE"
                                },
                                {
                                    "Ortname": "Lotzwil",
                                    "Kanton": "BE"
                                },
                                {
                                    "Ortname": "Rütschelen",
                                    "Kanton": "BE"
                                },
                                {
                                    "Ortname": "Madiswil",
                                    "Kanton": "BE"
                                },
                                {
                                    "Ortname": "Leimiswil",
                                    "Kanton": "BE"
                                },
                                {
                                    "Ortname": "Kleindietwil",
                                    "Kanton": "BE"
                                },
                                {
                                    "Ortname": "Ursenbach",
                                    "Kanton": "BE"
                                },
                                {
                                    "Ortname": "Rohrbach",
                                    "Kanton": "BE"
                                },
                                {
                                    "Ortname": "Walterswil BE",
                                    "Kanton": "BE"
                                },
                                {
                                    "Ortname": "Oeschenbach",
                                    "Kanton": "BE"
                                },
                                {
                                    "Ortname": "Auswil",
                                    "Kanton": "BE"
                                },
                                {
                                    "Ortname": "Rohrbachgraben",
                                    "Kanton": "BE"
                                },
                                {
                                    "Ortname": "Huttwil",
                                    "Kanton": "BE"
                                },
                                {
                                    "Ortname": "Eriswil",
                                    "Kanton": "BE"
                                },
                                {
                                    "Ortname": "Schwarzenbach (Huttwil)",
                                    "Kanton": "BE"
                                },
                                {
                                    "Ortname": "Wyssachen",
                                    "Kanton": "BE"
                                },
                                {
                                    "Ortname": "Aarau",
                                    "Kanton": "AG"
                                },
                                {
                                    "Ortname": "Aarau",
                                    "Kanton": "AG"
                                },
                                {
                                    "Ortname": "Schönenwerd",
                                    "Kanton": "SO"
                                },
                                {
                                    "Ortname": "Niedergösgen",
                                    "Kanton": "SO"
                                },
                                {
                                    "Ortname": "Gretzenbach",
                                    "Kanton": "SO"
                                },
                                {
                                    "Ortname": "Erlinsbach SO",
                                    "Kanton": "SO"
                                },
                                {
                                    "Ortname": "Barmelweid",
                                    "Kanton": "AG"
                                },
                                {
                                    "Ortname": "Rombach",
                                    "Kanton": "AG"
                                },
                                {
                                    "Ortname": "Biberstein",
                                    "Kanton": "AG"
                                },
                                {
                                    "Ortname": "Küttigen",
                                    "Kanton": "AG"
                                },
                                {
                                    "Ortname": "Asp",
                                    "Kanton": "AG"
                                },
                                {
                                    "Ortname": "Densbüren",
                                    "Kanton": "AG"
                                },
                                {
                                    "Ortname": "Herznach",
                                    "Kanton": "AG"
                                },
                                {
                                    "Ortname": "Ueken",
                                    "Kanton": "AG"
                                },
                                {
                                    "Ortname": "Aarau Rohr",
                                    "Kanton": "AG"
                                },
                                {
                                    "Ortname": "Buchs AG",
                                    "Kanton": "AG"
                                },
                                {
                                    "Ortname": "Suhr",
                                    "Kanton": "AG"
                                },
                                {
                                    "Ortname": "Unterentfelden",
                                    "Kanton": "AG"
                                },
                                {
                                    "Ortname": "Oberentfelden",
                                    "Kanton": "AG"
                                },
                                {
                                    "Ortname": "Muhen",
                                    "Kanton": "AG"
                                },
                                {
                                    "Ortname": "Schöftland",
                                    "Kanton": "AG"
                                },
                                {
                                    "Ortname": "Hirschthal",
                                    "Kanton": "AG"
                                },
                                {
                                    "Ortname": "Holziken",
                                    "Kanton": "AG"
                                },
                                {
                                    "Ortname": "Schlossrued",
                                    "Kanton": "AG"
                                },
                                {
                                    "Ortname": "Schmiedrued",
                                    "Kanton": "AG"
                                },
                                {
                                    "Ortname": "Walde AG",
                                    "Kanton": "AG"
                                },
                                {
                                    "Ortname": "Staffelbach",
                                    "Kanton": "AG"
                                },
                                {
                                    "Ortname": "Kirchleerau",
                                    "Kanton": "AG"
                                },
                                {
                                    "Ortname": "Moosleerau",
                                    "Kanton": "AG"
                                },
                                {
                                    "Ortname": "Attelwil",
                                    "Kanton": "AG"
                                },
                                {
                                    "Ortname": "Reitnau",
                                    "Kanton": "AG"
                                },
                                {
                                    "Ortname": "Rupperswil",
                                    "Kanton": "AG"
                                },
                                {
                                    "Ortname": "Wildegg",
                                    "Kanton": "AG"
                                },
                                {
                                    "Ortname": "Auenstein",
                                    "Kanton": "AG"
                                },
                                {
                                    "Ortname": "Veltheim AG",
                                    "Kanton": "AG"
                                },
                                {
                                    "Ortname": "Schinznach Dorf",
                                    "Kanton": "AG"
                                },
                                {
                                    "Ortname": "Oberflachs",
                                    "Kanton": "AG"
                                },
                                {
                                    "Ortname": "Thalheim AG",
                                    "Kanton": "AG"
                                },
                                {
                                    "Ortname": "Holderbank AG",
                                    "Kanton": "AG"
                                },
                                {
                                    "Ortname": "Möriken AG",
                                    "Kanton": "AG"
                                },
                                {
                                    "Ortname": "Schinznach Bad",
                                    "Kanton": "AG"
                                },
                                {
                                    "Ortname": "Habsburg",
                                    "Kanton": "AG"
                                },
                                {
                                    "Ortname": "Scherz",
                                    "Kanton": "AG"
                                },
                                {
                                    "Ortname": "Brugg AG",
                                    "Kanton": "AG"
                                },
                                {
                                    "Ortname": "Windisch",
                                    "Kanton": "AG"
                                },
                                {
                                    "Ortname": "Hausen AG",
                                    "Kanton": "AG"
                                },
                                {
                                    "Ortname": "Villnachern",
                                    "Kanton": "AG"
                                },
                                {
                                    "Ortname": "Umiken",
                                    "Kanton": "AG"
                                },
                                {
                                    "Ortname": "Riniken",
                                    "Kanton": "AG"
                                },
                                {
                                    "Ortname": "Stilli",
                                    "Kanton": "AG"
                                },
                                {
                                    "Ortname": "Villigen",
                                    "Kanton": "AG"
                                },
                                {
                                    "Ortname": "Rüfenach AG",
                                    "Kanton": "AG"
                                },
                                {
                                    "Ortname": "Remigen",
                                    "Kanton": "AG"
                                },
                                {
                                    "Ortname": "Mönthal",
                                    "Kanton": "AG"
                                },
                                {
                                    "Ortname": "Birr",
                                    "Kanton": "AG"
                                },
                                {
                                    "Ortname": "Lupfig",
                                    "Kanton": "AG"
                                },
                                {
                                    "Ortname": "Mülligen",
                                    "Kanton": "AG"
                                },
                                {
                                    "Ortname": "Birrhard",
                                    "Kanton": "AG"
                                },
                                {
                                    "Ortname": "Effingen",
                                    "Kanton": "AG"
                                },
                                {
                                    "Ortname": "Bözen",
                                    "Kanton": "AG"
                                },
                                {
                                    "Ortname": "Elfingen",
                                    "Kanton": "AG"
                                },
                                {
                                    "Ortname": "Zeihen",
                                    "Kanton": "AG"
                                },
                                {
                                    "Ortname": "Hornussen",
                                    "Kanton": "AG"
                                },
                                {
                                    "Ortname": "Frick",
                                    "Kanton": "AG"
                                },
                                {
                                    "Ortname": "Oeschgen",
                                    "Kanton": "AG"
                                },
                                {
                                    "Ortname": "Gipf-Oberfrick",
                                    "Kanton": "AG"
                                },
                                {
                                    "Ortname": "Wittnau",
                                    "Kanton": "AG"
                                },
                                {
                                    "Ortname": "Wölflinswil",
                                    "Kanton": "AG"
                                },
                                {
                                    "Ortname": "Oberhof",
                                    "Kanton": "AG"
                                },
                                {
                                    "Ortname": "Eiken",
                                    "Kanton": "AG"
                                },
                                {
                                    "Ortname": "Turgi",
                                    "Kanton": "AG"
                                },
                                {
                                    "Ortname": "Siggenthal Station",
                                    "Kanton": "AG"
                                },
                                {
                                    "Ortname": "Würenlingen",
                                    "Kanton": "AG"
                                },
                                {
                                    "Ortname": "Endingen",
                                    "Kanton": "AG"
                                },
                                {
                                    "Ortname": "Unterendingen",
                                    "Kanton": "AG"
                                },
                                {
                                    "Ortname": "Tegerfelden",
                                    "Kanton": "AG"
                                },
                                {
                                    "Ortname": "Döttingen",
                                    "Kanton": "AG"
                                },
                                {
                                    "Ortname": "Klingnau",
                                    "Kanton": "AG"
                                },
                                {
                                    "Ortname": "Kleindöttingen",
                                    "Kanton": "AG"
                                },
                                {
                                    "Ortname": "Böttstein",
                                    "Kanton": "AG"
                                },
                                {
                                    "Ortname": "Leuggern",
                                    "Kanton": "AG"
                                },
                                {
                                    "Ortname": "Hettenschwil",
                                    "Kanton": "AG"
                                },
                                {
                                    "Ortname": "Mandach",
                                    "Kanton": "AG"
                                },
                                {
                                    "Ortname": "Koblenz",
                                    "Kanton": "AG"
                                },
                                {
                                    "Ortname": "Baden",
                                    "Kanton": "AG"
                                },
                                {
                                    "Ortname": "Ennetbaden",
                                    "Kanton": "AG"
                                },
                                {
                                    "Ortname": "Baden",
                                    "Kanton": "AG"
                                },
                                {
                                    "Ortname": "Gebenstorf",
                                    "Kanton": "AG"
                                },
                                {
                                    "Ortname": "Birmenstorf AG",
                                    "Kanton": "AG"
                                },
                                {
                                    "Ortname": "Nussbaumen AG",
                                    "Kanton": "AG"
                                },
                                {
                                    "Ortname": "Kirchdorf AG",
                                    "Kanton": "AG"
                                },
                                {
                                    "Ortname": "Untersiggenthal",
                                    "Kanton": "AG"
                                },
                                {
                                    "Ortname": "Ehrendingen",
                                    "Kanton": "AG"
                                },
                                {
                                    "Ortname": "Freienwil",
                                    "Kanton": "AG"
                                },
                                {
                                    "Ortname": "Schneisingen",
                                    "Kanton": "AG"
                                },
                                {
                                    "Ortname": "Lengnau AG",
                                    "Kanton": "AG"
                                },
                                {
                                    "Ortname": "Wettingen",
                                    "Kanton": "AG"
                                },
                                {
                                    "Ortname": "Neuenhof",
                                    "Kanton": "AG"
                                },
                                {
                                    "Ortname": "Fislisbach",
                                    "Kanton": "AG"
                                },
                                {
                                    "Ortname": "Niederrohrdorf",
                                    "Kanton": "AG"
                                },
                                {
                                    "Ortname": "Künten",
                                    "Kanton": "AG"
                                },
                                {
                                    "Ortname": "Eggenwil",
                                    "Kanton": "AG"
                                },
                                {
                                    "Ortname": "Oberrohrdorf",
                                    "Kanton": "AG"
                                },
                                {
                                    "Ortname": "Remetschwil",
                                    "Kanton": "AG"
                                },
                                {
                                    "Ortname": "Bellikon",
                                    "Kanton": "AG"
                                },
                                {
                                    "Ortname": "Hunzenschwil",
                                    "Kanton": "AG"
                                },
                                {
                                    "Ortname": "Schafisheim",
                                    "Kanton": "AG"
                                },
                                {
                                    "Ortname": "Othmarsingen",
                                    "Kanton": "AG"
                                },
                                {
                                    "Ortname": "Brunegg",
                                    "Kanton": "AG"
                                },
                                {
                                    "Ortname": "Mägenwil",
                                    "Kanton": "AG"
                                },
                                {
                                    "Ortname": "Mellingen",
                                    "Kanton": "AG"
                                },
                                {
                                    "Ortname": "Wohlenschwil",
                                    "Kanton": "AG"
                                },
                                {
                                    "Ortname": "Tägerig",
                                    "Kanton": "AG"
                                },
                                {
                                    "Ortname": "Nesselnbach",
                                    "Kanton": "AG"
                                },
                                {
                                    "Ortname": "Niederwil AG",
                                    "Kanton": "AG"
                                },
                                {
                                    "Ortname": "Fischbach-Göslikon",
                                    "Kanton": "AG"
                                },
                                {
                                    "Ortname": "Lenzburg",
                                    "Kanton": "AG"
                                },
                                {
                                    "Ortname": "Ammerswil AG",
                                    "Kanton": "AG"
                                },
                                {
                                    "Ortname": "Staufen",
                                    "Kanton": "AG"
                                },
                                {
                                    "Ortname": "Hendschiken",
                                    "Kanton": "AG"
                                },
                                {
                                    "Ortname": "Dottikon",
                                    "Kanton": "AG"
                                },
                                {
                                    "Ortname": "Dintikon",
                                    "Kanton": "AG"
                                },
                                {
                                    "Ortname": "Hägglingen",
                                    "Kanton": "AG"
                                },
                                {
                                    "Ortname": "Stetten AG",
                                    "Kanton": "AG"
                                },
                                {
                                    "Ortname": "Wohlen AG",
                                    "Kanton": "AG"
                                },
                                {
                                    "Ortname": "Anglikon",
                                    "Kanton": "AG"
                                },
                                {
                                    "Ortname": "Büttikon AG",
                                    "Kanton": "AG"
                                },
                                {
                                    "Ortname": "Villmergen",
                                    "Kanton": "AG"
                                },
                                {
                                    "Ortname": "Hilfikon",
                                    "Kanton": "AG"
                                },
                                {
                                    "Ortname": "Sarmenstorf",
                                    "Kanton": "AG"
                                },
                                {
                                    "Ortname": "Fahrwangen",
                                    "Kanton": "AG"
                                },
                                {
                                    "Ortname": "Meisterschwanden",
                                    "Kanton": "AG"
                                },
                                {
                                    "Ortname": "Tennwil",
                                    "Kanton": "AG"
                                },
                                {
                                    "Ortname": "Bettwil",
                                    "Kanton": "AG"
                                },
                                {
                                    "Ortname": "Bremgarten AG",
                                    "Kanton": "AG"
                                },
                                {
                                    "Ortname": "Zufikon",
                                    "Kanton": "AG"
                                },
                                {
                                    "Ortname": "Waltenschwil",
                                    "Kanton": "AG"
                                },
                                {
                                    "Ortname": "Boswil",
                                    "Kanton": "AG"
                                },
                                {
                                    "Ortname": "Bünzen",
                                    "Kanton": "AG"
                                },
                                {
                                    "Ortname": "Kallern",
                                    "Kanton": "AG"
                                },
                                {
                                    "Ortname": "Hermetschwil-Staffeln",
                                    "Kanton": "AG"
                                },
                                {
                                    "Ortname": "Besenbüren",
                                    "Kanton": "AG"
                                },
                                {
                                    "Ortname": "Aristau",
                                    "Kanton": "AG"
                                },
                                {
                                    "Ortname": "Muri AG",
                                    "Kanton": "AG"
                                },
                                {
                                    "Ortname": "Buttwil",
                                    "Kanton": "AG"
                                },
                                {
                                    "Ortname": "Merenschwand",
                                    "Kanton": "AG"
                                },
                                {
                                    "Ortname": "Benzenschwil",
                                    "Kanton": "AG"
                                },
                                {
                                    "Ortname": "Beinwil (Freiamt)",
                                    "Kanton": "AG"
                                },
                                {
                                    "Ortname": "Mühlau",
                                    "Kanton": "AG"
                                },
                                {
                                    "Ortname": "Sins",
                                    "Kanton": "AG"
                                },
                                {
                                    "Ortname": "Auw",
                                    "Kanton": "AG"
                                },
                                {
                                    "Ortname": "Aettenschwil",
                                    "Kanton": "AG"
                                },
                                {
                                    "Ortname": "Abtwil AG",
                                    "Kanton": "AG"
                                },
                                {
                                    "Ortname": "Oberrüti",
                                    "Kanton": "AG"
                                },
                                {
                                    "Ortname": "Alikon",
                                    "Kanton": "AG"
                                },
                                {
                                    "Ortname": "Niederlenz",
                                    "Kanton": "AG"
                                },
                                {
                                    "Ortname": "Seon",
                                    "Kanton": "AG"
                                },
                                {
                                    "Ortname": "Egliswil",
                                    "Kanton": "AG"
                                },
                                {
                                    "Ortname": "Hallwil",
                                    "Kanton": "AG"
                                },
                                {
                                    "Ortname": "Boniswil",
                                    "Kanton": "AG"
                                },
                                {
                                    "Ortname": "Seengen",
                                    "Kanton": "AG"
                                },
                                {
                                    "Ortname": "Birrwil",
                                    "Kanton": "AG"
                                },
                                {
                                    "Ortname": "Beinwil am See",
                                    "Kanton": "AG"
                                },
                                {
                                    "Ortname": "Gränichen",
                                    "Kanton": "AG"
                                },
                                {
                                    "Ortname": "Teufenthal AG",
                                    "Kanton": "AG"
                                },
                                {
                                    "Ortname": "Dürrenäsch",
                                    "Kanton": "AG"
                                },
                                {
                                    "Ortname": "Leutwil",
                                    "Kanton": "AG"
                                },
                                {
                                    "Ortname": "Unterkulm",
                                    "Kanton": "AG"
                                },
                                {
                                    "Ortname": "Oberkulm",
                                    "Kanton": "AG"
                                },
                                {
                                    "Ortname": "Gontenschwil",
                                    "Kanton": "AG"
                                },
                                {
                                    "Ortname": "Zetzwil",
                                    "Kanton": "AG"
                                },
                                {
                                    "Ortname": "Leimbach AG",
                                    "Kanton": "AG"
                                },
                                {
                                    "Ortname": "Reinach AG",
                                    "Kanton": "AG"
                                },
                                {
                                    "Ortname": "Pfeffikon LU",
                                    "Kanton": "LU"
                                },
                                {
                                    "Ortname": "Burg AG",
                                    "Kanton": "AG"
                                },
                                {
                                    "Ortname": "Menziken",
                                    "Kanton": "AG"
                                },
                                {
                                    "Ortname": "Kölliken",
                                    "Kanton": "AG"
                                },
                                {
                                    "Ortname": "Safenwil",
                                    "Kanton": "AG"
                                },
                                {
                                    "Ortname": "Walterswil SO",
                                    "Kanton": "SO"
                                },
                                {
                                    "Ortname": "Luzern",
                                    "Kanton": "LU"
                                },
                                {
                                    "Ortname": "Luzern",
                                    "Kanton": "LU"
                                },
                                {
                                    "Ortname": "Luzern",
                                    "Kanton": "LU"
                                },
                                {
                                    "Ortname": "Luzern",
                                    "Kanton": "LU"
                                },
                                {
                                    "Ortname": "Luzern",
                                    "Kanton": "LU"
                                },
                                {
                                    "Ortname": "Kriens",
                                    "Kanton": "LU"
                                },
                                {
                                    "Ortname": "Obernau",
                                    "Kanton": "LU"
                                },
                                {
                                    "Ortname": "Eigenthal",
                                    "Kanton": "LU"
                                },
                                {
                                    "Ortname": "Luzern",
                                    "Kanton": "LU"
                                },
                                {
                                    "Ortname": "Luzern",
                                    "Kanton": "LU"
                                },
                                {
                                    "Ortname": "Hellbühl",
                                    "Kanton": "LU"
                                },
                                {
                                    "Ortname": "Ruswil",
                                    "Kanton": "LU"
                                },
                                {
                                    "Ortname": "Sigigen",
                                    "Kanton": "LU"
                                },
                                {
                                    "Ortname": "Buttisholz",
                                    "Kanton": "LU"
                                },
                                {
                                    "Ortname": "Emmenbrücke",
                                    "Kanton": "LU"
                                },
                                {
                                    "Ortname": "Grosswangen",
                                    "Kanton": "LU"
                                },
                                {
                                    "Ortname": "Rothenburg",
                                    "Kanton": "LU"
                                },
                                {
                                    "Ortname": "Hildisrieden",
                                    "Kanton": "LU"
                                },
                                {
                                    "Ortname": "Neudorf",
                                    "Kanton": "LU"
                                },
                                {
                                    "Ortname": "Rain",
                                    "Kanton": "LU"
                                },
                                {
                                    "Ortname": "Römerswil LU",
                                    "Kanton": "LU"
                                },
                                {
                                    "Ortname": "Herlisberg",
                                    "Kanton": "LU"
                                },
                                {
                                    "Ortname": "Ebikon",
                                    "Kanton": "LU"
                                },
                                {
                                    "Ortname": "Emmen",
                                    "Kanton": "LU"
                                },
                                {
                                    "Ortname": "Buchrain",
                                    "Kanton": "LU"
                                },
                                {
                                    "Ortname": "Inwil",
                                    "Kanton": "LU"
                                },
                                {
                                    "Ortname": "Perlen",
                                    "Kanton": "LU"
                                },
                                {
                                    "Ortname": "Dierikon",
                                    "Kanton": "LU"
                                },
                                {
                                    "Ortname": "Root",
                                    "Kanton": "LU"
                                },
                                {
                                    "Ortname": "Gisikon",
                                    "Kanton": "LU"
                                },
                                {
                                    "Ortname": "Dietwil",
                                    "Kanton": "AG"
                                },
                                {
                                    "Ortname": "Adligenswil",
                                    "Kanton": "LU"
                                },
                                {
                                    "Ortname": "Udligenswil",
                                    "Kanton": "LU"
                                },
                                {
                                    "Ortname": "Meggen",
                                    "Kanton": "LU"
                                },
                                {
                                    "Ortname": "Kastanienbaum",
                                    "Kanton": "LU"
                                },
                                {
                                    "Ortname": "Horw",
                                    "Kanton": "LU"
                                },
                                {
                                    "Ortname": "Hergiswil NW",
                                    "Kanton": "NW"
                                },
                                {
                                    "Ortname": "Alpnachstad",
                                    "Kanton": "OW"
                                },
                                {
                                    "Ortname": "Alpnach Dorf",
                                    "Kanton": "OW"
                                },
                                {
                                    "Ortname": "Kägiswil",
                                    "Kanton": "OW"
                                },
                                {
                                    "Ortname": "Sarnen",
                                    "Kanton": "OW"
                                },
                                {
                                    "Ortname": "Ramersberg",
                                    "Kanton": "OW"
                                },
                                {
                                    "Ortname": "Melchsee-Frutt",
                                    "Kanton": "OW"
                                },
                                {
                                    "Ortname": "Wilen (Sarnen)",
                                    "Kanton": "OW"
                                },
                                {
                                    "Ortname": "Stalden (Sarnen)",
                                    "Kanton": "OW"
                                },
                                {
                                    "Ortname": "Kerns",
                                    "Kanton": "OW"
                                },
                                {
                                    "Ortname": "St. Niklausen OW",
                                    "Kanton": "OW"
                                },
                                {
                                    "Ortname": "Melchtal",
                                    "Kanton": "OW"
                                },
                                {
                                    "Ortname": "Sachseln",
                                    "Kanton": "OW"
                                },
                                {
                                    "Ortname": "Flüeli-Ranft",
                                    "Kanton": "OW"
                                },
                                {
                                    "Ortname": "Giswil",
                                    "Kanton": "OW"
                                },
                                {
                                    "Ortname": "Bürglen OW",
                                    "Kanton": "OW"
                                },
                                {
                                    "Ortname": "Lungern",
                                    "Kanton": "OW"
                                },
                                {
                                    "Ortname": "Brünig",
                                    "Kanton": "BE"
                                },
                                {
                                    "Ortname": "Hasliberg Hohfluh",
                                    "Kanton": "BE"
                                },
                                {
                                    "Ortname": "Hasliberg Wasserwendi",
                                    "Kanton": "BE"
                                },
                                {
                                    "Ortname": "Hasliberg Goldern",
                                    "Kanton": "BE"
                                },
                                {
                                    "Ortname": "Hasliberg Reuti",
                                    "Kanton": "BE"
                                },
                                {
                                    "Ortname": "Pilatus Kulm",
                                    "Kanton": "OW"
                                },
                                {
                                    "Ortname": "Malters",
                                    "Kanton": "LU"
                                },
                                {
                                    "Ortname": "Schwarzenberg LU",
                                    "Kanton": "LU"
                                },
                                {
                                    "Ortname": "Schachen LU",
                                    "Kanton": "LU"
                                },
                                {
                                    "Ortname": "Werthenstein",
                                    "Kanton": "LU"
                                },
                                {
                                    "Ortname": "Wolhusen",
                                    "Kanton": "LU"
                                },
                                {
                                    "Ortname": "Steinhuserberg",
                                    "Kanton": "LU"
                                },
                                {
                                    "Ortname": "Fontannen b. Wolhusen",
                                    "Kanton": "LU"
                                },
                                {
                                    "Ortname": "Doppleschwand",
                                    "Kanton": "LU"
                                },
                                {
                                    "Ortname": "Romoos",
                                    "Kanton": "LU"
                                },
                                {
                                    "Ortname": "Menznau",
                                    "Kanton": "LU"
                                },
                                {
                                    "Ortname": "Geiss",
                                    "Kanton": "LU"
                                },
                                {
                                    "Ortname": "Menzberg",
                                    "Kanton": "LU"
                                },
                                {
                                    "Ortname": "Daiwil",
                                    "Kanton": "LU"
                                },
                                {
                                    "Ortname": "Willisau",
                                    "Kanton": "LU"
                                },
                                {
                                    "Ortname": "Rohrmatt",
                                    "Kanton": "LU"
                                },
                                {
                                    "Ortname": "Hergiswil b. Willisau",
                                    "Kanton": "LU"
                                },
                                {
                                    "Ortname": "Gettnau",
                                    "Kanton": "LU"
                                },
                                {
                                    "Ortname": "Ohmstal",
                                    "Kanton": "LU"
                                },
                                {
                                    "Ortname": "Zell LU",
                                    "Kanton": "LU"
                                },
                                {
                                    "Ortname": "Fischbach LU",
                                    "Kanton": "LU"
                                },
                                {
                                    "Ortname": "Grossdietwil",
                                    "Kanton": "LU"
                                },
                                {
                                    "Ortname": "Altbüron",
                                    "Kanton": "LU"
                                },
                                {
                                    "Ortname": "Hüswil",
                                    "Kanton": "LU"
                                },
                                {
                                    "Ortname": "Ufhusen",
                                    "Kanton": "LU"
                                },
                                {
                                    "Ortname": "Hofstatt",
                                    "Kanton": "LU"
                                },
                                {
                                    "Ortname": "Luthern",
                                    "Kanton": "LU"
                                },
                                {
                                    "Ortname": "Entlebuch",
                                    "Kanton": "LU"
                                },
                                {
                                    "Ortname": "Ebnet",
                                    "Kanton": "LU"
                                },
                                {
                                    "Ortname": "Rengg",
                                    "Kanton": "LU"
                                },
                                {
                                    "Ortname": "Finsterwald b. Entlebuch",
                                    "Kanton": "LU"
                                },
                                {
                                    "Ortname": "Hasle LU",
                                    "Kanton": "LU"
                                },
                                {
                                    "Ortname": "Bramboden",
                                    "Kanton": "LU"
                                },
                                {
                                    "Ortname": "Schüpfheim",
                                    "Kanton": "LU"
                                },
                                {
                                    "Ortname": "Flühli LU",
                                    "Kanton": "LU"
                                },
                                {
                                    "Ortname": "Sörenberg",
                                    "Kanton": "LU"
                                },
                                {
                                    "Ortname": "Escholzmatt",
                                    "Kanton": "LU"
                                },
                                {
                                    "Ortname": "Wiggen",
                                    "Kanton": "LU"
                                },
                                {
                                    "Ortname": "Marbach LU",
                                    "Kanton": "LU"
                                },
                                {
                                    "Ortname": "Schangnau",
                                    "Kanton": "BE"
                                },
                                {
                                    "Ortname": "Sempach Station",
                                    "Kanton": "LU"
                                },
                                {
                                    "Ortname": "Sempach",
                                    "Kanton": "LU"
                                },
                                {
                                    "Ortname": "Eich",
                                    "Kanton": "LU"
                                },
                                {
                                    "Ortname": "Neuenkirch",
                                    "Kanton": "LU"
                                },
                                {
                                    "Ortname": "Nottwil",
                                    "Kanton": "LU"
                                },
                                {
                                    "Ortname": "Oberkirch LU",
                                    "Kanton": "LU"
                                },
                                {
                                    "Ortname": "Sursee",
                                    "Kanton": "LU"
                                },
                                {
                                    "Ortname": "Buchs LU",
                                    "Kanton": "LU"
                                },
                                {
                                    "Ortname": "St. Erhard",
                                    "Kanton": "LU"
                                },
                                {
                                    "Ortname": "Knutwil",
                                    "Kanton": "LU"
                                },
                                {
                                    "Ortname": "Schenkon",
                                    "Kanton": "LU"
                                },
                                {
                                    "Ortname": "Beromünster",
                                    "Kanton": "LU"
                                },
                                {
                                    "Ortname": "Schwarzenbach LU",
                                    "Kanton": "LU"
                                },
                                {
                                    "Ortname": "Mauensee",
                                    "Kanton": "LU"
                                },
                                {
                                    "Ortname": "Kottwil",
                                    "Kanton": "LU"
                                },
                                {
                                    "Ortname": "Ettiswil",
                                    "Kanton": "LU"
                                },
                                {
                                    "Ortname": "Rickenbach LU",
                                    "Kanton": "LU"
                                },
                                {
                                    "Ortname": "Gunzwil",
                                    "Kanton": "LU"
                                },
                                {
                                    "Ortname": "Schlierbach",
                                    "Kanton": "LU"
                                },
                                {
                                    "Ortname": "Geuensee",
                                    "Kanton": "LU"
                                },
                                {
                                    "Ortname": "Büron",
                                    "Kanton": "LU"
                                },
                                {
                                    "Ortname": "Triengen",
                                    "Kanton": "LU"
                                },
                                {
                                    "Ortname": "Kulmerau",
                                    "Kanton": "LU"
                                },
                                {
                                    "Ortname": "Wilihof",
                                    "Kanton": "LU"
                                },
                                {
                                    "Ortname": "Winikon",
                                    "Kanton": "LU"
                                },
                                {
                                    "Ortname": "Wauwil",
                                    "Kanton": "LU"
                                },
                                {
                                    "Ortname": "Egolzwil",
                                    "Kanton": "LU"
                                },
                                {
                                    "Ortname": "Nebikon",
                                    "Kanton": "LU"
                                },
                                {
                                    "Ortname": "Ebersecken",
                                    "Kanton": "LU"
                                },
                                {
                                    "Ortname": "Altishofen",
                                    "Kanton": "LU"
                                },
                                {
                                    "Ortname": "Schötz",
                                    "Kanton": "LU"
                                },
                                {
                                    "Ortname": "Alberswil",
                                    "Kanton": "LU"
                                },
                                {
                                    "Ortname": "Dagmersellen",
                                    "Kanton": "LU"
                                },
                                {
                                    "Ortname": "Uffikon",
                                    "Kanton": "LU"
                                },
                                {
                                    "Ortname": "Reiden",
                                    "Kanton": "LU"
                                },
                                {
                                    "Ortname": "Reidermoos",
                                    "Kanton": "LU"
                                },
                                {
                                    "Ortname": "Langnau b. Reiden",
                                    "Kanton": "LU"
                                },
                                {
                                    "Ortname": "Richenthal",
                                    "Kanton": "LU"
                                },
                                {
                                    "Ortname": "Pfaffnau",
                                    "Kanton": "LU"
                                },
                                {
                                    "Ortname": "Roggliswil",
                                    "Kanton": "LU"
                                },
                                {
                                    "Ortname": "Eschenbach LU",
                                    "Kanton": "LU"
                                },
                                {
                                    "Ortname": "Ballwil",
                                    "Kanton": "LU"
                                },
                                {
                                    "Ortname": "Hohenrain",
                                    "Kanton": "LU"
                                },
                                {
                                    "Ortname": "Kleinwangen",
                                    "Kanton": "LU"
                                },
                                {
                                    "Ortname": "Hochdorf",
                                    "Kanton": "LU"
                                },
                                {
                                    "Ortname": "Urswil",
                                    "Kanton": "LU"
                                },
                                {
                                    "Ortname": "Baldegg",
                                    "Kanton": "LU"
                                },
                                {
                                    "Ortname": "Gelfingen",
                                    "Kanton": "LU"
                                },
                                {
                                    "Ortname": "Hitzkirch",
                                    "Kanton": "LU"
                                },
                                {
                                    "Ortname": "Retschwil",
                                    "Kanton": "LU"
                                },
                                {
                                    "Ortname": "Müswangen",
                                    "Kanton": "LU"
                                },
                                {
                                    "Ortname": "Altwis",
                                    "Kanton": "LU"
                                },
                                {
                                    "Ortname": "Aesch LU",
                                    "Kanton": "LU"
                                },
                                {
                                    "Ortname": "Schongau",
                                    "Kanton": "LU"
                                },
                                {
                                    "Ortname": "Ermensee",
                                    "Kanton": "LU"
                                },
                                {
                                    "Ortname": "Mosen",
                                    "Kanton": "LU"
                                },
                                {
                                    "Ortname": "Zug",
                                    "Kanton": "ZG"
                                },
                                {
                                    "Ortname": "Edlibach",
                                    "Kanton": "ZG"
                                },
                                {
                                    "Ortname": "Finstersee",
                                    "Kanton": "ZG"
                                },
                                {
                                    "Ortname": "Allenwinden",
                                    "Kanton": "ZG"
                                },
                                {
                                    "Ortname": "Morgarten",
                                    "Kanton": "ZG"
                                },
                                {
                                    "Ortname": "Steinhausen",
                                    "Kanton": "ZG"
                                },
                                {
                                    "Ortname": "Menzingen",
                                    "Kanton": "ZG"
                                },
                                {
                                    "Ortname": "Unterägeri",
                                    "Kanton": "ZG"
                                },
                                {
                                    "Ortname": "Neuägeri",
                                    "Kanton": "ZG"
                                },
                                {
                                    "Ortname": "Oberägeri",
                                    "Kanton": "ZG"
                                },
                                {
                                    "Ortname": "Alosen",
                                    "Kanton": "ZG"
                                },
                                {
                                    "Ortname": "Zugerberg",
                                    "Kanton": "ZG"
                                },
                                {
                                    "Ortname": "Oberwil b. Zug",
                                    "Kanton": "ZG"
                                },
                                {
                                    "Ortname": "Walchwil",
                                    "Kanton": "ZG"
                                },
                                {
                                    "Ortname": "Cham",
                                    "Kanton": "ZG"
                                },
                                {
                                    "Ortname": "Hünenberg",
                                    "Kanton": "ZG"
                                },
                                {
                                    "Ortname": "Hagendorn",
                                    "Kanton": "ZG"
                                },
                                {
                                    "Ortname": "Baar",
                                    "Kanton": "ZG"
                                },
                                {
                                    "Ortname": "Rotkreuz",
                                    "Kanton": "ZG"
                                },
                                {
                                    "Ortname": "Meierskappel",
                                    "Kanton": "LU"
                                },
                                {
                                    "Ortname": "Neuheim",
                                    "Kanton": "ZG"
                                },
                                {
                                    "Ortname": "Weggis",
                                    "Kanton": "LU"
                                },
                                {
                                    "Ortname": "Vitznau",
                                    "Kanton": "LU"
                                },
                                {
                                    "Ortname": "Rigi Kaltbad",
                                    "Kanton": "LU"
                                },
                                {
                                    "Ortname": "Stansstad",
                                    "Kanton": "NW"
                                },
                                {
                                    "Ortname": "Obbürgen",
                                    "Kanton": "NW"
                                },
                                {
                                    "Ortname": "Kehrsiten",
                                    "Kanton": "NW"
                                },
                                {
                                    "Ortname": "Stans",
                                    "Kanton": "NW"
                                },
                                {
                                    "Ortname": "Ennetmoos",
                                    "Kanton": "NW"
                                },
                                {
                                    "Ortname": "Ennetbürgen",
                                    "Kanton": "NW"
                                },
                                {
                                    "Ortname": "Buochs",
                                    "Kanton": "NW"
                                },
                                {
                                    "Ortname": "Beckenried",
                                    "Kanton": "NW"
                                },
                                {
                                    "Ortname": "Emmetten",
                                    "Kanton": "NW"
                                },
                                {
                                    "Ortname": "Seelisberg",
                                    "Kanton": "UR"
                                },
                                {
                                    "Ortname": "Büren NW",
                                    "Kanton": "NW"
                                },
                                {
                                    "Ortname": "Dallenwil",
                                    "Kanton": "NW"
                                },
                                {
                                    "Ortname": "Niederrickenbach",
                                    "Kanton": "NW"
                                },
                                {
                                    "Ortname": "Wolfenschiessen",
                                    "Kanton": "NW"
                                },
                                {
                                    "Ortname": "Oberrickenbach",
                                    "Kanton": "NW"
                                },
                                {
                                    "Ortname": "Grafenort",
                                    "Kanton": "OW"
                                },
                                {
                                    "Ortname": "Engelberg",
                                    "Kanton": "OW"
                                },
                                {
                                    "Ortname": "Merlischachen",
                                    "Kanton": "SZ"
                                },
                                {
                                    "Ortname": "Küssnacht am Rigi",
                                    "Kanton": "SZ"
                                },
                                {
                                    "Ortname": "Greppen",
                                    "Kanton": "LU"
                                },
                                {
                                    "Ortname": "Immensee",
                                    "Kanton": "SZ"
                                },
                                {
                                    "Ortname": "Goldau",
                                    "Kanton": "SZ"
                                },
                                {
                                    "Ortname": "Rigi Klösterli",
                                    "Kanton": "SZ"
                                },
                                {
                                    "Ortname": "Rigi Staffel",
                                    "Kanton": "SZ"
                                },
                                {
                                    "Ortname": "Rigi Kulm",
                                    "Kanton": "SZ"
                                },
                                {
                                    "Ortname": "Oberarth",
                                    "Kanton": "SZ"
                                },
                                {
                                    "Ortname": "Arth",
                                    "Kanton": "SZ"
                                },
                                {
                                    "Ortname": "Steinerberg",
                                    "Kanton": "SZ"
                                },
                                {
                                    "Ortname": "Sattel",
                                    "Kanton": "SZ"
                                },
                                {
                                    "Ortname": "Rothenthurm",
                                    "Kanton": "SZ"
                                },
                                {
                                    "Ortname": "Steinen",
                                    "Kanton": "SZ"
                                },
                                {
                                    "Ortname": "Seewen SZ",
                                    "Kanton": "SZ"
                                },
                                {
                                    "Ortname": "Lauerz",
                                    "Kanton": "SZ"
                                },
                                {
                                    "Ortname": "Schwyz",
                                    "Kanton": "SZ"
                                },
                                {
                                    "Ortname": "Ried (Muotathal)",
                                    "Kanton": "SZ"
                                },
                                {
                                    "Ortname": "Rickenbach b. Schwyz",
                                    "Kanton": "SZ"
                                },
                                {
                                    "Ortname": "Stoos SZ",
                                    "Kanton": "SZ"
                                },
                                {
                                    "Ortname": "Illgau",
                                    "Kanton": "SZ"
                                },
                                {
                                    "Ortname": "Muotathal",
                                    "Kanton": "SZ"
                                },
                                {
                                    "Ortname": "Bisisthal",
                                    "Kanton": "SZ"
                                },
                                {
                                    "Ortname": "Ibach",
                                    "Kanton": "SZ"
                                },
                                {
                                    "Ortname": "Brunnen",
                                    "Kanton": "SZ"
                                },
                                {
                                    "Ortname": "Rütli",
                                    "Kanton": "UR"
                                },
                                {
                                    "Ortname": "Gersau",
                                    "Kanton": "SZ"
                                },
                                {
                                    "Ortname": "Morschach",
                                    "Kanton": "SZ"
                                },
                                {
                                    "Ortname": "Sisikon",
                                    "Kanton": "UR"
                                },
                                {
                                    "Ortname": "Riemenstalden",
                                    "Kanton": "SZ"
                                },
                                {
                                    "Ortname": "Flüelen",
                                    "Kanton": "UR"
                                },
                                {
                                    "Ortname": "Altdorf UR",
                                    "Kanton": "UR"
                                },
                                {
                                    "Ortname": "Isenthal",
                                    "Kanton": "UR"
                                },
                                {
                                    "Ortname": "Seedorf UR",
                                    "Kanton": "UR"
                                },
                                {
                                    "Ortname": "Bürglen UR",
                                    "Kanton": "UR"
                                },
                                {
                                    "Ortname": "Spiringen",
                                    "Kanton": "UR"
                                },
                                {
                                    "Ortname": "Unterschächen",
                                    "Kanton": "UR"
                                },
                                {
                                    "Ortname": "Bauen",
                                    "Kanton": "UR"
                                },
                                {
                                    "Ortname": "Schattdorf",
                                    "Kanton": "UR"
                                },
                                {
                                    "Ortname": "Haldi b. Schattdorf",
                                    "Kanton": "UR"
                                },
                                {
                                    "Ortname": "Attinghausen",
                                    "Kanton": "UR"
                                },
                                {
                                    "Ortname": "Erstfeld",
                                    "Kanton": "UR"
                                },
                                {
                                    "Ortname": "Silenen",
                                    "Kanton": "UR"
                                },
                                {
                                    "Ortname": "Amsteg",
                                    "Kanton": "UR"
                                },
                                {
                                    "Ortname": "Bristen",
                                    "Kanton": "UR"
                                },
                                {
                                    "Ortname": "Intschi",
                                    "Kanton": "UR"
                                },
                                {
                                    "Ortname": "Gurtnellen",
                                    "Kanton": "UR"
                                },
                                {
                                    "Ortname": "Wassen UR",
                                    "Kanton": "UR"
                                },
                                {
                                    "Ortname": "Meien",
                                    "Kanton": "UR"
                                },
                                {
                                    "Ortname": "Göschenen",
                                    "Kanton": "UR"
                                },
                                {
                                    "Ortname": "Andermatt",
                                    "Kanton": "UR"
                                },
                                {
                                    "Ortname": "Realp",
                                    "Kanton": "UR"
                                },
                                {
                                    "Ortname": "Hospental",
                                    "Kanton": "UR"
                                },
                                {
                                    "Ortname": "Bellinzona",
                                    "Kanton": "TI"
                                },
                                {
                                    "Ortname": "Bellinzona",
                                    "Kanton": "TI"
                                },
                                {
                                    "Ortname": "Giubiasco",
                                    "Kanton": "TI"
                                },
                                {
                                    "Ortname": "Monte Carasso",
                                    "Kanton": "TI"
                                },
                                {
                                    "Ortname": "Sementina",
                                    "Kanton": "TI"
                                },
                                {
                                    "Ortname": "Gudo",
                                    "Kanton": "TI"
                                },
                                {
                                    "Ortname": "Cugnasco",
                                    "Kanton": "TI"
                                },
                                {
                                    "Ortname": "Arbedo",
                                    "Kanton": "TI"
                                },
                                {
                                    "Ortname": "Gorduno",
                                    "Kanton": "TI"
                                },
                                {
                                    "Ortname": "Gnosca",
                                    "Kanton": "TI"
                                },
                                {
                                    "Ortname": "Prosito",
                                    "Kanton": "TI"
                                },
                                {
                                    "Ortname": "Lodrino",
                                    "Kanton": "TI"
                                },
                                {
                                    "Ortname": "Camorino",
                                    "Kanton": "TI"
                                },
                                {
                                    "Ortname": "Castione",
                                    "Kanton": "TI"
                                },
                                {
                                    "Ortname": "Lumino",
                                    "Kanton": "TI"
                                },
                                {
                                    "Ortname": "S. Vittore",
                                    "Kanton": "GR"
                                },
                                {
                                    "Ortname": "Roveredo GR",
                                    "Kanton": "GR"
                                },
                                {
                                    "Ortname": "Grono",
                                    "Kanton": "GR"
                                },
                                {
                                    "Ortname": "Preonzo",
                                    "Kanton": "TI"
                                },
                                {
                                    "Ortname": "Moleno",
                                    "Kanton": "TI"
                                },
                                {
                                    "Ortname": "Pianezzo",
                                    "Kanton": "TI"
                                },
                                {
                                    "Ortname": "S. Antonio (Val Morobbia)",
                                    "Kanton": "TI"
                                },
                                {
                                    "Ortname": "Carena",
                                    "Kanton": "TI"
                                },
                                {
                                    "Ortname": "Laura",
                                    "Kanton": "GR"
                                },
                                {
                                    "Ortname": "Castaneda",
                                    "Kanton": "GR"
                                },
                                {
                                    "Ortname": "Sta. Maria in Calanca",
                                    "Kanton": "GR"
                                },
                                {
                                    "Ortname": "Verdabbio",
                                    "Kanton": "GR"
                                },
                                {
                                    "Ortname": "Buseno",
                                    "Kanton": "GR"
                                },
                                {
                                    "Ortname": "Arvigo",
                                    "Kanton": "GR"
                                },
                                {
                                    "Ortname": "Braggio",
                                    "Kanton": "GR"
                                },
                                {
                                    "Ortname": "Selma",
                                    "Kanton": "GR"
                                },
                                {
                                    "Ortname": "Cauco",
                                    "Kanton": "GR"
                                },
                                {
                                    "Ortname": "Augio",
                                    "Kanton": "GR"
                                },
                                {
                                    "Ortname": "Rossa",
                                    "Kanton": "GR"
                                },
                                {
                                    "Ortname": "Leggia",
                                    "Kanton": "GR"
                                },
                                {
                                    "Ortname": "S. Bernardino",
                                    "Kanton": "GR"
                                },
                                {
                                    "Ortname": "Cama",
                                    "Kanton": "GR"
                                },
                                {
                                    "Ortname": "Lostallo",
                                    "Kanton": "GR"
                                },
                                {
                                    "Ortname": "Soazza",
                                    "Kanton": "GR"
                                },
                                {
                                    "Ortname": "Mesocco",
                                    "Kanton": "GR"
                                },
                                {
                                    "Ortname": "Quartino",
                                    "Kanton": "TI"
                                },
                                {
                                    "Ortname": "Magadino",
                                    "Kanton": "TI"
                                },
                                {
                                    "Ortname": "Vira (Gambarogno)",
                                    "Kanton": "TI"
                                },
                                {
                                    "Ortname": "S. Nazzaro",
                                    "Kanton": "TI"
                                },
                                {
                                    "Ortname": "Vairano",
                                    "Kanton": "TI"
                                },
                                {
                                    "Ortname": "Gerra (Gambarogno)",
                                    "Kanton": "TI"
                                },
                                {
                                    "Ortname": "Ranzo",
                                    "Kanton": "TI"
                                },
                                {
                                    "Ortname": "Caviano",
                                    "Kanton": "TI"
                                },
                                {
                                    "Ortname": "Piazzogna",
                                    "Kanton": "TI"
                                },
                                {
                                    "Ortname": "Indemini",
                                    "Kanton": "TI"
                                },
                                {
                                    "Ortname": "S. Antonino",
                                    "Kanton": "TI"
                                },
                                {
                                    "Ortname": "Cadenazzo",
                                    "Kanton": "TI"
                                },
                                {
                                    "Ortname": "Contone",
                                    "Kanton": "TI"
                                },
                                {
                                    "Ortname": "Riazzino",
                                    "Kanton": "TI"
                                },
                                {
                                    "Ortname": "Gordola",
                                    "Kanton": "TI"
                                },
                                {
                                    "Ortname": "Agarone",
                                    "Kanton": "TI"
                                },
                                {
                                    "Ortname": "Tenero",
                                    "Kanton": "TI"
                                },
                                {
                                    "Ortname": "Robasacco",
                                    "Kanton": "TI"
                                },
                                {
                                    "Ortname": "Locarno",
                                    "Kanton": "TI"
                                },
                                {
                                    "Ortname": "Muralto",
                                    "Kanton": "TI"
                                },
                                {
                                    "Ortname": "Locarno",
                                    "Kanton": "TI"
                                },
                                {
                                    "Ortname": "Monte Brè sopra Locarno",
                                    "Kanton": "TI"
                                },
                                {
                                    "Ortname": "Golino",
                                    "Kanton": "TI"
                                },
                                {
                                    "Ortname": "Arcegno",
                                    "Kanton": "TI"
                                },
                                {
                                    "Ortname": "Contra",
                                    "Kanton": "TI"
                                },
                                {
                                    "Ortname": "Mergoscia",
                                    "Kanton": "TI"
                                },
                                {
                                    "Ortname": "Auressio",
                                    "Kanton": "TI"
                                },
                                {
                                    "Ortname": "Loco",
                                    "Kanton": "TI"
                                },
                                {
                                    "Ortname": "Berzona",
                                    "Kanton": "TI"
                                },
                                {
                                    "Ortname": "Mosogno",
                                    "Kanton": "TI"
                                },
                                {
                                    "Ortname": "Russo",
                                    "Kanton": "TI"
                                },
                                {
                                    "Ortname": "Vergeletto",
                                    "Kanton": "TI"
                                },
                                {
                                    "Ortname": "Gresso",
                                    "Kanton": "TI"
                                },
                                {
                                    "Ortname": "Crana",
                                    "Kanton": "TI"
                                },
                                {
                                    "Ortname": "Comologno",
                                    "Kanton": "TI"
                                },
                                {
                                    "Ortname": "Spruga",
                                    "Kanton": "TI"
                                },
                                {
                                    "Ortname": "Vogorno",
                                    "Kanton": "TI"
                                },
                                {
                                    "Ortname": "Corippo",
                                    "Kanton": "TI"
                                },
                                {
                                    "Ortname": "Lavertezzo",
                                    "Kanton": "TI"
                                },
                                {
                                    "Ortname": "Brione (Verzasca)",
                                    "Kanton": "TI"
                                },
                                {
                                    "Ortname": "Gerra (Verzasca)",
                                    "Kanton": "TI"
                                },
                                {
                                    "Ortname": "Frasco",
                                    "Kanton": "TI"
                                },
                                {
                                    "Ortname": "Sonogno",
                                    "Kanton": "TI"
                                },
                                {
                                    "Ortname": "Ascona",
                                    "Kanton": "TI"
                                },
                                {
                                    "Ortname": "Porto Ronco",
                                    "Kanton": "TI"
                                },
                                {
                                    "Ortname": "Brissago",
                                    "Kanton": "TI"
                                },
                                {
                                    "Ortname": "Isole di Brissago",
                                    "Kanton": "TI"
                                },
                                {
                                    "Ortname": "Losone",
                                    "Kanton": "TI"
                                },
                                {
                                    "Ortname": "Ronco sopra Ascona",
                                    "Kanton": "TI"
                                },
                                {
                                    "Ortname": "Orselina",
                                    "Kanton": "TI"
                                },
                                {
                                    "Ortname": "Brione sopra Minusio",
                                    "Kanton": "TI"
                                },
                                {
                                    "Ortname": "Minusio",
                                    "Kanton": "TI"
                                },
                                {
                                    "Ortname": "Verdasio",
                                    "Kanton": "TI"
                                },
                                {
                                    "Ortname": "Rasa",
                                    "Kanton": "TI"
                                },
                                {
                                    "Ortname": "Palagnedra",
                                    "Kanton": "TI"
                                },
                                {
                                    "Ortname": "Borgnone",
                                    "Kanton": "TI"
                                },
                                {
                                    "Ortname": "Camedo",
                                    "Kanton": "TI"
                                },
                                {
                                    "Ortname": "Moneto",
                                    "Kanton": "TI"
                                },
                                {
                                    "Ortname": "Tegna",
                                    "Kanton": "TI"
                                },
                                {
                                    "Ortname": "Verscio",
                                    "Kanton": "TI"
                                },
                                {
                                    "Ortname": "Cavigliano",
                                    "Kanton": "TI"
                                },
                                {
                                    "Ortname": "Intragna",
                                    "Kanton": "TI"
                                },
                                {
                                    "Ortname": "Avegno",
                                    "Kanton": "TI"
                                },
                                {
                                    "Ortname": "Moghegno",
                                    "Kanton": "TI"
                                },
                                {
                                    "Ortname": "Coglio",
                                    "Kanton": "TI"
                                },
                                {
                                    "Ortname": "Lodano",
                                    "Kanton": "TI"
                                },
                                {
                                    "Ortname": "Giumaglio",
                                    "Kanton": "TI"
                                },
                                {
                                    "Ortname": "Riveo",
                                    "Kanton": "TI"
                                },
                                {
                                    "Ortname": "Linescio",
                                    "Kanton": "TI"
                                },
                                {
                                    "Ortname": "Cerentino",
                                    "Kanton": "TI"
                                },
                                {
                                    "Ortname": "Bosco/Gurin",
                                    "Kanton": "TI"
                                },
                                {
                                    "Ortname": "Niva (Vallemaggia)",
                                    "Kanton": "TI"
                                },
                                {
                                    "Ortname": "Campo (Vallemaggia)",
                                    "Kanton": "TI"
                                },
                                {
                                    "Ortname": "Cimalmotto",
                                    "Kanton": "TI"
                                },
                                {
                                    "Ortname": "Cavergno",
                                    "Kanton": "TI"
                                },
                                {
                                    "Ortname": "S. Carlo (Val Bavona)",
                                    "Kanton": "TI"
                                },
                                {
                                    "Ortname": "Brontallo",
                                    "Kanton": "TI"
                                },
                                {
                                    "Ortname": "Menzonio",
                                    "Kanton": "TI"
                                },
                                {
                                    "Ortname": "Broglio",
                                    "Kanton": "TI"
                                },
                                {
                                    "Ortname": "Prato-Sornico",
                                    "Kanton": "TI"
                                },
                                {
                                    "Ortname": "Peccia",
                                    "Kanton": "TI"
                                },
                                {
                                    "Ortname": "Piano di Peccia",
                                    "Kanton": "TI"
                                },
                                {
                                    "Ortname": "Fusio",
                                    "Kanton": "TI"
                                },
                                {
                                    "Ortname": "Gordevio",
                                    "Kanton": "TI"
                                },
                                {
                                    "Ortname": "Maggia",
                                    "Kanton": "TI"
                                },
                                {
                                    "Ortname": "Someo",
                                    "Kanton": "TI"
                                },
                                {
                                    "Ortname": "Cevio",
                                    "Kanton": "TI"
                                },
                                {
                                    "Ortname": "Bignasco",
                                    "Kanton": "TI"
                                },
                                {
                                    "Ortname": "Claro",
                                    "Kanton": "TI"
                                },
                                {
                                    "Ortname": "Osogna",
                                    "Kanton": "TI"
                                },
                                {
                                    "Ortname": "Cresciano",
                                    "Kanton": "TI"
                                },
                                {
                                    "Ortname": "Iragna",
                                    "Kanton": "TI"
                                },
                                {
                                    "Ortname": "Biasca",
                                    "Kanton": "TI"
                                },
                                {
                                    "Ortname": "Ludiano",
                                    "Kanton": "TI"
                                },
                                {
                                    "Ortname": "Corzoneso",
                                    "Kanton": "TI"
                                },
                                {
                                    "Ortname": "Leontica",
                                    "Kanton": "TI"
                                },
                                {
                                    "Ortname": "Prugiasco",
                                    "Kanton": "TI"
                                },
                                {
                                    "Ortname": "Castro",
                                    "Kanton": "TI"
                                },
                                {
                                    "Ortname": "Ponto Valentino",
                                    "Kanton": "TI"
                                },
                                {
                                    "Ortname": "Lottigna",
                                    "Kanton": "TI"
                                },
                                {
                                    "Ortname": "Aquila",
                                    "Kanton": "TI"
                                },
                                {
                                    "Ortname": "Campo (Blenio)",
                                    "Kanton": "TI"
                                },
                                {
                                    "Ortname": "Motto (Blenio)",
                                    "Kanton": "TI"
                                },
                                {
                                    "Ortname": "Malvaglia",
                                    "Kanton": "TI"
                                },
                                {
                                    "Ortname": "Semione",
                                    "Kanton": "TI"
                                },
                                {
                                    "Ortname": "Dongio",
                                    "Kanton": "TI"
                                },
                                {
                                    "Ortname": "Acquarossa",
                                    "Kanton": "TI"
                                },
                                {
                                    "Ortname": "Dangio",
                                    "Kanton": "TI"
                                },
                                {
                                    "Ortname": "Torre",
                                    "Kanton": "TI"
                                },
                                {
                                    "Ortname": "Olivone",
                                    "Kanton": "TI"
                                },
                                {
                                    "Ortname": "Camperio",
                                    "Kanton": "TI"
                                },
                                {
                                    "Ortname": "Pollegio",
                                    "Kanton": "TI"
                                },
                                {
                                    "Ortname": "Bodio TI",
                                    "Kanton": "TI"
                                },
                                {
                                    "Ortname": "Giornico",
                                    "Kanton": "TI"
                                },
                                {
                                    "Ortname": "Lavorgo",
                                    "Kanton": "TI"
                                },
                                {
                                    "Ortname": "Calonico",
                                    "Kanton": "TI"
                                },
                                {
                                    "Ortname": "Nivo",
                                    "Kanton": "TI"
                                },
                                {
                                    "Ortname": "Chironico",
                                    "Kanton": "TI"
                                },
                                {
                                    "Ortname": "Faido",
                                    "Kanton": "TI"
                                },
                                {
                                    "Ortname": "Molare",
                                    "Kanton": "TI"
                                },
                                {
                                    "Ortname": "Calpiogna",
                                    "Kanton": "TI"
                                },
                                {
                                    "Ortname": "Campello",
                                    "Kanton": "TI"
                                },
                                {
                                    "Ortname": "Carì",
                                    "Kanton": "TI"
                                },
                                {
                                    "Ortname": "Rodi-Fiesso",
                                    "Kanton": "TI"
                                },
                                {
                                    "Ortname": "Ambrì",
                                    "Kanton": "TI"
                                },
                                {
                                    "Ortname": "Piotta",
                                    "Kanton": "TI"
                                },
                                {
                                    "Ortname": "Quinto",
                                    "Kanton": "TI"
                                },
                                {
                                    "Ortname": "Varenzo",
                                    "Kanton": "TI"
                                },
                                {
                                    "Ortname": "Airolo",
                                    "Kanton": "TI"
                                },
                                {
                                    "Ortname": "Villa Bedretto",
                                    "Kanton": "TI"
                                },
                                {
                                    "Ortname": "Madrano",
                                    "Kanton": "TI"
                                },
                                {
                                    "Ortname": "Bedretto",
                                    "Kanton": "TI"
                                },
                                {
                                    "Ortname": "Personico",
                                    "Kanton": "TI"
                                },
                                {
                                    "Ortname": "Anzonico",
                                    "Kanton": "TI"
                                },
                                {
                                    "Ortname": "Sobrio",
                                    "Kanton": "TI"
                                },
                                {
                                    "Ortname": "Cavagnago",
                                    "Kanton": "TI"
                                },
                                {
                                    "Ortname": "Mairengo",
                                    "Kanton": "TI"
                                },
                                {
                                    "Ortname": "Osco",
                                    "Kanton": "TI"
                                },
                                {
                                    "Ortname": "Rossura",
                                    "Kanton": "TI"
                                },
                                {
                                    "Ortname": "Chiggiogna",
                                    "Kanton": "TI"
                                },
                                {
                                    "Ortname": "Prato (Leventina)",
                                    "Kanton": "TI"
                                },
                                {
                                    "Ortname": "Dalpe",
                                    "Kanton": "TI"
                                },
                                {
                                    "Ortname": "Rivera",
                                    "Kanton": "TI"
                                },
                                {
                                    "Ortname": "Bironico",
                                    "Kanton": "TI"
                                },
                                {
                                    "Ortname": "Camignolo",
                                    "Kanton": "TI"
                                },
                                {
                                    "Ortname": "Taverne",
                                    "Kanton": "TI"
                                },
                                {
                                    "Ortname": "Torricella",
                                    "Kanton": "TI"
                                },
                                {
                                    "Ortname": "Melide",
                                    "Kanton": "TI"
                                },
                                {
                                    "Ortname": "Bissone",
                                    "Kanton": "TI"
                                },
                                {
                                    "Ortname": "Maroggia",
                                    "Kanton": "TI"
                                },
                                {
                                    "Ortname": "Melano",
                                    "Kanton": "TI"
                                },
                                {
                                    "Ortname": "Arogno",
                                    "Kanton": "TI"
                                },
                                {
                                    "Ortname": "Capolago",
                                    "Kanton": "TI"
                                },
                                {
                                    "Ortname": "Riva San Vitale",
                                    "Kanton": "TI"
                                },
                                {
                                    "Ortname": "Balerna",
                                    "Kanton": "TI"
                                },
                                {
                                    "Ortname": "Chiasso",
                                    "Kanton": "TI"
                                },
                                {
                                    "Ortname": "Sagno",
                                    "Kanton": "TI"
                                },
                                {
                                    "Ortname": "Caneggio",
                                    "Kanton": "TI"
                                },
                                {
                                    "Ortname": "Bruzella",
                                    "Kanton": "TI"
                                },
                                {
                                    "Ortname": "Cabbio",
                                    "Kanton": "TI"
                                },
                                {
                                    "Ortname": "Muggio",
                                    "Kanton": "TI"
                                },
                                {
                                    "Ortname": "Scudellate",
                                    "Kanton": "TI"
                                },
                                {
                                    "Ortname": "Pedrinate",
                                    "Kanton": "TI"
                                },
                                {
                                    "Ortname": "Seseglio",
                                    "Kanton": "TI"
                                },
                                {
                                    "Ortname": "Vacallo",
                                    "Kanton": "TI"
                                },
                                {
                                    "Ortname": "Morbio Inferiore",
                                    "Kanton": "TI"
                                },
                                {
                                    "Ortname": "Morbio Superiore",
                                    "Kanton": "TI"
                                },
                                {
                                    "Ortname": "Medeglia",
                                    "Kanton": "TI"
                                },
                                {
                                    "Ortname": "Isone",
                                    "Kanton": "TI"
                                },
                                {
                                    "Ortname": "Mezzovico",
                                    "Kanton": "TI"
                                },
                                {
                                    "Ortname": "Sigirino",
                                    "Kanton": "TI"
                                },
                                {
                                    "Ortname": "Rovio",
                                    "Kanton": "TI"
                                },
                                {
                                    "Ortname": "Pugerna",
                                    "Kanton": "TI"
                                },
                                {
                                    "Ortname": "Mendrisio",
                                    "Kanton": "TI"
                                },
                                {
                                    "Ortname": "Monte",
                                    "Kanton": "TI"
                                },
                                {
                                    "Ortname": "Casima",
                                    "Kanton": "TI"
                                },
                                {
                                    "Ortname": "Corteglia",
                                    "Kanton": "TI"
                                },
                                {
                                    "Ortname": "Genestrerio",
                                    "Kanton": "TI"
                                },
                                {
                                    "Ortname": "Ligornetto",
                                    "Kanton": "TI"
                                },
                                {
                                    "Ortname": "S. Pietro",
                                    "Kanton": "TI"
                                },
                                {
                                    "Ortname": "Stabio",
                                    "Kanton": "TI"
                                },
                                {
                                    "Ortname": "Rancate",
                                    "Kanton": "TI"
                                },
                                {
                                    "Ortname": "Besazio",
                                    "Kanton": "TI"
                                },
                                {
                                    "Ortname": "Arzo",
                                    "Kanton": "TI"
                                },
                                {
                                    "Ortname": "Tremona",
                                    "Kanton": "TI"
                                },
                                {
                                    "Ortname": "Meride",
                                    "Kanton": "TI"
                                },
                                {
                                    "Ortname": "Serpiano",
                                    "Kanton": "TI"
                                },
                                {
                                    "Ortname": "Salorino",
                                    "Kanton": "TI"
                                },
                                {
                                    "Ortname": "Somazzo",
                                    "Kanton": "TI"
                                },
                                {
                                    "Ortname": "Castel San Pietro",
                                    "Kanton": "TI"
                                },
                                {
                                    "Ortname": "Coldrerio",
                                    "Kanton": "TI"
                                },
                                {
                                    "Ortname": "Novazzano",
                                    "Kanton": "TI"
                                },
                                {
                                    "Ortname": "Lugano",
                                    "Kanton": "TI"
                                },
                                {
                                    "Ortname": "Massagno",
                                    "Kanton": "TI"
                                },
                                {
                                    "Ortname": "Carabbia",
                                    "Kanton": "TI"
                                },
                                {
                                    "Ortname": "Pambio-Noranco",
                                    "Kanton": "TI"
                                },
                                {
                                    "Ortname": "Grancia",
                                    "Kanton": "TI"
                                },
                                {
                                    "Ortname": "Barbengo",
                                    "Kanton": "TI"
                                },
                                {
                                    "Ortname": "Carabietta",
                                    "Kanton": "TI"
                                },
                                {
                                    "Ortname": "Vico Morcote",
                                    "Kanton": "TI"
                                },
                                {
                                    "Ortname": "Manno",
                                    "Kanton": "TI"
                                },
                                {
                                    "Ortname": "Gravesano",
                                    "Kanton": "TI"
                                },
                                {
                                    "Ortname": "Bedano",
                                    "Kanton": "TI"
                                },
                                {
                                    "Ortname": "Arosio",
                                    "Kanton": "TI"
                                },
                                {
                                    "Ortname": "Mugena",
                                    "Kanton": "TI"
                                },
                                {
                                    "Ortname": "Vezio",
                                    "Kanton": "TI"
                                },
                                {
                                    "Ortname": "Breno",
                                    "Kanton": "TI"
                                },
                                {
                                    "Ortname": "Fescoggia",
                                    "Kanton": "TI"
                                },
                                {
                                    "Ortname": "Comano",
                                    "Kanton": "TI"
                                },
                                {
                                    "Ortname": "Brè sopra Lugano",
                                    "Kanton": "TI"
                                },
                                {
                                    "Ortname": "Brusino Arsizio",
                                    "Kanton": "TI"
                                },
                                {
                                    "Ortname": "Pazzallo",
                                    "Kanton": "TI"
                                },
                                {
                                    "Ortname": "Carona",
                                    "Kanton": "TI"
                                },
                                {
                                    "Ortname": "Figino",
                                    "Kanton": "TI"
                                },
                                {
                                    "Ortname": "Morcote",
                                    "Kanton": "TI"
                                },
                                {
                                    "Ortname": "Sorengo",
                                    "Kanton": "TI"
                                },
                                {
                                    "Ortname": "Gentilino",
                                    "Kanton": "TI"
                                },
                                {
                                    "Ortname": "Montagnola",
                                    "Kanton": "TI"
                                },
                                {
                                    "Ortname": "Agra",
                                    "Kanton": "TI"
                                },
                                {
                                    "Ortname": "Breganzona",
                                    "Kanton": "TI"
                                },
                                {
                                    "Ortname": "Muzzano",
                                    "Kanton": "TI"
                                },
                                {
                                    "Ortname": "Bioggio",
                                    "Kanton": "TI"
                                },
                                {
                                    "Ortname": "Bosco Luganese",
                                    "Kanton": "TI"
                                },
                                {
                                    "Ortname": "Cademario",
                                    "Kanton": "TI"
                                },
                                {
                                    "Ortname": "Savosa",
                                    "Kanton": "TI"
                                },
                                {
                                    "Ortname": "Vezia",
                                    "Kanton": "TI"
                                },
                                {
                                    "Ortname": "Porza",
                                    "Kanton": "TI"
                                },
                                {
                                    "Ortname": "Tesserete",
                                    "Kanton": "TI"
                                },
                                {
                                    "Ortname": "Cureglia",
                                    "Kanton": "TI"
                                },
                                {
                                    "Ortname": "Origlio",
                                    "Kanton": "TI"
                                },
                                {
                                    "Ortname": "Ponte Capriasca",
                                    "Kanton": "TI"
                                },
                                {
                                    "Ortname": "Vaglio",
                                    "Kanton": "TI"
                                },
                                {
                                    "Ortname": "Sala Capriasca",
                                    "Kanton": "TI"
                                },
                                {
                                    "Ortname": "Bigorio",
                                    "Kanton": "TI"
                                },
                                {
                                    "Ortname": "Lugaggia",
                                    "Kanton": "TI"
                                },
                                {
                                    "Ortname": "Insone",
                                    "Kanton": "TI"
                                },
                                {
                                    "Ortname": "Odogno",
                                    "Kanton": "TI"
                                },
                                {
                                    "Ortname": "Lopagno",
                                    "Kanton": "TI"
                                },
                                {
                                    "Ortname": "Roveredo TI",
                                    "Kanton": "TI"
                                },
                                {
                                    "Ortname": "Bidogno",
                                    "Kanton": "TI"
                                },
                                {
                                    "Ortname": "Corticiasca",
                                    "Kanton": "TI"
                                },
                                {
                                    "Ortname": "Scareglia",
                                    "Kanton": "TI"
                                },
                                {
                                    "Ortname": "Colla",
                                    "Kanton": "TI"
                                },
                                {
                                    "Ortname": "Bogno",
                                    "Kanton": "TI"
                                },
                                {
                                    "Ortname": "Cozzo",
                                    "Kanton": "TI"
                                },
                                {
                                    "Ortname": "Cagiallo",
                                    "Kanton": "TI"
                                },
                                {
                                    "Ortname": "Oggio",
                                    "Kanton": "TI"
                                },
                                {
                                    "Ortname": "Signôra",
                                    "Kanton": "TI"
                                },
                                {
                                    "Ortname": "Cimadera",
                                    "Kanton": "TI"
                                },
                                {
                                    "Ortname": "Maglio di Colla",
                                    "Kanton": "TI"
                                },
                                {
                                    "Ortname": "Certara",
                                    "Kanton": "TI"
                                },
                                {
                                    "Ortname": "Curtina",
                                    "Kanton": "TI"
                                },
                                {
                                    "Ortname": "Piandera Paese",
                                    "Kanton": "TI"
                                },
                                {
                                    "Ortname": "Canobbio",
                                    "Kanton": "TI"
                                },
                                {
                                    "Ortname": "Viganello",
                                    "Kanton": "TI"
                                },
                                {
                                    "Ortname": "Pregassona",
                                    "Kanton": "TI"
                                },
                                {
                                    "Ortname": "Davesco-Soragno",
                                    "Kanton": "TI"
                                },
                                {
                                    "Ortname": "Cadro",
                                    "Kanton": "TI"
                                },
                                {
                                    "Ortname": "Villa Luganese",
                                    "Kanton": "TI"
                                },
                                {
                                    "Ortname": "Dino",
                                    "Kanton": "TI"
                                },
                                {
                                    "Ortname": "Sonvico",
                                    "Kanton": "TI"
                                },
                                {
                                    "Ortname": "Aldesago",
                                    "Kanton": "TI"
                                },
                                {
                                    "Ortname": "Castagnola",
                                    "Kanton": "TI"
                                },
                                {
                                    "Ortname": "Ruvigliana",
                                    "Kanton": "TI"
                                },
                                {
                                    "Ortname": "Gandria",
                                    "Kanton": "TI"
                                },
                                {
                                    "Ortname": "Cassina d'Agno",
                                    "Kanton": "TI"
                                },
                                {
                                    "Ortname": "Neggio",
                                    "Kanton": "TI"
                                },
                                {
                                    "Ortname": "Vernate",
                                    "Kanton": "TI"
                                },
                                {
                                    "Ortname": "Iseo",
                                    "Kanton": "TI"
                                },
                                {
                                    "Ortname": "Aranno",
                                    "Kanton": "TI"
                                },
                                {
                                    "Ortname": "Cimo",
                                    "Kanton": "TI"
                                },
                                {
                                    "Ortname": "Bedigliora",
                                    "Kanton": "TI"
                                },
                                {
                                    "Ortname": "Biogno-Beride",
                                    "Kanton": "TI"
                                },
                                {
                                    "Ortname": "Castelrotto",
                                    "Kanton": "TI"
                                },
                                {
                                    "Ortname": "Bombinasco",
                                    "Kanton": "TI"
                                },
                                {
                                    "Ortname": "Banco",
                                    "Kanton": "TI"
                                },
                                {
                                    "Ortname": "Astano",
                                    "Kanton": "TI"
                                },
                                {
                                    "Ortname": "Miglieglia",
                                    "Kanton": "TI"
                                },
                                {
                                    "Ortname": "Purasca",
                                    "Kanton": "TI"
                                },
                                {
                                    "Ortname": "Molinazzo di Monteggio",
                                    "Kanton": "TI"
                                },
                                {
                                    "Ortname": "Ponte Cremenaga",
                                    "Kanton": "TI"
                                },
                                {
                                    "Ortname": "Sessa",
                                    "Kanton": "TI"
                                },
                                {
                                    "Ortname": "Termine",
                                    "Kanton": "TI"
                                },
                                {
                                    "Ortname": "Agno",
                                    "Kanton": "TI"
                                },
                                {
                                    "Ortname": "Magliaso",
                                    "Kanton": "TI"
                                },
                                {
                                    "Ortname": "Pura",
                                    "Kanton": "TI"
                                },
                                {
                                    "Ortname": "Curio",
                                    "Kanton": "TI"
                                },
                                {
                                    "Ortname": "Novaggio",
                                    "Kanton": "TI"
                                },
                                {
                                    "Ortname": "Caslano",
                                    "Kanton": "TI"
                                },
                                {
                                    "Ortname": "Ponte Tresa",
                                    "Kanton": "TI"
                                },
                                {
                                    "Ortname": "Chur",
                                    "Kanton": "GR"
                                },
                                {
                                    "Ortname": "Felsberg",
                                    "Kanton": "GR"
                                },
                                {
                                    "Ortname": "Domat/Ems",
                                    "Kanton": "GR"
                                },
                                {
                                    "Ortname": "Tamins",
                                    "Kanton": "GR"
                                },
                                {
                                    "Ortname": "Flims Dorf",
                                    "Kanton": "GR"
                                },
                                {
                                    "Ortname": "Flims Waldhaus",
                                    "Kanton": "GR"
                                },
                                {
                                    "Ortname": "Haldenstein",
                                    "Kanton": "GR"
                                },
                                {
                                    "Ortname": "Maladers",
                                    "Kanton": "GR"
                                },
                                {
                                    "Ortname": "Laax GR",
                                    "Kanton": "GR"
                                },
                                {
                                    "Ortname": "Laax GR 2",
                                    "Kanton": "GR"
                                },
                                {
                                    "Ortname": "Arosa",
                                    "Kanton": "GR"
                                },
                                {
                                    "Ortname": "Passugg",
                                    "Kanton": "GR"
                                },
                                {
                                    "Ortname": "Praden",
                                    "Kanton": "GR"
                                },
                                {
                                    "Ortname": "Tschiertschen",
                                    "Kanton": "GR"
                                },
                                {
                                    "Ortname": "Malix",
                                    "Kanton": "GR"
                                },
                                {
                                    "Ortname": "Churwalden",
                                    "Kanton": "GR"
                                },
                                {
                                    "Ortname": "Parpan",
                                    "Kanton": "GR"
                                },
                                {
                                    "Ortname": "Valbella",
                                    "Kanton": "GR"
                                },
                                {
                                    "Ortname": "Lenzerheide/Lai",
                                    "Kanton": "GR"
                                },
                                {
                                    "Ortname": "Vaz/Obervaz",
                                    "Kanton": "GR"
                                },
                                {
                                    "Ortname": "Lantsch/Lenz",
                                    "Kanton": "GR"
                                },
                                {
                                    "Ortname": "Brienz/Brinzauls GR",
                                    "Kanton": "GR"
                                },
                                {
                                    "Ortname": "Trin",
                                    "Kanton": "GR"
                                },
                                {
                                    "Ortname": "Trin Mulin",
                                    "Kanton": "GR"
                                },
                                {
                                    "Ortname": "Fidaz",
                                    "Kanton": "GR"
                                },
                                {
                                    "Ortname": "Lüen",
                                    "Kanton": "GR"
                                },
                                {
                                    "Ortname": "Castiel",
                                    "Kanton": "GR"
                                },
                                {
                                    "Ortname": "St. Peter",
                                    "Kanton": "GR"
                                },
                                {
                                    "Ortname": "Pagig",
                                    "Kanton": "GR"
                                },
                                {
                                    "Ortname": "Molinis",
                                    "Kanton": "GR"
                                },
                                {
                                    "Ortname": "Peist",
                                    "Kanton": "GR"
                                },
                                {
                                    "Ortname": "Langwies",
                                    "Kanton": "GR"
                                },
                                {
                                    "Ortname": "Litzirüti",
                                    "Kanton": "GR"
                                },
                                {
                                    "Ortname": "Versam",
                                    "Kanton": "GR"
                                },
                                {
                                    "Ortname": "Arezen",
                                    "Kanton": "GR"
                                },
                                {
                                    "Ortname": "Tenna",
                                    "Kanton": "GR"
                                },
                                {
                                    "Ortname": "Safien Platz",
                                    "Kanton": "GR"
                                },
                                {
                                    "Ortname": "Thalkirch",
                                    "Kanton": "GR"
                                },
                                {
                                    "Ortname": "Valendas",
                                    "Kanton": "GR"
                                },
                                {
                                    "Ortname": "Carrera",
                                    "Kanton": "GR"
                                },
                                {
                                    "Ortname": "Castrisch",
                                    "Kanton": "GR"
                                },
                                {
                                    "Ortname": "Ilanz",
                                    "Kanton": "GR"
                                },
                                {
                                    "Ortname": "Ruschein",
                                    "Kanton": "GR"
                                },
                                {
                                    "Ortname": "Ladir",
                                    "Kanton": "GR"
                                },
                                {
                                    "Ortname": "Schluein",
                                    "Kanton": "GR"
                                },
                                {
                                    "Ortname": "Falera",
                                    "Kanton": "GR"
                                },
                                {
                                    "Ortname": "Sagogn",
                                    "Kanton": "GR"
                                },
                                {
                                    "Ortname": "Sevgein",
                                    "Kanton": "GR"
                                },
                                {
                                    "Ortname": "Riein",
                                    "Kanton": "GR"
                                },
                                {
                                    "Ortname": "Pitasch",
                                    "Kanton": "GR"
                                },
                                {
                                    "Ortname": "Duvin",
                                    "Kanton": "GR"
                                },
                                {
                                    "Ortname": "Camuns",
                                    "Kanton": "GR"
                                },
                                {
                                    "Ortname": "Uors (Lumnezia)",
                                    "Kanton": "GR"
                                },
                                {
                                    "Ortname": "Surcasti",
                                    "Kanton": "GR"
                                },
                                {
                                    "Ortname": "Tersnaus",
                                    "Kanton": "GR"
                                },
                                {
                                    "Ortname": "Luven",
                                    "Kanton": "GR"
                                },
                                {
                                    "Ortname": "Cumbel",
                                    "Kanton": "GR"
                                },
                                {
                                    "Ortname": "Morissen",
                                    "Kanton": "GR"
                                },
                                {
                                    "Ortname": "Vella",
                                    "Kanton": "GR"
                                },
                                {
                                    "Ortname": "Degen",
                                    "Kanton": "GR"
                                },
                                {
                                    "Ortname": "Vattiz",
                                    "Kanton": "GR"
                                },
                                {
                                    "Ortname": "Vignogn",
                                    "Kanton": "GR"
                                },
                                {
                                    "Ortname": "Lumbrein",
                                    "Kanton": "GR"
                                },
                                {
                                    "Ortname": "Surin",
                                    "Kanton": "GR"
                                },
                                {
                                    "Ortname": "Vrin",
                                    "Kanton": "GR"
                                },
                                {
                                    "Ortname": "Flond",
                                    "Kanton": "GR"
                                },
                                {
                                    "Ortname": "Surcuolm",
                                    "Kanton": "GR"
                                },
                                {
                                    "Ortname": "Vals",
                                    "Kanton": "GR"
                                },
                                {
                                    "Ortname": "Obersaxen Affeier",
                                    "Kanton": "GR"
                                },
                                {
                                    "Ortname": "Obersaxen Meierhof",
                                    "Kanton": "GR"
                                },
                                {
                                    "Ortname": "Obersaxen Giraniga",
                                    "Kanton": "GR"
                                },
                                {
                                    "Ortname": "Obersaxen Friggahüs",
                                    "Kanton": "GR"
                                },
                                {
                                    "Ortname": "Pigniu",
                                    "Kanton": "GR"
                                },
                                {
                                    "Ortname": "Rueun",
                                    "Kanton": "GR"
                                },
                                {
                                    "Ortname": "Siat",
                                    "Kanton": "GR"
                                },
                                {
                                    "Ortname": "Waltensburg/Vuorz",
                                    "Kanton": "GR"
                                },
                                {
                                    "Ortname": "Andiast",
                                    "Kanton": "GR"
                                },
                                {
                                    "Ortname": "Tavanasa",
                                    "Kanton": "GR"
                                },
                                {
                                    "Ortname": "Danis",
                                    "Kanton": "GR"
                                },
                                {
                                    "Ortname": "Dardin",
                                    "Kanton": "GR"
                                },
                                {
                                    "Ortname": "Breil/Brigels",
                                    "Kanton": "GR"
                                },
                                {
                                    "Ortname": "Trun",
                                    "Kanton": "GR"
                                },
                                {
                                    "Ortname": "Schlans",
                                    "Kanton": "GR"
                                },
                                {
                                    "Ortname": "Zignau",
                                    "Kanton": "GR"
                                },
                                {
                                    "Ortname": "Rabius",
                                    "Kanton": "GR"
                                },
                                {
                                    "Ortname": "Sumvitg",
                                    "Kanton": "GR"
                                },
                                {
                                    "Ortname": "S. Benedetg",
                                    "Kanton": "GR"
                                },
                                {
                                    "Ortname": "Disentis/Mustér",
                                    "Kanton": "GR"
                                },
                                {
                                    "Ortname": "Cavardiras",
                                    "Kanton": "GR"
                                },
                                {
                                    "Ortname": "Mumpé Medel",
                                    "Kanton": "GR"
                                },
                                {
                                    "Ortname": "Curaglia",
                                    "Kanton": "GR"
                                },
                                {
                                    "Ortname": "Platta",
                                    "Kanton": "GR"
                                },
                                {
                                    "Ortname": "Segnas",
                                    "Kanton": "GR"
                                },
                                {
                                    "Ortname": "Camischolas",
                                    "Kanton": "GR"
                                },
                                {
                                    "Ortname": "Rueras",
                                    "Kanton": "GR"
                                },
                                {
                                    "Ortname": "Sedrun",
                                    "Kanton": "GR"
                                },
                                {
                                    "Ortname": "Surrein",
                                    "Kanton": "GR"
                                },
                                {
                                    "Ortname": "Cumpadials",
                                    "Kanton": "GR"
                                },
                                {
                                    "Ortname": "Untervaz Bahnhof",
                                    "Kanton": "GR"
                                },
                                {
                                    "Ortname": "Trimmis",
                                    "Kanton": "GR"
                                },
                                {
                                    "Ortname": "Says",
                                    "Kanton": "GR"
                                },
                                {
                                    "Ortname": "Untervaz",
                                    "Kanton": "GR"
                                },
                                {
                                    "Ortname": "Zizers",
                                    "Kanton": "GR"
                                },
                                {
                                    "Ortname": "Igis",
                                    "Kanton": "GR"
                                },
                                {
                                    "Ortname": "Malans GR",
                                    "Kanton": "GR"
                                },
                                {
                                    "Ortname": "Seewis Dorf",
                                    "Kanton": "GR"
                                },
                                {
                                    "Ortname": "Valzeina",
                                    "Kanton": "GR"
                                },
                                {
                                    "Ortname": "Grüsch",
                                    "Kanton": "GR"
                                },
                                {
                                    "Ortname": "Fanas",
                                    "Kanton": "GR"
                                },
                                {
                                    "Ortname": "Schiers",
                                    "Kanton": "GR"
                                },
                                {
                                    "Ortname": "Schuders",
                                    "Kanton": "GR"
                                },
                                {
                                    "Ortname": "Stels",
                                    "Kanton": "GR"
                                },
                                {
                                    "Ortname": "Mittellunden",
                                    "Kanton": "GR"
                                },
                                {
                                    "Ortname": "Buchen im Prättigau",
                                    "Kanton": "GR"
                                },
                                {
                                    "Ortname": "Putz",
                                    "Kanton": "GR"
                                },
                                {
                                    "Ortname": "Pusserein",
                                    "Kanton": "GR"
                                },
                                {
                                    "Ortname": "Pragg-Jenaz",
                                    "Kanton": "GR"
                                },
                                {
                                    "Ortname": "Furna",
                                    "Kanton": "GR"
                                },
                                {
                                    "Ortname": "Jenaz",
                                    "Kanton": "GR"
                                },
                                {
                                    "Ortname": "Fideris",
                                    "Kanton": "GR"
                                },
                                {
                                    "Ortname": "Küblis",
                                    "Kanton": "GR"
                                },
                                {
                                    "Ortname": "Luzein",
                                    "Kanton": "GR"
                                },
                                {
                                    "Ortname": "Pany",
                                    "Kanton": "GR"
                                },
                                {
                                    "Ortname": "Gadenstätt",
                                    "Kanton": "GR"
                                },
                                {
                                    "Ortname": "Ascharina",
                                    "Kanton": "GR"
                                },
                                {
                                    "Ortname": "St. Antönien",
                                    "Kanton": "GR"
                                },
                                {
                                    "Ortname": "Conters im Prättigau",
                                    "Kanton": "GR"
                                },
                                {
                                    "Ortname": "Saas im Prättigau",
                                    "Kanton": "GR"
                                },
                                {
                                    "Ortname": "Serneus",
                                    "Kanton": "GR"
                                },
                                {
                                    "Ortname": "Klosters",
                                    "Kanton": "GR"
                                },
                                {
                                    "Ortname": "Klosters Dorf",
                                    "Kanton": "GR"
                                },
                                {
                                    "Ortname": "Davos Dorf",
                                    "Kanton": "GR"
                                },
                                {
                                    "Ortname": "Davos Wolfgang",
                                    "Kanton": "GR"
                                },
                                {
                                    "Ortname": "Davos Platz",
                                    "Kanton": "GR"
                                },
                                {
                                    "Ortname": "Davos Clavadel",
                                    "Kanton": "GR"
                                },
                                {
                                    "Ortname": "Davos Frauenkirch",
                                    "Kanton": "GR"
                                },
                                {
                                    "Ortname": "Davos Glaris",
                                    "Kanton": "GR"
                                },
                                {
                                    "Ortname": "Davos Monstein",
                                    "Kanton": "GR"
                                },
                                {
                                    "Ortname": "Landquart",
                                    "Kanton": "GR"
                                },
                                {
                                    "Ortname": "Mastrils",
                                    "Kanton": "GR"
                                },
                                {
                                    "Ortname": "Maienfeld",
                                    "Kanton": "GR"
                                },
                                {
                                    "Ortname": "Fläsch",
                                    "Kanton": "GR"
                                },
                                {
                                    "Ortname": "Jenins",
                                    "Kanton": "GR"
                                },
                                {
                                    "Ortname": "Bad Ragaz",
                                    "Kanton": "SG"
                                },
                                {
                                    "Ortname": "Valens",
                                    "Kanton": "SG"
                                },
                                {
                                    "Ortname": "Vasön",
                                    "Kanton": "SG"
                                },
                                {
                                    "Ortname": "Vadura",
                                    "Kanton": "SG"
                                },
                                {
                                    "Ortname": "Vättis",
                                    "Kanton": "SG"
                                },
                                {
                                    "Ortname": "Pfäfers",
                                    "Kanton": "SG"
                                },
                                {
                                    "Ortname": "St. Margrethenberg",
                                    "Kanton": "SG"
                                },
                                {
                                    "Ortname": "Sargans",
                                    "Kanton": "SG"
                                },
                                {
                                    "Ortname": "Schwendi im Weisstannental",
                                    "Kanton": "SG"
                                },
                                {
                                    "Ortname": "Weisstannen",
                                    "Kanton": "SG"
                                },
                                {
                                    "Ortname": "Wangs",
                                    "Kanton": "SG"
                                },
                                {
                                    "Ortname": "Vilters",
                                    "Kanton": "SG"
                                },
                                {
                                    "Ortname": "Bonaduz",
                                    "Kanton": "GR"
                                },
                                {
                                    "Ortname": "Rhäzüns",
                                    "Kanton": "GR"
                                },
                                {
                                    "Ortname": "Feldis/Veulden",
                                    "Kanton": "GR"
                                },
                                {
                                    "Ortname": "Rothenbrunnen",
                                    "Kanton": "GR"
                                },
                                {
                                    "Ortname": "Cazis",
                                    "Kanton": "GR"
                                },
                                {
                                    "Ortname": "Realta",
                                    "Kanton": "GR"
                                },
                                {
                                    "Ortname": "Sils im Domleschg",
                                    "Kanton": "GR"
                                },
                                {
                                    "Ortname": "Scharans",
                                    "Kanton": "GR"
                                },
                                {
                                    "Ortname": "Fürstenaubruck",
                                    "Kanton": "GR"
                                },
                                {
                                    "Ortname": "Fürstenau",
                                    "Kanton": "GR"
                                },
                                {
                                    "Ortname": "Rodels",
                                    "Kanton": "GR"
                                },
                                {
                                    "Ortname": "Almens",
                                    "Kanton": "GR"
                                },
                                {
                                    "Ortname": "Paspels",
                                    "Kanton": "GR"
                                },
                                {
                                    "Ortname": "Trans",
                                    "Kanton": "GR"
                                },
                                {
                                    "Ortname": "Tumegl/Tomils",
                                    "Kanton": "GR"
                                },
                                {
                                    "Ortname": "Scheid",
                                    "Kanton": "GR"
                                },
                                {
                                    "Ortname": "Thusis",
                                    "Kanton": "GR"
                                },
                                {
                                    "Ortname": "Masein",
                                    "Kanton": "GR"
                                },
                                {
                                    "Ortname": "Flerden",
                                    "Kanton": "GR"
                                },
                                {
                                    "Ortname": "Urmein",
                                    "Kanton": "GR"
                                },
                                {
                                    "Ortname": "Tschappina",
                                    "Kanton": "GR"
                                },
                                {
                                    "Ortname": "Glaspass",
                                    "Kanton": "GR"
                                },
                                {
                                    "Ortname": "Summaprada",
                                    "Kanton": "GR"
                                },
                                {
                                    "Ortname": "Tartar",
                                    "Kanton": "GR"
                                },
                                {
                                    "Ortname": "Sarn",
                                    "Kanton": "GR"
                                },
                                {
                                    "Ortname": "Präz",
                                    "Kanton": "GR"
                                },
                                {
                                    "Ortname": "Dalin",
                                    "Kanton": "GR"
                                },
                                {
                                    "Ortname": "Mutten",
                                    "Kanton": "GR"
                                },
                                {
                                    "Ortname": "Rongellen",
                                    "Kanton": "GR"
                                },
                                {
                                    "Ortname": "Zillis",
                                    "Kanton": "GR"
                                },
                                {
                                    "Ortname": "Donat",
                                    "Kanton": "GR"
                                },
                                {
                                    "Ortname": "Farden",
                                    "Kanton": "GR"
                                },
                                {
                                    "Ortname": "Mathon",
                                    "Kanton": "GR"
                                },
                                {
                                    "Ortname": "Wergenstein",
                                    "Kanton": "GR"
                                },
                                {
                                    "Ortname": "Lohn GR",
                                    "Kanton": "GR"
                                },
                                {
                                    "Ortname": "Sufers",
                                    "Kanton": "GR"
                                },
                                {
                                    "Ortname": "Splügen",
                                    "Kanton": "GR"
                                },
                                {
                                    "Ortname": "Medels im Rheinwald",
                                    "Kanton": "GR"
                                },
                                {
                                    "Ortname": "Nufenen",
                                    "Kanton": "GR"
                                },
                                {
                                    "Ortname": "Hinterrhein",
                                    "Kanton": "GR"
                                },
                                {
                                    "Ortname": "Andeer",
                                    "Kanton": "GR"
                                },
                                {
                                    "Ortname": "Clugin",
                                    "Kanton": "GR"
                                },
                                {
                                    "Ortname": "Pignia",
                                    "Kanton": "GR"
                                },
                                {
                                    "Ortname": "Ausserferrera",
                                    "Kanton": "GR"
                                },
                                {
                                    "Ortname": "Innerferrera",
                                    "Kanton": "GR"
                                },
                                {
                                    "Ortname": "Campsut-Cröt",
                                    "Kanton": "GR"
                                },
                                {
                                    "Ortname": "Cresta (Avers)",
                                    "Kanton": "GR"
                                },
                                {
                                    "Ortname": "Am Bach (Avers)",
                                    "Kanton": "GR"
                                },
                                {
                                    "Ortname": "Juf",
                                    "Kanton": "GR"
                                },
                                {
                                    "Ortname": "Tiefencastel",
                                    "Kanton": "GR"
                                },
                                {
                                    "Ortname": "Mon",
                                    "Kanton": "GR"
                                },
                                {
                                    "Ortname": "Stierva",
                                    "Kanton": "GR"
                                },
                                {
                                    "Ortname": "Alvaschein",
                                    "Kanton": "GR"
                                },
                                {
                                    "Ortname": "Cunter",
                                    "Kanton": "GR"
                                },
                                {
                                    "Ortname": "Tinizong",
                                    "Kanton": "GR"
                                },
                                {
                                    "Ortname": "Rona",
                                    "Kanton": "GR"
                                },
                                {
                                    "Ortname": "Mulegns",
                                    "Kanton": "GR"
                                },
                                {
                                    "Ortname": "Sur",
                                    "Kanton": "GR"
                                },
                                {
                                    "Ortname": "Bivio",
                                    "Kanton": "GR"
                                },
                                {
                                    "Ortname": "Savognin",
                                    "Kanton": "GR"
                                },
                                {
                                    "Ortname": "Salouf",
                                    "Kanton": "GR"
                                },
                                {
                                    "Ortname": "Riom",
                                    "Kanton": "GR"
                                },
                                {
                                    "Ortname": "Parsonz",
                                    "Kanton": "GR"
                                },
                                {
                                    "Ortname": "Surava",
                                    "Kanton": "GR"
                                },
                                {
                                    "Ortname": "Alvaneu Bad",
                                    "Kanton": "GR"
                                },
                                {
                                    "Ortname": "Filisur",
                                    "Kanton": "GR"
                                },
                                {
                                    "Ortname": "Bergün/Bravuogn",
                                    "Kanton": "GR"
                                },
                                {
                                    "Ortname": "Stugl/Stuls",
                                    "Kanton": "GR"
                                },
                                {
                                    "Ortname": "Latsch",
                                    "Kanton": "GR"
                                },
                                {
                                    "Ortname": "Preda",
                                    "Kanton": "GR"
                                },
                                {
                                    "Ortname": "Alvaneu Dorf",
                                    "Kanton": "GR"
                                },
                                {
                                    "Ortname": "Schmitten (Albula)",
                                    "Kanton": "GR"
                                },
                                {
                                    "Ortname": "Davos Wiesen",
                                    "Kanton": "GR"
                                },
                                {
                                    "Ortname": "St. Moritz",
                                    "Kanton": "GR"
                                },
                                {
                                    "Ortname": "Bever",
                                    "Kanton": "GR"
                                },
                                {
                                    "Ortname": "Samedan",
                                    "Kanton": "GR"
                                },
                                {
                                    "Ortname": "Pontresina",
                                    "Kanton": "GR"
                                },
                                {
                                    "Ortname": "Celerina/Schlarigna",
                                    "Kanton": "GR"
                                },
                                {
                                    "Ortname": "Champfèr",
                                    "Kanton": "GR"
                                },
                                {
                                    "Ortname": "Silvaplana",
                                    "Kanton": "GR"
                                },
                                {
                                    "Ortname": "Sils/Segl Maria",
                                    "Kanton": "GR"
                                },
                                {
                                    "Ortname": "Fex",
                                    "Kanton": "GR"
                                },
                                {
                                    "Ortname": "Sils/Segl Baselgia",
                                    "Kanton": "GR"
                                },
                                {
                                    "Ortname": "Maloja",
                                    "Kanton": "GR"
                                },
                                {
                                    "Ortname": "Plaun da Lej",
                                    "Kanton": "GR"
                                },
                                {
                                    "Ortname": "La Punt-Chamues-ch",
                                    "Kanton": "GR"
                                },
                                {
                                    "Ortname": "Madulain",
                                    "Kanton": "GR"
                                },
                                {
                                    "Ortname": "Zuoz",
                                    "Kanton": "GR"
                                },
                                {
                                    "Ortname": "S-chanf",
                                    "Kanton": "GR"
                                },
                                {
                                    "Ortname": "Cinuos-chel",
                                    "Kanton": "GR"
                                },
                                {
                                    "Ortname": "Brail",
                                    "Kanton": "GR"
                                },
                                {
                                    "Ortname": "Zernez",
                                    "Kanton": "GR"
                                },
                                {
                                    "Ortname": "Tschierv",
                                    "Kanton": "GR"
                                },
                                {
                                    "Ortname": "Fuldera",
                                    "Kanton": "GR"
                                },
                                {
                                    "Ortname": "Lü",
                                    "Kanton": "GR"
                                },
                                {
                                    "Ortname": "Valchava",
                                    "Kanton": "GR"
                                },
                                {
                                    "Ortname": "Sta. Maria Val Müstair",
                                    "Kanton": "GR"
                                },
                                {
                                    "Ortname": "Müstair",
                                    "Kanton": "GR"
                                },
                                {
                                    "Ortname": "Susch",
                                    "Kanton": "GR"
                                },
                                {
                                    "Ortname": "Lavin",
                                    "Kanton": "GR"
                                },
                                {
                                    "Ortname": "Guarda",
                                    "Kanton": "GR"
                                },
                                {
                                    "Ortname": "Ardez",
                                    "Kanton": "GR"
                                },
                                {
                                    "Ortname": "Scuol",
                                    "Kanton": "GR"
                                },
                                {
                                    "Ortname": "Ftan",
                                    "Kanton": "GR"
                                },
                                {
                                    "Ortname": "Vulpera",
                                    "Kanton": "GR"
                                },
                                {
                                    "Ortname": "Tarasp",
                                    "Kanton": "GR"
                                },
                                {
                                    "Ortname": "Sent",
                                    "Kanton": "GR"
                                },
                                {
                                    "Ortname": "Crusch",
                                    "Kanton": "GR"
                                },
                                {
                                    "Ortname": "Ramosch",
                                    "Kanton": "GR"
                                },
                                {
                                    "Ortname": "Vnà",
                                    "Kanton": "GR"
                                },
                                {
                                    "Ortname": "Strada",
                                    "Kanton": "GR"
                                },
                                {
                                    "Ortname": "Tschlin",
                                    "Kanton": "GR"
                                },
                                {
                                    "Ortname": "Martina",
                                    "Kanton": "GR"
                                },
                                {
                                    "Ortname": "Samnaun-Compatsch",
                                    "Kanton": "GR"
                                },
                                {
                                    "Ortname": "Samnaun Dorf",
                                    "Kanton": "GR"
                                },
                                {
                                    "Ortname": "Casaccia",
                                    "Kanton": "GR"
                                },
                                {
                                    "Ortname": "Vicosoprano",
                                    "Kanton": "GR"
                                },
                                {
                                    "Ortname": "Borgonovo",
                                    "Kanton": "GR"
                                },
                                {
                                    "Ortname": "Stampa",
                                    "Kanton": "GR"
                                },
                                {
                                    "Ortname": "Promontogno",
                                    "Kanton": "GR"
                                },
                                {
                                    "Ortname": "Soglio",
                                    "Kanton": "GR"
                                },
                                {
                                    "Ortname": "Castasegna",
                                    "Kanton": "GR"
                                },
                                {
                                    "Ortname": "Poschiavo",
                                    "Kanton": "GR"
                                },
                                {
                                    "Ortname": "Sfazù",
                                    "Kanton": "GR"
                                },
                                {
                                    "Ortname": "La Rösa",
                                    "Kanton": "GR"
                                },
                                {
                                    "Ortname": "Brusio",
                                    "Kanton": "GR"
                                },
                                {
                                    "Ortname": "Viano",
                                    "Kanton": "GR"
                                },
                                {
                                    "Ortname": "Campocologno",
                                    "Kanton": "GR"
                                },
                                {
                                    "Ortname": "Ospizio Bernina",
                                    "Kanton": "GR"
                                },
                                {
                                    "Ortname": "S. Carlo (Poschiavo)",
                                    "Kanton": "GR"
                                },
                                {
                                    "Ortname": "Alp Grüm",
                                    "Kanton": "GR"
                                },
                                {
                                    "Ortname": "Li Curt",
                                    "Kanton": "GR"
                                },
                                {
                                    "Ortname": "Le Prese",
                                    "Kanton": "GR"
                                },
                                {
                                    "Ortname": "Campascio",
                                    "Kanton": "GR"
                                },
                                {
                                    "Ortname": "Würenlos",
                                    "Kanton": "AG"
                                },
                                {
                                    "Ortname": "Schaffhausen",
                                    "Kanton": "SH"
                                },
                                {
                                    "Ortname": "Schaffhausen",
                                    "Kanton": "SH"
                                },
                                {
                                    "Ortname": "Schaffhausen",
                                    "Kanton": "SH"
                                },
                                {
                                    "Ortname": "Schaffhausen",
                                    "Kanton": "SH"
                                },
                                {
                                    "Ortname": "Trasadingen",
                                    "Kanton": "SH"
                                },
                                {
                                    "Ortname": "Beggingen",
                                    "Kanton": "SH"
                                },
                                {
                                    "Ortname": "Hemmental",
                                    "Kanton": "SH"
                                },
                                {
                                    "Ortname": "Stetten SH",
                                    "Kanton": "SH"
                                },
                                {
                                    "Ortname": "Lohn SH",
                                    "Kanton": "SH"
                                },
                                {
                                    "Ortname": "Opfertshofen SH",
                                    "Kanton": "SH"
                                },
                                {
                                    "Ortname": "Büttenhardt",
                                    "Kanton": "SH"
                                },
                                {
                                    "Ortname": "Bibern SH",
                                    "Kanton": "SH"
                                },
                                {
                                    "Ortname": "Hofen SH",
                                    "Kanton": "SH"
                                },
                                {
                                    "Ortname": "Altdorf SH",
                                    "Kanton": "SH"
                                },
                                {
                                    "Ortname": "Dörflingen",
                                    "Kanton": "SH"
                                },
                                {
                                    "Ortname": "Neuhausen am Rheinfall",
                                    "Kanton": "SH"
                                },
                                {
                                    "Ortname": "Neunkirch",
                                    "Kanton": "SH"
                                },
                                {
                                    "Ortname": "Gächlingen",
                                    "Kanton": "SH"
                                },
                                {
                                    "Ortname": "Hallau",
                                    "Kanton": "SH"
                                },
                                {
                                    "Ortname": "Oberhallau",
                                    "Kanton": "SH"
                                },
                                {
                                    "Ortname": "Wilchingen",
                                    "Kanton": "SH"
                                },
                                {
                                    "Ortname": "Osterfingen",
                                    "Kanton": "SH"
                                },
                                {
                                    "Ortname": "Beringen",
                                    "Kanton": "SH"
                                },
                                {
                                    "Ortname": "Guntmadingen",
                                    "Kanton": "SH"
                                },
                                {
                                    "Ortname": "Löhningen",
                                    "Kanton": "SH"
                                },
                                {
                                    "Ortname": "Siblingen",
                                    "Kanton": "SH"
                                },
                                {
                                    "Ortname": "Schleitheim",
                                    "Kanton": "SH"
                                },
                                {
                                    "Ortname": "Merishausen",
                                    "Kanton": "SH"
                                },
                                {
                                    "Ortname": "Bargen SH",
                                    "Kanton": "SH"
                                },
                                {
                                    "Ortname": "Thayngen",
                                    "Kanton": "SH"
                                },
                                {
                                    "Ortname": "Barzheim",
                                    "Kanton": "SH"
                                },
                                {
                                    "Ortname": "Schlatt TG",
                                    "Kanton": "TG"
                                },
                                {
                                    "Ortname": "Basadingen",
                                    "Kanton": "TG"
                                },
                                {
                                    "Ortname": "Kaltenbach",
                                    "Kanton": "TG"
                                },
                                {
                                    "Ortname": "Diessenhofen",
                                    "Kanton": "TG"
                                },
                                {
                                    "Ortname": "Schlattingen",
                                    "Kanton": "TG"
                                },
                                {
                                    "Ortname": "Etzwilen",
                                    "Kanton": "TG"
                                },
                                {
                                    "Ortname": "Stein am Rhein",
                                    "Kanton": "SH"
                                },
                                {
                                    "Ortname": "Wagenhausen",
                                    "Kanton": "TG"
                                },
                                {
                                    "Ortname": "Hemishofen",
                                    "Kanton": "SH"
                                },
                                {
                                    "Ortname": "Ramsen",
                                    "Kanton": "SH"
                                },
                                {
                                    "Ortname": "Buch SH",
                                    "Kanton": "SH"
                                },
                                {
                                    "Ortname": "Eschenz",
                                    "Kanton": "TG"
                                },
                                {
                                    "Ortname": "Mammern",
                                    "Kanton": "TG"
                                },
                                {
                                    "Ortname": "Steckborn",
                                    "Kanton": "TG"
                                },
                                {
                                    "Ortname": "Berlingen",
                                    "Kanton": "TG"
                                },
                                {
                                    "Ortname": "Mannenbach-Salenstein",
                                    "Kanton": "TG"
                                },
                                {
                                    "Ortname": "Ermatingen",
                                    "Kanton": "TG"
                                },
                                {
                                    "Ortname": "Triboltingen",
                                    "Kanton": "TG"
                                },
                                {
                                    "Ortname": "Tägerwilen",
                                    "Kanton": "TG"
                                },
                                {
                                    "Ortname": "Kreuzlingen",
                                    "Kanton": "TG"
                                },
                                {
                                    "Ortname": "Aadorf",
                                    "Kanton": "TG"
                                },
                                {
                                    "Ortname": "Ettenhausen TG",
                                    "Kanton": "TG"
                                },
                                {
                                    "Ortname": "Guntershausen b. Aadorf",
                                    "Kanton": "TG"
                                },
                                {
                                    "Ortname": "Eschlikon TG",
                                    "Kanton": "TG"
                                },
                                {
                                    "Ortname": "Balterswil",
                                    "Kanton": "TG"
                                },
                                {
                                    "Ortname": "Bichelsee",
                                    "Kanton": "TG"
                                },
                                {
                                    "Ortname": "Sirnach",
                                    "Kanton": "TG"
                                },
                                {
                                    "Ortname": "Wiezikon b. Sirnach",
                                    "Kanton": "TG"
                                },
                                {
                                    "Ortname": "Oberwangen TG",
                                    "Kanton": "TG"
                                },
                                {
                                    "Ortname": "Dussnang",
                                    "Kanton": "TG"
                                },
                                {
                                    "Ortname": "Fischingen",
                                    "Kanton": "TG"
                                },
                                {
                                    "Ortname": "Au TG",
                                    "Kanton": "TG"
                                },
                                {
                                    "Ortname": "Kaiserstuhl AG",
                                    "Kanton": "AG"
                                },
                                {
                                    "Ortname": "Fisibach",
                                    "Kanton": "AG"
                                },
                                {
                                    "Ortname": "Rekingen AG",
                                    "Kanton": "AG"
                                },
                                {
                                    "Ortname": "Bad Zurzach",
                                    "Kanton": "AG"
                                },
                                {
                                    "Ortname": "Rietheim",
                                    "Kanton": "AG"
                                },
                                {
                                    "Ortname": "Rümikon AG",
                                    "Kanton": "AG"
                                },
                                {
                                    "Ortname": "Mellikon",
                                    "Kanton": "AG"
                                },
                                {
                                    "Ortname": "Wislikofen",
                                    "Kanton": "AG"
                                },
                                {
                                    "Ortname": "Siglistorf",
                                    "Kanton": "AG"
                                },
                                {
                                    "Ortname": "Baldingen",
                                    "Kanton": "AG"
                                },
                                {
                                    "Ortname": "Böbikon",
                                    "Kanton": "AG"
                                },
                                {
                                    "Ortname": "Buchberg",
                                    "Kanton": "SH"
                                },
                                {
                                    "Ortname": "Rüdlingen",
                                    "Kanton": "SH"
                                },
                                {
                                    "Ortname": "Frauenfeld",
                                    "Kanton": "TG"
                                },
                                {
                                    "Ortname": "Gerlikon",
                                    "Kanton": "TG"
                                },
                                {
                                    "Ortname": "Pfyn",
                                    "Kanton": "TG"
                                },
                                {
                                    "Ortname": "Lanzenneunforn",
                                    "Kanton": "TG"
                                },
                                {
                                    "Ortname": "Hörhausen",
                                    "Kanton": "TG"
                                },
                                {
                                    "Ortname": "Homburg",
                                    "Kanton": "TG"
                                },
                                {
                                    "Ortname": "Thundorf",
                                    "Kanton": "TG"
                                },
                                {
                                    "Ortname": "Lustdorf",
                                    "Kanton": "TG"
                                },
                                {
                                    "Ortname": "Amlikon-Bissegg",
                                    "Kanton": "TG"
                                },
                                {
                                    "Ortname": "Häuslenen",
                                    "Kanton": "TG"
                                },
                                {
                                    "Ortname": "Uesslingen",
                                    "Kanton": "TG"
                                },
                                {
                                    "Ortname": "Niederneunforn",
                                    "Kanton": "TG"
                                },
                                {
                                    "Ortname": "Oberneunforn",
                                    "Kanton": "TG"
                                },
                                {
                                    "Ortname": "Warth",
                                    "Kanton": "TG"
                                },
                                {
                                    "Ortname": "Buch b. Frauenfeld",
                                    "Kanton": "TG"
                                },
                                {
                                    "Ortname": "Weiningen TG",
                                    "Kanton": "TG"
                                },
                                {
                                    "Ortname": "Herdern",
                                    "Kanton": "TG"
                                },
                                {
                                    "Ortname": "Hüttwilen",
                                    "Kanton": "TG"
                                },
                                {
                                    "Ortname": "Nussbaumen TG",
                                    "Kanton": "TG"
                                },
                                {
                                    "Ortname": "Islikon",
                                    "Kanton": "TG"
                                },
                                {
                                    "Ortname": "Gachnang",
                                    "Kanton": "TG"
                                },
                                {
                                    "Ortname": "Felben-Wellhausen",
                                    "Kanton": "TG"
                                },
                                {
                                    "Ortname": "Müllheim-Wigoltingen",
                                    "Kanton": "TG"
                                },
                                {
                                    "Ortname": "Bonau",
                                    "Kanton": "TG"
                                },
                                {
                                    "Ortname": "Müllheim Dorf",
                                    "Kanton": "TG"
                                },
                                {
                                    "Ortname": "Wigoltingen",
                                    "Kanton": "TG"
                                },
                                {
                                    "Ortname": "Lipperswil",
                                    "Kanton": "TG"
                                },
                                {
                                    "Ortname": "Raperswilen",
                                    "Kanton": "TG"
                                },
                                {
                                    "Ortname": "Fruthwilen",
                                    "Kanton": "TG"
                                },
                                {
                                    "Ortname": "Märstetten",
                                    "Kanton": "TG"
                                },
                                {
                                    "Ortname": "Ottoberg",
                                    "Kanton": "TG"
                                },
                                {
                                    "Ortname": "Hugelshofen",
                                    "Kanton": "TG"
                                },
                                {
                                    "Ortname": "Dotnacht",
                                    "Kanton": "TG"
                                },
                                {
                                    "Ortname": "Neuwilen",
                                    "Kanton": "TG"
                                },
                                {
                                    "Ortname": "Engwilen",
                                    "Kanton": "TG"
                                },
                                {
                                    "Ortname": "Wäldi",
                                    "Kanton": "TG"
                                },
                                {
                                    "Ortname": "Weinfelden",
                                    "Kanton": "TG"
                                },
                                {
                                    "Ortname": "Berg TG",
                                    "Kanton": "TG"
                                },
                                {
                                    "Ortname": "Siegershausen",
                                    "Kanton": "TG"
                                },
                                {
                                    "Ortname": "Illighausen",
                                    "Kanton": "TG"
                                },
                                {
                                    "Ortname": "Bürglen TG",
                                    "Kanton": "TG"
                                },
                                {
                                    "Ortname": "Mauren TG",
                                    "Kanton": "TG"
                                },
                                {
                                    "Ortname": "Schönholzerswilen",
                                    "Kanton": "TG"
                                },
                                {
                                    "Ortname": "Neukirch an der Thur",
                                    "Kanton": "TG"
                                },
                                {
                                    "Ortname": "Amriswil",
                                    "Kanton": "TG"
                                },
                                {
                                    "Ortname": "Sommeri",
                                    "Kanton": "TG"
                                },
                                {
                                    "Ortname": "Dozwil",
                                    "Kanton": "TG"
                                },
                                {
                                    "Ortname": "Hagenwil b. Amriswil",
                                    "Kanton": "TG"
                                },
                                {
                                    "Ortname": "Schocherswil",
                                    "Kanton": "TG"
                                },
                                {
                                    "Ortname": "Zihlschlacht",
                                    "Kanton": "TG"
                                },
                                {
                                    "Ortname": "Sitterdorf",
                                    "Kanton": "TG"
                                },
                                {
                                    "Ortname": "Sulgen",
                                    "Kanton": "TG"
                                },
                                {
                                    "Ortname": "Götighofen",
                                    "Kanton": "TG"
                                },
                                {
                                    "Ortname": "Donzhausen",
                                    "Kanton": "TG"
                                },
                                {
                                    "Ortname": "Leimbach TG",
                                    "Kanton": "TG"
                                },
                                {
                                    "Ortname": "Opfershofen TG",
                                    "Kanton": "TG"
                                },
                                {
                                    "Ortname": "Mattwil",
                                    "Kanton": "TG"
                                },
                                {
                                    "Ortname": "Happerswil",
                                    "Kanton": "TG"
                                },
                                {
                                    "Ortname": "Langrickenbach",
                                    "Kanton": "TG"
                                },
                                {
                                    "Ortname": "Zuben",
                                    "Kanton": "TG"
                                },
                                {
                                    "Ortname": "Erlen",
                                    "Kanton": "TG"
                                },
                                {
                                    "Ortname": "Andwil TG",
                                    "Kanton": "TG"
                                },
                                {
                                    "Ortname": "Kümmertshausen",
                                    "Kanton": "TG"
                                },
                                {
                                    "Ortname": "Riedt b. Erlen",
                                    "Kanton": "TG"
                                },
                                {
                                    "Ortname": "Oberaach",
                                    "Kanton": "TG"
                                },
                                {
                                    "Ortname": "Romanshorn",
                                    "Kanton": "TG"
                                },
                                {
                                    "Ortname": "Salmsach",
                                    "Kanton": "TG"
                                },
                                {
                                    "Ortname": "Uttwil",
                                    "Kanton": "TG"
                                },
                                {
                                    "Ortname": "Kesswil",
                                    "Kanton": "TG"
                                },
                                {
                                    "Ortname": "Güttingen",
                                    "Kanton": "TG"
                                },
                                {
                                    "Ortname": "Altnau",
                                    "Kanton": "TG"
                                },
                                {
                                    "Ortname": "Scherzingen",
                                    "Kanton": "TG"
                                },
                                {
                                    "Ortname": "Landschlacht",
                                    "Kanton": "TG"
                                },
                                {
                                    "Ortname": "Bottighofen",
                                    "Kanton": "TG"
                                },
                                {
                                    "Ortname": "Goldingen",
                                    "Kanton": "SG"
                                },
                                {
                                    "Ortname": "Rapperswil SG",
                                    "Kanton": "SG"
                                },
                                {
                                    "Ortname": "Jona",
                                    "Kanton": "SG"
                                },
                                {
                                    "Ortname": "Wagen",
                                    "Kanton": "SG"
                                },
                                {
                                    "Ortname": "Bollingen",
                                    "Kanton": "SG"
                                },
                                {
                                    "Ortname": "Schmerikon",
                                    "Kanton": "SG"
                                },
                                {
                                    "Ortname": "Benken SG",
                                    "Kanton": "SG"
                                },
                                {
                                    "Ortname": "Schänis",
                                    "Kanton": "SG"
                                },
                                {
                                    "Ortname": "Kaltbrunn",
                                    "Kanton": "SG"
                                },
                                {
                                    "Ortname": "Rufi",
                                    "Kanton": "SG"
                                },
                                {
                                    "Ortname": "Ernetschwil",
                                    "Kanton": "SG"
                                },
                                {
                                    "Ortname": "Ricken SG",
                                    "Kanton": "SG"
                                },
                                {
                                    "Ortname": "Walde SG",
                                    "Kanton": "SG"
                                },
                                {
                                    "Ortname": "Uznach",
                                    "Kanton": "SG"
                                },
                                {
                                    "Ortname": "Neuhaus SG",
                                    "Kanton": "SG"
                                },
                                {
                                    "Ortname": "Eschenbach SG",
                                    "Kanton": "SG"
                                },
                                {
                                    "Ortname": "Ermenswil",
                                    "Kanton": "SG"
                                },
                                {
                                    "Ortname": "St. Gallenkappel",
                                    "Kanton": "SG"
                                },
                                {
                                    "Ortname": "Rüeterswil",
                                    "Kanton": "SG"
                                },
                                {
                                    "Ortname": "Gommiswald",
                                    "Kanton": "SG"
                                },
                                {
                                    "Ortname": "Uetliburg SG",
                                    "Kanton": "SG"
                                },
                                {
                                    "Ortname": "Rieden SG",
                                    "Kanton": "SG"
                                },
                                {
                                    "Ortname": "Glarus",
                                    "Kanton": "GL"
                                },
                                {
                                    "Ortname": "Riedern",
                                    "Kanton": "GL"
                                },
                                {
                                    "Ortname": "Klöntal",
                                    "Kanton": "GL"
                                },
                                {
                                    "Ortname": "Urnerboden",
                                    "Kanton": "UR"
                                },
                                {
                                    "Ortname": "Näfels",
                                    "Kanton": "GL"
                                },
                                {
                                    "Ortname": "Mollis",
                                    "Kanton": "GL"
                                },
                                {
                                    "Ortname": "Netstal",
                                    "Kanton": "GL"
                                },
                                {
                                    "Ortname": "Ennenda",
                                    "Kanton": "GL"
                                },
                                {
                                    "Ortname": "Mitlödi",
                                    "Kanton": "GL"
                                },
                                {
                                    "Ortname": "Schwanden GL",
                                    "Kanton": "GL"
                                },
                                {
                                    "Ortname": "Schwändi b. Schwanden",
                                    "Kanton": "GL"
                                },
                                {
                                    "Ortname": "Sool",
                                    "Kanton": "GL"
                                },
                                {
                                    "Ortname": "Engi",
                                    "Kanton": "GL"
                                },
                                {
                                    "Ortname": "Matt",
                                    "Kanton": "GL"
                                },
                                {
                                    "Ortname": "Elm",
                                    "Kanton": "GL"
                                },
                                {
                                    "Ortname": "Nidfurn",
                                    "Kanton": "GL"
                                },
                                {
                                    "Ortname": "Haslen GL",
                                    "Kanton": "GL"
                                },
                                {
                                    "Ortname": "Luchsingen",
                                    "Kanton": "GL"
                                },
                                {
                                    "Ortname": "Hätzingen",
                                    "Kanton": "GL"
                                },
                                {
                                    "Ortname": "Diesbach GL",
                                    "Kanton": "GL"
                                },
                                {
                                    "Ortname": "Rüti GL",
                                    "Kanton": "GL"
                                },
                                {
                                    "Ortname": "Linthal",
                                    "Kanton": "GL"
                                },
                                {
                                    "Ortname": "Braunwald",
                                    "Kanton": "GL"
                                },
                                {
                                    "Ortname": "Bäch SZ",
                                    "Kanton": "SZ"
                                },
                                {
                                    "Ortname": "Freienbach",
                                    "Kanton": "SZ"
                                },
                                {
                                    "Ortname": "Pfäffikon SZ",
                                    "Kanton": "SZ"
                                },
                                {
                                    "Ortname": "Wollerau",
                                    "Kanton": "SZ"
                                },
                                {
                                    "Ortname": "Schindellegi",
                                    "Kanton": "SZ"
                                },
                                {
                                    "Ortname": "Feusisberg",
                                    "Kanton": "SZ"
                                },
                                {
                                    "Ortname": "Bennau",
                                    "Kanton": "SZ"
                                },
                                {
                                    "Ortname": "Einsiedeln",
                                    "Kanton": "SZ"
                                },
                                {
                                    "Ortname": "Trachslau",
                                    "Kanton": "SZ"
                                },
                                {
                                    "Ortname": "Alpthal",
                                    "Kanton": "SZ"
                                },
                                {
                                    "Ortname": "Willerzell",
                                    "Kanton": "SZ"
                                },
                                {
                                    "Ortname": "Egg SZ",
                                    "Kanton": "SZ"
                                },
                                {
                                    "Ortname": "Gross",
                                    "Kanton": "SZ"
                                },
                                {
                                    "Ortname": "Euthal",
                                    "Kanton": "SZ"
                                },
                                {
                                    "Ortname": "Studen SZ",
                                    "Kanton": "SZ"
                                },
                                {
                                    "Ortname": "Unteriberg",
                                    "Kanton": "SZ"
                                },
                                {
                                    "Ortname": "Oberiberg",
                                    "Kanton": "SZ"
                                },
                                {
                                    "Ortname": "Altendorf",
                                    "Kanton": "SZ"
                                },
                                {
                                    "Ortname": "Lachen SZ",
                                    "Kanton": "SZ"
                                },
                                {
                                    "Ortname": "Siebnen",
                                    "Kanton": "SZ"
                                },
                                {
                                    "Ortname": "Galgenen",
                                    "Kanton": "SZ"
                                },
                                {
                                    "Ortname": "Wangen SZ",
                                    "Kanton": "SZ"
                                },
                                {
                                    "Ortname": "Tuggen",
                                    "Kanton": "SZ"
                                },
                                {
                                    "Ortname": "Vorderthal",
                                    "Kanton": "SZ"
                                },
                                {
                                    "Ortname": "Innerthal",
                                    "Kanton": "SZ"
                                },
                                {
                                    "Ortname": "Schübelbach",
                                    "Kanton": "SZ"
                                },
                                {
                                    "Ortname": "Buttikon SZ",
                                    "Kanton": "SZ"
                                },
                                {
                                    "Ortname": "Reichenburg",
                                    "Kanton": "SZ"
                                },
                                {
                                    "Ortname": "Bilten",
                                    "Kanton": "GL"
                                },
                                {
                                    "Ortname": "Ziegelbrücke",
                                    "Kanton": "GL"
                                },
                                {
                                    "Ortname": "Niederurnen",
                                    "Kanton": "GL"
                                },
                                {
                                    "Ortname": "Oberurnen",
                                    "Kanton": "GL"
                                },
                                {
                                    "Ortname": "Weesen",
                                    "Kanton": "SG"
                                },
                                {
                                    "Ortname": "Amden",
                                    "Kanton": "SG"
                                },
                                {
                                    "Ortname": "Mühlehorn",
                                    "Kanton": "GL"
                                },
                                {
                                    "Ortname": "Obstalden",
                                    "Kanton": "GL"
                                },
                                {
                                    "Ortname": "Filzbach",
                                    "Kanton": "GL"
                                },
                                {
                                    "Ortname": "Murg",
                                    "Kanton": "SG"
                                },
                                {
                                    "Ortname": "Quinten",
                                    "Kanton": "SG"
                                },
                                {
                                    "Ortname": "Walenstadt",
                                    "Kanton": "SG"
                                },
                                {
                                    "Ortname": "Walenstadtberg",
                                    "Kanton": "SG"
                                },
                                {
                                    "Ortname": "Knoblisbühl",
                                    "Kanton": "SG"
                                },
                                {
                                    "Ortname": "Tscherlach",
                                    "Kanton": "SG"
                                },
                                {
                                    "Ortname": "Unterterzen",
                                    "Kanton": "SG"
                                },
                                {
                                    "Ortname": "Quarten",
                                    "Kanton": "SG"
                                },
                                {
                                    "Ortname": "Oberterzen",
                                    "Kanton": "SG"
                                },
                                {
                                    "Ortname": "Mols",
                                    "Kanton": "SG"
                                },
                                {
                                    "Ortname": "Mels",
                                    "Kanton": "SG"
                                },
                                {
                                    "Ortname": "Mädris-Vermol",
                                    "Kanton": "SG"
                                },
                                {
                                    "Ortname": "Plons",
                                    "Kanton": "SG"
                                },
                                {
                                    "Ortname": "Heiligkreuz (Mels)",
                                    "Kanton": "SG"
                                },
                                {
                                    "Ortname": "Flums",
                                    "Kanton": "SG"
                                },
                                {
                                    "Ortname": "Berschis",
                                    "Kanton": "SG"
                                },
                                {
                                    "Ortname": "Flums Hochwiese",
                                    "Kanton": "SG"
                                },
                                {
                                    "Ortname": "Flumserberg Saxli",
                                    "Kanton": "SG"
                                },
                                {
                                    "Ortname": "Flumserberg Portels",
                                    "Kanton": "SG"
                                },
                                {
                                    "Ortname": "Flumserberg Bergheim",
                                    "Kanton": "SG"
                                },
                                {
                                    "Ortname": "Flumserberg Tannenheim",
                                    "Kanton": "SG"
                                },
                                {
                                    "Ortname": "Flumserberg Tannenbodenalp",
                                    "Kanton": "SG"
                                },
                                {
                                    "Ortname": "Jonen",
                                    "Kanton": "AG"
                                },
                                {
                                    "Ortname": "Oberlunkhofen",
                                    "Kanton": "AG"
                                },
                                {
                                    "Ortname": "Unterlunkhofen",
                                    "Kanton": "AG"
                                },
                                {
                                    "Ortname": "Rottenschwil",
                                    "Kanton": "AG"
                                },
                                {
                                    "Ortname": "Sihlbrugg",
                                    "Kanton": "ZG"
                                },
                                {
                                    "Ortname": "Killwangen",
                                    "Kanton": "AG"
                                },
                                {
                                    "Ortname": "Spreitenbach",
                                    "Kanton": "AG"
                                },
                                {
                                    "Ortname": "Bergdietikon",
                                    "Kanton": "AG"
                                },
                                {
                                    "Ortname": "Rudolfstetten",
                                    "Kanton": "AG"
                                },
                                {
                                    "Ortname": "Berikon",
                                    "Kanton": "AG"
                                },
                                {
                                    "Ortname": "Oberwil-Lieli",
                                    "Kanton": "AG"
                                },
                                {
                                    "Ortname": "Widen",
                                    "Kanton": "AG"
                                },
                                {
                                    "Ortname": "St. Gallen",
                                    "Kanton": "SG"
                                },
                                {
                                    "Ortname": "St. Gallen",
                                    "Kanton": "SG"
                                },
                                {
                                    "Ortname": "St. Gallen",
                                    "Kanton": "SG"
                                },
                                {
                                    "Ortname": "St. Gallen",
                                    "Kanton": "SG"
                                },
                                {
                                    "Ortname": "St. Gallen",
                                    "Kanton": "SG"
                                },
                                {
                                    "Ortname": "St. Gallen",
                                    "Kanton": "SG"
                                },
                                {
                                    "Ortname": "St. Gallen",
                                    "Kanton": "SG"
                                },
                                {
                                    "Ortname": "St. Gallen",
                                    "Kanton": "SG"
                                },
                                {
                                    "Ortname": "Abtwil SG",
                                    "Kanton": "SG"
                                },
                                {
                                    "Ortname": "Engelburg",
                                    "Kanton": "SG"
                                },
                                {
                                    "Ortname": "Untereggen",
                                    "Kanton": "SG"
                                },
                                {
                                    "Ortname": "Eggersriet",
                                    "Kanton": "SG"
                                },
                                {
                                    "Ortname": "Grub AR",
                                    "Kanton": "AR"
                                },
                                {
                                    "Ortname": "Grub SG",
                                    "Kanton": "SG"
                                },
                                {
                                    "Ortname": "Speicherschwendi",
                                    "Kanton": "AR"
                                },
                                {
                                    "Ortname": "Rehetobel",
                                    "Kanton": "AR"
                                },
                                {
                                    "Ortname": "Speicher",
                                    "Kanton": "AR"
                                },
                                {
                                    "Ortname": "Trogen",
                                    "Kanton": "AR"
                                },
                                {
                                    "Ortname": "Wald AR",
                                    "Kanton": "AR"
                                },
                                {
                                    "Ortname": "Appenzell",
                                    "Kanton": "AI"
                                },
                                {
                                    "Ortname": "Niederteufen",
                                    "Kanton": "AR"
                                },
                                {
                                    "Ortname": "Teufen AR",
                                    "Kanton": "AR"
                                },
                                {
                                    "Ortname": "Haslen AI",
                                    "Kanton": "AI"
                                },
                                {
                                    "Ortname": "Bühler",
                                    "Kanton": "AR"
                                },
                                {
                                    "Ortname": "Gais",
                                    "Kanton": "AR"
                                },
                                {
                                    "Ortname": "Weissbad",
                                    "Kanton": "AI"
                                },
                                {
                                    "Ortname": "Brülisau",
                                    "Kanton": "AI"
                                },
                                {
                                    "Ortname": "Lustmühle",
                                    "Kanton": "AR"
                                },
                                {
                                    "Ortname": "Stein AR",
                                    "Kanton": "AR"
                                },
                                {
                                    "Ortname": "Hundwil",
                                    "Kanton": "AR"
                                },
                                {
                                    "Ortname": "Herisau",
                                    "Kanton": "AR"
                                },
                                {
                                    "Ortname": "Schwellbrunn",
                                    "Kanton": "AR"
                                },
                                {
                                    "Ortname": "Waldstatt",
                                    "Kanton": "AR"
                                },
                                {
                                    "Ortname": "Schönengrund",
                                    "Kanton": "AR"
                                },
                                {
                                    "Ortname": "Urnäsch",
                                    "Kanton": "AR"
                                },
                                {
                                    "Ortname": "Gonten",
                                    "Kanton": "AI"
                                },
                                {
                                    "Ortname": "Schachen b. Herisau",
                                    "Kanton": "AR"
                                },
                                {
                                    "Ortname": "Degersheim",
                                    "Kanton": "SG"
                                },
                                {
                                    "Ortname": "Hoffeld",
                                    "Kanton": "SG"
                                },
                                {
                                    "Ortname": "Dicken",
                                    "Kanton": "SG"
                                },
                                {
                                    "Ortname": "Wolfertswil",
                                    "Kanton": "SG"
                                },
                                {
                                    "Ortname": "Mogelsberg",
                                    "Kanton": "SG"
                                },
                                {
                                    "Ortname": "Nassen",
                                    "Kanton": "SG"
                                },
                                {
                                    "Ortname": "Brunnadern",
                                    "Kanton": "SG"
                                },
                                {
                                    "Ortname": "Necker",
                                    "Kanton": "SG"
                                },
                                {
                                    "Ortname": "St. Peterzell",
                                    "Kanton": "SG"
                                },
                                {
                                    "Ortname": "Bächli (Hemberg)",
                                    "Kanton": "SG"
                                },
                                {
                                    "Ortname": "Gossau SG",
                                    "Kanton": "SG"
                                },
                                {
                                    "Ortname": "Niederwil SG",
                                    "Kanton": "SG"
                                },
                                {
                                    "Ortname": "Andwil SG",
                                    "Kanton": "SG"
                                },
                                {
                                    "Ortname": "Waldkirch",
                                    "Kanton": "SG"
                                },
                                {
                                    "Ortname": "Arnegg",
                                    "Kanton": "SG"
                                },
                                {
                                    "Ortname": "Hauptwil",
                                    "Kanton": "TG"
                                },
                                {
                                    "Ortname": "Heldswil",
                                    "Kanton": "TG"
                                },
                                {
                                    "Ortname": "Schönenberg an der Thur",
                                    "Kanton": "TG"
                                },
                                {
                                    "Ortname": "Buhwil",
                                    "Kanton": "TG"
                                },
                                {
                                    "Ortname": "Bischofszell",
                                    "Kanton": "TG"
                                },
                                {
                                    "Ortname": "Schweizersholz",
                                    "Kanton": "TG"
                                },
                                {
                                    "Ortname": "Halden",
                                    "Kanton": "TG"
                                },
                                {
                                    "Ortname": "Hohentannen",
                                    "Kanton": "TG"
                                },
                                {
                                    "Ortname": "Wilen (Gottshaus)",
                                    "Kanton": "TG"
                                },
                                {
                                    "Ortname": "St. Pelagiberg",
                                    "Kanton": "TG"
                                },
                                {
                                    "Ortname": "Flawil",
                                    "Kanton": "SG"
                                },
                                {
                                    "Ortname": "Egg (Flawil)",
                                    "Kanton": "SG"
                                },
                                {
                                    "Ortname": "Oberrindal",
                                    "Kanton": "SG"
                                },
                                {
                                    "Ortname": "Lütisburg",
                                    "Kanton": "SG"
                                },
                                {
                                    "Ortname": "Uzwil",
                                    "Kanton": "SG"
                                },
                                {
                                    "Ortname": "Niederglatt SG",
                                    "Kanton": "SG"
                                },
                                {
                                    "Ortname": "Oberuzwil",
                                    "Kanton": "SG"
                                },
                                {
                                    "Ortname": "Bichwil",
                                    "Kanton": "SG"
                                },
                                {
                                    "Ortname": "Jonschwil",
                                    "Kanton": "SG"
                                },
                                {
                                    "Ortname": "Niederuzwil",
                                    "Kanton": "SG"
                                },
                                {
                                    "Ortname": "Oberbüren",
                                    "Kanton": "SG"
                                },
                                {
                                    "Ortname": "Niederbüren",
                                    "Kanton": "SG"
                                },
                                {
                                    "Ortname": "Henau",
                                    "Kanton": "SG"
                                },
                                {
                                    "Ortname": "Algetshausen",
                                    "Kanton": "SG"
                                },
                                {
                                    "Ortname": "Wittenbach",
                                    "Kanton": "SG"
                                },
                                {
                                    "Ortname": "Bernhardzell",
                                    "Kanton": "SG"
                                },
                                {
                                    "Ortname": "Berg SG",
                                    "Kanton": "SG"
                                },
                                {
                                    "Ortname": "Freidorf TG",
                                    "Kanton": "TG"
                                },
                                {
                                    "Ortname": "Winden",
                                    "Kanton": "TG"
                                },
                                {
                                    "Ortname": "Lömmenschwil",
                                    "Kanton": "SG"
                                },
                                {
                                    "Ortname": "Häggenschwil",
                                    "Kanton": "SG"
                                },
                                {
                                    "Ortname": "Muolen",
                                    "Kanton": "SG"
                                },
                                {
                                    "Ortname": "Steinebrunn",
                                    "Kanton": "TG"
                                },
                                {
                                    "Ortname": "Neukirch (Egnach)",
                                    "Kanton": "TG"
                                },
                                {
                                    "Ortname": "Arbon",
                                    "Kanton": "TG"
                                },
                                {
                                    "Ortname": "Frasnacht",
                                    "Kanton": "TG"
                                },
                                {
                                    "Ortname": "Stachen",
                                    "Kanton": "TG"
                                },
                                {
                                    "Ortname": "Egnach",
                                    "Kanton": "TG"
                                },
                                {
                                    "Ortname": "Steinach",
                                    "Kanton": "SG"
                                },
                                {
                                    "Ortname": "Roggwil TG",
                                    "Kanton": "TG"
                                },
                                {
                                    "Ortname": "Horn",
                                    "Kanton": "TG"
                                },
                                {
                                    "Ortname": "Tübach",
                                    "Kanton": "SG"
                                },
                                {
                                    "Ortname": "Rorschach",
                                    "Kanton": "SG"
                                },
                                {
                                    "Ortname": "Rorschacherberg",
                                    "Kanton": "SG"
                                },
                                {
                                    "Ortname": "Mörschwil",
                                    "Kanton": "SG"
                                },
                                {
                                    "Ortname": "Goldach",
                                    "Kanton": "SG"
                                },
                                {
                                    "Ortname": "Wienacht-Tobel",
                                    "Kanton": "AR"
                                },
                                {
                                    "Ortname": "Heiden",
                                    "Kanton": "AR"
                                },
                                {
                                    "Ortname": "Reute AR",
                                    "Kanton": "AR"
                                },
                                {
                                    "Ortname": "Oberegg",
                                    "Kanton": "AI"
                                },
                                {
                                    "Ortname": "Schachen b. Reute",
                                    "Kanton": "AR"
                                },
                                {
                                    "Ortname": "Staad SG",
                                    "Kanton": "SG"
                                },
                                {
                                    "Ortname": "Altenrhein",
                                    "Kanton": "SG"
                                },
                                {
                                    "Ortname": "Rheineck",
                                    "Kanton": "SG"
                                },
                                {
                                    "Ortname": "Thal",
                                    "Kanton": "SG"
                                },
                                {
                                    "Ortname": "Lutzenberg",
                                    "Kanton": "AR"
                                },
                                {
                                    "Ortname": "Wolfhalden",
                                    "Kanton": "AR"
                                },
                                {
                                    "Ortname": "Walzenhausen",
                                    "Kanton": "AR"
                                },
                                {
                                    "Ortname": "St. Margrethen SG",
                                    "Kanton": "SG"
                                },
                                {
                                    "Ortname": "Au SG",
                                    "Kanton": "SG"
                                },
                                {
                                    "Ortname": "Heerbrugg",
                                    "Kanton": "SG"
                                },
                                {
                                    "Ortname": "Balgach",
                                    "Kanton": "SG"
                                },
                                {
                                    "Ortname": "Marbach SG",
                                    "Kanton": "SG"
                                },
                                {
                                    "Ortname": "Lüchingen",
                                    "Kanton": "SG"
                                },
                                {
                                    "Ortname": "Berneck",
                                    "Kanton": "SG"
                                },
                                {
                                    "Ortname": "Widnau",
                                    "Kanton": "SG"
                                },
                                {
                                    "Ortname": "Diepoldsau",
                                    "Kanton": "SG"
                                },
                                {
                                    "Ortname": "Rebstein",
                                    "Kanton": "SG"
                                },
                                {
                                    "Ortname": "Altstätten SG",
                                    "Kanton": "SG"
                                },
                                {
                                    "Ortname": "Kriessern",
                                    "Kanton": "SG"
                                },
                                {
                                    "Ortname": "Hinterforst",
                                    "Kanton": "SG"
                                },
                                {
                                    "Ortname": "Eichberg",
                                    "Kanton": "SG"
                                },
                                {
                                    "Ortname": "Montlingen",
                                    "Kanton": "SG"
                                },
                                {
                                    "Ortname": "Oberriet SG",
                                    "Kanton": "SG"
                                },
                                {
                                    "Ortname": "Rüthi (Rheintal)",
                                    "Kanton": "SG"
                                },
                                {
                                    "Ortname": "Lienz",
                                    "Kanton": "SG"
                                },
                                {
                                    "Ortname": "Salez",
                                    "Kanton": "SG"
                                },
                                {
                                    "Ortname": "Sennwald",
                                    "Kanton": "SG"
                                },
                                {
                                    "Ortname": "Frümsen",
                                    "Kanton": "SG"
                                },
                                {
                                    "Ortname": "Sax",
                                    "Kanton": "SG"
                                },
                                {
                                    "Ortname": "Haag (Rheintal)",
                                    "Kanton": "SG"
                                },
                                {
                                    "Ortname": "Buchs SG",
                                    "Kanton": "SG"
                                },
                                {
                                    "Ortname": "Grabs",
                                    "Kanton": "SG"
                                },
                                {
                                    "Ortname": "Grabserberg",
                                    "Kanton": "SG"
                                },
                                {
                                    "Ortname": "Gams",
                                    "Kanton": "SG"
                                },
                                {
                                    "Ortname": "Sevelen",
                                    "Kanton": "SG"
                                },
                                {
                                    "Ortname": "Weite",
                                    "Kanton": "SG"
                                },
                                {
                                    "Ortname": "Trübbach",
                                    "Kanton": "SG"
                                },
                                {
                                    "Ortname": "Azmoos",
                                    "Kanton": "SG"
                                },
                                {
                                    "Ortname": "Oberschan",
                                    "Kanton": "SG"
                                },
                                {
                                    "Ortname": "Nendeln",
                                    "Kanton": "FL"
                                },
                                {
                                    "Ortname": "Schaanwald",
                                    "Kanton": "FL"
                                },
                                {
                                    "Ortname": "Gamprin-Bendern",
                                    "Kanton": "FL"
                                },
                                {
                                    "Ortname": "Schellenberg",
                                    "Kanton": "FL"
                                },
                                {
                                    "Ortname": "Vaduz",
                                    "Kanton": "FL"
                                },
                                {
                                    "Ortname": "Ruggell",
                                    "Kanton": "FL"
                                },
                                {
                                    "Ortname": "Eschen",
                                    "Kanton": "FL"
                                },
                                {
                                    "Ortname": "Mauren FL",
                                    "Kanton": "FL"
                                },
                                {
                                    "Ortname": "Schaan",
                                    "Kanton": "FL"
                                },
                                {
                                    "Ortname": "Triesen",
                                    "Kanton": "FL"
                                },
                                {
                                    "Ortname": "Balzers",
                                    "Kanton": "FL"
                                },
                                {
                                    "Ortname": "Triesenberg",
                                    "Kanton": "FL"
                                },
                                {
                                    "Ortname": "Wil SG",
                                    "Kanton": "SG"
                                },
                                {
                                    "Ortname": "Braunau",
                                    "Kanton": "TG"
                                },
                                {
                                    "Ortname": "Stehrenberg",
                                    "Kanton": "TG"
                                },
                                {
                                    "Ortname": "Friltschen",
                                    "Kanton": "TG"
                                },
                                {
                                    "Ortname": "Lommis",
                                    "Kanton": "TG"
                                },
                                {
                                    "Ortname": "Stettfurt",
                                    "Kanton": "TG"
                                },
                                {
                                    "Ortname": "Weingarten-Kalthäusern",
                                    "Kanton": "TG"
                                },
                                {
                                    "Ortname": "Rossrüti",
                                    "Kanton": "SG"
                                },
                                {
                                    "Ortname": "Wuppenau",
                                    "Kanton": "TG"
                                },
                                {
                                    "Ortname": "Hosenruck",
                                    "Kanton": "TG"
                                },
                                {
                                    "Ortname": "Mettlen",
                                    "Kanton": "TG"
                                },
                                {
                                    "Ortname": "Rothenhausen",
                                    "Kanton": "TG"
                                },
                                {
                                    "Ortname": "Züberwangen",
                                    "Kanton": "SG"
                                },
                                {
                                    "Ortname": "Zuzwil SG",
                                    "Kanton": "SG"
                                },
                                {
                                    "Ortname": "Lenggenwil",
                                    "Kanton": "SG"
                                },
                                {
                                    "Ortname": "Zuckenriet",
                                    "Kanton": "SG"
                                },
                                {
                                    "Ortname": "Niederhelfenschwil",
                                    "Kanton": "SG"
                                },
                                {
                                    "Ortname": "Rickenbach b. Wil",
                                    "Kanton": "TG"
                                },
                                {
                                    "Ortname": "Kirchberg SG",
                                    "Kanton": "SG"
                                },
                                {
                                    "Ortname": "Gähwil",
                                    "Kanton": "SG"
                                },
                                {
                                    "Ortname": "Wilen b. Wil",
                                    "Kanton": "TG"
                                },
                                {
                                    "Ortname": "Schwarzenbach SG",
                                    "Kanton": "SG"
                                },
                                {
                                    "Ortname": "Münchwilen TG",
                                    "Kanton": "TG"
                                },
                                {
                                    "Ortname": "St. Margarethen TG",
                                    "Kanton": "TG"
                                },
                                {
                                    "Ortname": "Wängi",
                                    "Kanton": "TG"
                                },
                                {
                                    "Ortname": "Tuttwil",
                                    "Kanton": "TG"
                                },
                                {
                                    "Ortname": "Wittenwil",
                                    "Kanton": "TG"
                                },
                                {
                                    "Ortname": "Matzingen",
                                    "Kanton": "TG"
                                },
                                {
                                    "Ortname": "Bronschhofen",
                                    "Kanton": "SG"
                                },
                                {
                                    "Ortname": "Bettwiesen",
                                    "Kanton": "TG"
                                },
                                {
                                    "Ortname": "Tägerschen",
                                    "Kanton": "TG"
                                },
                                {
                                    "Ortname": "Tobel",
                                    "Kanton": "TG"
                                },
                                {
                                    "Ortname": "Affeltrangen",
                                    "Kanton": "TG"
                                },
                                {
                                    "Ortname": "Märwil",
                                    "Kanton": "TG"
                                },
                                {
                                    "Ortname": "Schmidshof",
                                    "Kanton": "TG"
                                },
                                {
                                    "Ortname": "Oppikon",
                                    "Kanton": "TG"
                                },
                                {
                                    "Ortname": "Bussnang",
                                    "Kanton": "TG"
                                },
                                {
                                    "Ortname": "Littenheid",
                                    "Kanton": "TG"
                                },
                                {
                                    "Ortname": "Lütisburg Station",
                                    "Kanton": "SG"
                                },
                                {
                                    "Ortname": "Bazenheid",
                                    "Kanton": "SG"
                                },
                                {
                                    "Ortname": "Müselbach",
                                    "Kanton": "SG"
                                },
                                {
                                    "Ortname": "Bütschwil",
                                    "Kanton": "SG"
                                },
                                {
                                    "Ortname": "Mosnang",
                                    "Kanton": "SG"
                                },
                                {
                                    "Ortname": "Ganterschwil",
                                    "Kanton": "SG"
                                },
                                {
                                    "Ortname": "Dreien",
                                    "Kanton": "SG"
                                },
                                {
                                    "Ortname": "Mühlrüti",
                                    "Kanton": "SG"
                                },
                                {
                                    "Ortname": "Libingen",
                                    "Kanton": "SG"
                                },
                                {
                                    "Ortname": "Dietfurt",
                                    "Kanton": "SG"
                                },
                                {
                                    "Ortname": "Lichtensteig",
                                    "Kanton": "SG"
                                },
                                {
                                    "Ortname": "Oberhelfenschwil",
                                    "Kanton": "SG"
                                },
                                {
                                    "Ortname": "Krinau",
                                    "Kanton": "SG"
                                },
                                {
                                    "Ortname": "Wattwil",
                                    "Kanton": "SG"
                                },
                                {
                                    "Ortname": "Ulisbach",
                                    "Kanton": "SG"
                                },
                                {
                                    "Ortname": "Hemberg",
                                    "Kanton": "SG"
                                },
                                {
                                    "Ortname": "Ebnat-Kappel",
                                    "Kanton": "SG"
                                },
                                {
                                    "Ortname": "Krummenau",
                                    "Kanton": "SG"
                                },
                                {
                                    "Ortname": "Nesslau",
                                    "Kanton": "SG"
                                },
                                {
                                    "Ortname": "Ennetbühl",
                                    "Kanton": "SG"
                                },
                                {
                                    "Ortname": "Stein SG",
                                    "Kanton": "SG"
                                },
                                {
                                    "Ortname": "Neu St. Johann",
                                    "Kanton": "SG"
                                },
                                {
                                    "Ortname": "Alt St. Johann",
                                    "Kanton": "SG"
                                },
                                {
                                    "Ortname": "Unterwasser",
                                    "Kanton": "SG"
                                },
                                {
                                    "Ortname": "Wildhaus",
                                    "Kanton": "SG"
                                },
                                {
                                    "Ortname": "Schmitten FR",
                                    "Kanton": "FR"
                                },
                                {
                                    "Ortname": "Rubigen",
                                    "Kanton": "BE"
                                },
                                {
                                    "Ortname": "Campione d'Italia",
                                    "Kanton": "IT"
                                },
                                {
                                    "Ortname": "Büsingen",
                                    "Kanton": "DE"
                                },
                                {
                                    "Ortname": "Sundlauenen",
                                    "Kanton": "BE"
                                },
                                {
                                    "Ortname": "Tentlingen",
                                    "Kanton": "FR"
                                },
                                {
                                    "Ortname": "Innerberg",
                                    "Kanton": "BE"
                                },
                                {
                                    "Ortname": "Oberdorf NW",
                                    "Kanton": "NW"
                                },
                                {
                                    "Ortname": "Schwanden b. Brienz",
                                    "Kanton": "BE"
                                },
                                {
                                    "Ortname": "Walliswil b. Niederbipp",
                                    "Kanton": "BE"
                                },
                                {
                                    "Ortname": "Clavaleyres",
                                    "Kanton": "BE"
                                },
                                {
                                    "Ortname": "Champoz",
                                    "Kanton": "BE"
                                },
                                {
                                    "Ortname": "Monible",
                                    "Kanton": "BE"
                                },
                                {
                                    "Ortname": "Schelten",
                                    "Kanton": "BE"
                                },
                                {
                                    "Ortname": "Vellerat",
                                    "Kanton": "JU"
                                },
                                {
                                    "Ortname": "Rebévelier",
                                    "Kanton": "BE"
                                },
                                {
                                    "Ortname": "Hagneck",
                                    "Kanton": "BE"
                                },
                                {
                                    "Ortname": "Mörigen",
                                    "Kanton": "BE"
                                },
                                {
                                    "Ortname": "Schwadernau",
                                    "Kanton": "BE"
                                },
                                {
                                    "Ortname": "Bollion",
                                    "Kanton": "FR"
                                },
                                {
                                    "Ortname": "Chandon",
                                    "Kanton": "FR"
                                },
                                {
                                    "Ortname": "Chapelle (Broye)",
                                    "Kanton": "FR"
                                },
                                {
                                    "Ortname": "Châtillon FR",
                                    "Kanton": "FR"
                                },
                                {
                                    "Ortname": "Forel FR",
                                    "Kanton": "FR"
                                },
                                {
                                    "Ortname": "Frasses",
                                    "Kanton": "FR"
                                },
                                {
                                    "Ortname": "Les Friques",
                                    "Kanton": "FR"
                                },
                                {
                                    "Ortname": "Granges-de-Vesin",
                                    "Kanton": "FR"
                                },
                                {
                                    "Ortname": "Lully FR",
                                    "Kanton": "FR"
                                },
                                {
                                    "Ortname": "Montbrelloz",
                                    "Kanton": "FR"
                                },
                                {
                                    "Ortname": "Morens FR",
                                    "Kanton": "FR"
                                },
                                {
                                    "Ortname": "Praratoud",
                                    "Kanton": "FR"
                                },
                                {
                                    "Ortname": "Prévondavaux",
                                    "Kanton": "FR"
                                },
                                {
                                    "Ortname": "Russy",
                                    "Kanton": "FR"
                                },
                                {
                                    "Ortname": "Seiry",
                                    "Kanton": "FR"
                                },
                                {
                                    "Ortname": "Sévaz",
                                    "Kanton": "FR"
                                },
                                {
                                    "Ortname": "Vallon",
                                    "Kanton": "FR"
                                },
                                {
                                    "Ortname": "Vesin",
                                    "Kanton": "FR"
                                },
                                {
                                    "Ortname": "Berlens",
                                    "Kanton": "FR"
                                },
                                {
                                    "Ortname": "Bionnens",
                                    "Kanton": "FR"
                                },
                                {
                                    "Ortname": "Blessens",
                                    "Kanton": "FR"
                                },
                                {
                                    "Ortname": "Chapelle (Glâne)",
                                    "Kanton": "FR"
                                },
                                {
                                    "Ortname": "Chavannes-sous-Orsonnens",
                                    "Kanton": "FR"
                                },
                                {
                                    "Ortname": "Les Ecasseys",
                                    "Kanton": "FR"
                                },
                                {
                                    "Ortname": "Esmonts",
                                    "Kanton": "FR"
                                },
                                {
                                    "Ortname": "Gillarens",
                                    "Kanton": "FR"
                                },
                                {
                                    "Ortname": "Hennens",
                                    "Kanton": "FR"
                                },
                                {
                                    "Ortname": "Lieffrens",
                                    "Kanton": "FR"
                                },
                                {
                                    "Ortname": "Lussy FR",
                                    "Kanton": "FR"
                                },
                                {
                                    "Ortname": "La Magne",
                                    "Kanton": "FR"
                                },
                                {
                                    "Ortname": "Montet (Glâne)",
                                    "Kanton": "FR"
                                },
                                {
                                    "Ortname": "Morlens",
                                    "Kanton": "FR"
                                },
                                {
                                    "Ortname": "Mossel",
                                    "Kanton": "FR"
                                },
                                {
                                    "Ortname": "La Neirigue",
                                    "Kanton": "FR"
                                },
                                {
                                    "Ortname": "Villargiroud",
                                    "Kanton": "FR"
                                },
                                {
                                    "Ortname": "Châtel-sur-Montsalvens",
                                    "Kanton": "FR"
                                },
                                {
                                    "Ortname": "Lessoc",
                                    "Kanton": "FR"
                                },
                                {
                                    "Ortname": "Maules",
                                    "Kanton": "FR"
                                },
                                {
                                    "Ortname": "Villarbeney",
                                    "Kanton": "FR"
                                },
                                {
                                    "Ortname": "Villars-sous-Mont",
                                    "Kanton": "FR"
                                },
                                {
                                    "Ortname": "Autafond",
                                    "Kanton": "FR"
                                },
                                {
                                    "Ortname": "La Corbaz",
                                    "Kanton": "FR"
                                },
                                {
                                    "Ortname": "Corjolens",
                                    "Kanton": "FR"
                                },
                                {
                                    "Ortname": "Cormagens",
                                    "Kanton": "FR"
                                },
                                {
                                    "Ortname": "Ecuvillens",
                                    "Kanton": "FR"
                                },
                                {
                                    "Ortname": "Essert FR",
                                    "Kanton": "FR"
                                },
                                {
                                    "Ortname": "Farvagny-le-Petit",
                                    "Kanton": "FR"
                                },
                                {
                                    "Ortname": "Ferpicloz",
                                    "Kanton": "FR"
                                },
                                {
                                    "Ortname": "Grenilles",
                                    "Kanton": "FR"
                                },
                                {
                                    "Ortname": "Lossy",
                                    "Kanton": "FR"
                                },
                                {
                                    "Ortname": "Lovens",
                                    "Kanton": "FR"
                                },
                                {
                                    "Ortname": "Magnedens",
                                    "Kanton": "FR"
                                },
                                {
                                    "Ortname": "Montévraz",
                                    "Kanton": "FR"
                                },
                                {
                                    "Ortname": "Oberried FR",
                                    "Kanton": "FR"
                                },
                                {
                                    "Ortname": "Pierrafortscha",
                                    "Kanton": "FR"
                                },
                                {
                                    "Ortname": "Ponthaux",
                                    "Kanton": "FR"
                                },
                                {
                                    "Ortname": "Posat",
                                    "Kanton": "FR"
                                },
                                {
                                    "Ortname": "Rueyres-St-Laurent",
                                    "Kanton": "FR"
                                },
                                {
                                    "Ortname": "Senèdes",
                                    "Kanton": "FR"
                                },
                                {
                                    "Ortname": "Villarsel-le-Gibloux",
                                    "Kanton": "FR"
                                },
                                {
                                    "Ortname": "Villarsel-sur-Marly",
                                    "Kanton": "FR"
                                },
                                {
                                    "Ortname": "Zénauva",
                                    "Kanton": "FR"
                                },
                                {
                                    "Ortname": "Cormérod",
                                    "Kanton": "FR"
                                },
                                {
                                    "Ortname": "Courtion",
                                    "Kanton": "FR"
                                },
                                {
                                    "Ortname": "Guschelmuth",
                                    "Kanton": "FR"
                                },
                                {
                                    "Ortname": "Wallenried",
                                    "Kanton": "FR"
                                },
                                {
                                    "Ortname": "Oberschrot",
                                    "Kanton": "FR"
                                },
                                {
                                    "Ortname": "Zumholz",
                                    "Kanton": "FR"
                                },
                                {
                                    "Ortname": "Besencens",
                                    "Kanton": "FR"
                                },
                                {
                                    "Ortname": "Fiaugères",
                                    "Kanton": "FR"
                                },
                                {
                                    "Ortname": "Grattavache",
                                    "Kanton": "FR"
                                },
                                {
                                    "Ortname": "Montalchez",
                                    "Kanton": "NE"
                                },
                                {
                                    "Ortname": "Engollon",
                                    "Kanton": "NE"
                                },
                                {
                                    "Ortname": "Damphreux",
                                    "Kanton": "JU"
                                },
                                {
                                    "Ortname": "Fregiécourt",
                                    "Kanton": "JU"
                                },
                                {
                                    "Ortname": "Niederried b. Kallnach",
                                    "Kanton": "BE"
                                },
                                {
                                    "Ortname": "Gutenburg",
                                    "Kanton": "BE"
                                },
                                {
                                    "Ortname": "Meienried",
                                    "Kanton": "BE"
                                },
                                {
                                    "Ortname": "Hellsau",
                                    "Kanton": "BE"
                                },
                                {
                                    "Ortname": "Höchstetten",
                                    "Kanton": "BE"
                                },
                                {
                                    "Ortname": "Mötschwil",
                                    "Kanton": "BE"
                                },
                                {
                                    "Ortname": "Oberösch",
                                    "Kanton": "BE"
                                },
                                {
                                    "Ortname": "Rumendingen",
                                    "Kanton": "BE"
                                },
                                {
                                    "Ortname": "Rüti b. Lyssach",
                                    "Kanton": "BE"
                                },
                                {
                                    "Ortname": "Willadingen",
                                    "Kanton": "BE"
                                },
                                {
                                    "Ortname": "Finsterhennen",
                                    "Kanton": "BE"
                                },
                                {
                                    "Ortname": "Ballmoos",
                                    "Kanton": "BE"
                                },
                                {
                                    "Ortname": "Bangerten b. Dieterswil",
                                    "Kanton": "BE"
                                },
                                {
                                    "Ortname": "Deisswil b. Münchenbuchsee",
                                    "Kanton": "BE"
                                },
                                {
                                    "Ortname": "Diemerswil",
                                    "Kanton": "BE"
                                },
                                {
                                    "Ortname": "Münchringen",
                                    "Kanton": "BE"
                                },
                                {
                                    "Ortname": "Ruppoldsried",
                                    "Kanton": "BE"
                                },
                                {
                                    "Ortname": "Scheunen",
                                    "Kanton": "BE"
                                },
                                {
                                    "Ortname": "Wiggiswil",
                                    "Kanton": "BE"
                                },
                                {
                                    "Ortname": "Zauggenried",
                                    "Kanton": "BE"
                                },
                                {
                                    "Ortname": "Freimettigen",
                                    "Kanton": "BE"
                                },
                                {
                                    "Ortname": "Häutligen",
                                    "Kanton": "BE"
                                },
                                {
                                    "Ortname": "Herbligen",
                                    "Kanton": "BE"
                                },
                                {
                                    "Ortname": "Mirchel",
                                    "Kanton": "BE"
                                },
                                {
                                    "Ortname": "Oppligen",
                                    "Kanton": "BE"
                                },
                                {
                                    "Ortname": "Oberhünigen",
                                    "Kanton": "BE"
                                },
                                {
                                    "Ortname": "Golaten",
                                    "Kanton": "BE"
                                },
                                {
                                    "Ortname": "Bühl b. Aarberg",
                                    "Kanton": "BE"
                                },
                                {
                                    "Ortname": "Epsach",
                                    "Kanton": "BE"
                                },
                                {
                                    "Ortname": "Merzligen",
                                    "Kanton": "BE"
                                },
                                {
                                    "Ortname": "Niederstocken",
                                    "Kanton": "BE"
                                },
                                {
                                    "Ortname": "Englisberg",
                                    "Kanton": "BE"
                                },
                                {
                                    "Ortname": "Jaberg",
                                    "Kanton": "BE"
                                },
                                {
                                    "Ortname": "Lohnstorf",
                                    "Kanton": "BE"
                                },
                                {
                                    "Ortname": "Mühledorf BE",
                                    "Kanton": "BE"
                                },
                                {
                                    "Ortname": "Noflen BE",
                                    "Kanton": "BE"
                                },
                                {
                                    "Ortname": "Rümligen",
                                    "Kanton": "BE"
                                },
                                {
                                    "Ortname": "Forst b. Längenbühl",
                                    "Kanton": "BE"
                                },
                                {
                                    "Ortname": "Horrenbach",
                                    "Kanton": "BE"
                                },
                                {
                                    "Ortname": "Schwendibach",
                                    "Kanton": "BE"
                                },
                                {
                                    "Ortname": "Zwieselberg",
                                    "Kanton": "BE"
                                },
                                {
                                    "Ortname": "Berken",
                                    "Kanton": "BE"
                                },
                                {
                                    "Ortname": "Bollodingen",
                                    "Kanton": "BE"
                                },
                                {
                                    "Ortname": "Ochlenberg",
                                    "Kanton": "BE"
                                },
                                {
                                    "Ortname": "Wolfisberg",
                                    "Kanton": "BE"
                                },
                                {
                                    "Ortname": "Hämikon",
                                    "Kanton": "LU"
                                },
                                {
                                    "Ortname": "Lieli LU",
                                    "Kanton": "LU"
                                },
                                {
                                    "Ortname": "Sulz LU",
                                    "Kanton": "LU"
                                },
                                {
                                    "Ortname": "Honau",
                                    "Kanton": "LU"
                                },
                                {
                                    "Ortname": "Betschwanden",
                                    "Kanton": "GL"
                                },
                                {
                                    "Ortname": "Leuggelbach",
                                    "Kanton": "GL"
                                },
                                {
                                    "Ortname": "Agriswil",
                                    "Kanton": "FR"
                                },
                                {
                                    "Ortname": "Büchslen",
                                    "Kanton": "FR"
                                },
                                {
                                    "Ortname": "Greng",
                                    "Kanton": "FR"
                                },
                                {
                                    "Ortname": "Kleinbösingen",
                                    "Kanton": "FR"
                                },
                                {
                                    "Ortname": "Kleingurmels",
                                    "Kanton": "FR"
                                },
                                {
                                    "Ortname": "Lurtigen",
                                    "Kanton": "FR"
                                },
                                {
                                    "Ortname": "Wallenbuch",
                                    "Kanton": "FR"
                                },
                                {
                                    "Ortname": "Aetigkofen",
                                    "Kanton": "SO"
                                },
                                {
                                    "Ortname": "Balm b. Messen",
                                    "Kanton": "SO"
                                },
                                {
                                    "Ortname": "Gächliwil",
                                    "Kanton": "SO"
                                },
                                {
                                    "Ortname": "Bolken",
                                    "Kanton": "SO"
                                },
                                {
                                    "Ortname": "Burgäschi",
                                    "Kanton": "SO"
                                },
                                {
                                    "Ortname": "Halten",
                                    "Kanton": "SO"
                                },
                                {
                                    "Ortname": "Heinrichswil",
                                    "Kanton": "SO"
                                },
                                {
                                    "Ortname": "Hüniken",
                                    "Kanton": "SO"
                                },
                                {
                                    "Ortname": "Oekingen",
                                    "Kanton": "SO"
                                },
                                {
                                    "Ortname": "Steinhof SO",
                                    "Kanton": "SO"
                                },
                                {
                                    "Ortname": "Winistorf",
                                    "Kanton": "SO"
                                },
                                {
                                    "Ortname": "Kammersrohr",
                                    "Kanton": "SO"
                                },
                                {
                                    "Ortname": "Liedertswil",
                                    "Kanton": "BL"
                                },
                                {
                                    "Ortname": "Schwende",
                                    "Kanton": "AI"
                                },
                                {
                                    "Ortname": "Marmorera",
                                    "Kanton": "GR"
                                },
                                {
                                    "Ortname": "Schnaus",
                                    "Kanton": "GR"
                                },
                                {
                                    "Ortname": "St. Martin (Lugnez)",
                                    "Kanton": "GR"
                                },
                                {
                                    "Ortname": "Pratval",
                                    "Kanton": "GR"
                                },
                                {
                                    "Ortname": "Portein",
                                    "Kanton": "GR"
                                },
                                {
                                    "Ortname": "Calfreisen",
                                    "Kanton": "GR"
                                },
                                {
                                    "Ortname": "Uezwil",
                                    "Kanton": "AG"
                                },
                                {
                                    "Ortname": "Réclère",
                                    "Kanton": "JU"
                                },
                                {
                                    "Ortname": "Eppenberg",
                                    "Kanton": "SO"
                                },
                                {
                                    "Ortname": "Islisberg",
                                    "Kanton": "AG"
                                },
                                {
                                    "Ortname": "Geltwil",
                                    "Kanton": "AG"
                                },
                                {
                                    "Ortname": "Wiliberg",
                                    "Kanton": "AG"
                                },
                                {
                                    "Ortname": "Hefenhofen",
                                    "Kanton": "TG"
                                },
                                {
                                    "Ortname": "Buchackern",
                                    "Kanton": "TG"
                                },
                                {
                                    "Ortname": "Engishofen",
                                    "Kanton": "TG"
                                },
                                {
                                    "Ortname": "Ennetaach",
                                    "Kanton": "TG"
                                },
                                {
                                    "Ortname": "Willisdorf",
                                    "Kanton": "TG"
                                },
                                {
                                    "Ortname": "Kefikon TG",
                                    "Kanton": "TG"
                                },
                                {
                                    "Ortname": "Eschikofen",
                                    "Kanton": "TG"
                                },
                                {
                                    "Ortname": "Harenwilen",
                                    "Kanton": "TG"
                                },
                                {
                                    "Ortname": "Mettendorf TG",
                                    "Kanton": "TG"
                                },
                                {
                                    "Ortname": "Alterswilen",
                                    "Kanton": "TG"
                                },
                                {
                                    "Ortname": "Altishausen",
                                    "Kanton": "TG"
                                },
                                {
                                    "Ortname": "Ellighausen",
                                    "Kanton": "TG"
                                },
                                {
                                    "Ortname": "Lippoldswilen",
                                    "Kanton": "TG"
                                },
                                {
                                    "Ortname": "Gottlieben",
                                    "Kanton": "TG"
                                },
                                {
                                    "Ortname": "Schönenbaumgarten",
                                    "Kanton": "TG"
                                },
                                {
                                    "Ortname": "Herrenhof",
                                    "Kanton": "TG"
                                },
                                {
                                    "Ortname": "Sonterswil",
                                    "Kanton": "TG"
                                },
                                {
                                    "Ortname": "Buch b. Märwil",
                                    "Kanton": "TG"
                                },
                                {
                                    "Ortname": "Zezikon",
                                    "Kanton": "TG"
                                },
                                {
                                    "Ortname": "Wetzikon TG",
                                    "Kanton": "TG"
                                },
                                {
                                    "Ortname": "Wallenwil",
                                    "Kanton": "TG"
                                },
                                {
                                    "Ortname": "Uerschhausen",
                                    "Kanton": "TG"
                                },
                                {
                                    "Ortname": "Dettighofen",
                                    "Kanton": "TG"
                                },
                                {
                                    "Ortname": "Rheinklingen",
                                    "Kanton": "TG"
                                },
                                {
                                    "Ortname": "Andhausen",
                                    "Kanton": "TG"
                                },
                                {
                                    "Ortname": "Graltshausen",
                                    "Kanton": "TG"
                                },
                                {
                                    "Ortname": "Birwinken",
                                    "Kanton": "TG"
                                },
                                {
                                    "Ortname": "Guntershausen b. Berg",
                                    "Kanton": "TG"
                                },
                                {
                                    "Ortname": "Klarsreuti",
                                    "Kanton": "TG"
                                },
                                {
                                    "Ortname": "Istighofen",
                                    "Kanton": "TG"
                                },
                                {
                                    "Ortname": "Engwang",
                                    "Kanton": "TG"
                                },
                                {
                                    "Ortname": "Illhart",
                                    "Kanton": "TG"
                                },
                                {
                                    "Ortname": "Ghirone",
                                    "Kanton": "TI"
                                },
                                {
                                    "Ortname": "Largario",
                                    "Kanton": "TI"
                                },
                                {
                                    "Ortname": "Marolta",
                                    "Kanton": "TI"
                                },
                                {
                                    "Ortname": "Cureggia",
                                    "Kanton": "TI"
                                },
                                {
                                    "Ortname": "Lamone",
                                    "Kanton": "TI"
                                },
                                {
                                    "Ortname": "Planken",
                                    "Kanton": "FL"
                                },
                                {
                                    "Ortname": "Kaltbach",
                                    "Kanton": "LU"
                                },
                                {
                                    "Ortname": "Wilen b. Neunforn",
                                    "Kanton": "TG"
                                },
                                {
                                    "Ortname": "Malleray",
                                    "Kanton": "BE"
                                },
                                {
                                    "Ortname": "Crésuz",
                                    "Kanton": "FR"
                                },
                                {
                                    "Ortname": "Treyfayes",
                                    "Kanton": "FR"
                                },
                                {
                                    "Ortname": "Fresens",
                                    "Kanton": "NE"
                                },
                                {
                                    "Ortname": "Lugnez",
                                    "Kanton": "JU"
                                },
                                {
                                    "Ortname": "Pleujouse",
                                    "Kanton": "JU"
                                },
                                {
                                    "Ortname": "Progens",
                                    "Kanton": "FR"
                                },
                                {
                                    "Ortname": "Wöschnau",
                                    "Kanton": "SO"
                                },
                                {
                                    "Ortname": "Cadempino",
                                    "Kanton": "TI"
                                },
                                {
                                    "Ortname": "Lüterswil",
                                    "Kanton": "SO"
                                },
                                {
                                    "Ortname": "Arni AG",
                                    "Kanton": "AG"
                                },
                                {
                                    "Ortname": "Hüttlingen",
                                    "Kanton": "TG"
                                },
                                {
                                    "Ortname": "Werdenberg",
                                    "Kanton": "SG"
                                },
                                {
                                    "Ortname": "Rueyres-Treyfayes",
                                    "Kanton": "FR"
                                },
                                {
                                    "Ortname": "Wittwil",
                                    "Kanton": "AG"
                                },
                                {
                                    "Ortname": "St. Niklausen LU",
                                    "Kanton": "LU"
                                },
                                {
                                    "Ortname": "Madonna del Piano",
                                    "Kanton": "TI"
                                },
                                {
                                    "Ortname": "Fajauna",
                                    "Kanton": "GR"
                                },
                                {
                                    "Ortname": "Miralago",
                                    "Kanton": "GR"
                                },
                                {
                                    "Ortname": "Ebersol",
                                    "Kanton": "SG"
                                },
                                {
                                    "Ortname": "Paradiso",
                                    "Kanton": "TI"
                                },
                                {
                                    "Ortname": "Avry-sur-Matran",
                                    "Kanton": "FR"
                                },
                                {
                                    "Ortname": "Barberêche",
                                    "Kanton": "FR"
                                },
                                {
                                    "Ortname": "Montagny-les-Monts",
                                    "Kanton": "FR"
                                },
                                {
                                    "Ortname": "La Vue-des-Alpes",
                                    "Kanton": "NE"
                                },
                                {
                                    "Ortname": "Ringoldswil",
                                    "Kanton": "BE"
                                },
                                {
                                    "Ortname": "Thunstetten",
                                    "Kanton": "BE"
                                },
                                {
                                    "Ortname": "Châtelat",
                                    "Kanton": "BE"
                                },
                                {
                                    "Ortname": "Solduno",
                                    "Kanton": "TI"
                                },
                                {
                                    "Ortname": "Bürgenstock",
                                    "Kanton": "NW"
                                },
                                {
                                    "Ortname": "Wilen b. Wollerau",
                                    "Kanton": "SZ"
                                },
                                {
                                    "Ortname": "Felsenau AG",
                                    "Kanton": "AG"
                                },
                                {
                                    "Ortname": "Mannens",
                                    "Kanton": "FR"
                                },
                                {
                                    "Ortname": "Grandsivaz",
                                    "Kanton": "FR"
                                },
                                {
                                    "Ortname": "Dättwil AG",
                                    "Kanton": "AG"
                                },
                                {
                                    "Ortname": "Rütihof",
                                    "Kanton": "AG"
                                },
                                {
                                    "Ortname": "Buonas",
                                    "Kanton": "ZG"
                                },
                                {
                                    "Ortname": "Risch",
                                    "Kanton": "ZG"
                                },
                                {
                                    "Ortname": "Holzhäusern ZG",
                                    "Kanton": "ZG"
                                },
                                {
                                    "Ortname": "Rüegsauschachen",
                                    "Kanton": "BE"
                                },
                                {
                                    "Ortname": "Hasle b. Burgdorf",
                                    "Kanton": "BE"
                                },
                                {
                                    "Ortname": "Fürigen",
                                    "Kanton": "NW"
                                },
                                {
                                    "Ortname": "Rigi Scheidegg",
                                    "Kanton": "SZ"
                                },
                                {
                                    "Ortname": "Lüterkofen",
                                    "Kanton": "SO"
                                },
                                {
                                    "Ortname": "Salenstein",
                                    "Kanton": "TG"
                                },
                                {
                                    "Ortname": "Aawangen",
                                    "Kanton": "TG"
                                },
                                {
                                    "Ortname": "Lanterswil",
                                    "Kanton": "TG"
                                },
                                {
                                    "Ortname": "Oberhofen TG",
                                    "Kanton": "TG"
                                },
                                {
                                    "Ortname": "Hintermoos",
                                    "Kanton": "LU"
                                },
                                {
                                    "Ortname": "Wiesenberg",
                                    "Kanton": "NW"
                                },
                                {
                                    "Ortname": "Lohn-Ammannsegg",
                                    "Kanton": "SO"
                                },
                                {
                                    "Ortname": "Gebertingen",
                                    "Kanton": "SG"
                                },
                                {
                                    "Ortname": "Balmberg",
                                    "Kanton": "SO"
                                },
                                {
                                    "Ortname": "Oberbalmberg",
                                    "Kanton": "SO"
                                },
                                {
                                    "Ortname": "Luthern Bad",
                                    "Kanton": "LU"
                                },
                                {
                                    "Ortname": "Mehlsecken",
                                    "Kanton": "LU"
                                },
                                {
                                    "Ortname": "Aurigeno",
                                    "Kanton": "TI"
                                },
                                {
                                    "Ortname": "Obermutten",
                                    "Kanton": "GR"
                                },
                                {
                                    "Ortname": "Gerolfingen",
                                    "Kanton": "BE"
                                },
                                {
                                    "Ortname": "Kradolf",
                                    "Kanton": "TG"
                                },
                                {
                                    "Ortname": "Hurden",
                                    "Kanton": "SZ"
                                },
                                {
                                    "Ortname": "Thielle",
                                    "Kanton": "NE"
                                },
                                {
                                    "Ortname": "Wavre",
                                    "Kanton": "NE"
                                },
                                {
                                    "Ortname": "Misery",
                                    "Kanton": "FR"
                                },
                                {
                                    "Ortname": "Oberstocken",
                                    "Kanton": "BE"
                                },
                                {
                                    "Ortname": "Fontnas",
                                    "Kanton": "SG"
                                },
                                {
                                    "Ortname": "Erlinsbach",
                                    "Kanton": "AG"
                                },
                                {
                                    "Ortname": "Hefenhausen",
                                    "Kanton": "TG"
                                },
                                {
                                    "Ortname": "Wagerswil",
                                    "Kanton": "TG"
                                },
                                {
                                    "Ortname": "Buch b. Kümmertshausen",
                                    "Kanton": "TG"
                                },
                                {
                                    "Ortname": "Oberbussnang",
                                    "Kanton": "TG"
                                },
                                {
                                    "Ortname": "Courtemautruy",
                                    "Kanton": "JU"
                                },
                                {
                                    "Ortname": "Waldhäusern AG",
                                    "Kanton": "AG"
                                },
                                {
                                    "Ortname": "Fenin",
                                    "Kanton": "NE"
                                },
                                {
                                    "Ortname": "Saules",
                                    "Kanton": "NE"
                                },
                                {
                                    "Ortname": "Nierlet-les-Bois",
                                    "Kanton": "FR"
                                },
                                {
                                    "Ortname": "Mur (Vully) FR",
                                    "Kanton": "FR"
                                },
                                {
                                    "Ortname": "Gretschins",
                                    "Kanton": "SG"
                                },
                                {
                                    "Ortname": "Malans SG",
                                    "Kanton": "SG"
                                },
                                {
                                    "Ortname": "Hattenhausen",
                                    "Kanton": "TG"
                                },
                                {
                                    "Ortname": "Fretereules",
                                    "Kanton": "NE"
                                },
                                {
                                    "Ortname": "Brot-Dessous",
                                    "Kanton": "NE"
                                },
                                {
                                    "Ortname": "Oberstetten",
                                    "Kanton": "SG"
                                },
                                {
                                    "Ortname": "Niederstetten",
                                    "Kanton": "SG"
                                },
                                {
                                    "Ortname": "Gunterswilen",
                                    "Kanton": "TG"
                                },
                                {
                                    "Ortname": "Gündlischwand",
                                    "Kanton": "BE"
                                },
                                {
                                    "Ortname": "Schattenhalb",
                                    "Kanton": "BE"
                                },
                                {
                                    "Ortname": "Les Pontins",
                                    "Kanton": "BE"
                                },
                                {
                                    "Ortname": "Tatroz",
                                    "Kanton": "FR"
                                },
                                {
                                    "Ortname": "Wirzweli",
                                    "Kanton": "NW"
                                },
                                {
                                    "Ortname": "La Cibourg",
                                    "Kanton": "BE"
                                },
                                {
                                    "Ortname": "La Cibourg",
                                    "Kanton": "BE"
                                },
                                {
                                    "Ortname": "Lamperswil TG",
                                    "Kanton": "TG"
                                },
                                {
                                    "Ortname": "Root D4",
                                    "Kanton": "LU"
                                },
                                {
                                    "Ortname": "Montezillon",
                                    "Kanton": "NE"
                                },
                                {
                                    "Ortname": "Muriaux",
                                    "Kanton": "JU"
                                },
                                {
                                    "Ortname": "Les Ecorcheresses",
                                    "Kanton": "BE"
                                },
                                {
                                    "Ortname": "Buchen BE",
                                    "Kanton": "BE"
                                },
                                {
                                    "Ortname": "Brittern",
                                    "Kanton": "SO"
                                },
                                {
                                    "Ortname": "Hertenstein AG",
                                    "Kanton": "AG"
                                },
                                {
                                    "Ortname": "Rieden AG",
                                    "Kanton": "AG"
                                },
                                {
                                    "Ortname": "Münsterlingen",
                                    "Kanton": "TG"
                                },
                                {
                                    "Ortname": "Unterrindal",
                                    "Kanton": "SG"
                                },
                                {
                                    "Ortname": "Lätti",
                                    "Kanton": "BE"
                                },
                                {
                                    "Ortname": "Seewil",
                                    "Kanton": "BE"
                                },
                                {
                                    "Ortname": "Fenkrieden",
                                    "Kanton": "AG"
                                },
                                {
                                    "Ortname": "Formangueires",
                                    "Kanton": "FR"
                                },
                                {
                                    "Ortname": "Silvaplana-Surlej",
                                    "Kanton": "GR"
                                },
                                {
                                    "Ortname": "Kloster Fahr",
                                    "Kanton": "AG"
                                },
                                {
                                    "Ortname": "Hünenberg See",
                                    "Kanton": "ZG"
                                },
                                {
                                    "Ortname": "Meienberg",
                                    "Kanton": "AG"
                                },
                                {
                                    "Ortname": "Kleine Scheidegg",
                                    "Kanton": "BE"
                                },
                                {
                                    "Ortname": "Eigergletscher",
                                    "Kanton": "BE"
                                },
                                {
                                    "Ortname": "Appenzell Eggerstanden",
                                    "Kanton": "AI"
                                },
                                {
                                    "Ortname": "Appenzell Enggenhütten",
                                    "Kanton": "AI"
                                },
                                {
                                    "Ortname": "Appenzell Meistersrüte",
                                    "Kanton": "AI"
                                },
                                {
                                    "Ortname": "Appenzell Steinegg",
                                    "Kanton": "AI"
                                },
                                {
                                    "Ortname": "Appenzell Schlatt",
                                    "Kanton": "AI"
                                },
                                {
                                    "Ortname": "Wasserauen",
                                    "Kanton": "AI"
                                },
                                {
                                    "Ortname": "Gontenbad",
                                    "Kanton": "AI"
                                },
                                {
                                    "Ortname": "Jakobsbad",
                                    "Kanton": "AI"
                                },
                                {
                                    "Ortname": "Büriswilen",
                                    "Kanton": "AI"
                                },
                                {
                                    "Ortname": "Peiden",
                                    "Kanton": "GR"
                                },
                                {
                                    "Ortname": "Sonnental",
                                    "Kanton": "SG"
                                },
                                {
                                    "Ortname": "Ferenbalm",
                                    "Kanton": "BE"
                                },
                                {
                                    "Ortname": "Biberen",
                                    "Kanton": "BE"
                                },
                                {
                                    "Ortname": "Gammen",
                                    "Kanton": "BE"
                                },
                                {
                                    "Ortname": "Le Bémont JU",
                                    "Kanton": "JU"
                                },
                                {
                                    "Ortname": "Montfaucon",
                                    "Kanton": "JU"
                                },
                                {
                                    "Ortname": "Montfavergier",
                                    "Kanton": "JU"
                                },
                                {
                                    "Ortname": "Les Enfers",
                                    "Kanton": "JU"
                                },
                                {
                                    "Ortname": "St-Brais",
                                    "Kanton": "JU"
                                },
                                {
                                    "Ortname": "St. Josefen",
                                    "Kanton": "SG"
                                },
                                {
                                    "Ortname": "Maseltrangen",
                                    "Kanton": "SG"
                                },
                                {
                                    "Ortname": "Landiswil",
                                    "Kanton": "BE"
                                },
                                {
                                    "Ortname": "Vogelsang AG",
                                    "Kanton": "AG"
                                },
                                {
                                    "Ortname": "Dietschwil",
                                    "Kanton": "SG"
                                },
                                {
                                    "Ortname": "Busswil TG",
                                    "Kanton": "TG"
                                },
                                {
                                    "Ortname": "Seewis-Pardisla",
                                    "Kanton": "GR"
                                },
                                {
                                    "Ortname": "Seewis-Schmitten",
                                    "Kanton": "GR"
                                },
                                {
                                    "Ortname": "Vielbringen b. Worb",
                                    "Kanton": "BE"
                                },
                                {
                                    "Ortname": "Lengwil",
                                    "Kanton": "TG"
                                },
                                {
                                    "Ortname": "Dettighofen (Lengwil)",
                                    "Kanton": "TG"
                                },
                                {
                                    "Ortname": "Cournillens",
                                    "Kanton": "FR"
                                },
                                {
                                    "Ortname": "Bözberg",
                                    "Kanton": "AG"
                                },
                                {
                                    "Ortname": "Biessenhofen",
                                    "Kanton": "TG"
                                },
                                {
                                    "Ortname": "Campora",
                                    "Kanton": "TI"
                                }
                            ]
                        },
                        "text/html": [
                            "<table>",
                            "<tr><th>Ortname</th><th>Kanton</th></tr>",
                            "<tr><td>Auboranges</td><td>FR</td></tr>",
                            "<tr><td>Genève</td><td>GE</td></tr>",
                            "<tr><td>Genève</td><td>GE</td></tr>",
                            "<tr><td>Genève</td><td>GE</td></tr>",
                            "<tr><td>Genève</td><td>GE</td></tr>",
                            "<tr><td>Genève</td><td>GE</td></tr>",
                            "<tr><td>Genève</td><td>GE</td></tr>",
                            "<tr><td>Genève</td><td>GE</td></tr>",
                            "<tr><td>Genève</td><td>GE</td></tr>",
                            "<tr><td>Genève</td><td>GE</td></tr>",
                            "<tr><td>Genève</td><td>GE</td></tr>",
                            "<tr><td>Grand-Lancy</td><td>GE</td></tr>",
                            "<tr><td>Petit-Lancy</td><td>GE</td></tr>",
                            "<tr><td>Onex</td><td>GE</td></tr>",
                            "<tr><td>Vernier</td><td>GE</td></tr>",
                            "<tr><td>Genève 15 Aéroport</td><td>GE</td></tr>",
                            "<tr><td>Cointrin</td><td>GE</td></tr>",
                            "<tr><td>Meyrin</td><td>GE</td></tr>",
                            "<tr><td>Le Grand-Saconnex</td><td>GE</td></tr>",
                            "<tr><td>Le Lignon</td><td>GE</td></tr>",
                            "<tr><td>Aïre</td><td>GE</td></tr>",
                            "<tr><td>Châtelaine</td><td>GE</td></tr>",
                            "<tr><td>Les Avanchets</td><td>GE</td></tr>",
                            "<tr><td>Vésenaz</td><td>GE</td></tr>",
                            "<tr><td>Cologny</td><td>GE</td></tr>",
                            "<tr><td>Chêne-Bougeries</td><td>GE</td></tr>",
                            "<tr><td>Chêne-Bourg</td><td>GE</td></tr>",
                            "<tr><td>Thônex</td><td>GE</td></tr>",
                            "<tr><td>Carouge GE</td><td>GE</td></tr>",
                            "<tr><td>Les Acacias</td><td>GE</td></tr>",
                            "<tr><td>Plan-les-Ouates</td><td>GE</td></tr>",
                            "<tr><td>Conches</td><td>GE</td></tr>",
                            "<tr><td>Confignon</td><td>GE</td></tr>",
                            "<tr><td>Bernex</td><td>GE</td></tr>",
                            "<tr><td>Vessy</td><td>GE</td></tr>",
                            "<tr><td>Cartigny</td><td>GE</td></tr>",
                            "<tr><td>Avully</td><td>GE</td></tr>",
                            "<tr><td>Collex</td><td>GE</td></tr>",
                            "<tr><td>Puplinge</td><td>GE</td></tr>",
                            "<tr><td>Satigny</td><td>GE</td></tr>",
                            "<tr><td>Presinge</td><td>GE</td></tr>",
                            "<tr><td>Choulex</td><td>GE</td></tr>",
                            "<tr><td>Collonge-Bellerive</td><td>GE</td></tr>",
                            "<tr><td>Corsier GE</td><td>GE</td></tr>",
                            "<tr><td>Anières</td><td>GE</td></tr>",
                            "<tr><td>Hermance</td><td>GE</td></tr>",
                            "<tr><td>Gy</td><td>GE</td></tr>",
                            "<tr><td>Meinier</td><td>GE</td></tr>",
                            "<tr><td>Vandoeuvres</td><td>GE</td></tr>",
                            "<tr><td>Jussy</td><td>GE</td></tr>",
                            "<tr><td>Veyrier</td><td>GE</td></tr>",
                            "<tr><td>Troinex</td><td>GE</td></tr>",
                            "<tr><td>La Croix-de-Rozon</td><td>GE</td></tr>",
                            "<tr><td>Perly</td><td>GE</td></tr>",
                            "<tr><td>Russin</td><td>GE</td></tr>",
                            "<tr><td>Dardagny</td><td>GE</td></tr>",
                            "<tr><td>La Plaine</td><td>GE</td></tr>",
                            "<tr><td>Chancy</td><td>GE</td></tr>",
                            "<tr><td>Athenaz (Avusy)</td><td>GE</td></tr>",
                            "<tr><td>Soral</td><td>GE</td></tr>",
                            "<tr><td>Laconnex</td><td>GE</td></tr>",
                            "<tr><td>Aire-la-Ville</td><td>GE</td></tr>",
                            "<tr><td>Versoix</td><td>GE</td></tr>",
                            "<tr><td>Chambésy</td><td>GE</td></tr>",
                            "<tr><td>Bellevue</td><td>GE</td></tr>",
                            "<tr><td>Genthod</td><td>GE</td></tr>",
                            "<tr><td>Céligny</td><td>GE</td></tr>",
                            "<tr><td>Cheyres</td><td>FR</td></tr>",
                            "<tr><td>Estavayer-le-Lac</td><td>FR</td></tr>",
                            "<tr><td>Font</td><td>FR</td></tr>",
                            "<tr><td>Châbles FR</td><td>FR</td></tr>",
                            "<tr><td>Montet (Broye)</td><td>FR</td></tr>",
                            "<tr><td>Cugy FR</td><td>FR</td></tr>",
                            "<tr><td>Bussy FR</td><td>FR</td></tr>",
                            "<tr><td>Aumont</td><td>FR</td></tr>",
                            "<tr><td>Nuvilly</td><td>FR</td></tr>",
                            "<tr><td>Vuissens</td><td>FR</td></tr>",
                            "<tr><td>Murist</td><td>FR</td></tr>",
                            "<tr><td>Villeneuve FR</td><td>FR</td></tr>",
                            "<tr><td>Surpierre</td><td>FR</td></tr>",
                            "<tr><td>Cheiry</td><td>FR</td></tr>",
                            "<tr><td>Fétigny</td><td>FR</td></tr>",
                            "<tr><td>Ménières</td><td>FR</td></tr>",
                            "<tr><td>Rueyres-les-Prés</td><td>FR</td></tr>",
                            "<tr><td>Gletterens</td><td>FR</td></tr>",
                            "<tr><td>Châtonnaye</td><td>FR</td></tr>",
                            "<tr><td>Dompierre FR</td><td>FR</td></tr>",
                            "<tr><td>Domdidier</td><td>FR</td></tr>",
                            "<tr><td>Autavaux</td><td>FR</td></tr>",
                            "<tr><td>Delley</td><td>FR</td></tr>",
                            "<tr><td>Portalban</td><td>FR</td></tr>",
                            "<tr><td>St-Aubin FR</td><td>FR</td></tr>",
                            "<tr><td>Villarepos</td><td>FR</td></tr>",
                            "<tr><td>Ecublens FR</td><td>FR</td></tr>",
                            "<tr><td>Granges (Veveyse)</td><td>FR</td></tr>",
                            "<tr><td>Bossonnens</td><td>FR</td></tr>",
                            "<tr><td>Attalens</td><td>FR</td></tr>",
                            "<tr><td>Remaufens</td><td>FR</td></tr>",
                            "<tr><td>Châtel-St-Denis</td><td>FR</td></tr>",
                            "<tr><td>Les Paccots</td><td>FR</td></tr>",
                            "<tr><td>Semsales</td><td>FR</td></tr>",
                            "<tr><td>La Verrerie</td><td>FR</td></tr>",
                            "<tr><td>Vaulruz</td><td>FR</td></tr>",
                            "<tr><td>Vuadens</td><td>FR</td></tr>",
                            "<tr><td>Bulle</td><td>FR</td></tr>",
                            "<tr><td>Vuippens</td><td>FR</td></tr>",
                            "<tr><td>Sorens</td><td>FR</td></tr>",
                            "<tr><td>Gumefens</td><td>FR</td></tr>",
                            "<tr><td>Avry-devant-Pont</td><td>FR</td></tr>",
                            "<tr><td>Le Bry</td><td>FR</td></tr>",
                            "<tr><td>Echarlens</td><td>FR</td></tr>",
                            "<tr><td>Corbières</td><td>FR</td></tr>",
                            "<tr><td>Hauteville</td><td>FR</td></tr>",
                            "<tr><td>Im Fang</td><td>FR</td></tr>",
                            "<tr><td>Jaun</td><td>FR</td></tr>",
                            "<tr><td>Abländschen</td><td>BE</td></tr>",
                            "<tr><td>Cerniat FR</td><td>FR</td></tr>",
                            "<tr><td>Villarvolard</td><td>FR</td></tr>",
                            "<tr><td>Botterens</td><td>FR</td></tr>",
                            "<tr><td>Morlon</td><td>FR</td></tr>",
                            "<tr><td>Moléson-sur-Gruyères</td><td>FR</td></tr>",
                            "<tr><td>Riaz</td><td>FR</td></tr>",
                            "<tr><td>Marsens</td><td>FR</td></tr>",
                            "<tr><td>La Roche FR</td><td>FR</td></tr>",
                            "<tr><td>Pont-la-Ville</td><td>FR</td></tr>",
                            "<tr><td>La Tour-de-Trême</td><td>FR</td></tr>",
                            "<tr><td>Broc</td><td>FR</td></tr>",
                            "<tr><td>Charmey (Gruyère)</td><td>FR</td></tr>",
                            "<tr><td>Le Pâquier-Montbarry</td><td>FR</td></tr>",
                            "<tr><td>Pringy</td><td>FR</td></tr>",
                            "<tr><td>Estavannens</td><td>FR</td></tr>",
                            "<tr><td>Enney</td><td>FR</td></tr>",
                            "<tr><td>Neirivue</td><td>FR</td></tr>",
                            "<tr><td>Albeuve</td><td>FR</td></tr>",
                            "<tr><td>Gruyères</td><td>FR</td></tr>",
                            "<tr><td>Epagny</td><td>FR</td></tr>",
                            "<tr><td>Grandvillard</td><td>FR</td></tr>",
                            "<tr><td>Vauderens</td><td>FR</td></tr>",
                            "<tr><td>Ursy</td><td>FR</td></tr>",
                            "<tr><td>Vuarmarens</td><td>FR</td></tr>",
                            "<tr><td>Rue</td><td>FR</td></tr>",
                            "<tr><td>Promasens</td><td>FR</td></tr>",
                            "<tr><td>Siviriez</td><td>FR</td></tr>",
                            "<tr><td>Villaraboud</td><td>FR</td></tr>",
                            "<tr><td>Chavannes-les-Forts</td><td>FR</td></tr>",
                            "<tr><td>Prez-vers-Siviriez</td><td>FR</td></tr>",
                            "<tr><td>Romont FR</td><td>FR</td></tr>",
                            "<tr><td>Billens</td><td>FR</td></tr>",
                            "<tr><td>Orsonnens</td><td>FR</td></tr>",
                            "<tr><td>Villarsiviriaux</td><td>FR</td></tr>",
                            "<tr><td>Villarlod</td><td>FR</td></tr>",
                            "<tr><td>Vuisternens-en-Ogoz</td><td>FR</td></tr>",
                            "<tr><td>Mézières FR</td><td>FR</td></tr>",
                            "<tr><td>Villariaz</td><td>FR</td></tr>",
                            "<tr><td>Estévenens</td><td>FR</td></tr>",
                            "<tr><td>Grangettes-près-Romont</td><td>FR</td></tr>",
                            "<tr><td>Le Châtelard-près-Romont</td><td>FR</td></tr>",
                            "<tr><td>Sommentier</td><td>FR</td></tr>",
                            "<tr><td>Romanens</td><td>FR</td></tr>",
                            "<tr><td>Massonnens</td><td>FR</td></tr>",
                            "<tr><td>Vuisternens-devant-Romont</td><td>FR</td></tr>",
                            "<tr><td>Sâles (Gruyère)</td><td>FR</td></tr>",
                            "<tr><td>St-Martin FR</td><td>FR</td></tr>",
                            "<tr><td>Le Crêt-près-Semsales</td><td>FR</td></tr>",
                            "<tr><td>La Joux FR</td><td>FR</td></tr>",
                            "<tr><td>Bouloz</td><td>FR</td></tr>",
                            "<tr><td>Porsel</td><td>FR</td></tr>",
                            "<tr><td>Pont (Veveyse)</td><td>FR</td></tr>",
                            "<tr><td>Fribourg</td><td>FR</td></tr>",
                            "<tr><td>Granges-Paccot</td><td>FR</td></tr>",
                            "<tr><td>Corminboeuf</td><td>FR</td></tr>",
                            "<tr><td>Giffers</td><td>FR</td></tr>",
                            "<tr><td>St. Silvester</td><td>FR</td></tr>",
                            "<tr><td>Plasselb</td><td>FR</td></tr>",
                            "<tr><td>Sangernboden</td><td>BE</td></tr>",
                            "<tr><td>Schwarzsee</td><td>FR</td></tr>",
                            "<tr><td>Bonnefontaine</td><td>FR</td></tr>",
                            "<tr><td>Corpataux-Magnedens</td><td>FR</td></tr>",
                            "<tr><td>Rossens FR</td><td>FR</td></tr>",
                            "<tr><td>Brünisried</td><td>FR</td></tr>",
                            "<tr><td>Ependes FR</td><td>FR</td></tr>",
                            "<tr><td>Arconciel</td><td>FR</td></tr>",
                            "<tr><td>Treyvaux</td><td>FR</td></tr>",
                            "<tr><td>Chésopelloz</td><td>FR</td></tr>",
                            "<tr><td>Tafers</td><td>FR</td></tr>",
                            "<tr><td>St. Antoni</td><td>FR</td></tr>",
                            "<tr><td>Heitenried</td><td>FR</td></tr>",
                            "<tr><td>Alterswil FR</td><td>FR</td></tr>",
                            "<tr><td>Plaffeien</td><td>FR</td></tr>",
                            "<tr><td>St. Ursen</td><td>FR</td></tr>",
                            "<tr><td>Rechthalten</td><td>FR</td></tr>",
                            "<tr><td>Bourguillon</td><td>FR</td></tr>",
                            "<tr><td>Marly</td><td>FR</td></tr>",
                            "<tr><td>Le Mouret</td><td>FR</td></tr>",
                            "<tr><td>Posieux</td><td>FR</td></tr>",
                            "<tr><td>Farvagny</td><td>FR</td></tr>",
                            "<tr><td>Prez-vers-Noréaz</td><td>FR</td></tr>",
                            "<tr><td>Corserey</td><td>FR</td></tr>",
                            "<tr><td>Torny-le-Grand</td><td>FR</td></tr>",
                            "<tr><td>Middes</td><td>FR</td></tr>",
                            "<tr><td>Neyruz FR</td><td>FR</td></tr>",
                            "<tr><td>Cottens FR</td><td>FR</td></tr>",
                            "<tr><td>Chénens</td><td>FR</td></tr>",
                            "<tr><td>Lentigny</td><td>FR</td></tr>",
                            "<tr><td>Autigny</td><td>FR</td></tr>",
                            "<tr><td>Estavayer-le-Gibloux</td><td>FR</td></tr>",
                            "<tr><td>Villarimboud</td><td>FR</td></tr>",
                            "<tr><td>Villars-sur-Glâne</td><td>FR</td></tr>",
                            "<tr><td>Matran</td><td>FR</td></tr>",
                            "<tr><td>Rosé</td><td>FR</td></tr>",
                            "<tr><td>Onnens FR</td><td>FR</td></tr>",
                            "<tr><td>Noréaz</td><td>FR</td></tr>",
                            "<tr><td>Villaz-St-Pierre</td><td>FR</td></tr>",
                            "<tr><td>Givisiez</td><td>FR</td></tr>",
                            "<tr><td>Grolley</td><td>FR</td></tr>",
                            "<tr><td>Léchelles</td><td>FR</td></tr>",
                            "<tr><td>Cousset</td><td>FR</td></tr>",
                            "<tr><td>Montagny-la-Ville</td><td>FR</td></tr>",
                            "<tr><td>Courlevon</td><td>FR</td></tr>",
                            "<tr><td>Courgevaux</td><td>FR</td></tr>",
                            "<tr><td>Münchenwiler</td><td>BE</td></tr>",
                            "<tr><td>Salvenach</td><td>FR</td></tr>",
                            "<tr><td>Jeuss</td><td>FR</td></tr>",
                            "<tr><td>Cordast</td><td>FR</td></tr>",
                            "<tr><td>Courtaman</td><td>FR</td></tr>",
                            "<tr><td>Praz (Vully)</td><td>FR</td></tr>",
                            "<tr><td>Lugnorre</td><td>FR</td></tr>",
                            "<tr><td>Belfaux</td><td>FR</td></tr>",
                            "<tr><td>Pensier</td><td>FR</td></tr>",
                            "<tr><td>Courtepin</td><td>FR</td></tr>",
                            "<tr><td>Cressier FR</td><td>FR</td></tr>",
                            "<tr><td>Sugiez</td><td>FR</td></tr>",
                            "<tr><td>Môtier (Vully)</td><td>FR</td></tr>",
                            "<tr><td>Les Sciernes-d&#39;Albeuve</td><td>FR</td></tr>",
                            "<tr><td>Montbovon</td><td>FR</td></tr>",
                            "<tr><td>Neuchâtel</td><td>NE</td></tr>",
                            "<tr><td>Auvernier</td><td>NE</td></tr>",
                            "<tr><td>Colombier NE</td><td>NE</td></tr>",
                            "<tr><td>Bôle</td><td>NE</td></tr>",
                            "<tr><td>Areuse</td><td>NE</td></tr>",
                            "<tr><td>Cortaillod</td><td>NE</td></tr>",
                            "<tr><td>Boudry</td><td>NE</td></tr>",
                            "<tr><td>Bevaix</td><td>NE</td></tr>",
                            "<tr><td>Gorgier</td><td>NE</td></tr>",
                            "<tr><td>St-Aubin-Sauges</td><td>NE</td></tr>",
                            "<tr><td>Chez-le-Bart</td><td>NE</td></tr>",
                            "<tr><td>Vaumarcus</td><td>NE</td></tr>",
                            "<tr><td>Peseux</td><td>NE</td></tr>",
                            "<tr><td>Corcelles NE</td><td>NE</td></tr>",
                            "<tr><td>Cormondrèche</td><td>NE</td></tr>",
                            "<tr><td>Valangin</td><td>NE</td></tr>",
                            "<tr><td>Boudevilliers</td><td>NE</td></tr>",
                            "<tr><td>Fontaines NE</td><td>NE</td></tr>",
                            "<tr><td>Fontainemelon</td><td>NE</td></tr>",
                            "<tr><td>Cernier</td><td>NE</td></tr>",
                            "<tr><td>Chézard-St-Martin</td><td>NE</td></tr>",
                            "<tr><td>Les Vieux-Prés</td><td>NE</td></tr>",
                            "<tr><td>Dombresson</td><td>NE</td></tr>",
                            "<tr><td>Villiers</td><td>NE</td></tr>",
                            "<tr><td>Le Pâquier NE</td><td>NE</td></tr>",
                            "<tr><td>Vilars NE</td><td>NE</td></tr>",
                            "<tr><td>Savagnier</td><td>NE</td></tr>",
                            "<tr><td>Chaumont</td><td>NE</td></tr>",
                            "<tr><td>Hauterive NE</td><td>NE</td></tr>",
                            "<tr><td>St-Blaise</td><td>NE</td></tr>",
                            "<tr><td>Enges</td><td>NE</td></tr>",
                            "<tr><td>Marin-Epagnier</td><td>NE</td></tr>",
                            "<tr><td>Gals</td><td>BE</td></tr>",
                            "<tr><td>Cornaux NE</td><td>NE</td></tr>",
                            "<tr><td>Cressier NE</td><td>NE</td></tr>",
                            "<tr><td>Brot-Plamboz</td><td>NE</td></tr>",
                            "<tr><td>Noiraigue</td><td>NE</td></tr>",
                            "<tr><td>Travers</td><td>NE</td></tr>",
                            "<tr><td>Couvet</td><td>NE</td></tr>",
                            "<tr><td>Môtiers NE</td><td>NE</td></tr>",
                            "<tr><td>Boveresse</td><td>NE</td></tr>",
                            "<tr><td>Fleurier</td><td>NE</td></tr>",
                            "<tr><td>Buttes</td><td>NE</td></tr>",
                            "<tr><td>La Côte-aux-Fées</td><td>NE</td></tr>",
                            "<tr><td>St-Sulpice NE</td><td>NE</td></tr>",
                            "<tr><td>La Brévine</td><td>NE</td></tr>",
                            "<tr><td>Les Verrières</td><td>NE</td></tr>",
                            "<tr><td>Le Brouillet</td><td>NE</td></tr>",
                            "<tr><td>Les Taillères</td><td>NE</td></tr>",
                            "<tr><td>Les Bayards</td><td>NE</td></tr>",
                            "<tr><td>Champ-du-Moulin</td><td>NE</td></tr>",
                            "<tr><td>Les Sagnettes</td><td>NE</td></tr>",
                            "<tr><td>Mont-de-Buttes</td><td>NE</td></tr>",
                            "<tr><td>Chambrelien</td><td>NE</td></tr>",
                            "<tr><td>Rochefort</td><td>NE</td></tr>",
                            "<tr><td>Montmollin</td><td>NE</td></tr>",
                            "<tr><td>Les Geneveys-sur-Coffrane</td><td>NE</td></tr>",
                            "<tr><td>Coffrane</td><td>NE</td></tr>",
                            "<tr><td>Les Hauts-Geneveys</td><td>NE</td></tr>",
                            "<tr><td>La Chaux-de-Fonds</td><td>NE</td></tr>",
                            "<tr><td>Petit-Martel</td><td>NE</td></tr>",
                            "<tr><td>Les Emibois</td><td>JU</td></tr>",
                            "<tr><td>La Sagne NE</td><td>NE</td></tr>",
                            "<tr><td>Les Ponts-de-Martel</td><td>NE</td></tr>",
                            "<tr><td>Le Crêt-du-Locle</td><td>NE</td></tr>",
                            "<tr><td>Les Planchettes</td><td>NE</td></tr>",
                            "<tr><td>La Cibourg</td><td>NE</td></tr>",
                            "<tr><td>La Ferrière</td><td>BE</td></tr>",
                            "<tr><td>Les Bois</td><td>JU</td></tr>",
                            "<tr><td>Le Locle</td><td>NE</td></tr>",
                            "<tr><td>La Châtagne</td><td>NE</td></tr>",
                            "<tr><td>La Chaux-du-Milieu</td><td>NE</td></tr>",
                            "<tr><td>Le Prévoux</td><td>NE</td></tr>",
                            "<tr><td>Le Cerneux-Péquignot</td><td>NE</td></tr>",
                            "<tr><td>Les Brenets</td><td>NE</td></tr>",
                            "<tr><td>Biel/Bienne</td><td>BE</td></tr>",
                            "<tr><td>Biel/Bienne</td><td>BE</td></tr>",
                            "<tr><td>Biel/Bienne</td><td>BE</td></tr>",
                            "<tr><td>Biel/Bienne</td><td>BE</td></tr>",
                            "<tr><td>Biel/Bienne</td><td>BE</td></tr>",
                            "<tr><td>Tüscherz-Alfermée</td><td>BE</td></tr>",
                            "<tr><td>Twann</td><td>BE</td></tr>",
                            "<tr><td>Ligerz</td><td>BE</td></tr>",
                            "<tr><td>Prêles</td><td>BE</td></tr>",
                            "<tr><td>Lamboing</td><td>BE</td></tr>",
                            "<tr><td>Diesse</td><td>BE</td></tr>",
                            "<tr><td>Nods</td><td>BE</td></tr>",
                            "<tr><td>La Neuveville</td><td>BE</td></tr>",
                            "<tr><td>Lignières</td><td>NE</td></tr>",
                            "<tr><td>Le Landeron</td><td>NE</td></tr>",
                            "<tr><td>Magglingen/Macolin</td><td>BE</td></tr>",
                            "<tr><td>Evilard</td><td>BE</td></tr>",
                            "<tr><td>Orvin</td><td>BE</td></tr>",
                            "<tr><td>Les Prés-d&#39;Orvin</td><td>BE</td></tr>",
                            "<tr><td>Frinvillier</td><td>BE</td></tr>",
                            "<tr><td>Plagne</td><td>BE</td></tr>",
                            "<tr><td>Vauffelin</td><td>BE</td></tr>",
                            "<tr><td>Romont BE</td><td>BE</td></tr>",
                            "<tr><td>Grenchen</td><td>SO</td></tr>",
                            "<tr><td>Pieterlen</td><td>BE</td></tr>",
                            "<tr><td>Lengnau BE</td><td>BE</td></tr>",
                            "<tr><td>Bettlach</td><td>SO</td></tr>",
                            "<tr><td>Selzach</td><td>SO</td></tr>",
                            "<tr><td>Orpund</td><td>BE</td></tr>",
                            "<tr><td>Safnern</td><td>BE</td></tr>",
                            "<tr><td>Meinisberg</td><td>BE</td></tr>",
                            "<tr><td>Brügg BE</td><td>BE</td></tr>",
                            "<tr><td>Scheuren</td><td>BE</td></tr>",
                            "<tr><td>Studen BE</td><td>BE</td></tr>",
                            "<tr><td>Aegerten</td><td>BE</td></tr>",
                            "<tr><td>Nidau</td><td>BE</td></tr>",
                            "<tr><td>Port</td><td>BE</td></tr>",
                            "<tr><td>Ipsach</td><td>BE</td></tr>",
                            "<tr><td>Bellmund</td><td>BE</td></tr>",
                            "<tr><td>Jens</td><td>BE</td></tr>",
                            "<tr><td>Sutz</td><td>BE</td></tr>",
                            "<tr><td>Täuffelen</td><td>BE</td></tr>",
                            "<tr><td>Lüscherz</td><td>BE</td></tr>",
                            "<tr><td>Siselen BE</td><td>BE</td></tr>",
                            "<tr><td>Brüttelen</td><td>BE</td></tr>",
                            "<tr><td>Péry</td><td>BE</td></tr>",
                            "<tr><td>La Heutte</td><td>BE</td></tr>",
                            "<tr><td>Sonceboz-Sombeval</td><td>BE</td></tr>",
                            "<tr><td>Corgémont</td><td>BE</td></tr>",
                            "<tr><td>Cortébert</td><td>BE</td></tr>",
                            "<tr><td>Courtelary</td><td>BE</td></tr>",
                            "<tr><td>Montagne-de-Courtelary</td><td>BE</td></tr>",
                            "<tr><td>St-Imier</td><td>BE</td></tr>",
                            "<tr><td>Mont-Soleil</td><td>BE</td></tr>",
                            "<tr><td>Mont-Crosin</td><td>BE</td></tr>",
                            "<tr><td>Cormoret</td><td>BE</td></tr>",
                            "<tr><td>Villeret</td><td>BE</td></tr>",
                            "<tr><td>Sonvilier</td><td>BE</td></tr>",
                            "<tr><td>Montagne-de-Sonvilier</td><td>BE</td></tr>",
                            "<tr><td>Renan BE</td><td>BE</td></tr>",
                            "<tr><td>Tavannes</td><td>BE</td></tr>",
                            "<tr><td>Le Fuet</td><td>BE</td></tr>",
                            "<tr><td>Le Prédame</td><td>JU</td></tr>",
                            "<tr><td>Fornet-Dessous</td><td>BE</td></tr>",
                            "<tr><td>Fornet-Dessus</td><td>JU</td></tr>",
                            "<tr><td>Sornetan</td><td>BE</td></tr>",
                            "<tr><td>Bellelay</td><td>BE</td></tr>",
                            "<tr><td>Les Genevez JU</td><td>JU</td></tr>",
                            "<tr><td>Lajoux JU</td><td>JU</td></tr>",
                            "<tr><td>Tramelan</td><td>BE</td></tr>",
                            "<tr><td>La Tanne</td><td>BE</td></tr>",
                            "<tr><td>Les Reussilles</td><td>BE</td></tr>",
                            "<tr><td>Mont-Tramelan</td><td>BE</td></tr>",
                            "<tr><td>Les Breuleux</td><td>JU</td></tr>",
                            "<tr><td>Le Cerneux-Veusil</td><td>JU</td></tr>",
                            "<tr><td>La Chaux-des-Breuleux</td><td>JU</td></tr>",
                            "<tr><td>Le Noirmont</td><td>JU</td></tr>",
                            "<tr><td>Saignelégier</td><td>JU</td></tr>",
                            "<tr><td>Les Pommerats</td><td>JU</td></tr>",
                            "<tr><td>Goumois</td><td>JU</td></tr>",
                            "<tr><td>Reconvilier</td><td>BE</td></tr>",
                            "<tr><td>Saicourt</td><td>BE</td></tr>",
                            "<tr><td>Saules BE</td><td>BE</td></tr>",
                            "<tr><td>Loveresse</td><td>BE</td></tr>",
                            "<tr><td>Pontenet</td><td>BE</td></tr>",
                            "<tr><td>Bévilard</td><td>BE</td></tr>",
                            "<tr><td>Sorvilier</td><td>BE</td></tr>",
                            "<tr><td>Court</td><td>BE</td></tr>",
                            "<tr><td>Moutier</td><td>BE</td></tr>",
                            "<tr><td>Perrefitte</td><td>BE</td></tr>",
                            "<tr><td>Souboz</td><td>BE</td></tr>",
                            "<tr><td>Eschert</td><td>BE</td></tr>",
                            "<tr><td>Belprahon</td><td>BE</td></tr>",
                            "<tr><td>Seehof</td><td>BE</td></tr>",
                            "<tr><td>Grandval</td><td>BE</td></tr>",
                            "<tr><td>Crémines</td><td>BE</td></tr>",
                            "<tr><td>Corcelles BE</td><td>BE</td></tr>",
                            "<tr><td>Roches BE</td><td>BE</td></tr>",
                            "<tr><td>Rebeuvelier</td><td>JU</td></tr>",
                            "<tr><td>Courrendlin</td><td>JU</td></tr>",
                            "<tr><td>Delémont</td><td>JU</td></tr>",
                            "<tr><td>Develier</td><td>JU</td></tr>",
                            "<tr><td>Bourrignon</td><td>JU</td></tr>",
                            "<tr><td>Soyhières</td><td>JU</td></tr>",
                            "<tr><td>Mettembert</td><td>JU</td></tr>",
                            "<tr><td>Pleigne</td><td>JU</td></tr>",
                            "<tr><td>Lucelle</td><td>JU</td></tr>",
                            "<tr><td>Movelier</td><td>JU</td></tr>",
                            "<tr><td>Ederswiler</td><td>JU</td></tr>",
                            "<tr><td>Roggenburg</td><td>BL</td></tr>",
                            "<tr><td>Courroux</td><td>JU</td></tr>",
                            "<tr><td>Courcelon</td><td>JU</td></tr>",
                            "<tr><td>Vicques</td><td>JU</td></tr>",
                            "<tr><td>Courchapoix</td><td>JU</td></tr>",
                            "<tr><td>Corban</td><td>JU</td></tr>",
                            "<tr><td>Mervelier</td><td>JU</td></tr>",
                            "<tr><td>Montsevelier</td><td>JU</td></tr>",
                            "<tr><td>Vermes</td><td>JU</td></tr>",
                            "<tr><td>Rossemaison</td><td>JU</td></tr>",
                            "<tr><td>Châtillon JU</td><td>JU</td></tr>",
                            "<tr><td>Courtételle</td><td>JU</td></tr>",
                            "<tr><td>Courfaivre</td><td>JU</td></tr>",
                            "<tr><td>Bassecourt</td><td>JU</td></tr>",
                            "<tr><td>Glovelier</td><td>JU</td></tr>",
                            "<tr><td>Boécourt</td><td>JU</td></tr>",
                            "<tr><td>Montavon</td><td>JU</td></tr>",
                            "<tr><td>Undervelier</td><td>JU</td></tr>",
                            "<tr><td>Soulce</td><td>JU</td></tr>",
                            "<tr><td>Saulcy</td><td>JU</td></tr>",
                            "<tr><td>St-Ursanne</td><td>JU</td></tr>",
                            "<tr><td>Montmelon</td><td>JU</td></tr>",
                            "<tr><td>Montenol</td><td>JU</td></tr>",
                            "<tr><td>Epauvillers</td><td>JU</td></tr>",
                            "<tr><td>Epiquerez</td><td>JU</td></tr>",
                            "<tr><td>Soubey</td><td>JU</td></tr>",
                            "<tr><td>Seleute</td><td>JU</td></tr>",
                            "<tr><td>Ocourt</td><td>JU</td></tr>",
                            "<tr><td>Courgenay</td><td>JU</td></tr>",
                            "<tr><td>Porrentruy</td><td>JU</td></tr>",
                            "<tr><td>Fontenais</td><td>JU</td></tr>",
                            "<tr><td>Villars-sur-Fontenais</td><td>JU</td></tr>",
                            "<tr><td>Bressaucourt</td><td>JU</td></tr>",
                            "<tr><td>Courtedoux</td><td>JU</td></tr>",
                            "<tr><td>Chevenez</td><td>JU</td></tr>",
                            "<tr><td>Rocourt</td><td>JU</td></tr>",
                            "<tr><td>Grandfontaine</td><td>JU</td></tr>",
                            "<tr><td>Roche-d&#39;Or</td><td>JU</td></tr>",
                            "<tr><td>Damvant</td><td>JU</td></tr>",
                            "<tr><td>Bure</td><td>JU</td></tr>",
                            "<tr><td>Fahy</td><td>JU</td></tr>",
                            "<tr><td>Courchavon</td><td>JU</td></tr>",
                            "<tr><td>Courtemaîche</td><td>JU</td></tr>",
                            "<tr><td>Montignez</td><td>JU</td></tr>",
                            "<tr><td>Buix</td><td>JU</td></tr>",
                            "<tr><td>Boncourt</td><td>JU</td></tr>",
                            "<tr><td>Coeuve</td><td>JU</td></tr>",
                            "<tr><td>Beurnevésin</td><td>JU</td></tr>",
                            "<tr><td>Alle</td><td>JU</td></tr>",
                            "<tr><td>Vendlincourt</td><td>JU</td></tr>",
                            "<tr><td>Bonfol</td><td>JU</td></tr>",
                            "<tr><td>Miécourt</td><td>JU</td></tr>",
                            "<tr><td>Charmoille</td><td>JU</td></tr>",
                            "<tr><td>Cornol</td><td>JU</td></tr>",
                            "<tr><td>Asuel</td><td>JU</td></tr>",
                            "<tr><td>Bern</td><td>BE</td></tr>",
                            "<tr><td>Bern</td><td>BE</td></tr>",
                            "<tr><td>Bern</td><td>BE</td></tr>",
                            "<tr><td>Bern</td><td>BE</td></tr>",
                            "<tr><td>Bern</td><td>BE</td></tr>",
                            "<tr><td>Bern</td><td>BE</td></tr>",
                            "<tr><td>Bern</td><td>BE</td></tr>",
                            "<tr><td>Bern</td><td>BE</td></tr>",
                            "<tr><td>Bern</td><td>BE</td></tr>",
                            "<tr><td>Bern</td><td>BE</td></tr>",
                            "<tr><td>Bern</td><td>BE</td></tr>",
                            "<tr><td>Bern</td><td>BE</td></tr>",
                            "<tr><td>Bern</td><td>BE</td></tr>",
                            "<tr><td>Bern</td><td>BE</td></tr>",
                            "<tr><td>Bern</td><td>BE</td></tr>",
                            "<tr><td>Bern</td><td>BE</td></tr>",
                            "<tr><td>Spiegel b. Bern</td><td>BE</td></tr>",
                            "<tr><td>Hinterkappelen</td><td>BE</td></tr>",
                            "<tr><td>Wohlen b. Bern</td><td>BE</td></tr>",
                            "<tr><td>Murzelen</td><td>BE</td></tr>",
                            "<tr><td>Frieswil</td><td>BE</td></tr>",
                            "<tr><td>Detligen</td><td>BE</td></tr>",
                            "<tr><td>Herrenschwanden</td><td>BE</td></tr>",
                            "<tr><td>Kirchlindach</td><td>BE</td></tr>",
                            "<tr><td>Ortschwaben</td><td>BE</td></tr>",
                            "<tr><td>Uettligen</td><td>BE</td></tr>",
                            "<tr><td>Säriswil</td><td>BE</td></tr>",
                            "<tr><td>Meikirch</td><td>BE</td></tr>",
                            "<tr><td>Wahlendorf</td><td>BE</td></tr>",
                            "<tr><td>Bremgarten b. Bern</td><td>BE</td></tr>",
                            "<tr><td>Worblaufen</td><td>BE</td></tr>",
                            "<tr><td>Zollikofen</td><td>BE</td></tr>",
                            "<tr><td>Münchenbuchsee</td><td>BE</td></tr>",
                            "<tr><td>Schüpfen</td><td>BE</td></tr>",
                            "<tr><td>Ittigen</td><td>BE</td></tr>",
                            "<tr><td>Bolligen</td><td>BE</td></tr>",
                            "<tr><td>Stettlen</td><td>BE</td></tr>",
                            "<tr><td>Boll</td><td>BE</td></tr>",
                            "<tr><td>Utzigen</td><td>BE</td></tr>",
                            "<tr><td>Ostermundigen</td><td>BE</td></tr>",
                            "<tr><td>Gümligen</td><td>BE</td></tr>",
                            "<tr><td>Muri b. Bern</td><td>BE</td></tr>",
                            "<tr><td>Rüfenacht BE</td><td>BE</td></tr>",
                            "<tr><td>Worb</td><td>BE</td></tr>",
                            "<tr><td>Enggistein</td><td>BE</td></tr>",
                            "<tr><td>Richigen</td><td>BE</td></tr>",
                            "<tr><td>Schlosswil</td><td>BE</td></tr>",
                            "<tr><td>Trimstein</td><td>BE</td></tr>",
                            "<tr><td>Wabern</td><td>BE</td></tr>",
                            "<tr><td>Oberbütschel</td><td>BE</td></tr>",
                            "<tr><td>Zimmerwald</td><td>BE</td></tr>",
                            "<tr><td>Niedermuhlern</td><td>BE</td></tr>",
                            "<tr><td>Rüeggisberg</td><td>BE</td></tr>",
                            "<tr><td>Hinterfultigen</td><td>BE</td></tr>",
                            "<tr><td>Oberbalm</td><td>BE</td></tr>",
                            "<tr><td>Liebefeld</td><td>BE</td></tr>",
                            "<tr><td>Köniz</td><td>BE</td></tr>",
                            "<tr><td>Schliern b. Köniz</td><td>BE</td></tr>",
                            "<tr><td>Rüti b. Riggisberg</td><td>BE</td></tr>",
                            "<tr><td>Münsingen</td><td>BE</td></tr>",
                            "<tr><td>Allmendingen b. Bern</td><td>BE</td></tr>",
                            "<tr><td>Wichtrach</td><td>BE</td></tr>",
                            "<tr><td>Gerzensee</td><td>BE</td></tr>",
                            "<tr><td>Kirchdorf BE</td><td>BE</td></tr>",
                            "<tr><td>Kiesen</td><td>BE</td></tr>",
                            "<tr><td>Uttigen</td><td>BE</td></tr>",
                            "<tr><td>Kehrsatz</td><td>BE</td></tr>",
                            "<tr><td>Belp</td><td>BE</td></tr>",
                            "<tr><td>Belpberg</td><td>BE</td></tr>",
                            "<tr><td>Toffen</td><td>BE</td></tr>",
                            "<tr><td>Kaufdorf</td><td>BE</td></tr>",
                            "<tr><td>Mühlethurnen</td><td>BE</td></tr>",
                            "<tr><td>Kirchenthurnen</td><td>BE</td></tr>",
                            "<tr><td>Riggisberg</td><td>BE</td></tr>",
                            "<tr><td>Burgistein</td><td>BE</td></tr>",
                            "<tr><td>Wattenwil</td><td>BE</td></tr>",
                            "<tr><td>Seftigen</td><td>BE</td></tr>",
                            "<tr><td>Gurzelen</td><td>BE</td></tr>",
                            "<tr><td>Uetendorf</td><td>BE</td></tr>",
                            "<tr><td>Gasel</td><td>BE</td></tr>",
                            "<tr><td>Niederscherli</td><td>BE</td></tr>",
                            "<tr><td>Mittelhäusern</td><td>BE</td></tr>",
                            "<tr><td>Lanzenhäusern</td><td>BE</td></tr>",
                            "<tr><td>Schwarzenburg</td><td>BE</td></tr>",
                            "<tr><td>Mamishaus</td><td>BE</td></tr>",
                            "<tr><td>Rüschegg Gambach</td><td>BE</td></tr>",
                            "<tr><td>Rüschegg Heubach</td><td>BE</td></tr>",
                            "<tr><td>Helgisried-Rohrbach</td><td>BE</td></tr>",
                            "<tr><td>Riffenmatt</td><td>BE</td></tr>",
                            "<tr><td>Milken</td><td>BE</td></tr>",
                            "<tr><td>Guggisberg</td><td>BE</td></tr>",
                            "<tr><td>Riedstätt</td><td>BE</td></tr>",
                            "<tr><td>Niederwangen b. Bern</td><td>BE</td></tr>",
                            "<tr><td>Oberwangen b. Bern</td><td>BE</td></tr>",
                            "<tr><td>Thörishaus</td><td>BE</td></tr>",
                            "<tr><td>Flamatt</td><td>FR</td></tr>",
                            "<tr><td>Neuenegg</td><td>BE</td></tr>",
                            "<tr><td>Laupen BE</td><td>BE</td></tr>",
                            "<tr><td>Bösingen</td><td>FR</td></tr>",
                            "<tr><td>Kriechenwil</td><td>BE</td></tr>",
                            "<tr><td>Ueberstorf</td><td>FR</td></tr>",
                            "<tr><td>Albligen</td><td>BE</td></tr>",
                            "<tr><td>Wünnewil</td><td>FR</td></tr>",
                            "<tr><td>Düdingen</td><td>FR</td></tr>",
                            "<tr><td>Gelterfingen</td><td>BE</td></tr>",
                            "<tr><td>Frauenkappelen</td><td>BE</td></tr>",
                            "<tr><td>Mühleberg</td><td>BE</td></tr>",
                            "<tr><td>Rosshäusern</td><td>BE</td></tr>",
                            "<tr><td>Gümmenen</td><td>BE</td></tr>",
                            "<tr><td>Rizenbach</td><td>BE</td></tr>",
                            "<tr><td>Wileroltigen</td><td>BE</td></tr>",
                            "<tr><td>Gurbrü</td><td>BE</td></tr>",
                            "<tr><td>Kerzers</td><td>FR</td></tr>",
                            "<tr><td>Ried b. Kerzers</td><td>FR</td></tr>",
                            "<tr><td>Gempenach</td><td>FR</td></tr>",
                            "<tr><td>Ulmiz</td><td>FR</td></tr>",
                            "<tr><td>Liebistorf</td><td>FR</td></tr>",
                            "<tr><td>Gurmels</td><td>FR</td></tr>",
                            "<tr><td>Müntschemier</td><td>BE</td></tr>",
                            "<tr><td>Treiten</td><td>BE</td></tr>",
                            "<tr><td>Ins</td><td>BE</td></tr>",
                            "<tr><td>Tschugg</td><td>BE</td></tr>",
                            "<tr><td>Vinelz</td><td>BE</td></tr>",
                            "<tr><td>Erlach</td><td>BE</td></tr>",
                            "<tr><td>Gampelen</td><td>BE</td></tr>",
                            "<tr><td>Lyss</td><td>BE</td></tr>",
                            "<tr><td>Wengi b. Büren</td><td>BE</td></tr>",
                            "<tr><td>Worben</td><td>BE</td></tr>",
                            "<tr><td>Schnottwil</td><td>SO</td></tr>",
                            "<tr><td>Messen</td><td>SO</td></tr>",
                            "<tr><td>Rapperswil BE</td><td>BE</td></tr>",
                            "<tr><td>Dieterswil</td><td>BE</td></tr>",
                            "<tr><td>Grossaffoltern</td><td>BE</td></tr>",
                            "<tr><td>Ammerzwil BE</td><td>BE</td></tr>",
                            "<tr><td>Suberg</td><td>BE</td></tr>",
                            "<tr><td>Büetigen</td><td>BE</td></tr>",
                            "<tr><td>Diessbach b. Büren</td><td>BE</td></tr>",
                            "<tr><td>Wiler b. Seedorf</td><td>BE</td></tr>",
                            "<tr><td>Seedorf BE</td><td>BE</td></tr>",
                            "<tr><td>Lobsigen</td><td>BE</td></tr>",
                            "<tr><td>Aarberg</td><td>BE</td></tr>",
                            "<tr><td>Radelfingen b. Aarberg</td><td>BE</td></tr>",
                            "<tr><td>Walperswil</td><td>BE</td></tr>",
                            "<tr><td>Kappelen</td><td>BE</td></tr>",
                            "<tr><td>Hermrigen</td><td>BE</td></tr>",
                            "<tr><td>Murten</td><td>FR</td></tr>",
                            "<tr><td>Meyriez</td><td>FR</td></tr>",
                            "<tr><td>Bargen BE</td><td>BE</td></tr>",
                            "<tr><td>Kallnach</td><td>BE</td></tr>",
                            "<tr><td>Fräschels</td><td>FR</td></tr>",
                            "<tr><td>Galmiz</td><td>FR</td></tr>",
                            "<tr><td>Muntelier</td><td>FR</td></tr>",
                            "<tr><td>Busswil BE</td><td>BE</td></tr>",
                            "<tr><td>Dotzigen</td><td>BE</td></tr>",
                            "<tr><td>Büren an der Aare</td><td>BE</td></tr>",
                            "<tr><td>Rüti b. Büren</td><td>BE</td></tr>",
                            "<tr><td>Arch</td><td>BE</td></tr>",
                            "<tr><td>Leuzigen</td><td>BE</td></tr>",
                            "<tr><td>Oberwil b. Büren</td><td>BE</td></tr>",
                            "<tr><td>Moosseedorf</td><td>BE</td></tr>",
                            "<tr><td>Jegenstorf</td><td>BE</td></tr>",
                            "<tr><td>Grafenried</td><td>BE</td></tr>",
                            "<tr><td>Fraubrunnen</td><td>BE</td></tr>",
                            "<tr><td>Büren zum Hof</td><td>BE</td></tr>",
                            "<tr><td>Schalunen</td><td>BE</td></tr>",
                            "<tr><td>Bätterkinden</td><td>BE</td></tr>",
                            "<tr><td>Kräiligen</td><td>BE</td></tr>",
                            "<tr><td>Urtenen-Schönbühl</td><td>BE</td></tr>",
                            "<tr><td>Mattstetten</td><td>BE</td></tr>",
                            "<tr><td>Bäriswil BE</td><td>BE</td></tr>",
                            "<tr><td>Hindelbank</td><td>BE</td></tr>",
                            "<tr><td>Hettiswil b. Hindelbank</td><td>BE</td></tr>",
                            "<tr><td>Krauchthal</td><td>BE</td></tr>",
                            "<tr><td>Zuzwil BE</td><td>BE</td></tr>",
                            "<tr><td>Iffwil</td><td>BE</td></tr>",
                            "<tr><td>Etzelkofen</td><td>BE</td></tr>",
                            "<tr><td>Brunnenthal</td><td>SO</td></tr>",
                            "<tr><td>Kernenried</td><td>BE</td></tr>",
                            "<tr><td>Limpach</td><td>BE</td></tr>",
                            "<tr><td>Mülchi</td><td>BE</td></tr>",
                            "<tr><td>Herzogenbuchsee</td><td>BE</td></tr>",
                            "<tr><td>Aeschi SO</td><td>SO</td></tr>",
                            "<tr><td>Graben</td><td>BE</td></tr>",
                            "<tr><td>Wanzwil</td><td>BE</td></tr>",
                            "<tr><td>Heimenhausen</td><td>BE</td></tr>",
                            "<tr><td>Röthenbach Herzogenbuchsee</td><td>BE</td></tr>",
                            "<tr><td>Wangenried</td><td>BE</td></tr>",
                            "<tr><td>Niederönz</td><td>BE</td></tr>",
                            "<tr><td>Oberönz</td><td>BE</td></tr>",
                            "<tr><td>Seeberg</td><td>BE</td></tr>",
                            "<tr><td>Grasswil</td><td>BE</td></tr>",
                            "<tr><td>Bettenhausen</td><td>BE</td></tr>",
                            "<tr><td>Thörigen</td><td>BE</td></tr>",
                            "<tr><td>Bleienbach</td><td>BE</td></tr>",
                            "<tr><td>Burgdorf</td><td>BE</td></tr>",
                            "<tr><td>Heimiswil</td><td>BE</td></tr>",
                            "<tr><td>Kaltacker</td><td>BE</td></tr>",
                            "<tr><td>Oberburg</td><td>BE</td></tr>",
                            "<tr><td>Affoltern im Emmental</td><td>BE</td></tr>",
                            "<tr><td>Rüegsau</td><td>BE</td></tr>",
                            "<tr><td>Rüegsbach</td><td>BE</td></tr>",
                            "<tr><td>Biembach im Emmental</td><td>BE</td></tr>",
                            "<tr><td>Lyssach</td><td>BE</td></tr>",
                            "<tr><td>Kirchberg BE</td><td>BE</td></tr>",
                            "<tr><td>Rüdtligen</td><td>BE</td></tr>",
                            "<tr><td>Alchenflüh</td><td>BE</td></tr>",
                            "<tr><td>Ersigen</td><td>BE</td></tr>",
                            "<tr><td>Niederösch</td><td>BE</td></tr>",
                            "<tr><td>Koppigen</td><td>BE</td></tr>",
                            "<tr><td>Aefligen</td><td>BE</td></tr>",
                            "<tr><td>Utzenstorf</td><td>BE</td></tr>",
                            "<tr><td>Wiler b. Utzenstorf</td><td>BE</td></tr>",
                            "<tr><td>Lützelflüh-Goldbach</td><td>BE</td></tr>",
                            "<tr><td>Schwanden im Emmental</td><td>BE</td></tr>",
                            "<tr><td>Obergoldbach</td><td>BE</td></tr>",
                            "<tr><td>Ramsei</td><td>BE</td></tr>",
                            "<tr><td>Zollbrück</td><td>BE</td></tr>",
                            "<tr><td>Rüderswil</td><td>BE</td></tr>",
                            "<tr><td>Lauperswil</td><td>BE</td></tr>",
                            "<tr><td>Ranflüh</td><td>BE</td></tr>",
                            "<tr><td>Grünenmatt</td><td>BE</td></tr>",
                            "<tr><td>Heimisbach</td><td>BE</td></tr>",
                            "<tr><td>Sumiswald</td><td>BE</td></tr>",
                            "<tr><td>Grünen</td><td>BE</td></tr>",
                            "<tr><td>Trachselwald</td><td>BE</td></tr>",
                            "<tr><td>Wasen im Emmental</td><td>BE</td></tr>",
                            "<tr><td>Weier im Emmental</td><td>BE</td></tr>",
                            "<tr><td>Häusernmoos im Emmental</td><td>BE</td></tr>",
                            "<tr><td>Schmidigen-Mühleweg</td><td>BE</td></tr>",
                            "<tr><td>Dürrenroth</td><td>BE</td></tr>",
                            "<tr><td>Wynigen</td><td>BE</td></tr>",
                            "<tr><td>Alchenstorf</td><td>BE</td></tr>",
                            "<tr><td>Rüedisbach</td><td>BE</td></tr>",
                            "<tr><td>Riedtwil</td><td>BE</td></tr>",
                            "<tr><td>Hermiswil</td><td>BE</td></tr>",
                            "<tr><td>Oschwand</td><td>BE</td></tr>",
                            "<tr><td>Tägertschi</td><td>BE</td></tr>",
                            "<tr><td>Gysenstein</td><td>BE</td></tr>",
                            "<tr><td>Niederhünigen</td><td>BE</td></tr>",
                            "<tr><td>Grosshöchstetten</td><td>BE</td></tr>",
                            "<tr><td>Biglen</td><td>BE</td></tr>",
                            "<tr><td>Arni BE</td><td>BE</td></tr>",
                            "<tr><td>Konolfingen</td><td>BE</td></tr>",
                            "<tr><td>Walkringen</td><td>BE</td></tr>",
                            "<tr><td>Bigenthal</td><td>BE</td></tr>",
                            "<tr><td>Schafhausen im Emmental</td><td>BE</td></tr>",
                            "<tr><td>Oberdiessbach</td><td>BE</td></tr>",
                            "<tr><td>Aeschlen b. Oberdiessbach</td><td>BE</td></tr>",
                            "<tr><td>Linden</td><td>BE</td></tr>",
                            "<tr><td>Bleiken b. Oberdiessbach</td><td>BE</td></tr>",
                            "<tr><td>Brenzikofen</td><td>BE</td></tr>",
                            "<tr><td>Oberthal</td><td>BE</td></tr>",
                            "<tr><td>Zäziwil</td><td>BE</td></tr>",
                            "<tr><td>Bowil</td><td>BE</td></tr>",
                            "<tr><td>Signau</td><td>BE</td></tr>",
                            "<tr><td>Schüpbach</td><td>BE</td></tr>",
                            "<tr><td>Aeschau</td><td>BE</td></tr>",
                            "<tr><td>Eggiwil</td><td>BE</td></tr>",
                            "<tr><td>Röthenbach im Emmental</td><td>BE</td></tr>",
                            "<tr><td>Emmenmatt</td><td>BE</td></tr>",
                            "<tr><td>Langnau im Emmental</td><td>BE</td></tr>",
                            "<tr><td>Oberfrittenbach</td><td>BE</td></tr>",
                            "<tr><td>Bärau</td><td>BE</td></tr>",
                            "<tr><td>Gohl</td><td>BE</td></tr>",
                            "<tr><td>Trubschachen</td><td>BE</td></tr>",
                            "<tr><td>Trub</td><td>BE</td></tr>",
                            "<tr><td>Fankhaus (Trub)</td><td>BE</td></tr>",
                            "<tr><td>Thun</td><td>BE</td></tr>",
                            "<tr><td>Thun</td><td>BE</td></tr>",
                            "<tr><td>Thun</td><td>BE</td></tr>",
                            "<tr><td>Thun</td><td>BE</td></tr>",
                            "<tr><td>Fahrni b. Thun</td><td>BE</td></tr>",
                            "<tr><td>Süderen</td><td>BE</td></tr>",
                            "<tr><td>Eriz</td><td>BE</td></tr>",
                            "<tr><td>Innereriz</td><td>BE</td></tr>",
                            "<tr><td>Homberg b. Thun</td><td>BE</td></tr>",
                            "<tr><td>Uebeschi</td><td>BE</td></tr>",
                            "<tr><td>Höfen b. Thun</td><td>BE</td></tr>",
                            "<tr><td>Längenbühl</td><td>BE</td></tr>",
                            "<tr><td>Steffisburg</td><td>BE</td></tr>",
                            "<tr><td>Steffisburg</td><td>BE</td></tr>",
                            "<tr><td>Unterlangenegg</td><td>BE</td></tr>",
                            "<tr><td>Heimenschwand</td><td>BE</td></tr>",
                            "<tr><td>Schwarzenegg</td><td>BE</td></tr>",
                            "<tr><td>Teuffenthal b. Thun</td><td>BE</td></tr>",
                            "<tr><td>Goldiwil (Thun)</td><td>BE</td></tr>",
                            "<tr><td>Heiligenschwendi</td><td>BE</td></tr>",
                            "<tr><td>Hünibach</td><td>BE</td></tr>",
                            "<tr><td>Heimberg</td><td>BE</td></tr>",
                            "<tr><td>Amsoldingen</td><td>BE</td></tr>",
                            "<tr><td>Thierachern</td><td>BE</td></tr>",
                            "<tr><td>Blumenstein</td><td>BE</td></tr>",
                            "<tr><td>Pohlern</td><td>BE</td></tr>",
                            "<tr><td>Gwatt (Thun)</td><td>BE</td></tr>",
                            "<tr><td>Einigen</td><td>BE</td></tr>",
                            "<tr><td>Reutigen</td><td>BE</td></tr>",
                            "<tr><td>Hilterfingen</td><td>BE</td></tr>",
                            "<tr><td>Oberhofen am Thunersee</td><td>BE</td></tr>",
                            "<tr><td>Gunten</td><td>BE</td></tr>",
                            "<tr><td>Sigriswil</td><td>BE</td></tr>",
                            "<tr><td>Tschingel ob Gunten</td><td>BE</td></tr>",
                            "<tr><td>Aeschlen ob Gunten</td><td>BE</td></tr>",
                            "<tr><td>Schwanden (Sigriswil)</td><td>BE</td></tr>",
                            "<tr><td>Merligen</td><td>BE</td></tr>",
                            "<tr><td>Spiez</td><td>BE</td></tr>",
                            "<tr><td>Hondrich</td><td>BE</td></tr>",
                            "<tr><td>Aeschi b. Spiez</td><td>BE</td></tr>",
                            "<tr><td>Aeschiried</td><td>BE</td></tr>",
                            "<tr><td>Krattigen</td><td>BE</td></tr>",
                            "<tr><td>Faulensee</td><td>BE</td></tr>",
                            "<tr><td>Leissigen</td><td>BE</td></tr>",
                            "<tr><td>Därligen</td><td>BE</td></tr>",
                            "<tr><td>Emdthal</td><td>BE</td></tr>",
                            "<tr><td>Mülenen</td><td>BE</td></tr>",
                            "<tr><td>Reichenbach im Kandertal</td><td>BE</td></tr>",
                            "<tr><td>Frutigen</td><td>BE</td></tr>",
                            "<tr><td>Wengi b. Frutigen</td><td>BE</td></tr>",
                            "<tr><td>Adelboden</td><td>BE</td></tr>",
                            "<tr><td>Kandergrund</td><td>BE</td></tr>",
                            "<tr><td>Blausee-Mitholz</td><td>BE</td></tr>",
                            "<tr><td>Kandersteg</td><td>BE</td></tr>",
                            "<tr><td>Scharnachtal</td><td>BE</td></tr>",
                            "<tr><td>Kiental</td><td>BE</td></tr>",
                            "<tr><td>Ried (Frutigen)</td><td>BE</td></tr>",
                            "<tr><td>Achseten</td><td>BE</td></tr>",
                            "<tr><td>Wimmis</td><td>BE</td></tr>",
                            "<tr><td>Oey</td><td>BE</td></tr>",
                            "<tr><td>Diemtigen</td><td>BE</td></tr>",
                            "<tr><td>Horboden</td><td>BE</td></tr>",
                            "<tr><td>Zwischenflüh</td><td>BE</td></tr>",
                            "<tr><td>Schwenden im Diemtigtal</td><td>BE</td></tr>",
                            "<tr><td>Latterbach</td><td>BE</td></tr>",
                            "<tr><td>Erlenbach im Simmental</td><td>BE</td></tr>",
                            "<tr><td>Därstetten</td><td>BE</td></tr>",
                            "<tr><td>Weissenburg</td><td>BE</td></tr>",
                            "<tr><td>Oberwil im Simmental</td><td>BE</td></tr>",
                            "<tr><td>Boltigen</td><td>BE</td></tr>",
                            "<tr><td>Zweisimmen</td><td>BE</td></tr>",
                            "<tr><td>Blankenburg</td><td>BE</td></tr>",
                            "<tr><td>St. Stephan</td><td>BE</td></tr>",
                            "<tr><td>Matten (St. Stephan)</td><td>BE</td></tr>",
                            "<tr><td>Lenk im Simmental</td><td>BE</td></tr>",
                            "<tr><td>Oeschseite</td><td>BE</td></tr>",
                            "<tr><td>Saanenmöser</td><td>BE</td></tr>",
                            "<tr><td>Schönried</td><td>BE</td></tr>",
                            "<tr><td>Gstaad</td><td>BE</td></tr>",
                            "<tr><td>Turbach</td><td>BE</td></tr>",
                            "<tr><td>Lauenen b. Gstaad</td><td>BE</td></tr>",
                            "<tr><td>Grund b. Gstaad</td><td>BE</td></tr>",
                            "<tr><td>Feutersoey</td><td>BE</td></tr>",
                            "<tr><td>Gsteig b. Gstaad</td><td>BE</td></tr>",
                            "<tr><td>Saanen</td><td>BE</td></tr>",
                            "<tr><td>Interlaken</td><td>BE</td></tr>",
                            "<tr><td>Unterseen</td><td>BE</td></tr>",
                            "<tr><td>Matten b. Interlaken</td><td>BE</td></tr>",
                            "<tr><td>Beatenberg</td><td>BE</td></tr>",
                            "<tr><td>Habkern</td><td>BE</td></tr>",
                            "<tr><td>Goldswil b. Interlaken</td><td>BE</td></tr>",
                            "<tr><td>Bönigen b. Interlaken</td><td>BE</td></tr>",
                            "<tr><td>Iseltwald</td><td>BE</td></tr>",
                            "<tr><td>Wilderswil</td><td>BE</td></tr>",
                            "<tr><td>Saxeten</td><td>BE</td></tr>",
                            "<tr><td>Gsteigwiler</td><td>BE</td></tr>",
                            "<tr><td>Zweilütschinen</td><td>BE</td></tr>",
                            "<tr><td>Lütschental</td><td>BE</td></tr>",
                            "<tr><td>Burglauenen</td><td>BE</td></tr>",
                            "<tr><td>Grindelwald</td><td>BE</td></tr>",
                            "<tr><td>Lauterbrunnen</td><td>BE</td></tr>",
                            "<tr><td>Isenfluh</td><td>BE</td></tr>",
                            "<tr><td>Wengen</td><td>BE</td></tr>",
                            "<tr><td>Stechelberg</td><td>BE</td></tr>",
                            "<tr><td>Mürren</td><td>BE</td></tr>",
                            "<tr><td>Gimmelwald</td><td>BE</td></tr>",
                            "<tr><td>Ringgenberg BE</td><td>BE</td></tr>",
                            "<tr><td>Niederried b. Interlaken</td><td>BE</td></tr>",
                            "<tr><td>Oberried am Brienzersee</td><td>BE</td></tr>",
                            "<tr><td>Brienz BE</td><td>BE</td></tr>",
                            "<tr><td>Axalp</td><td>BE</td></tr>",
                            "<tr><td>Brienzwiler</td><td>BE</td></tr>",
                            "<tr><td>Unterbach BE</td><td>BE</td></tr>",
                            "<tr><td>Hofstetten b. Brienz</td><td>BE</td></tr>",
                            "<tr><td>Meiringen</td><td>BE</td></tr>",
                            "<tr><td>Rosenlaui</td><td>BE</td></tr>",
                            "<tr><td>Innertkirchen</td><td>BE</td></tr>",
                            "<tr><td>Gadmen</td><td>BE</td></tr>",
                            "<tr><td>Guttannen</td><td>BE</td></tr>",
                            "<tr><td>Basel</td><td>BS</td></tr>",
                            "<tr><td>Basel</td><td>BS</td></tr>",
                            "<tr><td>Basel Universitätsspital</td><td>BS</td></tr>",
                            "<tr><td>Basel</td><td>BS</td></tr>",
                            "<tr><td>Basel</td><td>BS</td></tr>",
                            "<tr><td>Basel</td><td>BS</td></tr>",
                            "<tr><td>Basel</td><td>BS</td></tr>",
                            "<tr><td>Basel</td><td>BS</td></tr>",
                            "<tr><td>Basel</td><td>BS</td></tr>",
                            "<tr><td>Basel</td><td>BS</td></tr>",
                            "<tr><td>Basel</td><td>BS</td></tr>",
                            "<tr><td>Basel</td><td>BS</td></tr>",
                            "<tr><td>Bruderholz</td><td>BL</td></tr>",
                            "<tr><td>Binningen</td><td>BL</td></tr>",
                            "<tr><td>Bottmingen</td><td>BL</td></tr>",
                            "<tr><td>Oberwil BL</td><td>BL</td></tr>",
                            "<tr><td>Biel-Benken BL</td><td>BL</td></tr>",
                            "<tr><td>Therwil</td><td>BL</td></tr>",
                            "<tr><td>Ettingen</td><td>BL</td></tr>",
                            "<tr><td>Witterswil</td><td>SO</td></tr>",
                            "<tr><td>Bättwil</td><td>SO</td></tr>",
                            "<tr><td>Flüh</td><td>SO</td></tr>",
                            "<tr><td>Hofstetten SO</td><td>SO</td></tr>",
                            "<tr><td>Mariastein</td><td>SO</td></tr>",
                            "<tr><td>Metzerlen</td><td>SO</td></tr>",
                            "<tr><td>Burg im Leimental</td><td>BL</td></tr>",
                            "<tr><td>Rodersdorf</td><td>SO</td></tr>",
                            "<tr><td>Allschwil</td><td>BL</td></tr>",
                            "<tr><td>Schönenbuch</td><td>BL</td></tr>",
                            "<tr><td>Riehen</td><td>BS</td></tr>",
                            "<tr><td>Bettingen</td><td>BS</td></tr>",
                            "<tr><td>Birsfelden</td><td>BL</td></tr>",
                            "<tr><td>Muttenz</td><td>BL</td></tr>",
                            "<tr><td>Pratteln</td><td>BL</td></tr>",
                            "<tr><td>Münchenstein</td><td>BL</td></tr>",
                            "<tr><td>Dornach</td><td>SO</td></tr>",
                            "<tr><td>Arlesheim</td><td>BL</td></tr>",
                            "<tr><td>Gempen</td><td>SO</td></tr>",
                            "<tr><td>Hochwald</td><td>SO</td></tr>",
                            "<tr><td>Aesch BL</td><td>BL</td></tr>",
                            "<tr><td>Pfeffingen</td><td>BL</td></tr>",
                            "<tr><td>Reinach BL</td><td>BL</td></tr>",
                            "<tr><td>Duggingen</td><td>BL</td></tr>",
                            "<tr><td>Grellingen</td><td>BL</td></tr>",
                            "<tr><td>Seewen SO</td><td>SO</td></tr>",
                            "<tr><td>Bretzwil</td><td>BL</td></tr>",
                            "<tr><td>Nunningen</td><td>SO</td></tr>",
                            "<tr><td>Zwingen</td><td>BL</td></tr>",
                            "<tr><td>Brislach</td><td>BL</td></tr>",
                            "<tr><td>Breitenbach</td><td>SO</td></tr>",
                            "<tr><td>Büsserach</td><td>SO</td></tr>",
                            "<tr><td>Erschwil</td><td>SO</td></tr>",
                            "<tr><td>Laufen</td><td>BL</td></tr>",
                            "<tr><td>Dittingen</td><td>BL</td></tr>",
                            "<tr><td>Röschenz</td><td>BL</td></tr>",
                            "<tr><td>Kleinlützel</td><td>SO</td></tr>",
                            "<tr><td>Himmelried</td><td>SO</td></tr>",
                            "<tr><td>Blauen</td><td>BL</td></tr>",
                            "<tr><td>Nenzlingen</td><td>BL</td></tr>",
                            "<tr><td>Beinwil SO</td><td>SO</td></tr>",
                            "<tr><td>Fehren</td><td>SO</td></tr>",
                            "<tr><td>Meltingen</td><td>SO</td></tr>",
                            "<tr><td>Zullwil</td><td>SO</td></tr>",
                            "<tr><td>Wahlen b. Laufen</td><td>BL</td></tr>",
                            "<tr><td>Grindel</td><td>SO</td></tr>",
                            "<tr><td>Bärschwil</td><td>SO</td></tr>",
                            "<tr><td>Liesberg</td><td>BL</td></tr>",
                            "<tr><td>Liesberg Dorf</td><td>BL</td></tr>",
                            "<tr><td>Augst BL</td><td>BL</td></tr>",
                            "<tr><td>Kaiseraugst</td><td>AG</td></tr>",
                            "<tr><td>Giebenach</td><td>BL</td></tr>",
                            "<tr><td>Olsberg</td><td>AG</td></tr>",
                            "<tr><td>Rheinfelden</td><td>AG</td></tr>",
                            "<tr><td>Magden</td><td>AG</td></tr>",
                            "<tr><td>Möhlin</td><td>AG</td></tr>",
                            "<tr><td>Zeiningen</td><td>AG</td></tr>",
                            "<tr><td>Zuzgen</td><td>AG</td></tr>",
                            "<tr><td>Hellikon</td><td>AG</td></tr>",
                            "<tr><td>Wegenstetten</td><td>AG</td></tr>",
                            "<tr><td>Mumpf</td><td>AG</td></tr>",
                            "<tr><td>Wallbach</td><td>AG</td></tr>",
                            "<tr><td>Obermumpf</td><td>AG</td></tr>",
                            "<tr><td>Schupfart</td><td>AG</td></tr>",
                            "<tr><td>Stein AG</td><td>AG</td></tr>",
                            "<tr><td>Münchwilen AG</td><td>AG</td></tr>",
                            "<tr><td>Sisseln AG</td><td>AG</td></tr>",
                            "<tr><td>Laufenburg</td><td>AG</td></tr>",
                            "<tr><td>Kaisten</td><td>AG</td></tr>",
                            "<tr><td>Ittenthal</td><td>AG</td></tr>",
                            "<tr><td>Rheinsulz</td><td>AG</td></tr>",
                            "<tr><td>Sulz AG</td><td>AG</td></tr>",
                            "<tr><td>Etzgen</td><td>AG</td></tr>",
                            "<tr><td>Mettau</td><td>AG</td></tr>",
                            "<tr><td>Oberhofen AG</td><td>AG</td></tr>",
                            "<tr><td>Gansingen</td><td>AG</td></tr>",
                            "<tr><td>Wil AG</td><td>AG</td></tr>",
                            "<tr><td>Hottwil</td><td>AG</td></tr>",
                            "<tr><td>Schwaderloch</td><td>AG</td></tr>",
                            "<tr><td>Leibstadt</td><td>AG</td></tr>",
                            "<tr><td>Full-Reuenthal</td><td>AG</td></tr>",
                            "<tr><td>Frenkendorf</td><td>BL</td></tr>",
                            "<tr><td>Liestal</td><td>BL</td></tr>",
                            "<tr><td>Seltisberg</td><td>BL</td></tr>",
                            "<tr><td>Nuglar</td><td>SO</td></tr>",
                            "<tr><td>Büren SO</td><td>SO</td></tr>",
                            "<tr><td>Füllinsdorf</td><td>BL</td></tr>",
                            "<tr><td>Lausen</td><td>BL</td></tr>",
                            "<tr><td>Bubendorf</td><td>BL</td></tr>",
                            "<tr><td>Ziefen</td><td>BL</td></tr>",
                            "<tr><td>Reigoldswil</td><td>BL</td></tr>",
                            "<tr><td>Lupsingen</td><td>BL</td></tr>",
                            "<tr><td>St. Pantaleon</td><td>SO</td></tr>",
                            "<tr><td>Arisdorf</td><td>BL</td></tr>",
                            "<tr><td>Hersberg</td><td>BL</td></tr>",
                            "<tr><td>Arboldswil</td><td>BL</td></tr>",
                            "<tr><td>Titterten</td><td>BL</td></tr>",
                            "<tr><td>Lauwil</td><td>BL</td></tr>",
                            "<tr><td>Bennwil</td><td>BL</td></tr>",
                            "<tr><td>Lampenberg</td><td>BL</td></tr>",
                            "<tr><td>Ramlinsburg</td><td>BL</td></tr>",
                            "<tr><td>Hölstein</td><td>BL</td></tr>",
                            "<tr><td>Niederdorf</td><td>BL</td></tr>",
                            "<tr><td>Oberdorf BL</td><td>BL</td></tr>",
                            "<tr><td>Waldenburg</td><td>BL</td></tr>",
                            "<tr><td>Langenbruck</td><td>BL</td></tr>",
                            "<tr><td>Thürnen</td><td>BL</td></tr>",
                            "<tr><td>Diepflingen</td><td>BL</td></tr>",
                            "<tr><td>Wittinsburg</td><td>BL</td></tr>",
                            "<tr><td>Rümlingen</td><td>BL</td></tr>",
                            "<tr><td>Häfelfingen</td><td>BL</td></tr>",
                            "<tr><td>Buckten</td><td>BL</td></tr>",
                            "<tr><td>Känerkinden</td><td>BL</td></tr>",
                            "<tr><td>Läufelfingen</td><td>BL</td></tr>",
                            "<tr><td>Sissach</td><td>BL</td></tr>",
                            "<tr><td>Wintersingen</td><td>BL</td></tr>",
                            "<tr><td>Itingen</td><td>BL</td></tr>",
                            "<tr><td>Nusshof</td><td>BL</td></tr>",
                            "<tr><td>Zunzgen</td><td>BL</td></tr>",
                            "<tr><td>Tenniken</td><td>BL</td></tr>",
                            "<tr><td>Diegten</td><td>BL</td></tr>",
                            "<tr><td>Eptingen</td><td>BL</td></tr>",
                            "<tr><td>Gelterkinden</td><td>BL</td></tr>",
                            "<tr><td>Böckten</td><td>BL</td></tr>",
                            "<tr><td>Hemmiken</td><td>BL</td></tr>",
                            "<tr><td>Anwil</td><td>BL</td></tr>",
                            "<tr><td>Rickenbach BL</td><td>BL</td></tr>",
                            "<tr><td>Buus</td><td>BL</td></tr>",
                            "<tr><td>Maisprach</td><td>BL</td></tr>",
                            "<tr><td>Ormalingen</td><td>BL</td></tr>",
                            "<tr><td>Rothenfluh</td><td>BL</td></tr>",
                            "<tr><td>Kienberg</td><td>SO</td></tr>",
                            "<tr><td>Tecknau</td><td>BL</td></tr>",
                            "<tr><td>Wenslingen</td><td>BL</td></tr>",
                            "<tr><td>Oltingen</td><td>BL</td></tr>",
                            "<tr><td>Zeglingen</td><td>BL</td></tr>",
                            "<tr><td>Kilchberg BL</td><td>BL</td></tr>",
                            "<tr><td>Rünenberg</td><td>BL</td></tr>",
                            "<tr><td>Solothurn</td><td>SO</td></tr>",
                            "<tr><td>Weissenstein b. Solothurn</td><td>SO</td></tr>",
                            "<tr><td>Balm b. Günsberg</td><td>SO</td></tr>",
                            "<tr><td>Niederwil SO</td><td>SO</td></tr>",
                            "<tr><td>Hubersdorf</td><td>SO</td></tr>",
                            "<tr><td>Rumisberg</td><td>BE</td></tr>",
                            "<tr><td>Farnern</td><td>BE</td></tr>",
                            "<tr><td>Horriwil</td><td>SO</td></tr>",
                            "<tr><td>Hersiwil</td><td>SO</td></tr>",
                            "<tr><td>Bellach</td><td>SO</td></tr>",
                            "<tr><td>Langendorf</td><td>SO</td></tr>",
                            "<tr><td>Lommiswil</td><td>SO</td></tr>",
                            "<tr><td>Oberdorf SO</td><td>SO</td></tr>",
                            "<tr><td>Rüttenen</td><td>SO</td></tr>",
                            "<tr><td>Günsberg</td><td>SO</td></tr>",
                            "<tr><td>Zuchwil</td><td>SO</td></tr>",
                            "<tr><td>Feldbrunnen</td><td>SO</td></tr>",
                            "<tr><td>Riedholz</td><td>SO</td></tr>",
                            "<tr><td>Flumenthal</td><td>SO</td></tr>",
                            "<tr><td>Attiswil</td><td>BE</td></tr>",
                            "<tr><td>Wiedlisbach</td><td>BE</td></tr>",
                            "<tr><td>Oberbipp</td><td>BE</td></tr>",
                            "<tr><td>Derendingen</td><td>SO</td></tr>",
                            "<tr><td>Subingen</td><td>SO</td></tr>",
                            "<tr><td>Etziken</td><td>SO</td></tr>",
                            "<tr><td>Inkwil</td><td>BE</td></tr>",
                            "<tr><td>Biberist</td><td>SO</td></tr>",
                            "<tr><td>Gerlafingen</td><td>SO</td></tr>",
                            "<tr><td>Obergerlafingen</td><td>SO</td></tr>",
                            "<tr><td>Zielebach</td><td>BE</td></tr>",
                            "<tr><td>Recherswil</td><td>SO</td></tr>",
                            "<tr><td>Kriegstetten</td><td>SO</td></tr>",
                            "<tr><td>Küttigkofen</td><td>SO</td></tr>",
                            "<tr><td>Kyburg-Buchegg</td><td>SO</td></tr>",
                            "<tr><td>Brügglen</td><td>SO</td></tr>",
                            "<tr><td>Mühledorf SO</td><td>SO</td></tr>",
                            "<tr><td>Gossliwil</td><td>SO</td></tr>",
                            "<tr><td>Bibern SO</td><td>SO</td></tr>",
                            "<tr><td>Ichertswil</td><td>SO</td></tr>",
                            "<tr><td>Tscheppach</td><td>SO</td></tr>",
                            "<tr><td>Hessigkofen</td><td>SO</td></tr>",
                            "<tr><td>Biezwil</td><td>SO</td></tr>",
                            "<tr><td>Aetingen</td><td>SO</td></tr>",
                            "<tr><td>Unterramsern</td><td>SO</td></tr>",
                            "<tr><td>Oberramsern</td><td>SO</td></tr>",
                            "<tr><td>Nennigkofen</td><td>SO</td></tr>",
                            "<tr><td>Lüsslingen</td><td>SO</td></tr>",
                            "<tr><td>Olten</td><td>SO</td></tr>",
                            "<tr><td>Wangen b. Olten</td><td>SO</td></tr>",
                            "<tr><td>Rickenbach SO</td><td>SO</td></tr>",
                            "<tr><td>Hägendorf</td><td>SO</td></tr>",
                            "<tr><td>Kappel SO</td><td>SO</td></tr>",
                            "<tr><td>Gunzgen</td><td>SO</td></tr>",
                            "<tr><td>Boningen</td><td>SO</td></tr>",
                            "<tr><td>Egerkingen</td><td>SO</td></tr>",
                            "<tr><td>Neuendorf</td><td>SO</td></tr>",
                            "<tr><td>Härkingen</td><td>SO</td></tr>",
                            "<tr><td>Oberbuchsiten</td><td>SO</td></tr>",
                            "<tr><td>Niederbuchsiten</td><td>SO</td></tr>",
                            "<tr><td>Trimbach</td><td>SO</td></tr>",
                            "<tr><td>Winznau</td><td>SO</td></tr>",
                            "<tr><td>Obergösgen</td><td>SO</td></tr>",
                            "<tr><td>Lostorf</td><td>SO</td></tr>",
                            "<tr><td>Stüsslingen</td><td>SO</td></tr>",
                            "<tr><td>Rohr b. Olten</td><td>SO</td></tr>",
                            "<tr><td>Starrkirch-Wil</td><td>SO</td></tr>",
                            "<tr><td>Dulliken</td><td>SO</td></tr>",
                            "<tr><td>Däniken SO</td><td>SO</td></tr>",
                            "<tr><td>Aarburg</td><td>AG</td></tr>",
                            "<tr><td>Oftringen</td><td>AG</td></tr>",
                            "<tr><td>Allerheiligenberg</td><td>SO</td></tr>",
                            "<tr><td>Hauenstein</td><td>SO</td></tr>",
                            "<tr><td>Wisen SO</td><td>SO</td></tr>",
                            "<tr><td>Oensingen</td><td>SO</td></tr>",
                            "<tr><td>Kestenholz</td><td>SO</td></tr>",
                            "<tr><td>Niederbipp</td><td>BE</td></tr>",
                            "<tr><td>Wangen an der Aare</td><td>BE</td></tr>",
                            "<tr><td>Walliswil b. Wangen</td><td>BE</td></tr>",
                            "<tr><td>Deitingen</td><td>SO</td></tr>",
                            "<tr><td>Luterbach</td><td>SO</td></tr>",
                            "<tr><td>Balsthal</td><td>SO</td></tr>",
                            "<tr><td>Aedermannsdorf</td><td>SO</td></tr>",
                            "<tr><td>Herbetswil</td><td>SO</td></tr>",
                            "<tr><td>Ramiswil</td><td>SO</td></tr>",
                            "<tr><td>Laupersdorf</td><td>SO</td></tr>",
                            "<tr><td>Matzendorf</td><td>SO</td></tr>",
                            "<tr><td>Welschenrohr</td><td>SO</td></tr>",
                            "<tr><td>Gänsbrunnen</td><td>SO</td></tr>",
                            "<tr><td>Mümliswil</td><td>SO</td></tr>",
                            "<tr><td>Holderbank SO</td><td>SO</td></tr>",
                            "<tr><td>Zofingen</td><td>AG</td></tr>",
                            "<tr><td>Strengelbach</td><td>AG</td></tr>",
                            "<tr><td>Vordemwald</td><td>AG</td></tr>",
                            "<tr><td>Brittnau</td><td>AG</td></tr>",
                            "<tr><td>Wikon</td><td>LU</td></tr>",
                            "<tr><td>Mühlethal</td><td>AG</td></tr>",
                            "<tr><td>Uerkheim</td><td>AG</td></tr>",
                            "<tr><td>Bottenwil</td><td>AG</td></tr>",
                            "<tr><td>Rothrist</td><td>AG</td></tr>",
                            "<tr><td>Murgenthal</td><td>AG</td></tr>",
                            "<tr><td>Fulenbach</td><td>SO</td></tr>",
                            "<tr><td>Wolfwil</td><td>SO</td></tr>",
                            "<tr><td>Glashütten</td><td>AG</td></tr>",
                            "<tr><td>Riken AG</td><td>AG</td></tr>",
                            "<tr><td>Langenthal</td><td>BE</td></tr>",
                            "<tr><td>Schwarzhäusern</td><td>BE</td></tr>",
                            "<tr><td>Aarwangen</td><td>BE</td></tr>",
                            "<tr><td>Bannwil</td><td>BE</td></tr>",
                            "<tr><td>Roggwil BE</td><td>BE</td></tr>",
                            "<tr><td>St. Urban</td><td>LU</td></tr>",
                            "<tr><td>Untersteckholz</td><td>BE</td></tr>",
                            "<tr><td>Melchnau</td><td>BE</td></tr>",
                            "<tr><td>Busswil b. Melchnau</td><td>BE</td></tr>",
                            "<tr><td>Gondiswil</td><td>BE</td></tr>",
                            "<tr><td>Reisiswil</td><td>BE</td></tr>",
                            "<tr><td>Bützberg</td><td>BE</td></tr>",
                            "<tr><td>Wynau</td><td>BE</td></tr>",
                            "<tr><td>Obersteckholz</td><td>BE</td></tr>",
                            "<tr><td>Lotzwil</td><td>BE</td></tr>",
                            "<tr><td>Rütschelen</td><td>BE</td></tr>",
                            "<tr><td>Madiswil</td><td>BE</td></tr>",
                            "<tr><td>Leimiswil</td><td>BE</td></tr>",
                            "<tr><td>Kleindietwil</td><td>BE</td></tr>",
                            "<tr><td>Ursenbach</td><td>BE</td></tr>",
                            "<tr><td>Rohrbach</td><td>BE</td></tr>",
                            "<tr><td>Walterswil BE</td><td>BE</td></tr>",
                            "<tr><td>Oeschenbach</td><td>BE</td></tr>",
                            "<tr><td>Auswil</td><td>BE</td></tr>",
                            "<tr><td>Rohrbachgraben</td><td>BE</td></tr>",
                            "<tr><td>Huttwil</td><td>BE</td></tr>",
                            "<tr><td>Eriswil</td><td>BE</td></tr>",
                            "<tr><td>Schwarzenbach (Huttwil)</td><td>BE</td></tr>",
                            "<tr><td>Wyssachen</td><td>BE</td></tr>",
                            "<tr><td>Aarau</td><td>AG</td></tr>",
                            "<tr><td>Aarau</td><td>AG</td></tr>",
                            "<tr><td>Schönenwerd</td><td>SO</td></tr>",
                            "<tr><td>Niedergösgen</td><td>SO</td></tr>",
                            "<tr><td>Gretzenbach</td><td>SO</td></tr>",
                            "<tr><td>Erlinsbach SO</td><td>SO</td></tr>",
                            "<tr><td>Barmelweid</td><td>AG</td></tr>",
                            "<tr><td>Rombach</td><td>AG</td></tr>",
                            "<tr><td>Biberstein</td><td>AG</td></tr>",
                            "<tr><td>Küttigen</td><td>AG</td></tr>",
                            "<tr><td>Asp</td><td>AG</td></tr>",
                            "<tr><td>Densbüren</td><td>AG</td></tr>",
                            "<tr><td>Herznach</td><td>AG</td></tr>",
                            "<tr><td>Ueken</td><td>AG</td></tr>",
                            "<tr><td>Aarau Rohr</td><td>AG</td></tr>",
                            "<tr><td>Buchs AG</td><td>AG</td></tr>",
                            "<tr><td>Suhr</td><td>AG</td></tr>",
                            "<tr><td>Unterentfelden</td><td>AG</td></tr>",
                            "<tr><td>Oberentfelden</td><td>AG</td></tr>",
                            "<tr><td>Muhen</td><td>AG</td></tr>",
                            "<tr><td>Schöftland</td><td>AG</td></tr>",
                            "<tr><td>Hirschthal</td><td>AG</td></tr>",
                            "<tr><td>Holziken</td><td>AG</td></tr>",
                            "<tr><td>Schlossrued</td><td>AG</td></tr>",
                            "<tr><td>Schmiedrued</td><td>AG</td></tr>",
                            "<tr><td>Walde AG</td><td>AG</td></tr>",
                            "<tr><td>Staffelbach</td><td>AG</td></tr>",
                            "<tr><td>Kirchleerau</td><td>AG</td></tr>",
                            "<tr><td>Moosleerau</td><td>AG</td></tr>",
                            "<tr><td>Attelwil</td><td>AG</td></tr>",
                            "<tr><td>Reitnau</td><td>AG</td></tr>",
                            "<tr><td>Rupperswil</td><td>AG</td></tr>",
                            "<tr><td>Wildegg</td><td>AG</td></tr>",
                            "<tr><td>Auenstein</td><td>AG</td></tr>",
                            "<tr><td>Veltheim AG</td><td>AG</td></tr>",
                            "<tr><td>Schinznach Dorf</td><td>AG</td></tr>",
                            "<tr><td>Oberflachs</td><td>AG</td></tr>",
                            "<tr><td>Thalheim AG</td><td>AG</td></tr>",
                            "<tr><td>Holderbank AG</td><td>AG</td></tr>",
                            "<tr><td>Möriken AG</td><td>AG</td></tr>",
                            "<tr><td>Schinznach Bad</td><td>AG</td></tr>",
                            "<tr><td>Habsburg</td><td>AG</td></tr>",
                            "<tr><td>Scherz</td><td>AG</td></tr>",
                            "<tr><td>Brugg AG</td><td>AG</td></tr>",
                            "<tr><td>Windisch</td><td>AG</td></tr>",
                            "<tr><td>Hausen AG</td><td>AG</td></tr>",
                            "<tr><td>Villnachern</td><td>AG</td></tr>",
                            "<tr><td>Umiken</td><td>AG</td></tr>",
                            "<tr><td>Riniken</td><td>AG</td></tr>",
                            "<tr><td>Stilli</td><td>AG</td></tr>",
                            "<tr><td>Villigen</td><td>AG</td></tr>",
                            "<tr><td>Rüfenach AG</td><td>AG</td></tr>",
                            "<tr><td>Remigen</td><td>AG</td></tr>",
                            "<tr><td>Mönthal</td><td>AG</td></tr>",
                            "<tr><td>Birr</td><td>AG</td></tr>",
                            "<tr><td>Lupfig</td><td>AG</td></tr>",
                            "<tr><td>Mülligen</td><td>AG</td></tr>",
                            "<tr><td>Birrhard</td><td>AG</td></tr>",
                            "<tr><td>Effingen</td><td>AG</td></tr>",
                            "<tr><td>Bözen</td><td>AG</td></tr>",
                            "<tr><td>Elfingen</td><td>AG</td></tr>",
                            "<tr><td>Zeihen</td><td>AG</td></tr>",
                            "<tr><td>Hornussen</td><td>AG</td></tr>",
                            "<tr><td>Frick</td><td>AG</td></tr>",
                            "<tr><td>Oeschgen</td><td>AG</td></tr>",
                            "<tr><td>Gipf-Oberfrick</td><td>AG</td></tr>",
                            "<tr><td>Wittnau</td><td>AG</td></tr>",
                            "<tr><td>Wölflinswil</td><td>AG</td></tr>",
                            "<tr><td>Oberhof</td><td>AG</td></tr>",
                            "<tr><td>Eiken</td><td>AG</td></tr>",
                            "<tr><td>Turgi</td><td>AG</td></tr>",
                            "<tr><td>Siggenthal Station</td><td>AG</td></tr>",
                            "<tr><td>Würenlingen</td><td>AG</td></tr>",
                            "<tr><td>Endingen</td><td>AG</td></tr>",
                            "<tr><td>Unterendingen</td><td>AG</td></tr>",
                            "<tr><td>Tegerfelden</td><td>AG</td></tr>",
                            "<tr><td>Döttingen</td><td>AG</td></tr>",
                            "<tr><td>Klingnau</td><td>AG</td></tr>",
                            "<tr><td>Kleindöttingen</td><td>AG</td></tr>",
                            "<tr><td>Böttstein</td><td>AG</td></tr>",
                            "<tr><td>Leuggern</td><td>AG</td></tr>",
                            "<tr><td>Hettenschwil</td><td>AG</td></tr>",
                            "<tr><td>Mandach</td><td>AG</td></tr>",
                            "<tr><td>Koblenz</td><td>AG</td></tr>",
                            "<tr><td>Baden</td><td>AG</td></tr>",
                            "<tr><td>Ennetbaden</td><td>AG</td></tr>",
                            "<tr><td>Baden</td><td>AG</td></tr>",
                            "<tr><td>Gebenstorf</td><td>AG</td></tr>",
                            "<tr><td>Birmenstorf AG</td><td>AG</td></tr>",
                            "<tr><td>Nussbaumen AG</td><td>AG</td></tr>",
                            "<tr><td>Kirchdorf AG</td><td>AG</td></tr>",
                            "<tr><td>Untersiggenthal</td><td>AG</td></tr>",
                            "<tr><td>Ehrendingen</td><td>AG</td></tr>",
                            "<tr><td>Freienwil</td><td>AG</td></tr>",
                            "<tr><td>Schneisingen</td><td>AG</td></tr>",
                            "<tr><td>Lengnau AG</td><td>AG</td></tr>",
                            "<tr><td>Wettingen</td><td>AG</td></tr>",
                            "<tr><td>Neuenhof</td><td>AG</td></tr>",
                            "<tr><td>Fislisbach</td><td>AG</td></tr>",
                            "<tr><td>Niederrohrdorf</td><td>AG</td></tr>",
                            "<tr><td>Künten</td><td>AG</td></tr>",
                            "<tr><td>Eggenwil</td><td>AG</td></tr>",
                            "<tr><td>Oberrohrdorf</td><td>AG</td></tr>",
                            "<tr><td>Remetschwil</td><td>AG</td></tr>",
                            "<tr><td>Bellikon</td><td>AG</td></tr>",
                            "<tr><td>Hunzenschwil</td><td>AG</td></tr>",
                            "<tr><td>Schafisheim</td><td>AG</td></tr>",
                            "<tr><td>Othmarsingen</td><td>AG</td></tr>",
                            "<tr><td>Brunegg</td><td>AG</td></tr>",
                            "<tr><td>Mägenwil</td><td>AG</td></tr>",
                            "<tr><td>Mellingen</td><td>AG</td></tr>",
                            "<tr><td>Wohlenschwil</td><td>AG</td></tr>",
                            "<tr><td>Tägerig</td><td>AG</td></tr>",
                            "<tr><td>Nesselnbach</td><td>AG</td></tr>",
                            "<tr><td>Niederwil AG</td><td>AG</td></tr>",
                            "<tr><td>Fischbach-Göslikon</td><td>AG</td></tr>",
                            "<tr><td>Lenzburg</td><td>AG</td></tr>",
                            "<tr><td>Ammerswil AG</td><td>AG</td></tr>",
                            "<tr><td>Staufen</td><td>AG</td></tr>",
                            "<tr><td>Hendschiken</td><td>AG</td></tr>",
                            "<tr><td>Dottikon</td><td>AG</td></tr>",
                            "<tr><td>Dintikon</td><td>AG</td></tr>",
                            "<tr><td>Hägglingen</td><td>AG</td></tr>",
                            "<tr><td>Stetten AG</td><td>AG</td></tr>",
                            "<tr><td>Wohlen AG</td><td>AG</td></tr>",
                            "<tr><td>Anglikon</td><td>AG</td></tr>",
                            "<tr><td>Büttikon AG</td><td>AG</td></tr>",
                            "<tr><td>Villmergen</td><td>AG</td></tr>",
                            "<tr><td>Hilfikon</td><td>AG</td></tr>",
                            "<tr><td>Sarmenstorf</td><td>AG</td></tr>",
                            "<tr><td>Fahrwangen</td><td>AG</td></tr>",
                            "<tr><td>Meisterschwanden</td><td>AG</td></tr>",
                            "<tr><td>Tennwil</td><td>AG</td></tr>",
                            "<tr><td>Bettwil</td><td>AG</td></tr>",
                            "<tr><td>Bremgarten AG</td><td>AG</td></tr>",
                            "<tr><td>Zufikon</td><td>AG</td></tr>",
                            "<tr><td>Waltenschwil</td><td>AG</td></tr>",
                            "<tr><td>Boswil</td><td>AG</td></tr>",
                            "<tr><td>Bünzen</td><td>AG</td></tr>",
                            "<tr><td>Kallern</td><td>AG</td></tr>",
                            "<tr><td>Hermetschwil-Staffeln</td><td>AG</td></tr>",
                            "<tr><td>Besenbüren</td><td>AG</td></tr>",
                            "<tr><td>Aristau</td><td>AG</td></tr>",
                            "<tr><td>Muri AG</td><td>AG</td></tr>",
                            "<tr><td>Buttwil</td><td>AG</td></tr>",
                            "<tr><td>Merenschwand</td><td>AG</td></tr>",
                            "<tr><td>Benzenschwil</td><td>AG</td></tr>",
                            "<tr><td>Beinwil (Freiamt)</td><td>AG</td></tr>",
                            "<tr><td>Mühlau</td><td>AG</td></tr>",
                            "<tr><td>Sins</td><td>AG</td></tr>",
                            "<tr><td>Auw</td><td>AG</td></tr>",
                            "<tr><td>Aettenschwil</td><td>AG</td></tr>",
                            "<tr><td>Abtwil AG</td><td>AG</td></tr>",
                            "<tr><td>Oberrüti</td><td>AG</td></tr>",
                            "<tr><td>Alikon</td><td>AG</td></tr>",
                            "<tr><td>Niederlenz</td><td>AG</td></tr>",
                            "<tr><td>Seon</td><td>AG</td></tr>",
                            "<tr><td>Egliswil</td><td>AG</td></tr>",
                            "<tr><td>Hallwil</td><td>AG</td></tr>",
                            "<tr><td>Boniswil</td><td>AG</td></tr>",
                            "<tr><td>Seengen</td><td>AG</td></tr>",
                            "<tr><td>Birrwil</td><td>AG</td></tr>",
                            "<tr><td>Beinwil am See</td><td>AG</td></tr>",
                            "<tr><td>Gränichen</td><td>AG</td></tr>",
                            "<tr><td>Teufenthal AG</td><td>AG</td></tr>",
                            "<tr><td>Dürrenäsch</td><td>AG</td></tr>",
                            "<tr><td>Leutwil</td><td>AG</td></tr>",
                            "<tr><td>Unterkulm</td><td>AG</td></tr>",
                            "<tr><td>Oberkulm</td><td>AG</td></tr>",
                            "<tr><td>Gontenschwil</td><td>AG</td></tr>",
                            "<tr><td>Zetzwil</td><td>AG</td></tr>",
                            "<tr><td>Leimbach AG</td><td>AG</td></tr>",
                            "<tr><td>Reinach AG</td><td>AG</td></tr>",
                            "<tr><td>Pfeffikon LU</td><td>LU</td></tr>",
                            "<tr><td>Burg AG</td><td>AG</td></tr>",
                            "<tr><td>Menziken</td><td>AG</td></tr>",
                            "<tr><td>Kölliken</td><td>AG</td></tr>",
                            "<tr><td>Safenwil</td><td>AG</td></tr>",
                            "<tr><td>Walterswil SO</td><td>SO</td></tr>",
                            "<tr><td>Luzern</td><td>LU</td></tr>",
                            "<tr><td>Luzern</td><td>LU</td></tr>",
                            "<tr><td>Luzern</td><td>LU</td></tr>",
                            "<tr><td>Luzern</td><td>LU</td></tr>",
                            "<tr><td>Luzern</td><td>LU</td></tr>",
                            "<tr><td>Kriens</td><td>LU</td></tr>",
                            "<tr><td>Obernau</td><td>LU</td></tr>",
                            "<tr><td>Eigenthal</td><td>LU</td></tr>",
                            "<tr><td>Luzern</td><td>LU</td></tr>",
                            "<tr><td>Luzern</td><td>LU</td></tr>",
                            "<tr><td>Hellbühl</td><td>LU</td></tr>",
                            "<tr><td>Ruswil</td><td>LU</td></tr>",
                            "<tr><td>Sigigen</td><td>LU</td></tr>",
                            "<tr><td>Buttisholz</td><td>LU</td></tr>",
                            "<tr><td>Emmenbrücke</td><td>LU</td></tr>",
                            "<tr><td>Grosswangen</td><td>LU</td></tr>",
                            "<tr><td>Rothenburg</td><td>LU</td></tr>",
                            "<tr><td>Hildisrieden</td><td>LU</td></tr>",
                            "<tr><td>Neudorf</td><td>LU</td></tr>",
                            "<tr><td>Rain</td><td>LU</td></tr>",
                            "<tr><td>Römerswil LU</td><td>LU</td></tr>",
                            "<tr><td>Herlisberg</td><td>LU</td></tr>",
                            "<tr><td>Ebikon</td><td>LU</td></tr>",
                            "<tr><td>Emmen</td><td>LU</td></tr>",
                            "<tr><td>Buchrain</td><td>LU</td></tr>",
                            "<tr><td>Inwil</td><td>LU</td></tr>",
                            "<tr><td>Perlen</td><td>LU</td></tr>",
                            "<tr><td>Dierikon</td><td>LU</td></tr>",
                            "<tr><td>Root</td><td>LU</td></tr>",
                            "<tr><td>Gisikon</td><td>LU</td></tr>",
                            "<tr><td>Dietwil</td><td>AG</td></tr>",
                            "<tr><td>Adligenswil</td><td>LU</td></tr>",
                            "<tr><td>Udligenswil</td><td>LU</td></tr>",
                            "<tr><td>Meggen</td><td>LU</td></tr>",
                            "<tr><td>Kastanienbaum</td><td>LU</td></tr>",
                            "<tr><td>Horw</td><td>LU</td></tr>",
                            "<tr><td>Hergiswil NW</td><td>NW</td></tr>",
                            "<tr><td>Alpnachstad</td><td>OW</td></tr>",
                            "<tr><td>Alpnach Dorf</td><td>OW</td></tr>",
                            "<tr><td>Kägiswil</td><td>OW</td></tr>",
                            "<tr><td>Sarnen</td><td>OW</td></tr>",
                            "<tr><td>Ramersberg</td><td>OW</td></tr>",
                            "<tr><td>Melchsee-Frutt</td><td>OW</td></tr>",
                            "<tr><td>Wilen (Sarnen)</td><td>OW</td></tr>",
                            "<tr><td>Stalden (Sarnen)</td><td>OW</td></tr>",
                            "<tr><td>Kerns</td><td>OW</td></tr>",
                            "<tr><td>St. Niklausen OW</td><td>OW</td></tr>",
                            "<tr><td>Melchtal</td><td>OW</td></tr>",
                            "<tr><td>Sachseln</td><td>OW</td></tr>",
                            "<tr><td>Flüeli-Ranft</td><td>OW</td></tr>",
                            "<tr><td>Giswil</td><td>OW</td></tr>",
                            "<tr><td>Bürglen OW</td><td>OW</td></tr>",
                            "<tr><td>Lungern</td><td>OW</td></tr>",
                            "<tr><td>Brünig</td><td>BE</td></tr>",
                            "<tr><td>Hasliberg Hohfluh</td><td>BE</td></tr>",
                            "<tr><td>Hasliberg Wasserwendi</td><td>BE</td></tr>",
                            "<tr><td>Hasliberg Goldern</td><td>BE</td></tr>",
                            "<tr><td>Hasliberg Reuti</td><td>BE</td></tr>",
                            "<tr><td>Pilatus Kulm</td><td>OW</td></tr>",
                            "<tr><td>Malters</td><td>LU</td></tr>",
                            "<tr><td>Schwarzenberg LU</td><td>LU</td></tr>",
                            "<tr><td>Schachen LU</td><td>LU</td></tr>",
                            "<tr><td>Werthenstein</td><td>LU</td></tr>",
                            "<tr><td>Wolhusen</td><td>LU</td></tr>",
                            "<tr><td>Steinhuserberg</td><td>LU</td></tr>",
                            "<tr><td>Fontannen b. Wolhusen</td><td>LU</td></tr>",
                            "<tr><td>Doppleschwand</td><td>LU</td></tr>",
                            "<tr><td>Romoos</td><td>LU</td></tr>",
                            "<tr><td>Menznau</td><td>LU</td></tr>",
                            "<tr><td>Geiss</td><td>LU</td></tr>",
                            "<tr><td>Menzberg</td><td>LU</td></tr>",
                            "<tr><td>Daiwil</td><td>LU</td></tr>",
                            "<tr><td>Willisau</td><td>LU</td></tr>",
                            "<tr><td>Rohrmatt</td><td>LU</td></tr>",
                            "<tr><td>Hergiswil b. Willisau</td><td>LU</td></tr>",
                            "<tr><td>Gettnau</td><td>LU</td></tr>",
                            "<tr><td>Ohmstal</td><td>LU</td></tr>",
                            "<tr><td>Zell LU</td><td>LU</td></tr>",
                            "<tr><td>Fischbach LU</td><td>LU</td></tr>",
                            "<tr><td>Grossdietwil</td><td>LU</td></tr>",
                            "<tr><td>Altbüron</td><td>LU</td></tr>",
                            "<tr><td>Hüswil</td><td>LU</td></tr>",
                            "<tr><td>Ufhusen</td><td>LU</td></tr>",
                            "<tr><td>Hofstatt</td><td>LU</td></tr>",
                            "<tr><td>Luthern</td><td>LU</td></tr>",
                            "<tr><td>Entlebuch</td><td>LU</td></tr>",
                            "<tr><td>Ebnet</td><td>LU</td></tr>",
                            "<tr><td>Rengg</td><td>LU</td></tr>",
                            "<tr><td>Finsterwald b. Entlebuch</td><td>LU</td></tr>",
                            "<tr><td>Hasle LU</td><td>LU</td></tr>",
                            "<tr><td>Bramboden</td><td>LU</td></tr>",
                            "<tr><td>Schüpfheim</td><td>LU</td></tr>",
                            "<tr><td>Flühli LU</td><td>LU</td></tr>",
                            "<tr><td>Sörenberg</td><td>LU</td></tr>",
                            "<tr><td>Escholzmatt</td><td>LU</td></tr>",
                            "<tr><td>Wiggen</td><td>LU</td></tr>",
                            "<tr><td>Marbach LU</td><td>LU</td></tr>",
                            "<tr><td>Schangnau</td><td>BE</td></tr>",
                            "<tr><td>Sempach Station</td><td>LU</td></tr>",
                            "<tr><td>Sempach</td><td>LU</td></tr>",
                            "<tr><td>Eich</td><td>LU</td></tr>",
                            "<tr><td>Neuenkirch</td><td>LU</td></tr>",
                            "<tr><td>Nottwil</td><td>LU</td></tr>",
                            "<tr><td>Oberkirch LU</td><td>LU</td></tr>",
                            "<tr><td>Sursee</td><td>LU</td></tr>",
                            "<tr><td>Buchs LU</td><td>LU</td></tr>",
                            "<tr><td>St. Erhard</td><td>LU</td></tr>",
                            "<tr><td>Knutwil</td><td>LU</td></tr>",
                            "<tr><td>Schenkon</td><td>LU</td></tr>",
                            "<tr><td>Beromünster</td><td>LU</td></tr>",
                            "<tr><td>Schwarzenbach LU</td><td>LU</td></tr>",
                            "<tr><td>Mauensee</td><td>LU</td></tr>",
                            "<tr><td>Kottwil</td><td>LU</td></tr>",
                            "<tr><td>Ettiswil</td><td>LU</td></tr>",
                            "<tr><td>Rickenbach LU</td><td>LU</td></tr>",
                            "<tr><td>Gunzwil</td><td>LU</td></tr>",
                            "<tr><td>Schlierbach</td><td>LU</td></tr>",
                            "<tr><td>Geuensee</td><td>LU</td></tr>",
                            "<tr><td>Büron</td><td>LU</td></tr>",
                            "<tr><td>Triengen</td><td>LU</td></tr>",
                            "<tr><td>Kulmerau</td><td>LU</td></tr>",
                            "<tr><td>Wilihof</td><td>LU</td></tr>",
                            "<tr><td>Winikon</td><td>LU</td></tr>",
                            "<tr><td>Wauwil</td><td>LU</td></tr>",
                            "<tr><td>Egolzwil</td><td>LU</td></tr>",
                            "<tr><td>Nebikon</td><td>LU</td></tr>",
                            "<tr><td>Ebersecken</td><td>LU</td></tr>",
                            "<tr><td>Altishofen</td><td>LU</td></tr>",
                            "<tr><td>Schötz</td><td>LU</td></tr>",
                            "<tr><td>Alberswil</td><td>LU</td></tr>",
                            "<tr><td>Dagmersellen</td><td>LU</td></tr>",
                            "<tr><td>Uffikon</td><td>LU</td></tr>",
                            "<tr><td>Reiden</td><td>LU</td></tr>",
                            "<tr><td>Reidermoos</td><td>LU</td></tr>",
                            "<tr><td>Langnau b. Reiden</td><td>LU</td></tr>",
                            "<tr><td>Richenthal</td><td>LU</td></tr>",
                            "<tr><td>Pfaffnau</td><td>LU</td></tr>",
                            "<tr><td>Roggliswil</td><td>LU</td></tr>",
                            "<tr><td>Eschenbach LU</td><td>LU</td></tr>",
                            "<tr><td>Ballwil</td><td>LU</td></tr>",
                            "<tr><td>Hohenrain</td><td>LU</td></tr>",
                            "<tr><td>Kleinwangen</td><td>LU</td></tr>",
                            "<tr><td>Hochdorf</td><td>LU</td></tr>",
                            "<tr><td>Urswil</td><td>LU</td></tr>",
                            "<tr><td>Baldegg</td><td>LU</td></tr>",
                            "<tr><td>Gelfingen</td><td>LU</td></tr>",
                            "<tr><td>Hitzkirch</td><td>LU</td></tr>",
                            "<tr><td>Retschwil</td><td>LU</td></tr>",
                            "<tr><td>Müswangen</td><td>LU</td></tr>",
                            "<tr><td>Altwis</td><td>LU</td></tr>",
                            "<tr><td>Aesch LU</td><td>LU</td></tr>",
                            "<tr><td>Schongau</td><td>LU</td></tr>",
                            "<tr><td>Ermensee</td><td>LU</td></tr>",
                            "<tr><td>Mosen</td><td>LU</td></tr>",
                            "<tr><td>Zug</td><td>ZG</td></tr>",
                            "<tr><td>Edlibach</td><td>ZG</td></tr>",
                            "<tr><td>Finstersee</td><td>ZG</td></tr>",
                            "<tr><td>Allenwinden</td><td>ZG</td></tr>",
                            "<tr><td>Morgarten</td><td>ZG</td></tr>",
                            "<tr><td>Steinhausen</td><td>ZG</td></tr>",
                            "<tr><td>Menzingen</td><td>ZG</td></tr>",
                            "<tr><td>Unterägeri</td><td>ZG</td></tr>",
                            "<tr><td>Neuägeri</td><td>ZG</td></tr>",
                            "<tr><td>Oberägeri</td><td>ZG</td></tr>",
                            "<tr><td>Alosen</td><td>ZG</td></tr>",
                            "<tr><td>Zugerberg</td><td>ZG</td></tr>",
                            "<tr><td>Oberwil b. Zug</td><td>ZG</td></tr>",
                            "<tr><td>Walchwil</td><td>ZG</td></tr>",
                            "<tr><td>Cham</td><td>ZG</td></tr>",
                            "<tr><td>Hünenberg</td><td>ZG</td></tr>",
                            "<tr><td>Hagendorn</td><td>ZG</td></tr>",
                            "<tr><td>Baar</td><td>ZG</td></tr>",
                            "<tr><td>Rotkreuz</td><td>ZG</td></tr>",
                            "<tr><td>Meierskappel</td><td>LU</td></tr>",
                            "<tr><td>Neuheim</td><td>ZG</td></tr>",
                            "<tr><td>Weggis</td><td>LU</td></tr>",
                            "<tr><td>Vitznau</td><td>LU</td></tr>",
                            "<tr><td>Rigi Kaltbad</td><td>LU</td></tr>",
                            "<tr><td>Stansstad</td><td>NW</td></tr>",
                            "<tr><td>Obbürgen</td><td>NW</td></tr>",
                            "<tr><td>Kehrsiten</td><td>NW</td></tr>",
                            "<tr><td>Stans</td><td>NW</td></tr>",
                            "<tr><td>Ennetmoos</td><td>NW</td></tr>",
                            "<tr><td>Ennetbürgen</td><td>NW</td></tr>",
                            "<tr><td>Buochs</td><td>NW</td></tr>",
                            "<tr><td>Beckenried</td><td>NW</td></tr>",
                            "<tr><td>Emmetten</td><td>NW</td></tr>",
                            "<tr><td>Seelisberg</td><td>UR</td></tr>",
                            "<tr><td>Büren NW</td><td>NW</td></tr>",
                            "<tr><td>Dallenwil</td><td>NW</td></tr>",
                            "<tr><td>Niederrickenbach</td><td>NW</td></tr>",
                            "<tr><td>Wolfenschiessen</td><td>NW</td></tr>",
                            "<tr><td>Oberrickenbach</td><td>NW</td></tr>",
                            "<tr><td>Grafenort</td><td>OW</td></tr>",
                            "<tr><td>Engelberg</td><td>OW</td></tr>",
                            "<tr><td>Merlischachen</td><td>SZ</td></tr>",
                            "<tr><td>Küssnacht am Rigi</td><td>SZ</td></tr>",
                            "<tr><td>Greppen</td><td>LU</td></tr>",
                            "<tr><td>Immensee</td><td>SZ</td></tr>",
                            "<tr><td>Goldau</td><td>SZ</td></tr>",
                            "<tr><td>Rigi Klösterli</td><td>SZ</td></tr>",
                            "<tr><td>Rigi Staffel</td><td>SZ</td></tr>",
                            "<tr><td>Rigi Kulm</td><td>SZ</td></tr>",
                            "<tr><td>Oberarth</td><td>SZ</td></tr>",
                            "<tr><td>Arth</td><td>SZ</td></tr>",
                            "<tr><td>Steinerberg</td><td>SZ</td></tr>",
                            "<tr><td>Sattel</td><td>SZ</td></tr>",
                            "<tr><td>Rothenthurm</td><td>SZ</td></tr>",
                            "<tr><td>Steinen</td><td>SZ</td></tr>",
                            "<tr><td>Seewen SZ</td><td>SZ</td></tr>",
                            "<tr><td>Lauerz</td><td>SZ</td></tr>",
                            "<tr><td>Schwyz</td><td>SZ</td></tr>",
                            "<tr><td>Ried (Muotathal)</td><td>SZ</td></tr>",
                            "<tr><td>Rickenbach b. Schwyz</td><td>SZ</td></tr>",
                            "<tr><td>Stoos SZ</td><td>SZ</td></tr>",
                            "<tr><td>Illgau</td><td>SZ</td></tr>",
                            "<tr><td>Muotathal</td><td>SZ</td></tr>",
                            "<tr><td>Bisisthal</td><td>SZ</td></tr>",
                            "<tr><td>Ibach</td><td>SZ</td></tr>",
                            "<tr><td>Brunnen</td><td>SZ</td></tr>",
                            "<tr><td>Rütli</td><td>UR</td></tr>",
                            "<tr><td>Gersau</td><td>SZ</td></tr>",
                            "<tr><td>Morschach</td><td>SZ</td></tr>",
                            "<tr><td>Sisikon</td><td>UR</td></tr>",
                            "<tr><td>Riemenstalden</td><td>SZ</td></tr>",
                            "<tr><td>Flüelen</td><td>UR</td></tr>",
                            "<tr><td>Altdorf UR</td><td>UR</td></tr>",
                            "<tr><td>Isenthal</td><td>UR</td></tr>",
                            "<tr><td>Seedorf UR</td><td>UR</td></tr>",
                            "<tr><td>Bürglen UR</td><td>UR</td></tr>",
                            "<tr><td>Spiringen</td><td>UR</td></tr>",
                            "<tr><td>Unterschächen</td><td>UR</td></tr>",
                            "<tr><td>Bauen</td><td>UR</td></tr>",
                            "<tr><td>Schattdorf</td><td>UR</td></tr>",
                            "<tr><td>Haldi b. Schattdorf</td><td>UR</td></tr>",
                            "<tr><td>Attinghausen</td><td>UR</td></tr>",
                            "<tr><td>Erstfeld</td><td>UR</td></tr>",
                            "<tr><td>Silenen</td><td>UR</td></tr>",
                            "<tr><td>Amsteg</td><td>UR</td></tr>",
                            "<tr><td>Bristen</td><td>UR</td></tr>",
                            "<tr><td>Intschi</td><td>UR</td></tr>",
                            "<tr><td>Gurtnellen</td><td>UR</td></tr>",
                            "<tr><td>Wassen UR</td><td>UR</td></tr>",
                            "<tr><td>Meien</td><td>UR</td></tr>",
                            "<tr><td>Göschenen</td><td>UR</td></tr>",
                            "<tr><td>Andermatt</td><td>UR</td></tr>",
                            "<tr><td>Realp</td><td>UR</td></tr>",
                            "<tr><td>Hospental</td><td>UR</td></tr>",
                            "<tr><td>Bellinzona</td><td>TI</td></tr>",
                            "<tr><td>Bellinzona</td><td>TI</td></tr>",
                            "<tr><td>Giubiasco</td><td>TI</td></tr>",
                            "<tr><td>Monte Carasso</td><td>TI</td></tr>",
                            "<tr><td>Sementina</td><td>TI</td></tr>",
                            "<tr><td>Gudo</td><td>TI</td></tr>",
                            "<tr><td>Cugnasco</td><td>TI</td></tr>",
                            "<tr><td>Arbedo</td><td>TI</td></tr>",
                            "<tr><td>Gorduno</td><td>TI</td></tr>",
                            "<tr><td>Gnosca</td><td>TI</td></tr>",
                            "<tr><td>Prosito</td><td>TI</td></tr>",
                            "<tr><td>Lodrino</td><td>TI</td></tr>",
                            "<tr><td>Camorino</td><td>TI</td></tr>",
                            "<tr><td>Castione</td><td>TI</td></tr>",
                            "<tr><td>Lumino</td><td>TI</td></tr>",
                            "<tr><td>S. Vittore</td><td>GR</td></tr>",
                            "<tr><td>Roveredo GR</td><td>GR</td></tr>",
                            "<tr><td>Grono</td><td>GR</td></tr>",
                            "<tr><td>Preonzo</td><td>TI</td></tr>",
                            "<tr><td>Moleno</td><td>TI</td></tr>",
                            "<tr><td>Pianezzo</td><td>TI</td></tr>",
                            "<tr><td>S. Antonio (Val Morobbia)</td><td>TI</td></tr>",
                            "<tr><td>Carena</td><td>TI</td></tr>",
                            "<tr><td>Laura</td><td>GR</td></tr>",
                            "<tr><td>Castaneda</td><td>GR</td></tr>",
                            "<tr><td>Sta. Maria in Calanca</td><td>GR</td></tr>",
                            "<tr><td>Verdabbio</td><td>GR</td></tr>",
                            "<tr><td>Buseno</td><td>GR</td></tr>",
                            "<tr><td>Arvigo</td><td>GR</td></tr>",
                            "<tr><td>Braggio</td><td>GR</td></tr>",
                            "<tr><td>Selma</td><td>GR</td></tr>",
                            "<tr><td>Cauco</td><td>GR</td></tr>",
                            "<tr><td>Augio</td><td>GR</td></tr>",
                            "<tr><td>Rossa</td><td>GR</td></tr>",
                            "<tr><td>Leggia</td><td>GR</td></tr>",
                            "<tr><td>S. Bernardino</td><td>GR</td></tr>",
                            "<tr><td>Cama</td><td>GR</td></tr>",
                            "<tr><td>Lostallo</td><td>GR</td></tr>",
                            "<tr><td>Soazza</td><td>GR</td></tr>",
                            "<tr><td>Mesocco</td><td>GR</td></tr>",
                            "<tr><td>Quartino</td><td>TI</td></tr>",
                            "<tr><td>Magadino</td><td>TI</td></tr>",
                            "<tr><td>Vira (Gambarogno)</td><td>TI</td></tr>",
                            "<tr><td>S. Nazzaro</td><td>TI</td></tr>",
                            "<tr><td>Vairano</td><td>TI</td></tr>",
                            "<tr><td>Gerra (Gambarogno)</td><td>TI</td></tr>",
                            "<tr><td>Ranzo</td><td>TI</td></tr>",
                            "<tr><td>Caviano</td><td>TI</td></tr>",
                            "<tr><td>Piazzogna</td><td>TI</td></tr>",
                            "<tr><td>Indemini</td><td>TI</td></tr>",
                            "<tr><td>S. Antonino</td><td>TI</td></tr>",
                            "<tr><td>Cadenazzo</td><td>TI</td></tr>",
                            "<tr><td>Contone</td><td>TI</td></tr>",
                            "<tr><td>Riazzino</td><td>TI</td></tr>",
                            "<tr><td>Gordola</td><td>TI</td></tr>",
                            "<tr><td>Agarone</td><td>TI</td></tr>",
                            "<tr><td>Tenero</td><td>TI</td></tr>",
                            "<tr><td>Robasacco</td><td>TI</td></tr>",
                            "<tr><td>Locarno</td><td>TI</td></tr>",
                            "<tr><td>Muralto</td><td>TI</td></tr>",
                            "<tr><td>Locarno</td><td>TI</td></tr>",
                            "<tr><td>Monte Brè sopra Locarno</td><td>TI</td></tr>",
                            "<tr><td>Golino</td><td>TI</td></tr>",
                            "<tr><td>Arcegno</td><td>TI</td></tr>",
                            "<tr><td>Contra</td><td>TI</td></tr>",
                            "<tr><td>Mergoscia</td><td>TI</td></tr>",
                            "<tr><td>Auressio</td><td>TI</td></tr>",
                            "<tr><td>Loco</td><td>TI</td></tr>",
                            "<tr><td>Berzona</td><td>TI</td></tr>",
                            "<tr><td>Mosogno</td><td>TI</td></tr>",
                            "<tr><td>Russo</td><td>TI</td></tr>",
                            "<tr><td>Vergeletto</td><td>TI</td></tr>",
                            "<tr><td>Gresso</td><td>TI</td></tr>",
                            "<tr><td>Crana</td><td>TI</td></tr>",
                            "<tr><td>Comologno</td><td>TI</td></tr>",
                            "<tr><td>Spruga</td><td>TI</td></tr>",
                            "<tr><td>Vogorno</td><td>TI</td></tr>",
                            "<tr><td>Corippo</td><td>TI</td></tr>",
                            "<tr><td>Lavertezzo</td><td>TI</td></tr>",
                            "<tr><td>Brione (Verzasca)</td><td>TI</td></tr>",
                            "<tr><td>Gerra (Verzasca)</td><td>TI</td></tr>",
                            "<tr><td>Frasco</td><td>TI</td></tr>",
                            "<tr><td>Sonogno</td><td>TI</td></tr>",
                            "<tr><td>Ascona</td><td>TI</td></tr>",
                            "<tr><td>Porto Ronco</td><td>TI</td></tr>",
                            "<tr><td>Brissago</td><td>TI</td></tr>",
                            "<tr><td>Isole di Brissago</td><td>TI</td></tr>",
                            "<tr><td>Losone</td><td>TI</td></tr>",
                            "<tr><td>Ronco sopra Ascona</td><td>TI</td></tr>",
                            "<tr><td>Orselina</td><td>TI</td></tr>",
                            "<tr><td>Brione sopra Minusio</td><td>TI</td></tr>",
                            "<tr><td>Minusio</td><td>TI</td></tr>",
                            "<tr><td>Verdasio</td><td>TI</td></tr>",
                            "<tr><td>Rasa</td><td>TI</td></tr>",
                            "<tr><td>Palagnedra</td><td>TI</td></tr>",
                            "<tr><td>Borgnone</td><td>TI</td></tr>",
                            "<tr><td>Camedo</td><td>TI</td></tr>",
                            "<tr><td>Moneto</td><td>TI</td></tr>",
                            "<tr><td>Tegna</td><td>TI</td></tr>",
                            "<tr><td>Verscio</td><td>TI</td></tr>",
                            "<tr><td>Cavigliano</td><td>TI</td></tr>",
                            "<tr><td>Intragna</td><td>TI</td></tr>",
                            "<tr><td>Avegno</td><td>TI</td></tr>",
                            "<tr><td>Moghegno</td><td>TI</td></tr>",
                            "<tr><td>Coglio</td><td>TI</td></tr>",
                            "<tr><td>Lodano</td><td>TI</td></tr>",
                            "<tr><td>Giumaglio</td><td>TI</td></tr>",
                            "<tr><td>Riveo</td><td>TI</td></tr>",
                            "<tr><td>Linescio</td><td>TI</td></tr>",
                            "<tr><td>Cerentino</td><td>TI</td></tr>",
                            "<tr><td>Bosco/Gurin</td><td>TI</td></tr>",
                            "<tr><td>Niva (Vallemaggia)</td><td>TI</td></tr>",
                            "<tr><td>Campo (Vallemaggia)</td><td>TI</td></tr>",
                            "<tr><td>Cimalmotto</td><td>TI</td></tr>",
                            "<tr><td>Cavergno</td><td>TI</td></tr>",
                            "<tr><td>S. Carlo (Val Bavona)</td><td>TI</td></tr>",
                            "<tr><td>Brontallo</td><td>TI</td></tr>",
                            "<tr><td>Menzonio</td><td>TI</td></tr>",
                            "<tr><td>Broglio</td><td>TI</td></tr>",
                            "<tr><td>Prato-Sornico</td><td>TI</td></tr>",
                            "<tr><td>Peccia</td><td>TI</td></tr>",
                            "<tr><td>Piano di Peccia</td><td>TI</td></tr>",
                            "<tr><td>Fusio</td><td>TI</td></tr>",
                            "<tr><td>Gordevio</td><td>TI</td></tr>",
                            "<tr><td>Maggia</td><td>TI</td></tr>",
                            "<tr><td>Someo</td><td>TI</td></tr>",
                            "<tr><td>Cevio</td><td>TI</td></tr>",
                            "<tr><td>Bignasco</td><td>TI</td></tr>",
                            "<tr><td>Claro</td><td>TI</td></tr>",
                            "<tr><td>Osogna</td><td>TI</td></tr>",
                            "<tr><td>Cresciano</td><td>TI</td></tr>",
                            "<tr><td>Iragna</td><td>TI</td></tr>",
                            "<tr><td>Biasca</td><td>TI</td></tr>",
                            "<tr><td>Ludiano</td><td>TI</td></tr>",
                            "<tr><td>Corzoneso</td><td>TI</td></tr>",
                            "<tr><td>Leontica</td><td>TI</td></tr>",
                            "<tr><td>Prugiasco</td><td>TI</td></tr>",
                            "<tr><td>Castro</td><td>TI</td></tr>",
                            "<tr><td>Ponto Valentino</td><td>TI</td></tr>",
                            "<tr><td>Lottigna</td><td>TI</td></tr>",
                            "<tr><td>Aquila</td><td>TI</td></tr>",
                            "<tr><td>Campo (Blenio)</td><td>TI</td></tr>",
                            "<tr><td>Motto (Blenio)</td><td>TI</td></tr>",
                            "<tr><td>Malvaglia</td><td>TI</td></tr>",
                            "<tr><td>Semione</td><td>TI</td></tr>",
                            "<tr><td>Dongio</td><td>TI</td></tr>",
                            "<tr><td>Acquarossa</td><td>TI</td></tr>",
                            "<tr><td>Dangio</td><td>TI</td></tr>",
                            "<tr><td>Torre</td><td>TI</td></tr>",
                            "<tr><td>Olivone</td><td>TI</td></tr>",
                            "<tr><td>Camperio</td><td>TI</td></tr>",
                            "<tr><td>Pollegio</td><td>TI</td></tr>",
                            "<tr><td>Bodio TI</td><td>TI</td></tr>",
                            "<tr><td>Giornico</td><td>TI</td></tr>",
                            "<tr><td>Lavorgo</td><td>TI</td></tr>",
                            "<tr><td>Calonico</td><td>TI</td></tr>",
                            "<tr><td>Nivo</td><td>TI</td></tr>",
                            "<tr><td>Chironico</td><td>TI</td></tr>",
                            "<tr><td>Faido</td><td>TI</td></tr>",
                            "<tr><td>Molare</td><td>TI</td></tr>",
                            "<tr><td>Calpiogna</td><td>TI</td></tr>",
                            "<tr><td>Campello</td><td>TI</td></tr>",
                            "<tr><td>Carì</td><td>TI</td></tr>",
                            "<tr><td>Rodi-Fiesso</td><td>TI</td></tr>",
                            "<tr><td>Ambrì</td><td>TI</td></tr>",
                            "<tr><td>Piotta</td><td>TI</td></tr>",
                            "<tr><td>Quinto</td><td>TI</td></tr>",
                            "<tr><td>Varenzo</td><td>TI</td></tr>",
                            "<tr><td>Airolo</td><td>TI</td></tr>",
                            "<tr><td>Villa Bedretto</td><td>TI</td></tr>",
                            "<tr><td>Madrano</td><td>TI</td></tr>",
                            "<tr><td>Bedretto</td><td>TI</td></tr>",
                            "<tr><td>Personico</td><td>TI</td></tr>",
                            "<tr><td>Anzonico</td><td>TI</td></tr>",
                            "<tr><td>Sobrio</td><td>TI</td></tr>",
                            "<tr><td>Cavagnago</td><td>TI</td></tr>",
                            "<tr><td>Mairengo</td><td>TI</td></tr>",
                            "<tr><td>Osco</td><td>TI</td></tr>",
                            "<tr><td>Rossura</td><td>TI</td></tr>",
                            "<tr><td>Chiggiogna</td><td>TI</td></tr>",
                            "<tr><td>Prato (Leventina)</td><td>TI</td></tr>",
                            "<tr><td>Dalpe</td><td>TI</td></tr>",
                            "<tr><td>Rivera</td><td>TI</td></tr>",
                            "<tr><td>Bironico</td><td>TI</td></tr>",
                            "<tr><td>Camignolo</td><td>TI</td></tr>",
                            "<tr><td>Taverne</td><td>TI</td></tr>",
                            "<tr><td>Torricella</td><td>TI</td></tr>",
                            "<tr><td>Melide</td><td>TI</td></tr>",
                            "<tr><td>Bissone</td><td>TI</td></tr>",
                            "<tr><td>Maroggia</td><td>TI</td></tr>",
                            "<tr><td>Melano</td><td>TI</td></tr>",
                            "<tr><td>Arogno</td><td>TI</td></tr>",
                            "<tr><td>Capolago</td><td>TI</td></tr>",
                            "<tr><td>Riva San Vitale</td><td>TI</td></tr>",
                            "<tr><td>Balerna</td><td>TI</td></tr>",
                            "<tr><td>Chiasso</td><td>TI</td></tr>",
                            "<tr><td>Sagno</td><td>TI</td></tr>",
                            "<tr><td>Caneggio</td><td>TI</td></tr>",
                            "<tr><td>Bruzella</td><td>TI</td></tr>",
                            "<tr><td>Cabbio</td><td>TI</td></tr>",
                            "<tr><td>Muggio</td><td>TI</td></tr>",
                            "<tr><td>Scudellate</td><td>TI</td></tr>",
                            "<tr><td>Pedrinate</td><td>TI</td></tr>",
                            "<tr><td>Seseglio</td><td>TI</td></tr>",
                            "<tr><td>Vacallo</td><td>TI</td></tr>",
                            "<tr><td>Morbio Inferiore</td><td>TI</td></tr>",
                            "<tr><td>Morbio Superiore</td><td>TI</td></tr>",
                            "<tr><td>Medeglia</td><td>TI</td></tr>",
                            "<tr><td>Isone</td><td>TI</td></tr>",
                            "<tr><td>Mezzovico</td><td>TI</td></tr>",
                            "<tr><td>Sigirino</td><td>TI</td></tr>",
                            "<tr><td>Rovio</td><td>TI</td></tr>",
                            "<tr><td>Pugerna</td><td>TI</td></tr>",
                            "<tr><td>Mendrisio</td><td>TI</td></tr>",
                            "<tr><td>Monte</td><td>TI</td></tr>",
                            "<tr><td>Casima</td><td>TI</td></tr>",
                            "<tr><td>Corteglia</td><td>TI</td></tr>",
                            "<tr><td>Genestrerio</td><td>TI</td></tr>",
                            "<tr><td>Ligornetto</td><td>TI</td></tr>",
                            "<tr><td>S. Pietro</td><td>TI</td></tr>",
                            "<tr><td>Stabio</td><td>TI</td></tr>",
                            "<tr><td>Rancate</td><td>TI</td></tr>",
                            "<tr><td>Besazio</td><td>TI</td></tr>",
                            "<tr><td>Arzo</td><td>TI</td></tr>",
                            "<tr><td>Tremona</td><td>TI</td></tr>",
                            "<tr><td>Meride</td><td>TI</td></tr>",
                            "<tr><td>Serpiano</td><td>TI</td></tr>",
                            "<tr><td>Salorino</td><td>TI</td></tr>",
                            "<tr><td>Somazzo</td><td>TI</td></tr>",
                            "<tr><td>Castel San Pietro</td><td>TI</td></tr>",
                            "<tr><td>Coldrerio</td><td>TI</td></tr>",
                            "<tr><td>Novazzano</td><td>TI</td></tr>",
                            "<tr><td>Lugano</td><td>TI</td></tr>",
                            "<tr><td>Massagno</td><td>TI</td></tr>",
                            "<tr><td>Carabbia</td><td>TI</td></tr>",
                            "<tr><td>Pambio-Noranco</td><td>TI</td></tr>",
                            "<tr><td>Grancia</td><td>TI</td></tr>",
                            "<tr><td>Barbengo</td><td>TI</td></tr>",
                            "<tr><td>Carabietta</td><td>TI</td></tr>",
                            "<tr><td>Vico Morcote</td><td>TI</td></tr>",
                            "<tr><td>Manno</td><td>TI</td></tr>",
                            "<tr><td>Gravesano</td><td>TI</td></tr>",
                            "<tr><td>Bedano</td><td>TI</td></tr>",
                            "<tr><td>Arosio</td><td>TI</td></tr>",
                            "<tr><td>Mugena</td><td>TI</td></tr>",
                            "<tr><td>Vezio</td><td>TI</td></tr>",
                            "<tr><td>Breno</td><td>TI</td></tr>",
                            "<tr><td>Fescoggia</td><td>TI</td></tr>",
                            "<tr><td>Comano</td><td>TI</td></tr>",
                            "<tr><td>Brè sopra Lugano</td><td>TI</td></tr>",
                            "<tr><td>Brusino Arsizio</td><td>TI</td></tr>",
                            "<tr><td>Pazzallo</td><td>TI</td></tr>",
                            "<tr><td>Carona</td><td>TI</td></tr>",
                            "<tr><td>Figino</td><td>TI</td></tr>",
                            "<tr><td>Morcote</td><td>TI</td></tr>",
                            "<tr><td>Sorengo</td><td>TI</td></tr>",
                            "<tr><td>Gentilino</td><td>TI</td></tr>",
                            "<tr><td>Montagnola</td><td>TI</td></tr>",
                            "<tr><td>Agra</td><td>TI</td></tr>",
                            "<tr><td>Breganzona</td><td>TI</td></tr>",
                            "<tr><td>Muzzano</td><td>TI</td></tr>",
                            "<tr><td>Bioggio</td><td>TI</td></tr>",
                            "<tr><td>Bosco Luganese</td><td>TI</td></tr>",
                            "<tr><td>Cademario</td><td>TI</td></tr>",
                            "<tr><td>Savosa</td><td>TI</td></tr>",
                            "<tr><td>Vezia</td><td>TI</td></tr>",
                            "<tr><td>Porza</td><td>TI</td></tr>",
                            "<tr><td>Tesserete</td><td>TI</td></tr>",
                            "<tr><td>Cureglia</td><td>TI</td></tr>",
                            "<tr><td>Origlio</td><td>TI</td></tr>",
                            "<tr><td>Ponte Capriasca</td><td>TI</td></tr>",
                            "<tr><td>Vaglio</td><td>TI</td></tr>",
                            "<tr><td>Sala Capriasca</td><td>TI</td></tr>",
                            "<tr><td>Bigorio</td><td>TI</td></tr>",
                            "<tr><td>Lugaggia</td><td>TI</td></tr>",
                            "<tr><td>Insone</td><td>TI</td></tr>",
                            "<tr><td>Odogno</td><td>TI</td></tr>",
                            "<tr><td>Lopagno</td><td>TI</td></tr>",
                            "<tr><td>Roveredo TI</td><td>TI</td></tr>",
                            "<tr><td>Bidogno</td><td>TI</td></tr>",
                            "<tr><td>Corticiasca</td><td>TI</td></tr>",
                            "<tr><td>Scareglia</td><td>TI</td></tr>",
                            "<tr><td>Colla</td><td>TI</td></tr>",
                            "<tr><td>Bogno</td><td>TI</td></tr>",
                            "<tr><td>Cozzo</td><td>TI</td></tr>",
                            "<tr><td>Cagiallo</td><td>TI</td></tr>",
                            "<tr><td>Oggio</td><td>TI</td></tr>",
                            "<tr><td>Signôra</td><td>TI</td></tr>",
                            "<tr><td>Cimadera</td><td>TI</td></tr>",
                            "<tr><td>Maglio di Colla</td><td>TI</td></tr>",
                            "<tr><td>Certara</td><td>TI</td></tr>",
                            "<tr><td>Curtina</td><td>TI</td></tr>",
                            "<tr><td>Piandera Paese</td><td>TI</td></tr>",
                            "<tr><td>Canobbio</td><td>TI</td></tr>",
                            "<tr><td>Viganello</td><td>TI</td></tr>",
                            "<tr><td>Pregassona</td><td>TI</td></tr>",
                            "<tr><td>Davesco-Soragno</td><td>TI</td></tr>",
                            "<tr><td>Cadro</td><td>TI</td></tr>",
                            "<tr><td>Villa Luganese</td><td>TI</td></tr>",
                            "<tr><td>Dino</td><td>TI</td></tr>",
                            "<tr><td>Sonvico</td><td>TI</td></tr>",
                            "<tr><td>Aldesago</td><td>TI</td></tr>",
                            "<tr><td>Castagnola</td><td>TI</td></tr>",
                            "<tr><td>Ruvigliana</td><td>TI</td></tr>",
                            "<tr><td>Gandria</td><td>TI</td></tr>",
                            "<tr><td>Cassina d&#39;Agno</td><td>TI</td></tr>",
                            "<tr><td>Neggio</td><td>TI</td></tr>",
                            "<tr><td>Vernate</td><td>TI</td></tr>",
                            "<tr><td>Iseo</td><td>TI</td></tr>",
                            "<tr><td>Aranno</td><td>TI</td></tr>",
                            "<tr><td>Cimo</td><td>TI</td></tr>",
                            "<tr><td>Bedigliora</td><td>TI</td></tr>",
                            "<tr><td>Biogno-Beride</td><td>TI</td></tr>",
                            "<tr><td>Castelrotto</td><td>TI</td></tr>",
                            "<tr><td>Bombinasco</td><td>TI</td></tr>",
                            "<tr><td>Banco</td><td>TI</td></tr>",
                            "<tr><td>Astano</td><td>TI</td></tr>",
                            "<tr><td>Miglieglia</td><td>TI</td></tr>",
                            "<tr><td>Purasca</td><td>TI</td></tr>",
                            "<tr><td>Molinazzo di Monteggio</td><td>TI</td></tr>",
                            "<tr><td>Ponte Cremenaga</td><td>TI</td></tr>",
                            "<tr><td>Sessa</td><td>TI</td></tr>",
                            "<tr><td>Termine</td><td>TI</td></tr>",
                            "<tr><td>Agno</td><td>TI</td></tr>",
                            "<tr><td>Magliaso</td><td>TI</td></tr>",
                            "<tr><td>Pura</td><td>TI</td></tr>",
                            "<tr><td>Curio</td><td>TI</td></tr>",
                            "<tr><td>Novaggio</td><td>TI</td></tr>",
                            "<tr><td>Caslano</td><td>TI</td></tr>",
                            "<tr><td>Ponte Tresa</td><td>TI</td></tr>",
                            "<tr><td>Chur</td><td>GR</td></tr>",
                            "<tr><td>Felsberg</td><td>GR</td></tr>",
                            "<tr><td>Domat/Ems</td><td>GR</td></tr>",
                            "<tr><td>Tamins</td><td>GR</td></tr>",
                            "<tr><td>Flims Dorf</td><td>GR</td></tr>",
                            "<tr><td>Flims Waldhaus</td><td>GR</td></tr>",
                            "<tr><td>Haldenstein</td><td>GR</td></tr>",
                            "<tr><td>Maladers</td><td>GR</td></tr>",
                            "<tr><td>Laax GR</td><td>GR</td></tr>",
                            "<tr><td>Laax GR 2</td><td>GR</td></tr>",
                            "<tr><td>Arosa</td><td>GR</td></tr>",
                            "<tr><td>Passugg</td><td>GR</td></tr>",
                            "<tr><td>Praden</td><td>GR</td></tr>",
                            "<tr><td>Tschiertschen</td><td>GR</td></tr>",
                            "<tr><td>Malix</td><td>GR</td></tr>",
                            "<tr><td>Churwalden</td><td>GR</td></tr>",
                            "<tr><td>Parpan</td><td>GR</td></tr>",
                            "<tr><td>Valbella</td><td>GR</td></tr>",
                            "<tr><td>Lenzerheide/Lai</td><td>GR</td></tr>",
                            "<tr><td>Vaz/Obervaz</td><td>GR</td></tr>",
                            "<tr><td>Lantsch/Lenz</td><td>GR</td></tr>",
                            "<tr><td>Brienz/Brinzauls GR</td><td>GR</td></tr>",
                            "<tr><td>Trin</td><td>GR</td></tr>",
                            "<tr><td>Trin Mulin</td><td>GR</td></tr>",
                            "<tr><td>Fidaz</td><td>GR</td></tr>",
                            "<tr><td>Lüen</td><td>GR</td></tr>",
                            "<tr><td>Castiel</td><td>GR</td></tr>",
                            "<tr><td>St. Peter</td><td>GR</td></tr>",
                            "<tr><td>Pagig</td><td>GR</td></tr>",
                            "<tr><td>Molinis</td><td>GR</td></tr>",
                            "<tr><td>Peist</td><td>GR</td></tr>",
                            "<tr><td>Langwies</td><td>GR</td></tr>",
                            "<tr><td>Litzirüti</td><td>GR</td></tr>",
                            "<tr><td>Versam</td><td>GR</td></tr>",
                            "<tr><td>Arezen</td><td>GR</td></tr>",
                            "<tr><td>Tenna</td><td>GR</td></tr>",
                            "<tr><td>Safien Platz</td><td>GR</td></tr>",
                            "<tr><td>Thalkirch</td><td>GR</td></tr>",
                            "<tr><td>Valendas</td><td>GR</td></tr>",
                            "<tr><td>Carrera</td><td>GR</td></tr>",
                            "<tr><td>Castrisch</td><td>GR</td></tr>",
                            "<tr><td>Ilanz</td><td>GR</td></tr>",
                            "<tr><td>Ruschein</td><td>GR</td></tr>",
                            "<tr><td>Ladir</td><td>GR</td></tr>",
                            "<tr><td>Schluein</td><td>GR</td></tr>",
                            "<tr><td>Falera</td><td>GR</td></tr>",
                            "<tr><td>Sagogn</td><td>GR</td></tr>",
                            "<tr><td>Sevgein</td><td>GR</td></tr>",
                            "<tr><td>Riein</td><td>GR</td></tr>",
                            "<tr><td>Pitasch</td><td>GR</td></tr>",
                            "<tr><td>Duvin</td><td>GR</td></tr>",
                            "<tr><td>Camuns</td><td>GR</td></tr>",
                            "<tr><td>Uors (Lumnezia)</td><td>GR</td></tr>",
                            "<tr><td>Surcasti</td><td>GR</td></tr>",
                            "<tr><td>Tersnaus</td><td>GR</td></tr>",
                            "<tr><td>Luven</td><td>GR</td></tr>",
                            "<tr><td>Cumbel</td><td>GR</td></tr>",
                            "<tr><td>Morissen</td><td>GR</td></tr>",
                            "<tr><td>Vella</td><td>GR</td></tr>",
                            "<tr><td>Degen</td><td>GR</td></tr>",
                            "<tr><td>Vattiz</td><td>GR</td></tr>",
                            "<tr><td>Vignogn</td><td>GR</td></tr>",
                            "<tr><td>Lumbrein</td><td>GR</td></tr>",
                            "<tr><td>Surin</td><td>GR</td></tr>",
                            "<tr><td>Vrin</td><td>GR</td></tr>",
                            "<tr><td>Flond</td><td>GR</td></tr>",
                            "<tr><td>Surcuolm</td><td>GR</td></tr>",
                            "<tr><td>Vals</td><td>GR</td></tr>",
                            "<tr><td>Obersaxen Affeier</td><td>GR</td></tr>",
                            "<tr><td>Obersaxen Meierhof</td><td>GR</td></tr>",
                            "<tr><td>Obersaxen Giraniga</td><td>GR</td></tr>",
                            "<tr><td>Obersaxen Friggahüs</td><td>GR</td></tr>",
                            "<tr><td>Pigniu</td><td>GR</td></tr>",
                            "<tr><td>Rueun</td><td>GR</td></tr>",
                            "<tr><td>Siat</td><td>GR</td></tr>",
                            "<tr><td>Waltensburg/Vuorz</td><td>GR</td></tr>",
                            "<tr><td>Andiast</td><td>GR</td></tr>",
                            "<tr><td>Tavanasa</td><td>GR</td></tr>",
                            "<tr><td>Danis</td><td>GR</td></tr>",
                            "<tr><td>Dardin</td><td>GR</td></tr>",
                            "<tr><td>Breil/Brigels</td><td>GR</td></tr>",
                            "<tr><td>Trun</td><td>GR</td></tr>",
                            "<tr><td>Schlans</td><td>GR</td></tr>",
                            "<tr><td>Zignau</td><td>GR</td></tr>",
                            "<tr><td>Rabius</td><td>GR</td></tr>",
                            "<tr><td>Sumvitg</td><td>GR</td></tr>",
                            "<tr><td>S. Benedetg</td><td>GR</td></tr>",
                            "<tr><td>Disentis/Mustér</td><td>GR</td></tr>",
                            "<tr><td>Cavardiras</td><td>GR</td></tr>",
                            "<tr><td>Mumpé Medel</td><td>GR</td></tr>",
                            "<tr><td>Curaglia</td><td>GR</td></tr>",
                            "<tr><td>Platta</td><td>GR</td></tr>",
                            "<tr><td>Segnas</td><td>GR</td></tr>",
                            "<tr><td>Camischolas</td><td>GR</td></tr>",
                            "<tr><td>Rueras</td><td>GR</td></tr>",
                            "<tr><td>Sedrun</td><td>GR</td></tr>",
                            "<tr><td>Surrein</td><td>GR</td></tr>",
                            "<tr><td>Cumpadials</td><td>GR</td></tr>",
                            "<tr><td>Untervaz Bahnhof</td><td>GR</td></tr>",
                            "<tr><td>Trimmis</td><td>GR</td></tr>",
                            "<tr><td>Says</td><td>GR</td></tr>",
                            "<tr><td>Untervaz</td><td>GR</td></tr>",
                            "<tr><td>Zizers</td><td>GR</td></tr>",
                            "<tr><td>Igis</td><td>GR</td></tr>",
                            "<tr><td>Malans GR</td><td>GR</td></tr>",
                            "<tr><td>Seewis Dorf</td><td>GR</td></tr>",
                            "<tr><td>Valzeina</td><td>GR</td></tr>",
                            "<tr><td>Grüsch</td><td>GR</td></tr>",
                            "<tr><td>Fanas</td><td>GR</td></tr>",
                            "<tr><td>Schiers</td><td>GR</td></tr>",
                            "<tr><td>Schuders</td><td>GR</td></tr>",
                            "<tr><td>Stels</td><td>GR</td></tr>",
                            "<tr><td>Mittellunden</td><td>GR</td></tr>",
                            "<tr><td>Buchen im Prättigau</td><td>GR</td></tr>",
                            "<tr><td>Putz</td><td>GR</td></tr>",
                            "<tr><td>Pusserein</td><td>GR</td></tr>",
                            "<tr><td>Pragg-Jenaz</td><td>GR</td></tr>",
                            "<tr><td>Furna</td><td>GR</td></tr>",
                            "<tr><td>Jenaz</td><td>GR</td></tr>",
                            "<tr><td>Fideris</td><td>GR</td></tr>",
                            "<tr><td>Küblis</td><td>GR</td></tr>",
                            "<tr><td>Luzein</td><td>GR</td></tr>",
                            "<tr><td>Pany</td><td>GR</td></tr>",
                            "<tr><td>Gadenstätt</td><td>GR</td></tr>",
                            "<tr><td>Ascharina</td><td>GR</td></tr>",
                            "<tr><td>St. Antönien</td><td>GR</td></tr>",
                            "<tr><td>Conters im Prättigau</td><td>GR</td></tr>",
                            "<tr><td>Saas im Prättigau</td><td>GR</td></tr>",
                            "<tr><td>Serneus</td><td>GR</td></tr>",
                            "<tr><td>Klosters</td><td>GR</td></tr>",
                            "<tr><td>Klosters Dorf</td><td>GR</td></tr>",
                            "<tr><td>Davos Dorf</td><td>GR</td></tr>",
                            "<tr><td>Davos Wolfgang</td><td>GR</td></tr>",
                            "<tr><td>Davos Platz</td><td>GR</td></tr>",
                            "<tr><td>Davos Clavadel</td><td>GR</td></tr>",
                            "<tr><td>Davos Frauenkirch</td><td>GR</td></tr>",
                            "<tr><td>Davos Glaris</td><td>GR</td></tr>",
                            "<tr><td>Davos Monstein</td><td>GR</td></tr>",
                            "<tr><td>Landquart</td><td>GR</td></tr>",
                            "<tr><td>Mastrils</td><td>GR</td></tr>",
                            "<tr><td>Maienfeld</td><td>GR</td></tr>",
                            "<tr><td>Fläsch</td><td>GR</td></tr>",
                            "<tr><td>Jenins</td><td>GR</td></tr>",
                            "<tr><td>Bad Ragaz</td><td>SG</td></tr>",
                            "<tr><td>Valens</td><td>SG</td></tr>",
                            "<tr><td>Vasön</td><td>SG</td></tr>",
                            "<tr><td>Vadura</td><td>SG</td></tr>",
                            "<tr><td>Vättis</td><td>SG</td></tr>",
                            "<tr><td>Pfäfers</td><td>SG</td></tr>",
                            "<tr><td>St. Margrethenberg</td><td>SG</td></tr>",
                            "<tr><td>Sargans</td><td>SG</td></tr>",
                            "<tr><td>Schwendi im Weisstannental</td><td>SG</td></tr>",
                            "<tr><td>Weisstannen</td><td>SG</td></tr>",
                            "<tr><td>Wangs</td><td>SG</td></tr>",
                            "<tr><td>Vilters</td><td>SG</td></tr>",
                            "<tr><td>Bonaduz</td><td>GR</td></tr>",
                            "<tr><td>Rhäzüns</td><td>GR</td></tr>",
                            "<tr><td>Feldis/Veulden</td><td>GR</td></tr>",
                            "<tr><td>Rothenbrunnen</td><td>GR</td></tr>",
                            "<tr><td>Cazis</td><td>GR</td></tr>",
                            "<tr><td>Realta</td><td>GR</td></tr>",
                            "<tr><td>Sils im Domleschg</td><td>GR</td></tr>",
                            "<tr><td>Scharans</td><td>GR</td></tr>",
                            "<tr><td>Fürstenaubruck</td><td>GR</td></tr>",
                            "<tr><td>Fürstenau</td><td>GR</td></tr>",
                            "<tr><td>Rodels</td><td>GR</td></tr>",
                            "<tr><td>Almens</td><td>GR</td></tr>",
                            "<tr><td>Paspels</td><td>GR</td></tr>",
                            "<tr><td>Trans</td><td>GR</td></tr>",
                            "<tr><td>Tumegl/Tomils</td><td>GR</td></tr>",
                            "<tr><td>Scheid</td><td>GR</td></tr>",
                            "<tr><td>Thusis</td><td>GR</td></tr>",
                            "<tr><td>Masein</td><td>GR</td></tr>",
                            "<tr><td>Flerden</td><td>GR</td></tr>",
                            "<tr><td>Urmein</td><td>GR</td></tr>",
                            "<tr><td>Tschappina</td><td>GR</td></tr>",
                            "<tr><td>Glaspass</td><td>GR</td></tr>",
                            "<tr><td>Summaprada</td><td>GR</td></tr>",
                            "<tr><td>Tartar</td><td>GR</td></tr>",
                            "<tr><td>Sarn</td><td>GR</td></tr>",
                            "<tr><td>Präz</td><td>GR</td></tr>",
                            "<tr><td>Dalin</td><td>GR</td></tr>",
                            "<tr><td>Mutten</td><td>GR</td></tr>",
                            "<tr><td>Rongellen</td><td>GR</td></tr>",
                            "<tr><td>Zillis</td><td>GR</td></tr>",
                            "<tr><td>Donat</td><td>GR</td></tr>",
                            "<tr><td>Farden</td><td>GR</td></tr>",
                            "<tr><td>Mathon</td><td>GR</td></tr>",
                            "<tr><td>Wergenstein</td><td>GR</td></tr>",
                            "<tr><td>Lohn GR</td><td>GR</td></tr>",
                            "<tr><td>Sufers</td><td>GR</td></tr>",
                            "<tr><td>Splügen</td><td>GR</td></tr>",
                            "<tr><td>Medels im Rheinwald</td><td>GR</td></tr>",
                            "<tr><td>Nufenen</td><td>GR</td></tr>",
                            "<tr><td>Hinterrhein</td><td>GR</td></tr>",
                            "<tr><td>Andeer</td><td>GR</td></tr>",
                            "<tr><td>Clugin</td><td>GR</td></tr>",
                            "<tr><td>Pignia</td><td>GR</td></tr>",
                            "<tr><td>Ausserferrera</td><td>GR</td></tr>",
                            "<tr><td>Innerferrera</td><td>GR</td></tr>",
                            "<tr><td>Campsut-Cröt</td><td>GR</td></tr>",
                            "<tr><td>Cresta (Avers)</td><td>GR</td></tr>",
                            "<tr><td>Am Bach (Avers)</td><td>GR</td></tr>",
                            "<tr><td>Juf</td><td>GR</td></tr>",
                            "<tr><td>Tiefencastel</td><td>GR</td></tr>",
                            "<tr><td>Mon</td><td>GR</td></tr>",
                            "<tr><td>Stierva</td><td>GR</td></tr>",
                            "<tr><td>Alvaschein</td><td>GR</td></tr>",
                            "<tr><td>Cunter</td><td>GR</td></tr>",
                            "<tr><td>Tinizong</td><td>GR</td></tr>",
                            "<tr><td>Rona</td><td>GR</td></tr>",
                            "<tr><td>Mulegns</td><td>GR</td></tr>",
                            "<tr><td>Sur</td><td>GR</td></tr>",
                            "<tr><td>Bivio</td><td>GR</td></tr>",
                            "<tr><td>Savognin</td><td>GR</td></tr>",
                            "<tr><td>Salouf</td><td>GR</td></tr>",
                            "<tr><td>Riom</td><td>GR</td></tr>",
                            "<tr><td>Parsonz</td><td>GR</td></tr>",
                            "<tr><td>Surava</td><td>GR</td></tr>",
                            "<tr><td>Alvaneu Bad</td><td>GR</td></tr>",
                            "<tr><td>Filisur</td><td>GR</td></tr>",
                            "<tr><td>Bergün/Bravuogn</td><td>GR</td></tr>",
                            "<tr><td>Stugl/Stuls</td><td>GR</td></tr>",
                            "<tr><td>Latsch</td><td>GR</td></tr>",
                            "<tr><td>Preda</td><td>GR</td></tr>",
                            "<tr><td>Alvaneu Dorf</td><td>GR</td></tr>",
                            "<tr><td>Schmitten (Albula)</td><td>GR</td></tr>",
                            "<tr><td>Davos Wiesen</td><td>GR</td></tr>",
                            "<tr><td>St. Moritz</td><td>GR</td></tr>",
                            "<tr><td>Bever</td><td>GR</td></tr>",
                            "<tr><td>Samedan</td><td>GR</td></tr>",
                            "<tr><td>Pontresina</td><td>GR</td></tr>",
                            "<tr><td>Celerina/Schlarigna</td><td>GR</td></tr>",
                            "<tr><td>Champfèr</td><td>GR</td></tr>",
                            "<tr><td>Silvaplana</td><td>GR</td></tr>",
                            "<tr><td>Sils/Segl Maria</td><td>GR</td></tr>",
                            "<tr><td>Fex</td><td>GR</td></tr>",
                            "<tr><td>Sils/Segl Baselgia</td><td>GR</td></tr>",
                            "<tr><td>Maloja</td><td>GR</td></tr>",
                            "<tr><td>Plaun da Lej</td><td>GR</td></tr>",
                            "<tr><td>La Punt-Chamues-ch</td><td>GR</td></tr>",
                            "<tr><td>Madulain</td><td>GR</td></tr>",
                            "<tr><td>Zuoz</td><td>GR</td></tr>",
                            "<tr><td>S-chanf</td><td>GR</td></tr>",
                            "<tr><td>Cinuos-chel</td><td>GR</td></tr>",
                            "<tr><td>Brail</td><td>GR</td></tr>",
                            "<tr><td>Zernez</td><td>GR</td></tr>",
                            "<tr><td>Tschierv</td><td>GR</td></tr>",
                            "<tr><td>Fuldera</td><td>GR</td></tr>",
                            "<tr><td>Lü</td><td>GR</td></tr>",
                            "<tr><td>Valchava</td><td>GR</td></tr>",
                            "<tr><td>Sta. Maria Val Müstair</td><td>GR</td></tr>",
                            "<tr><td>Müstair</td><td>GR</td></tr>",
                            "<tr><td>Susch</td><td>GR</td></tr>",
                            "<tr><td>Lavin</td><td>GR</td></tr>",
                            "<tr><td>Guarda</td><td>GR</td></tr>",
                            "<tr><td>Ardez</td><td>GR</td></tr>",
                            "<tr><td>Scuol</td><td>GR</td></tr>",
                            "<tr><td>Ftan</td><td>GR</td></tr>",
                            "<tr><td>Vulpera</td><td>GR</td></tr>",
                            "<tr><td>Tarasp</td><td>GR</td></tr>",
                            "<tr><td>Sent</td><td>GR</td></tr>",
                            "<tr><td>Crusch</td><td>GR</td></tr>",
                            "<tr><td>Ramosch</td><td>GR</td></tr>",
                            "<tr><td>Vnà</td><td>GR</td></tr>",
                            "<tr><td>Strada</td><td>GR</td></tr>",
                            "<tr><td>Tschlin</td><td>GR</td></tr>",
                            "<tr><td>Martina</td><td>GR</td></tr>",
                            "<tr><td>Samnaun-Compatsch</td><td>GR</td></tr>",
                            "<tr><td>Samnaun Dorf</td><td>GR</td></tr>",
                            "<tr><td>Casaccia</td><td>GR</td></tr>",
                            "<tr><td>Vicosoprano</td><td>GR</td></tr>",
                            "<tr><td>Borgonovo</td><td>GR</td></tr>",
                            "<tr><td>Stampa</td><td>GR</td></tr>",
                            "<tr><td>Promontogno</td><td>GR</td></tr>",
                            "<tr><td>Soglio</td><td>GR</td></tr>",
                            "<tr><td>Castasegna</td><td>GR</td></tr>",
                            "<tr><td>Poschiavo</td><td>GR</td></tr>",
                            "<tr><td>Sfazù</td><td>GR</td></tr>",
                            "<tr><td>La Rösa</td><td>GR</td></tr>",
                            "<tr><td>Brusio</td><td>GR</td></tr>",
                            "<tr><td>Viano</td><td>GR</td></tr>",
                            "<tr><td>Campocologno</td><td>GR</td></tr>",
                            "<tr><td>Ospizio Bernina</td><td>GR</td></tr>",
                            "<tr><td>S. Carlo (Poschiavo)</td><td>GR</td></tr>",
                            "<tr><td>Alp Grüm</td><td>GR</td></tr>",
                            "<tr><td>Li Curt</td><td>GR</td></tr>",
                            "<tr><td>Le Prese</td><td>GR</td></tr>",
                            "<tr><td>Campascio</td><td>GR</td></tr>",
                            "<tr><td>Würenlos</td><td>AG</td></tr>",
                            "<tr><td>Schaffhausen</td><td>SH</td></tr>",
                            "<tr><td>Schaffhausen</td><td>SH</td></tr>",
                            "<tr><td>Schaffhausen</td><td>SH</td></tr>",
                            "<tr><td>Schaffhausen</td><td>SH</td></tr>",
                            "<tr><td>Trasadingen</td><td>SH</td></tr>",
                            "<tr><td>Beggingen</td><td>SH</td></tr>",
                            "<tr><td>Hemmental</td><td>SH</td></tr>",
                            "<tr><td>Stetten SH</td><td>SH</td></tr>",
                            "<tr><td>Lohn SH</td><td>SH</td></tr>",
                            "<tr><td>Opfertshofen SH</td><td>SH</td></tr>",
                            "<tr><td>Büttenhardt</td><td>SH</td></tr>",
                            "<tr><td>Bibern SH</td><td>SH</td></tr>",
                            "<tr><td>Hofen SH</td><td>SH</td></tr>",
                            "<tr><td>Altdorf SH</td><td>SH</td></tr>",
                            "<tr><td>Dörflingen</td><td>SH</td></tr>",
                            "<tr><td>Neuhausen am Rheinfall</td><td>SH</td></tr>",
                            "<tr><td>Neunkirch</td><td>SH</td></tr>",
                            "<tr><td>Gächlingen</td><td>SH</td></tr>",
                            "<tr><td>Hallau</td><td>SH</td></tr>",
                            "<tr><td>Oberhallau</td><td>SH</td></tr>",
                            "<tr><td>Wilchingen</td><td>SH</td></tr>",
                            "<tr><td>Osterfingen</td><td>SH</td></tr>",
                            "<tr><td>Beringen</td><td>SH</td></tr>",
                            "<tr><td>Guntmadingen</td><td>SH</td></tr>",
                            "<tr><td>Löhningen</td><td>SH</td></tr>",
                            "<tr><td>Siblingen</td><td>SH</td></tr>",
                            "<tr><td>Schleitheim</td><td>SH</td></tr>",
                            "<tr><td>Merishausen</td><td>SH</td></tr>",
                            "<tr><td>Bargen SH</td><td>SH</td></tr>",
                            "<tr><td>Thayngen</td><td>SH</td></tr>",
                            "<tr><td>Barzheim</td><td>SH</td></tr>",
                            "<tr><td>Schlatt TG</td><td>TG</td></tr>",
                            "<tr><td>Basadingen</td><td>TG</td></tr>",
                            "<tr><td>Kaltenbach</td><td>TG</td></tr>",
                            "<tr><td>Diessenhofen</td><td>TG</td></tr>",
                            "<tr><td>Schlattingen</td><td>TG</td></tr>",
                            "<tr><td>Etzwilen</td><td>TG</td></tr>",
                            "<tr><td>Stein am Rhein</td><td>SH</td></tr>",
                            "<tr><td>Wagenhausen</td><td>TG</td></tr>",
                            "<tr><td>Hemishofen</td><td>SH</td></tr>",
                            "<tr><td>Ramsen</td><td>SH</td></tr>",
                            "<tr><td>Buch SH</td><td>SH</td></tr>",
                            "<tr><td>Eschenz</td><td>TG</td></tr>",
                            "<tr><td>Mammern</td><td>TG</td></tr>",
                            "<tr><td>Steckborn</td><td>TG</td></tr>",
                            "<tr><td>Berlingen</td><td>TG</td></tr>",
                            "<tr><td>Mannenbach-Salenstein</td><td>TG</td></tr>",
                            "<tr><td>Ermatingen</td><td>TG</td></tr>",
                            "<tr><td>Triboltingen</td><td>TG</td></tr>",
                            "<tr><td>Tägerwilen</td><td>TG</td></tr>",
                            "<tr><td>Kreuzlingen</td><td>TG</td></tr>",
                            "<tr><td>Aadorf</td><td>TG</td></tr>",
                            "<tr><td>Ettenhausen TG</td><td>TG</td></tr>",
                            "<tr><td>Guntershausen b. Aadorf</td><td>TG</td></tr>",
                            "<tr><td>Eschlikon TG</td><td>TG</td></tr>",
                            "<tr><td>Balterswil</td><td>TG</td></tr>",
                            "<tr><td>Bichelsee</td><td>TG</td></tr>",
                            "<tr><td>Sirnach</td><td>TG</td></tr>",
                            "<tr><td>Wiezikon b. Sirnach</td><td>TG</td></tr>",
                            "<tr><td>Oberwangen TG</td><td>TG</td></tr>",
                            "<tr><td>Dussnang</td><td>TG</td></tr>",
                            "<tr><td>Fischingen</td><td>TG</td></tr>",
                            "<tr><td>Au TG</td><td>TG</td></tr>",
                            "<tr><td>Kaiserstuhl AG</td><td>AG</td></tr>",
                            "<tr><td>Fisibach</td><td>AG</td></tr>",
                            "<tr><td>Rekingen AG</td><td>AG</td></tr>",
                            "<tr><td>Bad Zurzach</td><td>AG</td></tr>",
                            "<tr><td>Rietheim</td><td>AG</td></tr>",
                            "<tr><td>Rümikon AG</td><td>AG</td></tr>",
                            "<tr><td>Mellikon</td><td>AG</td></tr>",
                            "<tr><td>Wislikofen</td><td>AG</td></tr>",
                            "<tr><td>Siglistorf</td><td>AG</td></tr>",
                            "<tr><td>Baldingen</td><td>AG</td></tr>",
                            "<tr><td>Böbikon</td><td>AG</td></tr>",
                            "<tr><td>Buchberg</td><td>SH</td></tr>",
                            "<tr><td>Rüdlingen</td><td>SH</td></tr>",
                            "<tr><td>Frauenfeld</td><td>TG</td></tr>",
                            "<tr><td>Gerlikon</td><td>TG</td></tr>",
                            "<tr><td>Pfyn</td><td>TG</td></tr>",
                            "<tr><td>Lanzenneunforn</td><td>TG</td></tr>",
                            "<tr><td>Hörhausen</td><td>TG</td></tr>",
                            "<tr><td>Homburg</td><td>TG</td></tr>",
                            "<tr><td>Thundorf</td><td>TG</td></tr>",
                            "<tr><td>Lustdorf</td><td>TG</td></tr>",
                            "<tr><td>Amlikon-Bissegg</td><td>TG</td></tr>",
                            "<tr><td>Häuslenen</td><td>TG</td></tr>",
                            "<tr><td>Uesslingen</td><td>TG</td></tr>",
                            "<tr><td>Niederneunforn</td><td>TG</td></tr>",
                            "<tr><td>Oberneunforn</td><td>TG</td></tr>",
                            "<tr><td>Warth</td><td>TG</td></tr>",
                            "<tr><td>Buch b. Frauenfeld</td><td>TG</td></tr>",
                            "<tr><td>Weiningen TG</td><td>TG</td></tr>",
                            "<tr><td>Herdern</td><td>TG</td></tr>",
                            "<tr><td>Hüttwilen</td><td>TG</td></tr>",
                            "<tr><td>Nussbaumen TG</td><td>TG</td></tr>",
                            "<tr><td>Islikon</td><td>TG</td></tr>",
                            "<tr><td>Gachnang</td><td>TG</td></tr>",
                            "<tr><td>Felben-Wellhausen</td><td>TG</td></tr>",
                            "<tr><td>Müllheim-Wigoltingen</td><td>TG</td></tr>",
                            "<tr><td>Bonau</td><td>TG</td></tr>",
                            "<tr><td>Müllheim Dorf</td><td>TG</td></tr>",
                            "<tr><td>Wigoltingen</td><td>TG</td></tr>",
                            "<tr><td>Lipperswil</td><td>TG</td></tr>",
                            "<tr><td>Raperswilen</td><td>TG</td></tr>",
                            "<tr><td>Fruthwilen</td><td>TG</td></tr>",
                            "<tr><td>Märstetten</td><td>TG</td></tr>",
                            "<tr><td>Ottoberg</td><td>TG</td></tr>",
                            "<tr><td>Hugelshofen</td><td>TG</td></tr>",
                            "<tr><td>Dotnacht</td><td>TG</td></tr>",
                            "<tr><td>Neuwilen</td><td>TG</td></tr>",
                            "<tr><td>Engwilen</td><td>TG</td></tr>",
                            "<tr><td>Wäldi</td><td>TG</td></tr>",
                            "<tr><td>Weinfelden</td><td>TG</td></tr>",
                            "<tr><td>Berg TG</td><td>TG</td></tr>",
                            "<tr><td>Siegershausen</td><td>TG</td></tr>",
                            "<tr><td>Illighausen</td><td>TG</td></tr>",
                            "<tr><td>Bürglen TG</td><td>TG</td></tr>",
                            "<tr><td>Mauren TG</td><td>TG</td></tr>",
                            "<tr><td>Schönholzerswilen</td><td>TG</td></tr>",
                            "<tr><td>Neukirch an der Thur</td><td>TG</td></tr>",
                            "<tr><td>Amriswil</td><td>TG</td></tr>",
                            "<tr><td>Sommeri</td><td>TG</td></tr>",
                            "<tr><td>Dozwil</td><td>TG</td></tr>",
                            "<tr><td>Hagenwil b. Amriswil</td><td>TG</td></tr>",
                            "<tr><td>Schocherswil</td><td>TG</td></tr>",
                            "<tr><td>Zihlschlacht</td><td>TG</td></tr>",
                            "<tr><td>Sitterdorf</td><td>TG</td></tr>",
                            "<tr><td>Sulgen</td><td>TG</td></tr>",
                            "<tr><td>Götighofen</td><td>TG</td></tr>",
                            "<tr><td>Donzhausen</td><td>TG</td></tr>",
                            "<tr><td>Leimbach TG</td><td>TG</td></tr>",
                            "<tr><td>Opfershofen TG</td><td>TG</td></tr>",
                            "<tr><td>Mattwil</td><td>TG</td></tr>",
                            "<tr><td>Happerswil</td><td>TG</td></tr>",
                            "<tr><td>Langrickenbach</td><td>TG</td></tr>",
                            "<tr><td>Zuben</td><td>TG</td></tr>",
                            "<tr><td>Erlen</td><td>TG</td></tr>",
                            "<tr><td>Andwil TG</td><td>TG</td></tr>",
                            "<tr><td>Kümmertshausen</td><td>TG</td></tr>",
                            "<tr><td>Riedt b. Erlen</td><td>TG</td></tr>",
                            "<tr><td>Oberaach</td><td>TG</td></tr>",
                            "<tr><td>Romanshorn</td><td>TG</td></tr>",
                            "<tr><td>Salmsach</td><td>TG</td></tr>",
                            "<tr><td>Uttwil</td><td>TG</td></tr>",
                            "<tr><td>Kesswil</td><td>TG</td></tr>",
                            "<tr><td>Güttingen</td><td>TG</td></tr>",
                            "<tr><td>Altnau</td><td>TG</td></tr>",
                            "<tr><td>Scherzingen</td><td>TG</td></tr>",
                            "<tr><td>Landschlacht</td><td>TG</td></tr>",
                            "<tr><td>Bottighofen</td><td>TG</td></tr>",
                            "<tr><td>Goldingen</td><td>SG</td></tr>",
                            "<tr><td>Rapperswil SG</td><td>SG</td></tr>",
                            "<tr><td>Jona</td><td>SG</td></tr>",
                            "<tr><td>Wagen</td><td>SG</td></tr>",
                            "<tr><td>Bollingen</td><td>SG</td></tr>",
                            "<tr><td>Schmerikon</td><td>SG</td></tr>",
                            "<tr><td>Benken SG</td><td>SG</td></tr>",
                            "<tr><td>Schänis</td><td>SG</td></tr>",
                            "<tr><td>Kaltbrunn</td><td>SG</td></tr>",
                            "<tr><td>Rufi</td><td>SG</td></tr>",
                            "<tr><td>Ernetschwil</td><td>SG</td></tr>",
                            "<tr><td>Ricken SG</td><td>SG</td></tr>",
                            "<tr><td>Walde SG</td><td>SG</td></tr>",
                            "<tr><td>Uznach</td><td>SG</td></tr>",
                            "<tr><td>Neuhaus SG</td><td>SG</td></tr>",
                            "<tr><td>Eschenbach SG</td><td>SG</td></tr>",
                            "<tr><td>Ermenswil</td><td>SG</td></tr>",
                            "<tr><td>St. Gallenkappel</td><td>SG</td></tr>",
                            "<tr><td>Rüeterswil</td><td>SG</td></tr>",
                            "<tr><td>Gommiswald</td><td>SG</td></tr>",
                            "<tr><td>Uetliburg SG</td><td>SG</td></tr>",
                            "<tr><td>Rieden SG</td><td>SG</td></tr>",
                            "<tr><td>Glarus</td><td>GL</td></tr>",
                            "<tr><td>Riedern</td><td>GL</td></tr>",
                            "<tr><td>Klöntal</td><td>GL</td></tr>",
                            "<tr><td>Urnerboden</td><td>UR</td></tr>",
                            "<tr><td>Näfels</td><td>GL</td></tr>",
                            "<tr><td>Mollis</td><td>GL</td></tr>",
                            "<tr><td>Netstal</td><td>GL</td></tr>",
                            "<tr><td>Ennenda</td><td>GL</td></tr>",
                            "<tr><td>Mitlödi</td><td>GL</td></tr>",
                            "<tr><td>Schwanden GL</td><td>GL</td></tr>",
                            "<tr><td>Schwändi b. Schwanden</td><td>GL</td></tr>",
                            "<tr><td>Sool</td><td>GL</td></tr>",
                            "<tr><td>Engi</td><td>GL</td></tr>",
                            "<tr><td>Matt</td><td>GL</td></tr>",
                            "<tr><td>Elm</td><td>GL</td></tr>",
                            "<tr><td>Nidfurn</td><td>GL</td></tr>",
                            "<tr><td>Haslen GL</td><td>GL</td></tr>",
                            "<tr><td>Luchsingen</td><td>GL</td></tr>",
                            "<tr><td>Hätzingen</td><td>GL</td></tr>",
                            "<tr><td>Diesbach GL</td><td>GL</td></tr>",
                            "<tr><td>Rüti GL</td><td>GL</td></tr>",
                            "<tr><td>Linthal</td><td>GL</td></tr>",
                            "<tr><td>Braunwald</td><td>GL</td></tr>",
                            "<tr><td>Bäch SZ</td><td>SZ</td></tr>",
                            "<tr><td>Freienbach</td><td>SZ</td></tr>",
                            "<tr><td>Pfäffikon SZ</td><td>SZ</td></tr>",
                            "<tr><td>Wollerau</td><td>SZ</td></tr>",
                            "<tr><td>Schindellegi</td><td>SZ</td></tr>",
                            "<tr><td>Feusisberg</td><td>SZ</td></tr>",
                            "<tr><td>Bennau</td><td>SZ</td></tr>",
                            "<tr><td>Einsiedeln</td><td>SZ</td></tr>",
                            "<tr><td>Trachslau</td><td>SZ</td></tr>",
                            "<tr><td>Alpthal</td><td>SZ</td></tr>",
                            "<tr><td>Willerzell</td><td>SZ</td></tr>",
                            "<tr><td>Egg SZ</td><td>SZ</td></tr>",
                            "<tr><td>Gross</td><td>SZ</td></tr>",
                            "<tr><td>Euthal</td><td>SZ</td></tr>",
                            "<tr><td>Studen SZ</td><td>SZ</td></tr>",
                            "<tr><td>Unteriberg</td><td>SZ</td></tr>",
                            "<tr><td>Oberiberg</td><td>SZ</td></tr>",
                            "<tr><td>Altendorf</td><td>SZ</td></tr>",
                            "<tr><td>Lachen SZ</td><td>SZ</td></tr>",
                            "<tr><td>Siebnen</td><td>SZ</td></tr>",
                            "<tr><td>Galgenen</td><td>SZ</td></tr>",
                            "<tr><td>Wangen SZ</td><td>SZ</td></tr>",
                            "<tr><td>Tuggen</td><td>SZ</td></tr>",
                            "<tr><td>Vorderthal</td><td>SZ</td></tr>",
                            "<tr><td>Innerthal</td><td>SZ</td></tr>",
                            "<tr><td>Schübelbach</td><td>SZ</td></tr>",
                            "<tr><td>Buttikon SZ</td><td>SZ</td></tr>",
                            "<tr><td>Reichenburg</td><td>SZ</td></tr>",
                            "<tr><td>Bilten</td><td>GL</td></tr>",
                            "<tr><td>Ziegelbrücke</td><td>GL</td></tr>",
                            "<tr><td>Niederurnen</td><td>GL</td></tr>",
                            "<tr><td>Oberurnen</td><td>GL</td></tr>",
                            "<tr><td>Weesen</td><td>SG</td></tr>",
                            "<tr><td>Amden</td><td>SG</td></tr>",
                            "<tr><td>Mühlehorn</td><td>GL</td></tr>",
                            "<tr><td>Obstalden</td><td>GL</td></tr>",
                            "<tr><td>Filzbach</td><td>GL</td></tr>",
                            "<tr><td>Murg</td><td>SG</td></tr>",
                            "<tr><td>Quinten</td><td>SG</td></tr>",
                            "<tr><td>Walenstadt</td><td>SG</td></tr>",
                            "<tr><td>Walenstadtberg</td><td>SG</td></tr>",
                            "<tr><td>Knoblisbühl</td><td>SG</td></tr>",
                            "<tr><td>Tscherlach</td><td>SG</td></tr>",
                            "<tr><td>Unterterzen</td><td>SG</td></tr>",
                            "<tr><td>Quarten</td><td>SG</td></tr>",
                            "<tr><td>Oberterzen</td><td>SG</td></tr>",
                            "<tr><td>Mols</td><td>SG</td></tr>",
                            "<tr><td>Mels</td><td>SG</td></tr>",
                            "<tr><td>Mädris-Vermol</td><td>SG</td></tr>",
                            "<tr><td>Plons</td><td>SG</td></tr>",
                            "<tr><td>Heiligkreuz (Mels)</td><td>SG</td></tr>",
                            "<tr><td>Flums</td><td>SG</td></tr>",
                            "<tr><td>Berschis</td><td>SG</td></tr>",
                            "<tr><td>Flums Hochwiese</td><td>SG</td></tr>",
                            "<tr><td>Flumserberg Saxli</td><td>SG</td></tr>",
                            "<tr><td>Flumserberg Portels</td><td>SG</td></tr>",
                            "<tr><td>Flumserberg Bergheim</td><td>SG</td></tr>",
                            "<tr><td>Flumserberg Tannenheim</td><td>SG</td></tr>",
                            "<tr><td>Flumserberg Tannenbodenalp</td><td>SG</td></tr>",
                            "<tr><td>Jonen</td><td>AG</td></tr>",
                            "<tr><td>Oberlunkhofen</td><td>AG</td></tr>",
                            "<tr><td>Unterlunkhofen</td><td>AG</td></tr>",
                            "<tr><td>Rottenschwil</td><td>AG</td></tr>",
                            "<tr><td>Sihlbrugg</td><td>ZG</td></tr>",
                            "<tr><td>Killwangen</td><td>AG</td></tr>",
                            "<tr><td>Spreitenbach</td><td>AG</td></tr>",
                            "<tr><td>Bergdietikon</td><td>AG</td></tr>",
                            "<tr><td>Rudolfstetten</td><td>AG</td></tr>",
                            "<tr><td>Berikon</td><td>AG</td></tr>",
                            "<tr><td>Oberwil-Lieli</td><td>AG</td></tr>",
                            "<tr><td>Widen</td><td>AG</td></tr>",
                            "<tr><td>St. Gallen</td><td>SG</td></tr>",
                            "<tr><td>St. Gallen</td><td>SG</td></tr>",
                            "<tr><td>St. Gallen</td><td>SG</td></tr>",
                            "<tr><td>St. Gallen</td><td>SG</td></tr>",
                            "<tr><td>St. Gallen</td><td>SG</td></tr>",
                            "<tr><td>St. Gallen</td><td>SG</td></tr>",
                            "<tr><td>St. Gallen</td><td>SG</td></tr>",
                            "<tr><td>St. Gallen</td><td>SG</td></tr>",
                            "<tr><td>Abtwil SG</td><td>SG</td></tr>",
                            "<tr><td>Engelburg</td><td>SG</td></tr>",
                            "<tr><td>Untereggen</td><td>SG</td></tr>",
                            "<tr><td>Eggersriet</td><td>SG</td></tr>",
                            "<tr><td>Grub AR</td><td>AR</td></tr>",
                            "<tr><td>Grub SG</td><td>SG</td></tr>",
                            "<tr><td>Speicherschwendi</td><td>AR</td></tr>",
                            "<tr><td>Rehetobel</td><td>AR</td></tr>",
                            "<tr><td>Speicher</td><td>AR</td></tr>",
                            "<tr><td>Trogen</td><td>AR</td></tr>",
                            "<tr><td>Wald AR</td><td>AR</td></tr>",
                            "<tr><td>Appenzell</td><td>AI</td></tr>",
                            "<tr><td>Niederteufen</td><td>AR</td></tr>",
                            "<tr><td>Teufen AR</td><td>AR</td></tr>",
                            "<tr><td>Haslen AI</td><td>AI</td></tr>",
                            "<tr><td>Bühler</td><td>AR</td></tr>",
                            "<tr><td>Gais</td><td>AR</td></tr>",
                            "<tr><td>Weissbad</td><td>AI</td></tr>",
                            "<tr><td>Brülisau</td><td>AI</td></tr>",
                            "<tr><td>Lustmühle</td><td>AR</td></tr>",
                            "<tr><td>Stein AR</td><td>AR</td></tr>",
                            "<tr><td>Hundwil</td><td>AR</td></tr>",
                            "<tr><td>Herisau</td><td>AR</td></tr>",
                            "<tr><td>Schwellbrunn</td><td>AR</td></tr>",
                            "<tr><td>Waldstatt</td><td>AR</td></tr>",
                            "<tr><td>Schönengrund</td><td>AR</td></tr>",
                            "<tr><td>Urnäsch</td><td>AR</td></tr>",
                            "<tr><td>Gonten</td><td>AI</td></tr>",
                            "<tr><td>Schachen b. Herisau</td><td>AR</td></tr>",
                            "<tr><td>Degersheim</td><td>SG</td></tr>",
                            "<tr><td>Hoffeld</td><td>SG</td></tr>",
                            "<tr><td>Dicken</td><td>SG</td></tr>",
                            "<tr><td>Wolfertswil</td><td>SG</td></tr>",
                            "<tr><td>Mogelsberg</td><td>SG</td></tr>",
                            "<tr><td>Nassen</td><td>SG</td></tr>",
                            "<tr><td>Brunnadern</td><td>SG</td></tr>",
                            "<tr><td>Necker</td><td>SG</td></tr>",
                            "<tr><td>St. Peterzell</td><td>SG</td></tr>",
                            "<tr><td>Bächli (Hemberg)</td><td>SG</td></tr>",
                            "<tr><td>Gossau SG</td><td>SG</td></tr>",
                            "<tr><td>Niederwil SG</td><td>SG</td></tr>",
                            "<tr><td>Andwil SG</td><td>SG</td></tr>",
                            "<tr><td>Waldkirch</td><td>SG</td></tr>",
                            "<tr><td>Arnegg</td><td>SG</td></tr>",
                            "<tr><td>Hauptwil</td><td>TG</td></tr>",
                            "<tr><td>Heldswil</td><td>TG</td></tr>",
                            "<tr><td>Schönenberg an der Thur</td><td>TG</td></tr>",
                            "<tr><td>Buhwil</td><td>TG</td></tr>",
                            "<tr><td>Bischofszell</td><td>TG</td></tr>",
                            "<tr><td>Schweizersholz</td><td>TG</td></tr>",
                            "<tr><td>Halden</td><td>TG</td></tr>",
                            "<tr><td>Hohentannen</td><td>TG</td></tr>",
                            "<tr><td>Wilen (Gottshaus)</td><td>TG</td></tr>",
                            "<tr><td>St. Pelagiberg</td><td>TG</td></tr>",
                            "<tr><td>Flawil</td><td>SG</td></tr>",
                            "<tr><td>Egg (Flawil)</td><td>SG</td></tr>",
                            "<tr><td>Oberrindal</td><td>SG</td></tr>",
                            "<tr><td>Lütisburg</td><td>SG</td></tr>",
                            "<tr><td>Uzwil</td><td>SG</td></tr>",
                            "<tr><td>Niederglatt SG</td><td>SG</td></tr>",
                            "<tr><td>Oberuzwil</td><td>SG</td></tr>",
                            "<tr><td>Bichwil</td><td>SG</td></tr>",
                            "<tr><td>Jonschwil</td><td>SG</td></tr>",
                            "<tr><td>Niederuzwil</td><td>SG</td></tr>",
                            "<tr><td>Oberbüren</td><td>SG</td></tr>",
                            "<tr><td>Niederbüren</td><td>SG</td></tr>",
                            "<tr><td>Henau</td><td>SG</td></tr>",
                            "<tr><td>Algetshausen</td><td>SG</td></tr>",
                            "<tr><td>Wittenbach</td><td>SG</td></tr>",
                            "<tr><td>Bernhardzell</td><td>SG</td></tr>",
                            "<tr><td>Berg SG</td><td>SG</td></tr>",
                            "<tr><td>Freidorf TG</td><td>TG</td></tr>",
                            "<tr><td>Winden</td><td>TG</td></tr>",
                            "<tr><td>Lömmenschwil</td><td>SG</td></tr>",
                            "<tr><td>Häggenschwil</td><td>SG</td></tr>",
                            "<tr><td>Muolen</td><td>SG</td></tr>",
                            "<tr><td>Steinebrunn</td><td>TG</td></tr>",
                            "<tr><td>Neukirch (Egnach)</td><td>TG</td></tr>",
                            "<tr><td>Arbon</td><td>TG</td></tr>",
                            "<tr><td>Frasnacht</td><td>TG</td></tr>",
                            "<tr><td>Stachen</td><td>TG</td></tr>",
                            "<tr><td>Egnach</td><td>TG</td></tr>",
                            "<tr><td>Steinach</td><td>SG</td></tr>",
                            "<tr><td>Roggwil TG</td><td>TG</td></tr>",
                            "<tr><td>Horn</td><td>TG</td></tr>",
                            "<tr><td>Tübach</td><td>SG</td></tr>",
                            "<tr><td>Rorschach</td><td>SG</td></tr>",
                            "<tr><td>Rorschacherberg</td><td>SG</td></tr>",
                            "<tr><td>Mörschwil</td><td>SG</td></tr>",
                            "<tr><td>Goldach</td><td>SG</td></tr>",
                            "<tr><td>Wienacht-Tobel</td><td>AR</td></tr>",
                            "<tr><td>Heiden</td><td>AR</td></tr>",
                            "<tr><td>Reute AR</td><td>AR</td></tr>",
                            "<tr><td>Oberegg</td><td>AI</td></tr>",
                            "<tr><td>Schachen b. Reute</td><td>AR</td></tr>",
                            "<tr><td>Staad SG</td><td>SG</td></tr>",
                            "<tr><td>Altenrhein</td><td>SG</td></tr>",
                            "<tr><td>Rheineck</td><td>SG</td></tr>",
                            "<tr><td>Thal</td><td>SG</td></tr>",
                            "<tr><td>Lutzenberg</td><td>AR</td></tr>",
                            "<tr><td>Wolfhalden</td><td>AR</td></tr>",
                            "<tr><td>Walzenhausen</td><td>AR</td></tr>",
                            "<tr><td>St. Margrethen SG</td><td>SG</td></tr>",
                            "<tr><td>Au SG</td><td>SG</td></tr>",
                            "<tr><td>Heerbrugg</td><td>SG</td></tr>",
                            "<tr><td>Balgach</td><td>SG</td></tr>",
                            "<tr><td>Marbach SG</td><td>SG</td></tr>",
                            "<tr><td>Lüchingen</td><td>SG</td></tr>",
                            "<tr><td>Berneck</td><td>SG</td></tr>",
                            "<tr><td>Widnau</td><td>SG</td></tr>",
                            "<tr><td>Diepoldsau</td><td>SG</td></tr>",
                            "<tr><td>Rebstein</td><td>SG</td></tr>",
                            "<tr><td>Altstätten SG</td><td>SG</td></tr>",
                            "<tr><td>Kriessern</td><td>SG</td></tr>",
                            "<tr><td>Hinterforst</td><td>SG</td></tr>",
                            "<tr><td>Eichberg</td><td>SG</td></tr>",
                            "<tr><td>Montlingen</td><td>SG</td></tr>",
                            "<tr><td>Oberriet SG</td><td>SG</td></tr>",
                            "<tr><td>Rüthi (Rheintal)</td><td>SG</td></tr>",
                            "<tr><td>Lienz</td><td>SG</td></tr>",
                            "<tr><td>Salez</td><td>SG</td></tr>",
                            "<tr><td>Sennwald</td><td>SG</td></tr>",
                            "<tr><td>Frümsen</td><td>SG</td></tr>",
                            "<tr><td>Sax</td><td>SG</td></tr>",
                            "<tr><td>Haag (Rheintal)</td><td>SG</td></tr>",
                            "<tr><td>Buchs SG</td><td>SG</td></tr>",
                            "<tr><td>Grabs</td><td>SG</td></tr>",
                            "<tr><td>Grabserberg</td><td>SG</td></tr>",
                            "<tr><td>Gams</td><td>SG</td></tr>",
                            "<tr><td>Sevelen</td><td>SG</td></tr>",
                            "<tr><td>Weite</td><td>SG</td></tr>",
                            "<tr><td>Trübbach</td><td>SG</td></tr>",
                            "<tr><td>Azmoos</td><td>SG</td></tr>",
                            "<tr><td>Oberschan</td><td>SG</td></tr>",
                            "<tr><td>Nendeln</td><td>FL</td></tr>",
                            "<tr><td>Schaanwald</td><td>FL</td></tr>",
                            "<tr><td>Gamprin-Bendern</td><td>FL</td></tr>",
                            "<tr><td>Schellenberg</td><td>FL</td></tr>",
                            "<tr><td>Vaduz</td><td>FL</td></tr>",
                            "<tr><td>Ruggell</td><td>FL</td></tr>",
                            "<tr><td>Eschen</td><td>FL</td></tr>",
                            "<tr><td>Mauren FL</td><td>FL</td></tr>",
                            "<tr><td>Schaan</td><td>FL</td></tr>",
                            "<tr><td>Triesen</td><td>FL</td></tr>",
                            "<tr><td>Balzers</td><td>FL</td></tr>",
                            "<tr><td>Triesenberg</td><td>FL</td></tr>",
                            "<tr><td>Wil SG</td><td>SG</td></tr>",
                            "<tr><td>Braunau</td><td>TG</td></tr>",
                            "<tr><td>Stehrenberg</td><td>TG</td></tr>",
                            "<tr><td>Friltschen</td><td>TG</td></tr>",
                            "<tr><td>Lommis</td><td>TG</td></tr>",
                            "<tr><td>Stettfurt</td><td>TG</td></tr>",
                            "<tr><td>Weingarten-Kalthäusern</td><td>TG</td></tr>",
                            "<tr><td>Rossrüti</td><td>SG</td></tr>",
                            "<tr><td>Wuppenau</td><td>TG</td></tr>",
                            "<tr><td>Hosenruck</td><td>TG</td></tr>",
                            "<tr><td>Mettlen</td><td>TG</td></tr>",
                            "<tr><td>Rothenhausen</td><td>TG</td></tr>",
                            "<tr><td>Züberwangen</td><td>SG</td></tr>",
                            "<tr><td>Zuzwil SG</td><td>SG</td></tr>",
                            "<tr><td>Lenggenwil</td><td>SG</td></tr>",
                            "<tr><td>Zuckenriet</td><td>SG</td></tr>",
                            "<tr><td>Niederhelfenschwil</td><td>SG</td></tr>",
                            "<tr><td>Rickenbach b. Wil</td><td>TG</td></tr>",
                            "<tr><td>Kirchberg SG</td><td>SG</td></tr>",
                            "<tr><td>Gähwil</td><td>SG</td></tr>",
                            "<tr><td>Wilen b. Wil</td><td>TG</td></tr>",
                            "<tr><td>Schwarzenbach SG</td><td>SG</td></tr>",
                            "<tr><td>Münchwilen TG</td><td>TG</td></tr>",
                            "<tr><td>St. Margarethen TG</td><td>TG</td></tr>",
                            "<tr><td>Wängi</td><td>TG</td></tr>",
                            "<tr><td>Tuttwil</td><td>TG</td></tr>",
                            "<tr><td>Wittenwil</td><td>TG</td></tr>",
                            "<tr><td>Matzingen</td><td>TG</td></tr>",
                            "<tr><td>Bronschhofen</td><td>SG</td></tr>",
                            "<tr><td>Bettwiesen</td><td>TG</td></tr>",
                            "<tr><td>Tägerschen</td><td>TG</td></tr>",
                            "<tr><td>Tobel</td><td>TG</td></tr>",
                            "<tr><td>Affeltrangen</td><td>TG</td></tr>",
                            "<tr><td>Märwil</td><td>TG</td></tr>",
                            "<tr><td>Schmidshof</td><td>TG</td></tr>",
                            "<tr><td>Oppikon</td><td>TG</td></tr>",
                            "<tr><td>Bussnang</td><td>TG</td></tr>",
                            "<tr><td>Littenheid</td><td>TG</td></tr>",
                            "<tr><td>Lütisburg Station</td><td>SG</td></tr>",
                            "<tr><td>Bazenheid</td><td>SG</td></tr>",
                            "<tr><td>Müselbach</td><td>SG</td></tr>",
                            "<tr><td>Bütschwil</td><td>SG</td></tr>",
                            "<tr><td>Mosnang</td><td>SG</td></tr>",
                            "<tr><td>Ganterschwil</td><td>SG</td></tr>",
                            "<tr><td>Dreien</td><td>SG</td></tr>",
                            "<tr><td>Mühlrüti</td><td>SG</td></tr>",
                            "<tr><td>Libingen</td><td>SG</td></tr>",
                            "<tr><td>Dietfurt</td><td>SG</td></tr>",
                            "<tr><td>Lichtensteig</td><td>SG</td></tr>",
                            "<tr><td>Oberhelfenschwil</td><td>SG</td></tr>",
                            "<tr><td>Krinau</td><td>SG</td></tr>",
                            "<tr><td>Wattwil</td><td>SG</td></tr>",
                            "<tr><td>Ulisbach</td><td>SG</td></tr>",
                            "<tr><td>Hemberg</td><td>SG</td></tr>",
                            "<tr><td>Ebnat-Kappel</td><td>SG</td></tr>",
                            "<tr><td>Krummenau</td><td>SG</td></tr>",
                            "<tr><td>Nesslau</td><td>SG</td></tr>",
                            "<tr><td>Ennetbühl</td><td>SG</td></tr>",
                            "<tr><td>Stein SG</td><td>SG</td></tr>",
                            "<tr><td>Neu St. Johann</td><td>SG</td></tr>",
                            "<tr><td>Alt St. Johann</td><td>SG</td></tr>",
                            "<tr><td>Unterwasser</td><td>SG</td></tr>",
                            "<tr><td>Wildhaus</td><td>SG</td></tr>",
                            "<tr><td>Schmitten FR</td><td>FR</td></tr>",
                            "<tr><td>Rubigen</td><td>BE</td></tr>",
                            "<tr><td>Campione d&#39;Italia</td><td>IT</td></tr>",
                            "<tr><td>Büsingen</td><td>DE</td></tr>",
                            "<tr><td>Sundlauenen</td><td>BE</td></tr>",
                            "<tr><td>Tentlingen</td><td>FR</td></tr>",
                            "<tr><td>Innerberg</td><td>BE</td></tr>",
                            "<tr><td>Oberdorf NW</td><td>NW</td></tr>",
                            "<tr><td>Schwanden b. Brienz</td><td>BE</td></tr>",
                            "<tr><td>Walliswil b. Niederbipp</td><td>BE</td></tr>",
                            "<tr><td>Clavaleyres</td><td>BE</td></tr>",
                            "<tr><td>Champoz</td><td>BE</td></tr>",
                            "<tr><td>Monible</td><td>BE</td></tr>",
                            "<tr><td>Schelten</td><td>BE</td></tr>",
                            "<tr><td>Vellerat</td><td>JU</td></tr>",
                            "<tr><td>Rebévelier</td><td>BE</td></tr>",
                            "<tr><td>Hagneck</td><td>BE</td></tr>",
                            "<tr><td>Mörigen</td><td>BE</td></tr>",
                            "<tr><td>Schwadernau</td><td>BE</td></tr>",
                            "<tr><td>Bollion</td><td>FR</td></tr>",
                            "<tr><td>Chandon</td><td>FR</td></tr>",
                            "<tr><td>Chapelle (Broye)</td><td>FR</td></tr>",
                            "<tr><td>Châtillon FR</td><td>FR</td></tr>",
                            "<tr><td>Forel FR</td><td>FR</td></tr>",
                            "<tr><td>Frasses</td><td>FR</td></tr>",
                            "<tr><td>Les Friques</td><td>FR</td></tr>",
                            "<tr><td>Granges-de-Vesin</td><td>FR</td></tr>",
                            "<tr><td>Lully FR</td><td>FR</td></tr>",
                            "<tr><td>Montbrelloz</td><td>FR</td></tr>",
                            "<tr><td>Morens FR</td><td>FR</td></tr>",
                            "<tr><td>Praratoud</td><td>FR</td></tr>",
                            "<tr><td>Prévondavaux</td><td>FR</td></tr>",
                            "<tr><td>Russy</td><td>FR</td></tr>",
                            "<tr><td>Seiry</td><td>FR</td></tr>",
                            "<tr><td>Sévaz</td><td>FR</td></tr>",
                            "<tr><td>Vallon</td><td>FR</td></tr>",
                            "<tr><td>Vesin</td><td>FR</td></tr>",
                            "<tr><td>Berlens</td><td>FR</td></tr>",
                            "<tr><td>Bionnens</td><td>FR</td></tr>",
                            "<tr><td>Blessens</td><td>FR</td></tr>",
                            "<tr><td>Chapelle (Glâne)</td><td>FR</td></tr>",
                            "<tr><td>Chavannes-sous-Orsonnens</td><td>FR</td></tr>",
                            "<tr><td>Les Ecasseys</td><td>FR</td></tr>",
                            "<tr><td>Esmonts</td><td>FR</td></tr>",
                            "<tr><td>Gillarens</td><td>FR</td></tr>",
                            "<tr><td>Hennens</td><td>FR</td></tr>",
                            "<tr><td>Lieffrens</td><td>FR</td></tr>",
                            "<tr><td>Lussy FR</td><td>FR</td></tr>",
                            "<tr><td>La Magne</td><td>FR</td></tr>",
                            "<tr><td>Montet (Glâne)</td><td>FR</td></tr>",
                            "<tr><td>Morlens</td><td>FR</td></tr>",
                            "<tr><td>Mossel</td><td>FR</td></tr>",
                            "<tr><td>La Neirigue</td><td>FR</td></tr>",
                            "<tr><td>Villargiroud</td><td>FR</td></tr>",
                            "<tr><td>Châtel-sur-Montsalvens</td><td>FR</td></tr>",
                            "<tr><td>Lessoc</td><td>FR</td></tr>",
                            "<tr><td>Maules</td><td>FR</td></tr>",
                            "<tr><td>Villarbeney</td><td>FR</td></tr>",
                            "<tr><td>Villars-sous-Mont</td><td>FR</td></tr>",
                            "<tr><td>Autafond</td><td>FR</td></tr>",
                            "<tr><td>La Corbaz</td><td>FR</td></tr>",
                            "<tr><td>Corjolens</td><td>FR</td></tr>",
                            "<tr><td>Cormagens</td><td>FR</td></tr>",
                            "<tr><td>Ecuvillens</td><td>FR</td></tr>",
                            "<tr><td>Essert FR</td><td>FR</td></tr>",
                            "<tr><td>Farvagny-le-Petit</td><td>FR</td></tr>",
                            "<tr><td>Ferpicloz</td><td>FR</td></tr>",
                            "<tr><td>Grenilles</td><td>FR</td></tr>",
                            "<tr><td>Lossy</td><td>FR</td></tr>",
                            "<tr><td>Lovens</td><td>FR</td></tr>",
                            "<tr><td>Magnedens</td><td>FR</td></tr>",
                            "<tr><td>Montévraz</td><td>FR</td></tr>",
                            "<tr><td>Oberried FR</td><td>FR</td></tr>",
                            "<tr><td>Pierrafortscha</td><td>FR</td></tr>",
                            "<tr><td>Ponthaux</td><td>FR</td></tr>",
                            "<tr><td>Posat</td><td>FR</td></tr>",
                            "<tr><td>Rueyres-St-Laurent</td><td>FR</td></tr>",
                            "<tr><td>Senèdes</td><td>FR</td></tr>",
                            "<tr><td>Villarsel-le-Gibloux</td><td>FR</td></tr>",
                            "<tr><td>Villarsel-sur-Marly</td><td>FR</td></tr>",
                            "<tr><td>Zénauva</td><td>FR</td></tr>",
                            "<tr><td>Cormérod</td><td>FR</td></tr>",
                            "<tr><td>Courtion</td><td>FR</td></tr>",
                            "<tr><td>Guschelmuth</td><td>FR</td></tr>",
                            "<tr><td>Wallenried</td><td>FR</td></tr>",
                            "<tr><td>Oberschrot</td><td>FR</td></tr>",
                            "<tr><td>Zumholz</td><td>FR</td></tr>",
                            "<tr><td>Besencens</td><td>FR</td></tr>",
                            "<tr><td>Fiaugères</td><td>FR</td></tr>",
                            "<tr><td>Grattavache</td><td>FR</td></tr>",
                            "<tr><td>Montalchez</td><td>NE</td></tr>",
                            "<tr><td>Engollon</td><td>NE</td></tr>",
                            "<tr><td>Damphreux</td><td>JU</td></tr>",
                            "<tr><td>Fregiécourt</td><td>JU</td></tr>",
                            "<tr><td>Niederried b. Kallnach</td><td>BE</td></tr>",
                            "<tr><td>Gutenburg</td><td>BE</td></tr>",
                            "<tr><td>Meienried</td><td>BE</td></tr>",
                            "<tr><td>Hellsau</td><td>BE</td></tr>",
                            "<tr><td>Höchstetten</td><td>BE</td></tr>",
                            "<tr><td>Mötschwil</td><td>BE</td></tr>",
                            "<tr><td>Oberösch</td><td>BE</td></tr>",
                            "<tr><td>Rumendingen</td><td>BE</td></tr>",
                            "<tr><td>Rüti b. Lyssach</td><td>BE</td></tr>",
                            "<tr><td>Willadingen</td><td>BE</td></tr>",
                            "<tr><td>Finsterhennen</td><td>BE</td></tr>",
                            "<tr><td>Ballmoos</td><td>BE</td></tr>",
                            "<tr><td>Bangerten b. Dieterswil</td><td>BE</td></tr>",
                            "<tr><td>Deisswil b. Münchenbuchsee</td><td>BE</td></tr>",
                            "<tr><td>Diemerswil</td><td>BE</td></tr>",
                            "<tr><td>Münchringen</td><td>BE</td></tr>",
                            "<tr><td>Ruppoldsried</td><td>BE</td></tr>",
                            "<tr><td>Scheunen</td><td>BE</td></tr>",
                            "<tr><td>Wiggiswil</td><td>BE</td></tr>",
                            "<tr><td>Zauggenried</td><td>BE</td></tr>",
                            "<tr><td>Freimettigen</td><td>BE</td></tr>",
                            "<tr><td>Häutligen</td><td>BE</td></tr>",
                            "<tr><td>Herbligen</td><td>BE</td></tr>",
                            "<tr><td>Mirchel</td><td>BE</td></tr>",
                            "<tr><td>Oppligen</td><td>BE</td></tr>",
                            "<tr><td>Oberhünigen</td><td>BE</td></tr>",
                            "<tr><td>Golaten</td><td>BE</td></tr>",
                            "<tr><td>Bühl b. Aarberg</td><td>BE</td></tr>",
                            "<tr><td>Epsach</td><td>BE</td></tr>",
                            "<tr><td>Merzligen</td><td>BE</td></tr>",
                            "<tr><td>Niederstocken</td><td>BE</td></tr>",
                            "<tr><td>Englisberg</td><td>BE</td></tr>",
                            "<tr><td>Jaberg</td><td>BE</td></tr>",
                            "<tr><td>Lohnstorf</td><td>BE</td></tr>",
                            "<tr><td>Mühledorf BE</td><td>BE</td></tr>",
                            "<tr><td>Noflen BE</td><td>BE</td></tr>",
                            "<tr><td>Rümligen</td><td>BE</td></tr>",
                            "<tr><td>Forst b. Längenbühl</td><td>BE</td></tr>",
                            "<tr><td>Horrenbach</td><td>BE</td></tr>",
                            "<tr><td>Schwendibach</td><td>BE</td></tr>",
                            "<tr><td>Zwieselberg</td><td>BE</td></tr>",
                            "<tr><td>Berken</td><td>BE</td></tr>",
                            "<tr><td>Bollodingen</td><td>BE</td></tr>",
                            "<tr><td>Ochlenberg</td><td>BE</td></tr>",
                            "<tr><td>Wolfisberg</td><td>BE</td></tr>",
                            "<tr><td>Hämikon</td><td>LU</td></tr>",
                            "<tr><td>Lieli LU</td><td>LU</td></tr>",
                            "<tr><td>Sulz LU</td><td>LU</td></tr>",
                            "<tr><td>Honau</td><td>LU</td></tr>",
                            "<tr><td>Betschwanden</td><td>GL</td></tr>",
                            "<tr><td>Leuggelbach</td><td>GL</td></tr>",
                            "<tr><td>Agriswil</td><td>FR</td></tr>",
                            "<tr><td>Büchslen</td><td>FR</td></tr>",
                            "<tr><td>Greng</td><td>FR</td></tr>",
                            "<tr><td>Kleinbösingen</td><td>FR</td></tr>",
                            "<tr><td>Kleingurmels</td><td>FR</td></tr>",
                            "<tr><td>Lurtigen</td><td>FR</td></tr>",
                            "<tr><td>Wallenbuch</td><td>FR</td></tr>",
                            "<tr><td>Aetigkofen</td><td>SO</td></tr>",
                            "<tr><td>Balm b. Messen</td><td>SO</td></tr>",
                            "<tr><td>Gächliwil</td><td>SO</td></tr>",
                            "<tr><td>Bolken</td><td>SO</td></tr>",
                            "<tr><td>Burgäschi</td><td>SO</td></tr>",
                            "<tr><td>Halten</td><td>SO</td></tr>",
                            "<tr><td>Heinrichswil</td><td>SO</td></tr>",
                            "<tr><td>Hüniken</td><td>SO</td></tr>",
                            "<tr><td>Oekingen</td><td>SO</td></tr>",
                            "<tr><td>Steinhof SO</td><td>SO</td></tr>",
                            "<tr><td>Winistorf</td><td>SO</td></tr>",
                            "<tr><td>Kammersrohr</td><td>SO</td></tr>",
                            "<tr><td>Liedertswil</td><td>BL</td></tr>",
                            "<tr><td>Schwende</td><td>AI</td></tr>",
                            "<tr><td>Marmorera</td><td>GR</td></tr>",
                            "<tr><td>Schnaus</td><td>GR</td></tr>",
                            "<tr><td>St. Martin (Lugnez)</td><td>GR</td></tr>",
                            "<tr><td>Pratval</td><td>GR</td></tr>",
                            "<tr><td>Portein</td><td>GR</td></tr>",
                            "<tr><td>Calfreisen</td><td>GR</td></tr>",
                            "<tr><td>Uezwil</td><td>AG</td></tr>",
                            "<tr><td>Réclère</td><td>JU</td></tr>",
                            "<tr><td>Eppenberg</td><td>SO</td></tr>",
                            "<tr><td>Islisberg</td><td>AG</td></tr>",
                            "<tr><td>Geltwil</td><td>AG</td></tr>",
                            "<tr><td>Wiliberg</td><td>AG</td></tr>",
                            "<tr><td>Hefenhofen</td><td>TG</td></tr>",
                            "<tr><td>Buchackern</td><td>TG</td></tr>",
                            "<tr><td>Engishofen</td><td>TG</td></tr>",
                            "<tr><td>Ennetaach</td><td>TG</td></tr>",
                            "<tr><td>Willisdorf</td><td>TG</td></tr>",
                            "<tr><td>Kefikon TG</td><td>TG</td></tr>",
                            "<tr><td>Eschikofen</td><td>TG</td></tr>",
                            "<tr><td>Harenwilen</td><td>TG</td></tr>",
                            "<tr><td>Mettendorf TG</td><td>TG</td></tr>",
                            "<tr><td>Alterswilen</td><td>TG</td></tr>",
                            "<tr><td>Altishausen</td><td>TG</td></tr>",
                            "<tr><td>Ellighausen</td><td>TG</td></tr>",
                            "<tr><td>Lippoldswilen</td><td>TG</td></tr>",
                            "<tr><td>Gottlieben</td><td>TG</td></tr>",
                            "<tr><td>Schönenbaumgarten</td><td>TG</td></tr>",
                            "<tr><td>Herrenhof</td><td>TG</td></tr>",
                            "<tr><td>Sonterswil</td><td>TG</td></tr>",
                            "<tr><td>Buch b. Märwil</td><td>TG</td></tr>",
                            "<tr><td>Zezikon</td><td>TG</td></tr>",
                            "<tr><td>Wetzikon TG</td><td>TG</td></tr>",
                            "<tr><td>Wallenwil</td><td>TG</td></tr>",
                            "<tr><td>Uerschhausen</td><td>TG</td></tr>",
                            "<tr><td>Dettighofen</td><td>TG</td></tr>",
                            "<tr><td>Rheinklingen</td><td>TG</td></tr>",
                            "<tr><td>Andhausen</td><td>TG</td></tr>",
                            "<tr><td>Graltshausen</td><td>TG</td></tr>",
                            "<tr><td>Birwinken</td><td>TG</td></tr>",
                            "<tr><td>Guntershausen b. Berg</td><td>TG</td></tr>",
                            "<tr><td>Klarsreuti</td><td>TG</td></tr>",
                            "<tr><td>Istighofen</td><td>TG</td></tr>",
                            "<tr><td>Engwang</td><td>TG</td></tr>",
                            "<tr><td>Illhart</td><td>TG</td></tr>",
                            "<tr><td>Ghirone</td><td>TI</td></tr>",
                            "<tr><td>Largario</td><td>TI</td></tr>",
                            "<tr><td>Marolta</td><td>TI</td></tr>",
                            "<tr><td>Cureggia</td><td>TI</td></tr>",
                            "<tr><td>Lamone</td><td>TI</td></tr>",
                            "<tr><td>Planken</td><td>FL</td></tr>",
                            "<tr><td>Kaltbach</td><td>LU</td></tr>",
                            "<tr><td>Wilen b. Neunforn</td><td>TG</td></tr>",
                            "<tr><td>Malleray</td><td>BE</td></tr>",
                            "<tr><td>Crésuz</td><td>FR</td></tr>",
                            "<tr><td>Treyfayes</td><td>FR</td></tr>",
                            "<tr><td>Fresens</td><td>NE</td></tr>",
                            "<tr><td>Lugnez</td><td>JU</td></tr>",
                            "<tr><td>Pleujouse</td><td>JU</td></tr>",
                            "<tr><td>Progens</td><td>FR</td></tr>",
                            "<tr><td>Wöschnau</td><td>SO</td></tr>",
                            "<tr><td>Cadempino</td><td>TI</td></tr>",
                            "<tr><td>Lüterswil</td><td>SO</td></tr>",
                            "<tr><td>Arni AG</td><td>AG</td></tr>",
                            "<tr><td>Hüttlingen</td><td>TG</td></tr>",
                            "<tr><td>Werdenberg</td><td>SG</td></tr>",
                            "<tr><td>Rueyres-Treyfayes</td><td>FR</td></tr>",
                            "<tr><td>Wittwil</td><td>AG</td></tr>",
                            "<tr><td>St. Niklausen LU</td><td>LU</td></tr>",
                            "<tr><td>Madonna del Piano</td><td>TI</td></tr>",
                            "<tr><td>Fajauna</td><td>GR</td></tr>",
                            "<tr><td>Miralago</td><td>GR</td></tr>",
                            "<tr><td>Ebersol</td><td>SG</td></tr>",
                            "<tr><td>Paradiso</td><td>TI</td></tr>",
                            "<tr><td>Avry-sur-Matran</td><td>FR</td></tr>",
                            "<tr><td>Barberêche</td><td>FR</td></tr>",
                            "<tr><td>Montagny-les-Monts</td><td>FR</td></tr>",
                            "<tr><td>La Vue-des-Alpes</td><td>NE</td></tr>",
                            "<tr><td>Ringoldswil</td><td>BE</td></tr>",
                            "<tr><td>Thunstetten</td><td>BE</td></tr>",
                            "<tr><td>Châtelat</td><td>BE</td></tr>",
                            "<tr><td>Solduno</td><td>TI</td></tr>",
                            "<tr><td>Bürgenstock</td><td>NW</td></tr>",
                            "<tr><td>Wilen b. Wollerau</td><td>SZ</td></tr>",
                            "<tr><td>Felsenau AG</td><td>AG</td></tr>",
                            "<tr><td>Mannens</td><td>FR</td></tr>",
                            "<tr><td>Grandsivaz</td><td>FR</td></tr>",
                            "<tr><td>Dättwil AG</td><td>AG</td></tr>",
                            "<tr><td>Rütihof</td><td>AG</td></tr>",
                            "<tr><td>Buonas</td><td>ZG</td></tr>",
                            "<tr><td>Risch</td><td>ZG</td></tr>",
                            "<tr><td>Holzhäusern ZG</td><td>ZG</td></tr>",
                            "<tr><td>Rüegsauschachen</td><td>BE</td></tr>",
                            "<tr><td>Hasle b. Burgdorf</td><td>BE</td></tr>",
                            "<tr><td>Fürigen</td><td>NW</td></tr>",
                            "<tr><td>Rigi Scheidegg</td><td>SZ</td></tr>",
                            "<tr><td>Lüterkofen</td><td>SO</td></tr>",
                            "<tr><td>Salenstein</td><td>TG</td></tr>",
                            "<tr><td>Aawangen</td><td>TG</td></tr>",
                            "<tr><td>Lanterswil</td><td>TG</td></tr>",
                            "<tr><td>Oberhofen TG</td><td>TG</td></tr>",
                            "<tr><td>Hintermoos</td><td>LU</td></tr>",
                            "<tr><td>Wiesenberg</td><td>NW</td></tr>",
                            "<tr><td>Lohn-Ammannsegg</td><td>SO</td></tr>",
                            "<tr><td>Gebertingen</td><td>SG</td></tr>",
                            "<tr><td>Balmberg</td><td>SO</td></tr>",
                            "<tr><td>Oberbalmberg</td><td>SO</td></tr>",
                            "<tr><td>Luthern Bad</td><td>LU</td></tr>",
                            "<tr><td>Mehlsecken</td><td>LU</td></tr>",
                            "<tr><td>Aurigeno</td><td>TI</td></tr>",
                            "<tr><td>Obermutten</td><td>GR</td></tr>",
                            "<tr><td>Gerolfingen</td><td>BE</td></tr>",
                            "<tr><td>Kradolf</td><td>TG</td></tr>",
                            "<tr><td>Hurden</td><td>SZ</td></tr>",
                            "<tr><td>Thielle</td><td>NE</td></tr>",
                            "<tr><td>Wavre</td><td>NE</td></tr>",
                            "<tr><td>Misery</td><td>FR</td></tr>",
                            "<tr><td>Oberstocken</td><td>BE</td></tr>",
                            "<tr><td>Fontnas</td><td>SG</td></tr>",
                            "<tr><td>Erlinsbach</td><td>AG</td></tr>",
                            "<tr><td>Hefenhausen</td><td>TG</td></tr>",
                            "<tr><td>Wagerswil</td><td>TG</td></tr>",
                            "<tr><td>Buch b. Kümmertshausen</td><td>TG</td></tr>",
                            "<tr><td>Oberbussnang</td><td>TG</td></tr>",
                            "<tr><td>Courtemautruy</td><td>JU</td></tr>",
                            "<tr><td>Waldhäusern AG</td><td>AG</td></tr>",
                            "<tr><td>Fenin</td><td>NE</td></tr>",
                            "<tr><td>Saules</td><td>NE</td></tr>",
                            "<tr><td>Nierlet-les-Bois</td><td>FR</td></tr>",
                            "<tr><td>Mur (Vully) FR</td><td>FR</td></tr>",
                            "<tr><td>Gretschins</td><td>SG</td></tr>",
                            "<tr><td>Malans SG</td><td>SG</td></tr>",
                            "<tr><td>Hattenhausen</td><td>TG</td></tr>",
                            "<tr><td>Fretereules</td><td>NE</td></tr>",
                            "<tr><td>Brot-Dessous</td><td>NE</td></tr>",
                            "<tr><td>Oberstetten</td><td>SG</td></tr>",
                            "<tr><td>Niederstetten</td><td>SG</td></tr>",
                            "<tr><td>Gunterswilen</td><td>TG</td></tr>",
                            "<tr><td>Gündlischwand</td><td>BE</td></tr>",
                            "<tr><td>Schattenhalb</td><td>BE</td></tr>",
                            "<tr><td>Les Pontins</td><td>BE</td></tr>",
                            "<tr><td>Tatroz</td><td>FR</td></tr>",
                            "<tr><td>Wirzweli</td><td>NW</td></tr>",
                            "<tr><td>La Cibourg</td><td>BE</td></tr>",
                            "<tr><td>La Cibourg</td><td>BE</td></tr>",
                            "<tr><td>Lamperswil TG</td><td>TG</td></tr>",
                            "<tr><td>Root D4</td><td>LU</td></tr>",
                            "<tr><td>Montezillon</td><td>NE</td></tr>",
                            "<tr><td>Muriaux</td><td>JU</td></tr>",
                            "<tr><td>Les Ecorcheresses</td><td>BE</td></tr>",
                            "<tr><td>Buchen BE</td><td>BE</td></tr>",
                            "<tr><td>Brittern</td><td>SO</td></tr>",
                            "<tr><td>Hertenstein AG</td><td>AG</td></tr>",
                            "<tr><td>Rieden AG</td><td>AG</td></tr>",
                            "<tr><td>Münsterlingen</td><td>TG</td></tr>",
                            "<tr><td>Unterrindal</td><td>SG</td></tr>",
                            "<tr><td>Lätti</td><td>BE</td></tr>",
                            "<tr><td>Seewil</td><td>BE</td></tr>",
                            "<tr><td>Fenkrieden</td><td>AG</td></tr>",
                            "<tr><td>Formangueires</td><td>FR</td></tr>",
                            "<tr><td>Silvaplana-Surlej</td><td>GR</td></tr>",
                            "<tr><td>Kloster Fahr</td><td>AG</td></tr>",
                            "<tr><td>Hünenberg See</td><td>ZG</td></tr>",
                            "<tr><td>Meienberg</td><td>AG</td></tr>",
                            "<tr><td>Kleine Scheidegg</td><td>BE</td></tr>",
                            "<tr><td>Eigergletscher</td><td>BE</td></tr>",
                            "<tr><td>Appenzell Eggerstanden</td><td>AI</td></tr>",
                            "<tr><td>Appenzell Enggenhütten</td><td>AI</td></tr>",
                            "<tr><td>Appenzell Meistersrüte</td><td>AI</td></tr>",
                            "<tr><td>Appenzell Steinegg</td><td>AI</td></tr>",
                            "<tr><td>Appenzell Schlatt</td><td>AI</td></tr>",
                            "<tr><td>Wasserauen</td><td>AI</td></tr>",
                            "<tr><td>Gontenbad</td><td>AI</td></tr>",
                            "<tr><td>Jakobsbad</td><td>AI</td></tr>",
                            "<tr><td>Büriswilen</td><td>AI</td></tr>",
                            "<tr><td>Peiden</td><td>GR</td></tr>",
                            "<tr><td>Sonnental</td><td>SG</td></tr>",
                            "<tr><td>Ferenbalm</td><td>BE</td></tr>",
                            "<tr><td>Biberen</td><td>BE</td></tr>",
                            "<tr><td>Gammen</td><td>BE</td></tr>",
                            "<tr><td>Le Bémont JU</td><td>JU</td></tr>",
                            "<tr><td>Montfaucon</td><td>JU</td></tr>",
                            "<tr><td>Montfavergier</td><td>JU</td></tr>",
                            "<tr><td>Les Enfers</td><td>JU</td></tr>",
                            "<tr><td>St-Brais</td><td>JU</td></tr>",
                            "<tr><td>St. Josefen</td><td>SG</td></tr>",
                            "<tr><td>Maseltrangen</td><td>SG</td></tr>",
                            "<tr><td>Landiswil</td><td>BE</td></tr>",
                            "<tr><td>Vogelsang AG</td><td>AG</td></tr>",
                            "<tr><td>Dietschwil</td><td>SG</td></tr>",
                            "<tr><td>Busswil TG</td><td>TG</td></tr>",
                            "<tr><td>Seewis-Pardisla</td><td>GR</td></tr>",
                            "<tr><td>Seewis-Schmitten</td><td>GR</td></tr>",
                            "<tr><td>Vielbringen b. Worb</td><td>BE</td></tr>",
                            "<tr><td>Lengwil</td><td>TG</td></tr>",
                            "<tr><td>Dettighofen (Lengwil)</td><td>TG</td></tr>",
                            "<tr><td>Cournillens</td><td>FR</td></tr>",
                            "<tr><td>Bözberg</td><td>AG</td></tr>",
                            "<tr><td>Biessenhofen</td><td>TG</td></tr>",
                            "<tr><td>Campora</td><td>TI</td></tr>",
                            "</table>"
                        ]
                    }
                }
            ],
            "execution_count": 12
        },
        {
            "cell_type": "markdown",
            "source": [
                "Erstelle eine Liste mit allen Kunden, die nach 1990 oder später geboren sind, und deren Krankenkasse bekannt ist."
            ],
            "metadata": {
                "language": "sql",
                "azdata_cell_guid": "46668072-276f-43ca-a203-d649bfa8cc35"
            },
            "attachments": {}
        },
        {
            "cell_type": "code",
            "source": [
                "SELECT * FROM Kunden WHERE Geburtsdatum > '1990-12-31' AND Krankenkasse IS NOT NULL"
            ],
            "metadata": {
                "language": "sql",
                "azdata_cell_guid": "31353d85-d638-4959-8c8c-de148948d99d"
            },
            "outputs": [
                {
                    "output_type": "display_data",
                    "data": {
                        "text/html": "(2 rows affected)"
                    },
                    "metadata": {}
                },
                {
                    "output_type": "display_data",
                    "data": {
                        "text/html": "Total execution time: 00:00:00.022"
                    },
                    "metadata": {}
                },
                {
                    "output_type": "execute_result",
                    "metadata": {},
                    "execution_count": 13,
                    "data": {
                        "application/vnd.dataresource+json": {
                            "schema": {
                                "fields": [
                                    {
                                        "name": "Kundennummer"
                                    },
                                    {
                                        "name": "Vorname"
                                    },
                                    {
                                        "name": "Nachname"
                                    },
                                    {
                                        "name": "Geschlecht"
                                    },
                                    {
                                        "name": "Geburtsdatum"
                                    },
                                    {
                                        "name": "Wohnort"
                                    },
                                    {
                                        "name": "Krankenkasse"
                                    }
                                ]
                            },
                            "data": [
                                {
                                    "Kundennummer": "4",
                                    "Vorname": "Joshua",
                                    "Nachname": "Pfister",
                                    "Geschlecht": "m",
                                    "Geburtsdatum": "2001-05-28 00:00:00",
                                    "Wohnort": "1955",
                                    "Krankenkasse": "Concordia"
                                },
                                {
                                    "Kundennummer": "6",
                                    "Vorname": "Michele",
                                    "Nachname": "d'Angelo",
                                    "Geschlecht": "m",
                                    "Geburtsdatum": "2002-06-30 00:00:00",
                                    "Wohnort": "1934",
                                    "Krankenkasse": "CSS Versicherung"
                                }
                            ]
                        },
                        "text/html": [
                            "<table>",
                            "<tr><th>Kundennummer</th><th>Vorname</th><th>Nachname</th><th>Geschlecht</th><th>Geburtsdatum</th><th>Wohnort</th><th>Krankenkasse</th></tr>",
                            "<tr><td>4</td><td>Joshua</td><td>Pfister</td><td>m</td><td>2001-05-28 00:00:00</td><td>1955</td><td>Concordia</td></tr>",
                            "<tr><td>6</td><td>Michele</td><td>d&#39;Angelo</td><td>m</td><td>2002-06-30 00:00:00</td><td>1934</td><td>CSS Versicherung</td></tr>",
                            "</table>"
                        ]
                    }
                }
            ],
            "execution_count": 13
        },
        {
            "cell_type": "markdown",
            "source": [
                "Wir brauchen eine Übersicht über alle Kunden, die in den 1960er-Jahren geboren sind (d.h. zwischen dem 1.1.1960 und dem 31.12.1969). Erstelle eine entsprechende Liste."
            ],
            "metadata": {
                "language": "sql",
                "azdata_cell_guid": "61347e17-c01c-4c77-9eab-6d8d278d7b0f"
            },
            "attachments": {}
        },
        {
            "cell_type": "code",
            "source": [
                "SELECT * FROM Kunden WHERE Geburtsdatum BETWEEN '1960-1-1' AND '1969-12-31'"
            ],
            "metadata": {
                "language": "sql",
                "azdata_cell_guid": "4dde77f7-0f55-43ff-adac-c987937c60d6"
            },
            "outputs": [
                {
                    "output_type": "display_data",
                    "data": {
                        "text/html": "(4 rows affected)"
                    },
                    "metadata": {}
                },
                {
                    "output_type": "display_data",
                    "data": {
                        "text/html": "Total execution time: 00:00:00.008"
                    },
                    "metadata": {}
                },
                {
                    "output_type": "execute_result",
                    "metadata": {},
                    "execution_count": 14,
                    "data": {
                        "application/vnd.dataresource+json": {
                            "schema": {
                                "fields": [
                                    {
                                        "name": "Kundennummer"
                                    },
                                    {
                                        "name": "Vorname"
                                    },
                                    {
                                        "name": "Nachname"
                                    },
                                    {
                                        "name": "Geschlecht"
                                    },
                                    {
                                        "name": "Geburtsdatum"
                                    },
                                    {
                                        "name": "Wohnort"
                                    },
                                    {
                                        "name": "Krankenkasse"
                                    }
                                ]
                            },
                            "data": [
                                {
                                    "Kundennummer": "1",
                                    "Vorname": "Beatrix",
                                    "Nachname": "Hugentobler",
                                    "Geschlecht": "w",
                                    "Geburtsdatum": "1963-03-24 00:00:00",
                                    "Wohnort": "1956",
                                    "Krankenkasse": "CSS Versicherung"
                                },
                                {
                                    "Kundennummer": "2",
                                    "Vorname": "Viktor",
                                    "Nachname": "Meyer",
                                    "Geschlecht": "m",
                                    "Geburtsdatum": "1960-12-18 00:00:00",
                                    "Wohnort": "1939",
                                    "Krankenkasse": "Group Mutuel"
                                },
                                {
                                    "Kundennummer": "7",
                                    "Vorname": "Petra",
                                    "Nachname": "Nussbaumer",
                                    "Geschlecht": "w",
                                    "Geburtsdatum": "1969-08-25 00:00:00",
                                    "Wohnort": "1943",
                                    "Krankenkasse": "Group Mutuel"
                                },
                                {
                                    "Kundennummer": "8",
                                    "Vorname": "Admir",
                                    "Nachname": "Smajic",
                                    "Geschlecht": "m",
                                    "Geburtsdatum": "1963-09-07 00:00:00",
                                    "Wohnort": "1947",
                                    "Krankenkasse": "CSS Versicherung"
                                }
                            ]
                        },
                        "text/html": [
                            "<table>",
                            "<tr><th>Kundennummer</th><th>Vorname</th><th>Nachname</th><th>Geschlecht</th><th>Geburtsdatum</th><th>Wohnort</th><th>Krankenkasse</th></tr>",
                            "<tr><td>1</td><td>Beatrix</td><td>Hugentobler</td><td>w</td><td>1963-03-24 00:00:00</td><td>1956</td><td>CSS Versicherung</td></tr>",
                            "<tr><td>2</td><td>Viktor</td><td>Meyer</td><td>m</td><td>1960-12-18 00:00:00</td><td>1939</td><td>Group Mutuel</td></tr>",
                            "<tr><td>7</td><td>Petra</td><td>Nussbaumer</td><td>w</td><td>1969-08-25 00:00:00</td><td>1943</td><td>Group Mutuel</td></tr>",
                            "<tr><td>8</td><td>Admir</td><td>Smajic</td><td>m</td><td>1963-09-07 00:00:00</td><td>1947</td><td>CSS Versicherung</td></tr>",
                            "</table>"
                        ]
                    }
                }
            ],
            "execution_count": 14
        },
        {
            "cell_type": "markdown",
            "source": [
                "Erstelle eine Liste, auf welcher die totale Lohnsumme aller Mitarbeiter aufgelistet ist und zwar pro Monat und pro Jahr (d.h. die Liste hat 2 Spalten)."
            ],
            "metadata": {
                "language": "sql",
                "azdata_cell_guid": "80a7dbdf-5f7b-464f-ac5d-e7454d2dfc37"
            },
            "attachments": {}
        },
        {
            "cell_type": "code",
            "source": [
                "SELECT SUM(Monatslohn) AS 'Monatslohn', SUM(Monatslohn * 12) AS 'Jahreslohn' FROM Mitarbeiter"
            ],
            "metadata": {
                "language": "sql",
                "azdata_cell_guid": "39858d37-ae79-4db9-957c-0bde89870e96"
            },
            "outputs": [
                {
                    "output_type": "display_data",
                    "data": {
                        "text/html": "(1 row affected)"
                    },
                    "metadata": {}
                },
                {
                    "output_type": "display_data",
                    "data": {
                        "text/html": "Total execution time: 00:00:00.015"
                    },
                    "metadata": {}
                },
                {
                    "output_type": "execute_result",
                    "metadata": {},
                    "execution_count": 15,
                    "data": {
                        "application/vnd.dataresource+json": {
                            "schema": {
                                "fields": [
                                    {
                                        "name": "Monatslohn"
                                    },
                                    {
                                        "name": "Jahreslohn"
                                    }
                                ]
                            },
                            "data": [
                                {
                                    "Monatslohn": "20550",
                                    "Jahreslohn": "246600"
                                }
                            ]
                        },
                        "text/html": [
                            "<table>",
                            "<tr><th>Monatslohn</th><th>Jahreslohn</th></tr>",
                            "<tr><td>20550</td><td>246600</td></tr>",
                            "</table>"
                        ]
                    }
                }
            ],
            "execution_count": 15
        },
        {
            "cell_type": "markdown",
            "source": [
                "## Aufgaben für Profis\n",
                "\n",
                "An welchem Ort und Kanton wohnen die Kunden? Gefragt ist ein Liste mit 4 Spalten: Vorname und Nachname des Kunden sowie der Ortname und der Kanton des Wohnorts."
            ],
            "metadata": {
                "language": "sql",
                "azdata_cell_guid": "87f0ed15-6f1c-4e33-82bb-20fd5bcc5ed0"
            },
            "attachments": {}
        },
        {
            "cell_type": "code",
            "source": [
                "SELECT Vorname, Nachname, Ortname, Kanton\r\n",
                "FROM Kunden\r\n",
                "INNER JOIN Orte ON Kunden.Wohnort = Orte.OrtId"
            ],
            "metadata": {
                "language": "sql",
                "azdata_cell_guid": "0c6f750f-199a-4b03-b10b-8a92f2f13165"
            },
            "outputs": [],
            "execution_count": null
        },
        {
            "cell_type": "markdown",
            "source": [
                "Erstelle ein Liste, auf welcher ersichtlich ist, um welche Kunden sich die Mitarbeiter kümmern. Auf der Liste soll der Vorname und Nachname der Mitarbeiter ersichtlich sein sowie der Vorname und Nachname der Kunden und ausserdem noch die Notizen, die sich die Mitarbeiter zur Betreuung gemacht haben."
            ],
            "metadata": {
                "language": "sql",
                "azdata_cell_guid": "a9d7ac03-b6a2-4f1d-b5c1-d206e8b95d8b"
            },
            "attachments": {}
        },
        {
            "cell_type": "code",
            "source": [
                "SELECT Kunden.Vorname, Kunden.Nachname, Mitarbeiter.Vorname, Mitarbeiter.Nachname\r\n",
                "FROM Betreuung\r\n",
                "INNER JOIN Kunden ON Betreuung.Kundennummer = Kunden.Kundennummer\r\n",
                "INNER JOIN Mitarbeiter ON Betreuung.Personalnummer = Mitarbeiter.Personalnummer"
            ],
            "metadata": {
                "language": "sql",
                "azdata_cell_guid": "db3cd97f-6635-4fac-9b15-f7a6d6c2a409"
            },
            "outputs": [],
            "execution_count": null
        }
    ]
}